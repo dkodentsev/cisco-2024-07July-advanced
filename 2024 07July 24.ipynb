{
 "cells": [
  {
   "cell_type": "markdown",
   "id": "7419be46-bbdd-410f-bc5a-07d7b1abc1b7",
   "metadata": {},
   "source": [
    "# Agenda\n",
    "\n",
    "1. Modules + packages\n",
    "2. Basic objects\n",
    "    - `class`\n",
    "    - What happens when we define a class? What is a class, anyway?\n",
    "    - Attributes -- the core of objects in Python\n",
    "    - Attribute lookup via ICPO\n",
    "    - Magic methods\n",
    "    - Inheritance\n",
    "    - Methods vs. functions\n",
    "    - Properties\n",
    "    - Descriptors"
   ]
  },
  {
   "cell_type": "markdown",
   "id": "67ad7465-8819-4a4f-87dd-ea2af2a993b6",
   "metadata": {},
   "source": [
    "# Modules\n",
    "\n",
    "Modules do two distinct things in Python:\n",
    "\n",
    "1. They provide us with a library system, so that we can write code once and then use it many times. We can reuse our own code, and others can use our code, and we can use other people's code.\n",
    "2. They provide us with namespaces.\n",
    "\n",
    "# We use `import` to load a module\n",
    "\n",
    "When we use `import`, we're really doing two or three things:\n",
    "\n",
    "- Python loads the file associated with the name we're importing (this happens once)\n",
    "- Python creates a module object based on the file, and stores it\n",
    "- We get a global varible referring to that module object\n",
    "\n",
    "Note that when we say `import modname`, we are not putting `modname` in quotes! We are not giving a path to a"
   ]
  },
  {
   "cell_type": "code",
   "execution_count": null,
   "id": "ea4a3faa-4b26-4606-ad8c-c88ec2f06509",
   "metadata": {},
   "outputs": [],
   "source": []
  }
 ],
 "metadata": {
  "kernelspec": {
   "display_name": "Python 3 (ipykernel)",
   "language": "python",
   "name": "python3"
  },
  "language_info": {
   "codemirror_mode": {
    "name": "ipython",
    "version": 3
   },
   "file_extension": ".py",
   "mimetype": "text/x-python",
   "name": "python",
   "nbconvert_exporter": "python",
   "pygments_lexer": "ipython3",
   "version": "3.12.1"
  }
 },
 "nbformat": 4,
 "nbformat_minor": 5
}
