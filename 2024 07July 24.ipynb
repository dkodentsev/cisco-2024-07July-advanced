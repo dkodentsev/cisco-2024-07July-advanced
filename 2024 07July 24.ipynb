{
 "cells": [
  {
   "cell_type": "markdown",
   "id": "7419be46-bbdd-410f-bc5a-07d7b1abc1b7",
   "metadata": {},
   "source": [
    "# Agenda\n",
    "\n",
    "1. Modules + packages\n",
    "2. Basic objects\n",
    "    - `class`\n",
    "    - What happens when we define a class? What is a class, anyway?\n",
    "    - Attributes -- the core of objects in Python\n",
    "    - Attribute lookup via ICPO\n",
    "    - Magic methods\n",
    "    - Inheritance\n",
    "    - Methods vs. functions\n",
    "    - Properties\n",
    "    - Descriptors"
   ]
  },
  {
   "cell_type": "markdown",
   "id": "67ad7465-8819-4a4f-87dd-ea2af2a993b6",
   "metadata": {},
   "source": [
    "# Modules\n",
    "\n",
    "Modules do two distinct things in Python:\n",
    "\n",
    "1. They provide us with a library system, so that we can write code once and then use it many times. We can reuse our own code, and others can use our code, and we can use other people's code.\n",
    "2. They provide us with namespaces.\n",
    "\n",
    "# We use `import` to load a module\n",
    "\n",
    "When we use `import`, we're really doing two or three things:\n",
    "\n",
    "- Python loads the file associated with the name we're importing (this happens once)\n",
    "- Python creates a module object based on the file, and stores it\n",
    "- We get a global varible referring to that module object\n",
    "\n",
    "Note that when we say `import modname`, we are not putting `modname` in quotes! We are not giving a path to a file, or anything else that could be interpeted as a string.We're giving the name of the variable we want to define."
   ]
  },
  {
   "cell_type": "code",
   "execution_count": 1,
   "id": "ea4a3faa-4b26-4606-ad8c-c88ec2f06509",
   "metadata": {},
   "outputs": [],
   "source": [
    "import random"
   ]
  },
  {
   "cell_type": "code",
   "execution_count": 2,
   "id": "85f175cd-0314-4d72-ab72-ab7054c3215e",
   "metadata": {},
   "outputs": [
    {
     "data": {
      "text/plain": [
       "['/Users/reuven/Courses/Current/Cisco-2024-07July-advanced',\n",
       " '/Users/reuven/.pyenv/versions/3.12.1/lib/python312.zip',\n",
       " '/Users/reuven/.pyenv/versions/3.12.1/lib/python3.12',\n",
       " '/Users/reuven/.pyenv/versions/3.12.1/lib/python3.12/lib-dynload',\n",
       " '',\n",
       " '/Users/reuven/.pyenv/versions/3.12.1/lib/python3.12/site-packages']"
      ]
     },
     "execution_count": 2,
     "metadata": {},
     "output_type": "execute_result"
    }
   ],
   "source": [
    "# Where does Python look for the \"random\" module? In \"random.py\". \n",
    "# Python looks, one by oine, through every directory in sys.path, and the first place it finds random.py, that file is loaded.\n",
    "\n",
    "import sys\n",
    "sys.path"
   ]
  },
  {
   "cell_type": "code",
   "execution_count": 3,
   "id": "91ee3539-0a75-446d-86b0-2961e49c284e",
   "metadata": {},
   "outputs": [
    {
     "data": {
      "text/plain": [
       "<module 'random' from '/Users/reuven/.pyenv/versions/3.12.1/lib/python3.12/random.py'>"
      ]
     },
     "execution_count": 3,
     "metadata": {},
     "output_type": "execute_result"
    }
   ],
   "source": [
    "random"
   ]
  },
  {
   "cell_type": "markdown",
   "id": "edfe16c0-a673-43fc-9d88-30ac8c70200c",
   "metadata": {},
   "source": [
    "If you set the environment variable PYTHONPATH, that can contain the names of one or more directories where Python should also look for modules. Those will go after the standard library, but before site-packages."
   ]
  },
  {
   "cell_type": "markdown",
   "id": "5b1fb3a6-d7c7-46e5-a8a8-36f64788b843",
   "metadata": {},
   "source": [
    "# Caching of modules\n",
    "\n",
    "The first time we say `import random`, Python finds the file, loads it, stores it in memory, and defines the variable.\n",
    "\n",
    "The second and other times we say `import random`, Python sees that we already loaded it, and doesn't load it again. Rather, it just defines the variable to refer to the module object.\n",
    "\n",
    "Where does Python cache this? In a dictionary, `sys.modules`. The keys to this dict are strings, the names of the modules, and the values are the module objects."
   ]
  },
  {
   "cell_type": "code",
   "execution_count": 4,
   "id": "68f55147-4617-41b8-ab0b-4d6a10e50017",
   "metadata": {},
   "outputs": [
    {
     "data": {
      "text/plain": [
       "{'sys': <module 'sys' (built-in)>,\n",
       " 'builtins': <module 'builtins' (built-in)>,\n",
       " '_frozen_importlib': <module '_frozen_importlib' (frozen)>,\n",
       " '_imp': <module '_imp' (built-in)>,\n",
       " '_thread': <module '_thread' (built-in)>,\n",
       " '_warnings': <module '_warnings' (built-in)>,\n",
       " '_weakref': <module '_weakref' (built-in)>,\n",
       " '_io': <module '_io' (built-in)>,\n",
       " 'marshal': <module 'marshal' (built-in)>,\n",
       " 'posix': <module 'posix' (built-in)>,\n",
       " '_frozen_importlib_external': <module '_frozen_importlib_external' (frozen)>,\n",
       " 'time': <module 'time' (built-in)>,\n",
       " 'zipimport': <module 'zipimport' (frozen)>,\n",
       " '_codecs': <module '_codecs' (built-in)>,\n",
       " 'codecs': <module 'codecs' (frozen)>,\n",
       " 'encodings.aliases': <module 'encodings.aliases' from '/Users/reuven/.pyenv/versions/3.12.1/lib/python3.12/encodings/aliases.py'>,\n",
       " 'encodings': <module 'encodings' from '/Users/reuven/.pyenv/versions/3.12.1/lib/python3.12/encodings/__init__.py'>,\n",
       " 'encodings.utf_8': <module 'encodings.utf_8' from '/Users/reuven/.pyenv/versions/3.12.1/lib/python3.12/encodings/utf_8.py'>,\n",
       " '_signal': <module '_signal' (built-in)>,\n",
       " '_abc': <module '_abc' (built-in)>,\n",
       " 'abc': <module 'abc' (frozen)>,\n",
       " 'io': <module 'io' (frozen)>,\n",
       " '__main__': <module '__main__'>,\n",
       " '_stat': <module '_stat' (built-in)>,\n",
       " 'stat': <module 'stat' (frozen)>,\n",
       " '_collections_abc': <module '_collections_abc' (frozen)>,\n",
       " 'genericpath': <module 'genericpath' (frozen)>,\n",
       " 'posixpath': <module 'posixpath' (frozen)>,\n",
       " 'os.path': <module 'posixpath' (frozen)>,\n",
       " 'os': <module 'os' (frozen)>,\n",
       " '_sitebuiltins': <module '_sitebuiltins' (frozen)>,\n",
       " 'types': <module 'types' from '/Users/reuven/.pyenv/versions/3.12.1/lib/python3.12/types.py'>,\n",
       " 'importlib._bootstrap': <module '_frozen_importlib' (frozen)>,\n",
       " 'importlib._bootstrap_external': <module '_frozen_importlib_external' (frozen)>,\n",
       " 'warnings': <module 'warnings' from '/Users/reuven/.pyenv/versions/3.12.1/lib/python3.12/warnings.py'>,\n",
       " 'importlib': <module 'importlib' from '/Users/reuven/.pyenv/versions/3.12.1/lib/python3.12/importlib/__init__.py'>,\n",
       " 'importlib._abc': <module 'importlib._abc' from '/Users/reuven/.pyenv/versions/3.12.1/lib/python3.12/importlib/_abc.py'>,\n",
       " 'importlib.util': <module 'importlib.util' (frozen)>,\n",
       " 'importlib.machinery': <module 'importlib.machinery' (frozen)>,\n",
       " 'paste': <module 'paste' (namespace) from ['/Users/reuven/.pyenv/versions/3.12.1/lib/python3.12/site-packages/paste']>,\n",
       " '_distutils_hack': <module '_distutils_hack' from '/Users/reuven/.pyenv/versions/3.12.1/lib/python3.12/site-packages/_distutils_hack/__init__.py'>,\n",
       " 'sphinxcontrib': <module 'sphinxcontrib' (namespace) from ['/Users/reuven/.pyenv/versions/3.12.1/lib/python3.12/site-packages/sphinxcontrib']>,\n",
       " 'zope': <module 'zope' (namespace) from ['/Users/reuven/.pyenv/versions/3.12.1/lib/python3.12/site-packages/zope']>,\n",
       " 'site': <module 'site' (frozen)>,\n",
       " 'runpy': <module 'runpy' (frozen)>,\n",
       " '_operator': <module '_operator' (built-in)>,\n",
       " 'operator': <module 'operator' from '/Users/reuven/.pyenv/versions/3.12.1/lib/python3.12/operator.py'>,\n",
       " 'itertools': <module 'itertools' (built-in)>,\n",
       " 'keyword': <module 'keyword' from '/Users/reuven/.pyenv/versions/3.12.1/lib/python3.12/keyword.py'>,\n",
       " 'reprlib': <module 'reprlib' from '/Users/reuven/.pyenv/versions/3.12.1/lib/python3.12/reprlib.py'>,\n",
       " '_collections': <module '_collections' (built-in)>,\n",
       " 'collections': <module 'collections' from '/Users/reuven/.pyenv/versions/3.12.1/lib/python3.12/collections/__init__.py'>,\n",
       " '_functools': <module '_functools' (built-in)>,\n",
       " 'functools': <module 'functools' from '/Users/reuven/.pyenv/versions/3.12.1/lib/python3.12/functools.py'>,\n",
       " 'enum': <module 'enum' from '/Users/reuven/.pyenv/versions/3.12.1/lib/python3.12/enum.py'>,\n",
       " '_sre': <module '_sre' (built-in)>,\n",
       " 're._constants': <module 're._constants' from '/Users/reuven/.pyenv/versions/3.12.1/lib/python3.12/re/_constants.py'>,\n",
       " 're._parser': <module 're._parser' from '/Users/reuven/.pyenv/versions/3.12.1/lib/python3.12/re/_parser.py'>,\n",
       " 're._casefix': <module 're._casefix' from '/Users/reuven/.pyenv/versions/3.12.1/lib/python3.12/re/_casefix.py'>,\n",
       " 're._compiler': <module 're._compiler' from '/Users/reuven/.pyenv/versions/3.12.1/lib/python3.12/re/_compiler.py'>,\n",
       " 'copyreg': <module 'copyreg' from '/Users/reuven/.pyenv/versions/3.12.1/lib/python3.12/copyreg.py'>,\n",
       " 're': <module 're' from '/Users/reuven/.pyenv/versions/3.12.1/lib/python3.12/re/__init__.py'>,\n",
       " 'collections.abc': <module 'collections.abc' from '/Users/reuven/.pyenv/versions/3.12.1/lib/python3.12/collections/abc.py'>,\n",
       " 'contextlib': <module 'contextlib' from '/Users/reuven/.pyenv/versions/3.12.1/lib/python3.12/contextlib.py'>,\n",
       " '_typing': <module '_typing' (built-in)>,\n",
       " 'typing.io': typing.io,\n",
       " 'typing.re': typing.re,\n",
       " 'typing': <module 'typing' from '/Users/reuven/.pyenv/versions/3.12.1/lib/python3.12/typing.py'>,\n",
       " 'ipykernel._version': <module 'ipykernel._version' from '/Users/reuven/.pyenv/versions/3.12.1/lib/python3.12/site-packages/ipykernel/_version.py'>,\n",
       " '__future__': <module '__future__' from '/Users/reuven/.pyenv/versions/3.12.1/lib/python3.12/__future__.py'>,\n",
       " '_json': <module '_json' from '/Users/reuven/.pyenv/versions/3.12.1/lib/python3.12/lib-dynload/_json.cpython-312-darwin.so'>,\n",
       " 'json.scanner': <module 'json.scanner' from '/Users/reuven/.pyenv/versions/3.12.1/lib/python3.12/json/scanner.py'>,\n",
       " 'json.decoder': <module 'json.decoder' from '/Users/reuven/.pyenv/versions/3.12.1/lib/python3.12/json/decoder.py'>,\n",
       " 'json.encoder': <module 'json.encoder' from '/Users/reuven/.pyenv/versions/3.12.1/lib/python3.12/json/encoder.py'>,\n",
       " 'json': <module 'json' from '/Users/reuven/.pyenv/versions/3.12.1/lib/python3.12/json/__init__.py'>,\n",
       " 'errno': <module 'errno' (built-in)>,\n",
       " '_locale': <module '_locale' (built-in)>,\n",
       " 'locale': <module 'locale' from '/Users/reuven/.pyenv/versions/3.12.1/lib/python3.12/locale.py'>,\n",
       " 'signal': <module 'signal' from '/Users/reuven/.pyenv/versions/3.12.1/lib/python3.12/signal.py'>,\n",
       " '_weakrefset': <module '_weakrefset' from '/Users/reuven/.pyenv/versions/3.12.1/lib/python3.12/_weakrefset.py'>,\n",
       " 'threading': <module 'threading' from '/Users/reuven/.pyenv/versions/3.12.1/lib/python3.12/threading.py'>,\n",
       " 'fcntl': <module 'fcntl' from '/Users/reuven/.pyenv/versions/3.12.1/lib/python3.12/lib-dynload/fcntl.cpython-312-darwin.so'>,\n",
       " '_posixsubprocess': <module '_posixsubprocess' from '/Users/reuven/.pyenv/versions/3.12.1/lib/python3.12/lib-dynload/_posixsubprocess.cpython-312-darwin.so'>,\n",
       " 'select': <module 'select' from '/Users/reuven/.pyenv/versions/3.12.1/lib/python3.12/lib-dynload/select.cpython-312-darwin.so'>,\n",
       " 'math': <module 'math' from '/Users/reuven/.pyenv/versions/3.12.1/lib/python3.12/lib-dynload/math.cpython-312-darwin.so'>,\n",
       " 'selectors': <module 'selectors' from '/Users/reuven/.pyenv/versions/3.12.1/lib/python3.12/selectors.py'>,\n",
       " 'subprocess': <module 'subprocess' from '/Users/reuven/.pyenv/versions/3.12.1/lib/python3.12/subprocess.py'>,\n",
       " 'jupyter_client._version': <module 'jupyter_client._version' from '/Users/reuven/.pyenv/versions/3.12.1/lib/python3.12/site-packages/jupyter_client/_version.py'>,\n",
       " 'platform': <module 'platform' from '/Users/reuven/.pyenv/versions/3.12.1/lib/python3.12/platform.py'>,\n",
       " '_ctypes': <module '_ctypes' from '/Users/reuven/.pyenv/versions/3.12.1/lib/python3.12/lib-dynload/_ctypes.cpython-312-darwin.so'>,\n",
       " '_struct': <module '_struct' from '/Users/reuven/.pyenv/versions/3.12.1/lib/python3.12/lib-dynload/_struct.cpython-312-darwin.so'>,\n",
       " 'struct': <module 'struct' from '/Users/reuven/.pyenv/versions/3.12.1/lib/python3.12/struct.py'>,\n",
       " 'ctypes._endian': <module 'ctypes._endian' from '/Users/reuven/.pyenv/versions/3.12.1/lib/python3.12/ctypes/_endian.py'>,\n",
       " 'ctypes': <module 'ctypes' from '/Users/reuven/.pyenv/versions/3.12.1/lib/python3.12/ctypes/__init__.py'>,\n",
       " 'zmq.backend.select': <module 'zmq.backend.select' from '/Users/reuven/.pyenv/versions/3.12.1/lib/python3.12/site-packages/zmq/backend/select.py'>,\n",
       " 'cython_runtime': <module 'cython_runtime'>,\n",
       " '_cython_3_0_6': <module '_cython_3_0_6'>,\n",
       " 'zmq.error': <module 'zmq.error' from '/Users/reuven/.pyenv/versions/3.12.1/lib/python3.12/site-packages/zmq/error.py'>,\n",
       " 'zmq.backend.cython.context': <module 'zmq.backend.cython.context' from '/Users/reuven/.pyenv/versions/3.12.1/lib/python3.12/site-packages/zmq/backend/cython/context.cpython-312-darwin.so'>,\n",
       " 'weakref': <module 'weakref' from '/Users/reuven/.pyenv/versions/3.12.1/lib/python3.12/weakref.py'>,\n",
       " 'zmq.backend.cython.message': <module 'zmq.backend.cython.message' from '/Users/reuven/.pyenv/versions/3.12.1/lib/python3.12/site-packages/zmq/backend/cython/message.cpython-312-darwin.so'>,\n",
       " 'copy': <module 'copy' from '/Users/reuven/.pyenv/versions/3.12.1/lib/python3.12/copy.py'>,\n",
       " '_bisect': <module '_bisect' from '/Users/reuven/.pyenv/versions/3.12.1/lib/python3.12/lib-dynload/_bisect.cpython-312-darwin.so'>,\n",
       " 'bisect': <module 'bisect' from '/Users/reuven/.pyenv/versions/3.12.1/lib/python3.12/bisect.py'>,\n",
       " '_random': <module '_random' from '/Users/reuven/.pyenv/versions/3.12.1/lib/python3.12/lib-dynload/_random.cpython-312-darwin.so'>,\n",
       " '_sha2': <module '_sha2' from '/Users/reuven/.pyenv/versions/3.12.1/lib/python3.12/lib-dynload/_sha2.cpython-312-darwin.so'>,\n",
       " 'random': <module 'random' from '/Users/reuven/.pyenv/versions/3.12.1/lib/python3.12/random.py'>,\n",
       " '_compat_pickle': <module '_compat_pickle' from '/Users/reuven/.pyenv/versions/3.12.1/lib/python3.12/_compat_pickle.py'>,\n",
       " '_pickle': <module '_pickle' from '/Users/reuven/.pyenv/versions/3.12.1/lib/python3.12/lib-dynload/_pickle.cpython-312-darwin.so'>,\n",
       " 'pickle': <module 'pickle' from '/Users/reuven/.pyenv/versions/3.12.1/lib/python3.12/pickle.py'>,\n",
       " 'zmq.constants': <module 'zmq.constants' from '/Users/reuven/.pyenv/versions/3.12.1/lib/python3.12/site-packages/zmq/constants.py'>,\n",
       " 'zmq.backend.cython.socket': <module 'zmq.backend.cython.socket' from '/Users/reuven/.pyenv/versions/3.12.1/lib/python3.12/site-packages/zmq/backend/cython/socket.cpython-312-darwin.so'>,\n",
       " 'zmq.backend.cython._device': <module 'zmq.backend.cython._device' from '/Users/reuven/.pyenv/versions/3.12.1/lib/python3.12/site-packages/zmq/backend/cython/_device.cpython-312-darwin.so'>,\n",
       " 'zmq.backend.cython._poll': <module 'zmq.backend.cython._poll' from '/Users/reuven/.pyenv/versions/3.12.1/lib/python3.12/site-packages/zmq/backend/cython/_poll.cpython-312-darwin.so'>,\n",
       " 'zmq.backend.cython._proxy_steerable': <module 'zmq.backend.cython._proxy_steerable' from '/Users/reuven/.pyenv/versions/3.12.1/lib/python3.12/site-packages/zmq/backend/cython/_proxy_steerable.cpython-312-darwin.so'>,\n",
       " 'zmq.backend.cython._version': <module 'zmq.backend.cython._version' from '/Users/reuven/.pyenv/versions/3.12.1/lib/python3.12/site-packages/zmq/backend/cython/_version.cpython-312-darwin.so'>,\n",
       " 'zmq.backend.cython.error': <module 'zmq.backend.cython.error' from '/Users/reuven/.pyenv/versions/3.12.1/lib/python3.12/site-packages/zmq/backend/cython/error.cpython-312-darwin.so'>,\n",
       " 'zmq.backend.cython.utils': <module 'zmq.backend.cython.utils' from '/Users/reuven/.pyenv/versions/3.12.1/lib/python3.12/site-packages/zmq/backend/cython/utils.cpython-312-darwin.so'>,\n",
       " 'zmq.backend.cython': <module 'zmq.backend.cython' from '/Users/reuven/.pyenv/versions/3.12.1/lib/python3.12/site-packages/zmq/backend/cython/__init__.py'>,\n",
       " 'zmq.backend': <module 'zmq.backend' from '/Users/reuven/.pyenv/versions/3.12.1/lib/python3.12/site-packages/zmq/backend/__init__.py'>,\n",
       " 'atexit': <module 'atexit' (built-in)>,\n",
       " 'zmq.utils': <module 'zmq.utils' from '/Users/reuven/.pyenv/versions/3.12.1/lib/python3.12/site-packages/zmq/utils/__init__.py'>,\n",
       " 'zmq.utils.interop': <module 'zmq.utils.interop' from '/Users/reuven/.pyenv/versions/3.12.1/lib/python3.12/site-packages/zmq/utils/interop.py'>,\n",
       " 'zmq.sugar.attrsettr': <module 'zmq.sugar.attrsettr' from '/Users/reuven/.pyenv/versions/3.12.1/lib/python3.12/site-packages/zmq/sugar/attrsettr.py'>,\n",
       " 'zmq._typing': <module 'zmq._typing' from '/Users/reuven/.pyenv/versions/3.12.1/lib/python3.12/site-packages/zmq/_typing.py'>,\n",
       " 'zmq.utils.jsonapi': <module 'zmq.utils.jsonapi' from '/Users/reuven/.pyenv/versions/3.12.1/lib/python3.12/site-packages/zmq/utils/jsonapi.py'>,\n",
       " 'zmq.sugar.poll': <module 'zmq.sugar.poll' from '/Users/reuven/.pyenv/versions/3.12.1/lib/python3.12/site-packages/zmq/sugar/poll.py'>,\n",
       " 'zmq.sugar.socket': <module 'zmq.sugar.socket' from '/Users/reuven/.pyenv/versions/3.12.1/lib/python3.12/site-packages/zmq/sugar/socket.py'>,\n",
       " 'zmq.sugar.context': <module 'zmq.sugar.context' from '/Users/reuven/.pyenv/versions/3.12.1/lib/python3.12/site-packages/zmq/sugar/context.py'>,\n",
       " 'zmq.sugar.frame': <module 'zmq.sugar.frame' from '/Users/reuven/.pyenv/versions/3.12.1/lib/python3.12/site-packages/zmq/sugar/frame.py'>,\n",
       " 'zmq.sugar.tracker': <module 'zmq.sugar.tracker' from '/Users/reuven/.pyenv/versions/3.12.1/lib/python3.12/site-packages/zmq/sugar/tracker.py'>,\n",
       " 'zmq.sugar.version': <module 'zmq.sugar.version' from '/Users/reuven/.pyenv/versions/3.12.1/lib/python3.12/site-packages/zmq/sugar/version.py'>,\n",
       " 'zmq.sugar.stopwatch': <module 'zmq.sugar.stopwatch' from '/Users/reuven/.pyenv/versions/3.12.1/lib/python3.12/site-packages/zmq/sugar/stopwatch.py'>,\n",
       " 'zmq.sugar': <module 'zmq.sugar' from '/Users/reuven/.pyenv/versions/3.12.1/lib/python3.12/site-packages/zmq/sugar/__init__.py'>,\n",
       " 'zmq': <module 'zmq' from '/Users/reuven/.pyenv/versions/3.12.1/lib/python3.12/site-packages/zmq/__init__.py'>,\n",
       " 'concurrent': <module 'concurrent' from '/Users/reuven/.pyenv/versions/3.12.1/lib/python3.12/concurrent/__init__.py'>,\n",
       " 'token': <module 'token' from '/Users/reuven/.pyenv/versions/3.12.1/lib/python3.12/token.py'>,\n",
       " '_tokenize': <module '_tokenize' (built-in)>,\n",
       " 'tokenize': <module 'tokenize' from '/Users/reuven/.pyenv/versions/3.12.1/lib/python3.12/tokenize.py'>,\n",
       " 'linecache': <module 'linecache' from '/Users/reuven/.pyenv/versions/3.12.1/lib/python3.12/linecache.py'>,\n",
       " 'textwrap': <module 'textwrap' from '/Users/reuven/.pyenv/versions/3.12.1/lib/python3.12/textwrap.py'>,\n",
       " 'traceback': <module 'traceback' from '/Users/reuven/.pyenv/versions/3.12.1/lib/python3.12/traceback.py'>,\n",
       " '_string': <module '_string' (built-in)>,\n",
       " 'string': <module 'string' from '/Users/reuven/.pyenv/versions/3.12.1/lib/python3.12/string.py'>,\n",
       " 'logging': <module 'logging' from '/Users/reuven/.pyenv/versions/3.12.1/lib/python3.12/logging/__init__.py'>,\n",
       " 'concurrent.futures._base': <module 'concurrent.futures._base' from '/Users/reuven/.pyenv/versions/3.12.1/lib/python3.12/concurrent/futures/_base.py'>,\n",
       " 'concurrent.futures': <module 'concurrent.futures' from '/Users/reuven/.pyenv/versions/3.12.1/lib/python3.12/concurrent/futures/__init__.py'>,\n",
       " '_heapq': <module '_heapq' from '/Users/reuven/.pyenv/versions/3.12.1/lib/python3.12/lib-dynload/_heapq.cpython-312-darwin.so'>,\n",
       " 'heapq': <module 'heapq' from '/Users/reuven/.pyenv/versions/3.12.1/lib/python3.12/heapq.py'>,\n",
       " '_socket': <module '_socket' from '/Users/reuven/.pyenv/versions/3.12.1/lib/python3.12/lib-dynload/_socket.cpython-312-darwin.so'>,\n",
       " 'array': <module 'array' from '/Users/reuven/.pyenv/versions/3.12.1/lib/python3.12/lib-dynload/array.cpython-312-darwin.so'>,\n",
       " 'socket': <module 'socket' from '/Users/reuven/.pyenv/versions/3.12.1/lib/python3.12/socket.py'>,\n",
       " '_ssl': <module '_ssl' from '/Users/reuven/.pyenv/versions/3.12.1/lib/python3.12/lib-dynload/_ssl.cpython-312-darwin.so'>,\n",
       " 'binascii': <module 'binascii' from '/Users/reuven/.pyenv/versions/3.12.1/lib/python3.12/lib-dynload/binascii.cpython-312-darwin.so'>,\n",
       " 'base64': <module 'base64' from '/Users/reuven/.pyenv/versions/3.12.1/lib/python3.12/base64.py'>,\n",
       " 'ssl': <module 'ssl' from '/Users/reuven/.pyenv/versions/3.12.1/lib/python3.12/ssl.py'>,\n",
       " 'asyncio.constants': <module 'asyncio.constants' from '/Users/reuven/.pyenv/versions/3.12.1/lib/python3.12/asyncio/constants.py'>,\n",
       " '_ast': <module '_ast' (built-in)>,\n",
       " 'ast': <module 'ast' from '/Users/reuven/.pyenv/versions/3.12.1/lib/python3.12/ast.py'>,\n",
       " '_opcode': <module '_opcode' from '/Users/reuven/.pyenv/versions/3.12.1/lib/python3.12/lib-dynload/_opcode.cpython-312-darwin.so'>,\n",
       " 'opcode': <module 'opcode' from '/Users/reuven/.pyenv/versions/3.12.1/lib/python3.12/opcode.py'>,\n",
       " 'dis': <module 'dis' from '/Users/reuven/.pyenv/versions/3.12.1/lib/python3.12/dis.py'>,\n",
       " 'inspect': <module 'inspect' from '/Users/reuven/.pyenv/versions/3.12.1/lib/python3.12/inspect.py'>,\n",
       " 'asyncio.coroutines': <module 'asyncio.coroutines' from '/Users/reuven/.pyenv/versions/3.12.1/lib/python3.12/asyncio/coroutines.py'>,\n",
       " '_contextvars': <module '_contextvars' from '/Users/reuven/.pyenv/versions/3.12.1/lib/python3.12/lib-dynload/_contextvars.cpython-312-darwin.so'>,\n",
       " 'contextvars': <module 'contextvars' from '/Users/reuven/.pyenv/versions/3.12.1/lib/python3.12/contextvars.py'>,\n",
       " 'asyncio.format_helpers': <module 'asyncio.format_helpers' from '/Users/reuven/.pyenv/versions/3.12.1/lib/python3.12/asyncio/format_helpers.py'>,\n",
       " 'asyncio.base_futures': <module 'asyncio.base_futures' from '/Users/reuven/.pyenv/versions/3.12.1/lib/python3.12/asyncio/base_futures.py'>,\n",
       " 'asyncio.exceptions': <module 'asyncio.exceptions' from '/Users/reuven/.pyenv/versions/3.12.1/lib/python3.12/asyncio/exceptions.py'>,\n",
       " 'asyncio.base_tasks': <module 'asyncio.base_tasks' from '/Users/reuven/.pyenv/versions/3.12.1/lib/python3.12/asyncio/base_tasks.py'>,\n",
       " '_asyncio': <module '_asyncio' from '/Users/reuven/.pyenv/versions/3.12.1/lib/python3.12/lib-dynload/_asyncio.cpython-312-darwin.so'>,\n",
       " 'asyncio.events': <module 'asyncio.events' from '/Users/reuven/.pyenv/versions/3.12.1/lib/python3.12/asyncio/events.py'>,\n",
       " 'asyncio.futures': <module 'asyncio.futures' from '/Users/reuven/.pyenv/versions/3.12.1/lib/python3.12/asyncio/futures.py'>,\n",
       " 'asyncio.protocols': <module 'asyncio.protocols' from '/Users/reuven/.pyenv/versions/3.12.1/lib/python3.12/asyncio/protocols.py'>,\n",
       " 'asyncio.transports': <module 'asyncio.transports' from '/Users/reuven/.pyenv/versions/3.12.1/lib/python3.12/asyncio/transports.py'>,\n",
       " 'asyncio.log': <module 'asyncio.log' from '/Users/reuven/.pyenv/versions/3.12.1/lib/python3.12/asyncio/log.py'>,\n",
       " 'asyncio.sslproto': <module 'asyncio.sslproto' from '/Users/reuven/.pyenv/versions/3.12.1/lib/python3.12/asyncio/sslproto.py'>,\n",
       " 'asyncio.mixins': <module 'asyncio.mixins' from '/Users/reuven/.pyenv/versions/3.12.1/lib/python3.12/asyncio/mixins.py'>,\n",
       " 'asyncio.locks': <module 'asyncio.locks' from '/Users/reuven/.pyenv/versions/3.12.1/lib/python3.12/asyncio/locks.py'>,\n",
       " 'asyncio.timeouts': <module 'asyncio.timeouts' from '/Users/reuven/.pyenv/versions/3.12.1/lib/python3.12/asyncio/timeouts.py'>,\n",
       " 'asyncio.tasks': <module 'asyncio.tasks' from '/Users/reuven/.pyenv/versions/3.12.1/lib/python3.12/asyncio/tasks.py'>,\n",
       " 'asyncio.staggered': <module 'asyncio.staggered' from '/Users/reuven/.pyenv/versions/3.12.1/lib/python3.12/asyncio/staggered.py'>,\n",
       " 'asyncio.trsock': <module 'asyncio.trsock' from '/Users/reuven/.pyenv/versions/3.12.1/lib/python3.12/asyncio/trsock.py'>,\n",
       " 'asyncio.base_events': <module 'asyncio.base_events' from '/Users/reuven/.pyenv/versions/3.12.1/lib/python3.12/asyncio/base_events.py'>,\n",
       " 'asyncio.runners': <module 'asyncio.runners' from '/Users/reuven/.pyenv/versions/3.12.1/lib/python3.12/asyncio/runners.py'>,\n",
       " 'asyncio.queues': <module 'asyncio.queues' from '/Users/reuven/.pyenv/versions/3.12.1/lib/python3.12/asyncio/queues.py'>,\n",
       " 'asyncio.streams': <module 'asyncio.streams' from '/Users/reuven/.pyenv/versions/3.12.1/lib/python3.12/asyncio/streams.py'>,\n",
       " 'asyncio.subprocess': <module 'asyncio.subprocess' from '/Users/reuven/.pyenv/versions/3.12.1/lib/python3.12/asyncio/subprocess.py'>,\n",
       " 'asyncio.taskgroups': <module 'asyncio.taskgroups' from '/Users/reuven/.pyenv/versions/3.12.1/lib/python3.12/asyncio/taskgroups.py'>,\n",
       " 'asyncio.threads': <module 'asyncio.threads' from '/Users/reuven/.pyenv/versions/3.12.1/lib/python3.12/asyncio/threads.py'>,\n",
       " 'asyncio.base_subprocess': <module 'asyncio.base_subprocess' from '/Users/reuven/.pyenv/versions/3.12.1/lib/python3.12/asyncio/base_subprocess.py'>,\n",
       " 'asyncio.selector_events': <module 'asyncio.selector_events' from '/Users/reuven/.pyenv/versions/3.12.1/lib/python3.12/asyncio/selector_events.py'>,\n",
       " 'asyncio.unix_events': <module 'asyncio.unix_events' from '/Users/reuven/.pyenv/versions/3.12.1/lib/python3.12/asyncio/unix_events.py'>,\n",
       " 'asyncio': <module 'asyncio' from '/Users/reuven/.pyenv/versions/3.12.1/lib/python3.12/asyncio/__init__.py'>,\n",
       " 'zmq._future': <module 'zmq._future' from '/Users/reuven/.pyenv/versions/3.12.1/lib/python3.12/site-packages/zmq/_future.py'>,\n",
       " 'zmq.asyncio': <module 'zmq.asyncio' from '/Users/reuven/.pyenv/versions/3.12.1/lib/python3.12/site-packages/zmq/asyncio.py'>,\n",
       " 'fnmatch': <module 'fnmatch' from '/Users/reuven/.pyenv/versions/3.12.1/lib/python3.12/fnmatch.py'>,\n",
       " 'ntpath': <module 'ntpath' (frozen)>,\n",
       " 'urllib': <module 'urllib' from '/Users/reuven/.pyenv/versions/3.12.1/lib/python3.12/urllib/__init__.py'>,\n",
       " 'ipaddress': <module 'ipaddress' from '/Users/reuven/.pyenv/versions/3.12.1/lib/python3.12/ipaddress.py'>,\n",
       " 'urllib.parse': <module 'urllib.parse' from '/Users/reuven/.pyenv/versions/3.12.1/lib/python3.12/urllib/parse.py'>,\n",
       " 'pathlib': <module 'pathlib' from '/Users/reuven/.pyenv/versions/3.12.1/lib/python3.12/pathlib.py'>,\n",
       " 'traitlets.utils': <module 'traitlets.utils' from '/Users/reuven/.pyenv/versions/3.12.1/lib/python3.12/site-packages/traitlets/utils/__init__.py'>,\n",
       " 'traitlets.utils.bunch': <module 'traitlets.utils.bunch' from '/Users/reuven/.pyenv/versions/3.12.1/lib/python3.12/site-packages/traitlets/utils/bunch.py'>,\n",
       " 'traitlets.utils.descriptions': <module 'traitlets.utils.descriptions' from '/Users/reuven/.pyenv/versions/3.12.1/lib/python3.12/site-packages/traitlets/utils/descriptions.py'>,\n",
       " 'traitlets.utils.getargspec': <module 'traitlets.utils.getargspec' from '/Users/reuven/.pyenv/versions/3.12.1/lib/python3.12/site-packages/traitlets/utils/getargspec.py'>,\n",
       " 'traitlets.utils.importstring': <module 'traitlets.utils.importstring' from '/Users/reuven/.pyenv/versions/3.12.1/lib/python3.12/site-packages/traitlets/utils/importstring.py'>,\n",
       " 'traitlets.utils.sentinel': <module 'traitlets.utils.sentinel' from '/Users/reuven/.pyenv/versions/3.12.1/lib/python3.12/site-packages/traitlets/utils/sentinel.py'>,\n",
       " 'traitlets.utils.warnings': <module 'traitlets.utils.warnings' from '/Users/reuven/.pyenv/versions/3.12.1/lib/python3.12/site-packages/traitlets/utils/warnings.py'>,\n",
       " 'traitlets.traitlets': <module 'traitlets.traitlets' from '/Users/reuven/.pyenv/versions/3.12.1/lib/python3.12/site-packages/traitlets/traitlets.py'>,\n",
       " 'traitlets._version': <module 'traitlets._version' from '/Users/reuven/.pyenv/versions/3.12.1/lib/python3.12/site-packages/traitlets/_version.py'>,\n",
       " 'traitlets.utils.decorators': <module 'traitlets.utils.decorators' from '/Users/reuven/.pyenv/versions/3.12.1/lib/python3.12/site-packages/traitlets/utils/decorators.py'>,\n",
       " 'traitlets': <module 'traitlets' from '/Users/reuven/.pyenv/versions/3.12.1/lib/python3.12/site-packages/traitlets/__init__.py'>,\n",
       " '_queue': <module '_queue' from '/Users/reuven/.pyenv/versions/3.12.1/lib/python3.12/lib-dynload/_queue.cpython-312-darwin.so'>,\n",
       " 'queue': <module 'queue' from '/Users/reuven/.pyenv/versions/3.12.1/lib/python3.12/queue.py'>,\n",
       " 'jupyter_core.version': <module 'jupyter_core.version' from '/Users/reuven/.pyenv/versions/3.12.1/lib/python3.12/site-packages/jupyter_core/version.py'>,\n",
       " 'jupyter_core': <module 'jupyter_core' from '/Users/reuven/.pyenv/versions/3.12.1/lib/python3.12/site-packages/jupyter_core/__init__.py'>,\n",
       " 'jupyter_core.utils': <module 'jupyter_core.utils' from '/Users/reuven/.pyenv/versions/3.12.1/lib/python3.12/site-packages/jupyter_core/utils/__init__.py'>,\n",
       " 'jupyter_client.channelsabc': <module 'jupyter_client.channelsabc' from '/Users/reuven/.pyenv/versions/3.12.1/lib/python3.12/site-packages/jupyter_client/channelsabc.py'>,\n",
       " '_hashlib': <module '_hashlib' from '/Users/reuven/.pyenv/versions/3.12.1/lib/python3.12/lib-dynload/_hashlib.cpython-312-darwin.so'>,\n",
       " '_blake2': <module '_blake2' from '/Users/reuven/.pyenv/versions/3.12.1/lib/python3.12/lib-dynload/_blake2.cpython-312-darwin.so'>,\n",
       " 'hashlib': <module 'hashlib' from '/Users/reuven/.pyenv/versions/3.12.1/lib/python3.12/hashlib.py'>,\n",
       " 'hmac': <module 'hmac' from '/Users/reuven/.pyenv/versions/3.12.1/lib/python3.12/hmac.py'>,\n",
       " 'dataclasses': <module 'dataclasses' from '/Users/reuven/.pyenv/versions/3.12.1/lib/python3.12/dataclasses.py'>,\n",
       " 'pprint': <module 'pprint' from '/Users/reuven/.pyenv/versions/3.12.1/lib/python3.12/pprint.py'>,\n",
       " '_datetime': <module '_datetime' from '/Users/reuven/.pyenv/versions/3.12.1/lib/python3.12/lib-dynload/_datetime.cpython-312-darwin.so'>,\n",
       " 'datetime': <module 'datetime' from '/Users/reuven/.pyenv/versions/3.12.1/lib/python3.12/datetime.py'>,\n",
       " 'tornado': <module 'tornado' from '/Users/reuven/.pyenv/versions/3.12.1/lib/python3.12/site-packages/tornado/__init__.py'>,\n",
       " 'numbers': <module 'numbers' from '/Users/reuven/.pyenv/versions/3.12.1/lib/python3.12/numbers.py'>,\n",
       " 'logging.handlers': <module 'logging.handlers' from '/Users/reuven/.pyenv/versions/3.12.1/lib/python3.12/logging/handlers.py'>,\n",
       " 'html.entities': <module 'html.entities' from '/Users/reuven/.pyenv/versions/3.12.1/lib/python3.12/html/entities.py'>,\n",
       " 'html': <module 'html' from '/Users/reuven/.pyenv/versions/3.12.1/lib/python3.12/html/__init__.py'>,\n",
       " 'zlib': <module 'zlib' from '/Users/reuven/.pyenv/versions/3.12.1/lib/python3.12/lib-dynload/zlib.cpython-312-darwin.so'>,\n",
       " 'tornado.speedups': <module 'tornado.speedups' from '/Users/reuven/.pyenv/versions/3.12.1/lib/python3.12/site-packages/tornado/speedups.abi3.so'>,\n",
       " 'tornado.util': <module 'tornado.util' from '/Users/reuven/.pyenv/versions/3.12.1/lib/python3.12/site-packages/tornado/util.py'>,\n",
       " 'tornado.escape': <module 'tornado.escape' from '/Users/reuven/.pyenv/versions/3.12.1/lib/python3.12/site-packages/tornado/escape.py'>,\n",
       " 'colorama.ansi': <module 'colorama.ansi' from '/Users/reuven/.pyenv/versions/3.12.1/lib/python3.12/site-packages/colorama/ansi.py'>,\n",
       " 'colorama.win32': <module 'colorama.win32' from '/Users/reuven/.pyenv/versions/3.12.1/lib/python3.12/site-packages/colorama/win32.py'>,\n",
       " 'colorama.winterm': <module 'colorama.winterm' from '/Users/reuven/.pyenv/versions/3.12.1/lib/python3.12/site-packages/colorama/winterm.py'>,\n",
       " 'colorama.ansitowin32': <module 'colorama.ansitowin32' from '/Users/reuven/.pyenv/versions/3.12.1/lib/python3.12/site-packages/colorama/ansitowin32.py'>,\n",
       " 'colorama.initialise': <module 'colorama.initialise' from '/Users/reuven/.pyenv/versions/3.12.1/lib/python3.12/site-packages/colorama/initialise.py'>,\n",
       " 'colorama': <module 'colorama' from '/Users/reuven/.pyenv/versions/3.12.1/lib/python3.12/site-packages/colorama/__init__.py'>,\n",
       " '_curses': <module '_curses' from '/Users/reuven/.pyenv/versions/3.12.1/lib/python3.12/lib-dynload/_curses.cpython-312-darwin.so'>,\n",
       " 'curses': <module 'curses' from '/Users/reuven/.pyenv/versions/3.12.1/lib/python3.12/curses/__init__.py'>,\n",
       " 'tornado.log': <module 'tornado.log' from '/Users/reuven/.pyenv/versions/3.12.1/lib/python3.12/site-packages/tornado/log.py'>,\n",
       " 'tornado.concurrent': <module 'tornado.concurrent' from '/Users/reuven/.pyenv/versions/3.12.1/lib/python3.12/site-packages/tornado/concurrent.py'>,\n",
       " 'tornado.ioloop': <module 'tornado.ioloop' from '/Users/reuven/.pyenv/versions/3.12.1/lib/python3.12/site-packages/tornado/ioloop.py'>,\n",
       " 'socketserver': <module 'socketserver' from '/Users/reuven/.pyenv/versions/3.12.1/lib/python3.12/socketserver.py'>,\n",
       " 'logging.config': <module 'logging.config' from '/Users/reuven/.pyenv/versions/3.12.1/lib/python3.12/logging/config.py'>,\n",
       " 'traitlets.utils.text': <module 'traitlets.utils.text' from '/Users/reuven/.pyenv/versions/3.12.1/lib/python3.12/site-packages/traitlets/utils/text.py'>,\n",
       " 'gettext': <module 'gettext' from '/Users/reuven/.pyenv/versions/3.12.1/lib/python3.12/gettext.py'>,\n",
       " 'argparse': <module 'argparse' from '/Users/reuven/.pyenv/versions/3.12.1/lib/python3.12/argparse.py'>,\n",
       " 'traitlets.config.loader': <module 'traitlets.config.loader' from '/Users/reuven/.pyenv/versions/3.12.1/lib/python3.12/site-packages/traitlets/config/loader.py'>,\n",
       " 'traitlets.config.configurable': <module 'traitlets.config.configurable' from '/Users/reuven/.pyenv/versions/3.12.1/lib/python3.12/site-packages/traitlets/config/configurable.py'>,\n",
       " 'traitlets.utils.nested_update': <module 'traitlets.utils.nested_update' from '/Users/reuven/.pyenv/versions/3.12.1/lib/python3.12/site-packages/traitlets/utils/nested_update.py'>,\n",
       " 'traitlets.config.application': <module 'traitlets.config.application' from '/Users/reuven/.pyenv/versions/3.12.1/lib/python3.12/site-packages/traitlets/config/application.py'>,\n",
       " 'traitlets.config': <module 'traitlets.config' from '/Users/reuven/.pyenv/versions/3.12.1/lib/python3.12/site-packages/traitlets/config/__init__.py'>,\n",
       " 'traitlets.log': <module 'traitlets.log' from '/Users/reuven/.pyenv/versions/3.12.1/lib/python3.12/site-packages/traitlets/log.py'>,\n",
       " 'zmq.eventloop': <module 'zmq.eventloop' from '/Users/reuven/.pyenv/versions/3.12.1/lib/python3.12/site-packages/zmq/eventloop/__init__.py'>,\n",
       " 'zmq.eventloop.zmqstream': <module 'zmq.eventloop.zmqstream' from '/Users/reuven/.pyenv/versions/3.12.1/lib/python3.12/site-packages/zmq/eventloop/zmqstream.py'>,\n",
       " 'jupyter_client.adapter': <module 'jupyter_client.adapter' from '/Users/reuven/.pyenv/versions/3.12.1/lib/python3.12/site-packages/jupyter_client/adapter.py'>,\n",
       " 'dateutil._version': <module 'dateutil._version' from '/Users/reuven/.pyenv/versions/3.12.1/lib/python3.12/site-packages/dateutil/_version.py'>,\n",
       " 'dateutil': <module 'dateutil' from '/Users/reuven/.pyenv/versions/3.12.1/lib/python3.12/site-packages/dateutil/__init__.py'>,\n",
       " 'calendar': <module 'calendar' from '/Users/reuven/.pyenv/versions/3.12.1/lib/python3.12/calendar.py'>,\n",
       " 'six': <module 'six' from '/Users/reuven/.pyenv/versions/3.12.1/lib/python3.12/site-packages/six.py'>,\n",
       " '_decimal': <module '_decimal' from '/Users/reuven/.pyenv/versions/3.12.1/lib/python3.12/lib-dynload/_decimal.cpython-312-darwin.so'>,\n",
       " 'decimal': <module 'decimal' from '/Users/reuven/.pyenv/versions/3.12.1/lib/python3.12/decimal.py'>,\n",
       " 'dateutil._common': <module 'dateutil._common' from '/Users/reuven/.pyenv/versions/3.12.1/lib/python3.12/site-packages/dateutil/_common.py'>,\n",
       " 'dateutil.relativedelta': <module 'dateutil.relativedelta' from '/Users/reuven/.pyenv/versions/3.12.1/lib/python3.12/site-packages/dateutil/relativedelta.py'>,\n",
       " 'six.moves': <module 'six.moves' (<six._SixMetaPathImporter object at 0x1073eee40>)>,\n",
       " 'dateutil.tz._common': <module 'dateutil.tz._common' from '/Users/reuven/.pyenv/versions/3.12.1/lib/python3.12/site-packages/dateutil/tz/_common.py'>,\n",
       " 'dateutil.tz._factories': <module 'dateutil.tz._factories' from '/Users/reuven/.pyenv/versions/3.12.1/lib/python3.12/site-packages/dateutil/tz/_factories.py'>,\n",
       " 'dateutil.tz.tz': <module 'dateutil.tz.tz' from '/Users/reuven/.pyenv/versions/3.12.1/lib/python3.12/site-packages/dateutil/tz/tz.py'>,\n",
       " 'dateutil.tz': <module 'dateutil.tz' from '/Users/reuven/.pyenv/versions/3.12.1/lib/python3.12/site-packages/dateutil/tz/__init__.py'>,\n",
       " 'dateutil.parser._parser': <module 'dateutil.parser._parser' from '/Users/reuven/.pyenv/versions/3.12.1/lib/python3.12/site-packages/dateutil/parser/_parser.py'>,\n",
       " 'dateutil.parser.isoparser': <module 'dateutil.parser.isoparser' from '/Users/reuven/.pyenv/versions/3.12.1/lib/python3.12/site-packages/dateutil/parser/isoparser.py'>,\n",
       " 'dateutil.parser': <module 'dateutil.parser' from '/Users/reuven/.pyenv/versions/3.12.1/lib/python3.12/site-packages/dateutil/parser/__init__.py'>,\n",
       " '_strptime': <module '_strptime' from '/Users/reuven/.pyenv/versions/3.12.1/lib/python3.12/_strptime.py'>,\n",
       " 'jupyter_client.jsonutil': <module 'jupyter_client.jsonutil' from '/Users/reuven/.pyenv/versions/3.12.1/lib/python3.12/site-packages/jupyter_client/jsonutil.py'>,\n",
       " 'jupyter_client.session': <module 'jupyter_client.session' from '/Users/reuven/.pyenv/versions/3.12.1/lib/python3.12/site-packages/jupyter_client/session.py'>,\n",
       " 'jupyter_client.channels': <module 'jupyter_client.channels' from '/Users/reuven/.pyenv/versions/3.12.1/lib/python3.12/site-packages/jupyter_client/channels.py'>,\n",
       " 'termios': <module 'termios' from '/Users/reuven/.pyenv/versions/3.12.1/lib/python3.12/lib-dynload/termios.cpython-312-darwin.so'>,\n",
       " 'getpass': <module 'getpass' from '/Users/reuven/.pyenv/versions/3.12.1/lib/python3.12/getpass.py'>,\n",
       " 'jupyter_client.clientabc': <module 'jupyter_client.clientabc' from '/Users/reuven/.pyenv/versions/3.12.1/lib/python3.12/site-packages/jupyter_client/clientabc.py'>,\n",
       " 'glob': <module 'glob' from '/Users/reuven/.pyenv/versions/3.12.1/lib/python3.12/glob.py'>,\n",
       " '_compression': <module '_compression' from '/Users/reuven/.pyenv/versions/3.12.1/lib/python3.12/_compression.py'>,\n",
       " '_bz2': <module '_bz2' from '/Users/reuven/.pyenv/versions/3.12.1/lib/python3.12/lib-dynload/_bz2.cpython-312-darwin.so'>,\n",
       " 'bz2': <module 'bz2' from '/Users/reuven/.pyenv/versions/3.12.1/lib/python3.12/bz2.py'>,\n",
       " '_lzma': <module '_lzma' from '/Users/reuven/.pyenv/versions/3.12.1/lib/python3.12/lib-dynload/_lzma.cpython-312-darwin.so'>,\n",
       " 'lzma': <module 'lzma' from '/Users/reuven/.pyenv/versions/3.12.1/lib/python3.12/lzma.py'>,\n",
       " 'shutil': <module 'shutil' from '/Users/reuven/.pyenv/versions/3.12.1/lib/python3.12/shutil.py'>,\n",
       " 'tempfile': <module 'tempfile' from '/Users/reuven/.pyenv/versions/3.12.1/lib/python3.12/tempfile.py'>,\n",
       " 'platformdirs.api': <module 'platformdirs.api' from '/Users/reuven/.pyenv/versions/3.12.1/lib/python3.12/site-packages/platformdirs/api.py'>,\n",
       " 'platformdirs.version': <module 'platformdirs.version' from '/Users/reuven/.pyenv/versions/3.12.1/lib/python3.12/site-packages/platformdirs/version.py'>,\n",
       " 'platformdirs.macos': <module 'platformdirs.macos' from '/Users/reuven/.pyenv/versions/3.12.1/lib/python3.12/site-packages/platformdirs/macos.py'>,\n",
       " 'platformdirs': <module 'platformdirs' from '/Users/reuven/.pyenv/versions/3.12.1/lib/python3.12/site-packages/platformdirs/__init__.py'>,\n",
       " 'jupyter_core.paths': <module 'jupyter_core.paths' from '/Users/reuven/.pyenv/versions/3.12.1/lib/python3.12/site-packages/jupyter_core/paths.py'>,\n",
       " 'jupyter_client.localinterfaces': <module 'jupyter_client.localinterfaces' from '/Users/reuven/.pyenv/versions/3.12.1/lib/python3.12/site-packages/jupyter_client/localinterfaces.py'>,\n",
       " 'jupyter_client.utils': <module 'jupyter_client.utils' from '/Users/reuven/.pyenv/versions/3.12.1/lib/python3.12/site-packages/jupyter_client/utils.py'>,\n",
       " 'jupyter_client.connect': <module 'jupyter_client.connect' from '/Users/reuven/.pyenv/versions/3.12.1/lib/python3.12/site-packages/jupyter_client/connect.py'>,\n",
       " 'jupyter_client.client': <module 'jupyter_client.client' from '/Users/reuven/.pyenv/versions/3.12.1/lib/python3.12/site-packages/jupyter_client/client.py'>,\n",
       " 'jupyter_client.asynchronous.client': <module 'jupyter_client.asynchronous.client' from '/Users/reuven/.pyenv/versions/3.12.1/lib/python3.12/site-packages/jupyter_client/asynchronous/client.py'>,\n",
       " 'jupyter_client.asynchronous': <module 'jupyter_client.asynchronous' from '/Users/reuven/.pyenv/versions/3.12.1/lib/python3.12/site-packages/jupyter_client/asynchronous/__init__.py'>,\n",
       " 'jupyter_client.blocking.client': <module 'jupyter_client.blocking.client' from '/Users/reuven/.pyenv/versions/3.12.1/lib/python3.12/site-packages/jupyter_client/blocking/client.py'>,\n",
       " 'jupyter_client.blocking': <module 'jupyter_client.blocking' from '/Users/reuven/.pyenv/versions/3.12.1/lib/python3.12/site-packages/jupyter_client/blocking/__init__.py'>,\n",
       " 'jupyter_client.launcher': <module 'jupyter_client.launcher' from '/Users/reuven/.pyenv/versions/3.12.1/lib/python3.12/site-packages/jupyter_client/launcher.py'>,\n",
       " '_uuid': <module '_uuid' from '/Users/reuven/.pyenv/versions/3.12.1/lib/python3.12/lib-dynload/_uuid.cpython-312-darwin.so'>,\n",
       " 'uuid': <module 'uuid' from '/Users/reuven/.pyenv/versions/3.12.1/lib/python3.12/uuid.py'>,\n",
       " '_csv': <module '_csv' from '/Users/reuven/.pyenv/versions/3.12.1/lib/python3.12/lib-dynload/_csv.cpython-312-darwin.so'>,\n",
       " 'csv': <module 'csv' from '/Users/reuven/.pyenv/versions/3.12.1/lib/python3.12/csv.py'>,\n",
       " 'email': <module 'email' from '/Users/reuven/.pyenv/versions/3.12.1/lib/python3.12/email/__init__.py'>,\n",
       " 'zipfile._path.glob': <module 'zipfile._path.glob' from '/Users/reuven/.pyenv/versions/3.12.1/lib/python3.12/zipfile/_path/glob.py'>,\n",
       " 'zipfile._path': <module 'zipfile._path' from '/Users/reuven/.pyenv/versions/3.12.1/lib/python3.12/zipfile/_path/__init__.py'>,\n",
       " 'zipfile': <module 'zipfile' from '/Users/reuven/.pyenv/versions/3.12.1/lib/python3.12/zipfile/__init__.py'>,\n",
       " 'quopri': <module 'quopri' from '/Users/reuven/.pyenv/versions/3.12.1/lib/python3.12/quopri.py'>,\n",
       " 'email._parseaddr': <module 'email._parseaddr' from '/Users/reuven/.pyenv/versions/3.12.1/lib/python3.12/email/_parseaddr.py'>,\n",
       " 'email.base64mime': <module 'email.base64mime' from '/Users/reuven/.pyenv/versions/3.12.1/lib/python3.12/email/base64mime.py'>,\n",
       " 'email.quoprimime': <module 'email.quoprimime' from '/Users/reuven/.pyenv/versions/3.12.1/lib/python3.12/email/quoprimime.py'>,\n",
       " 'email.errors': <module 'email.errors' from '/Users/reuven/.pyenv/versions/3.12.1/lib/python3.12/email/errors.py'>,\n",
       " 'email.encoders': <module 'email.encoders' from '/Users/reuven/.pyenv/versions/3.12.1/lib/python3.12/email/encoders.py'>,\n",
       " 'email.charset': <module 'email.charset' from '/Users/reuven/.pyenv/versions/3.12.1/lib/python3.12/email/charset.py'>,\n",
       " 'email.utils': <module 'email.utils' from '/Users/reuven/.pyenv/versions/3.12.1/lib/python3.12/email/utils.py'>,\n",
       " 'email.header': <module 'email.header' from '/Users/reuven/.pyenv/versions/3.12.1/lib/python3.12/email/header.py'>,\n",
       " 'email._policybase': <module 'email._policybase' from '/Users/reuven/.pyenv/versions/3.12.1/lib/python3.12/email/_policybase.py'>,\n",
       " 'email._encoded_words': <module 'email._encoded_words' from '/Users/reuven/.pyenv/versions/3.12.1/lib/python3.12/email/_encoded_words.py'>,\n",
       " 'email.iterators': <module 'email.iterators' from '/Users/reuven/.pyenv/versions/3.12.1/lib/python3.12/email/iterators.py'>,\n",
       " 'email.message': <module 'email.message' from '/Users/reuven/.pyenv/versions/3.12.1/lib/python3.12/email/message.py'>,\n",
       " 'importlib.metadata._functools': <module 'importlib.metadata._functools' from '/Users/reuven/.pyenv/versions/3.12.1/lib/python3.12/importlib/metadata/_functools.py'>,\n",
       " 'importlib.metadata._text': <module 'importlib.metadata._text' from '/Users/reuven/.pyenv/versions/3.12.1/lib/python3.12/importlib/metadata/_text.py'>,\n",
       " 'importlib.metadata._adapters': <module 'importlib.metadata._adapters' from '/Users/reuven/.pyenv/versions/3.12.1/lib/python3.12/importlib/metadata/_adapters.py'>,\n",
       " 'importlib.metadata._meta': <module 'importlib.metadata._meta' from '/Users/reuven/.pyenv/versions/3.12.1/lib/python3.12/importlib/metadata/_meta.py'>,\n",
       " 'importlib.metadata._collections': <module 'importlib.metadata._collections' from '/Users/reuven/.pyenv/versions/3.12.1/lib/python3.12/importlib/metadata/_collections.py'>,\n",
       " 'importlib.metadata._itertools': <module 'importlib.metadata._itertools' from '/Users/reuven/.pyenv/versions/3.12.1/lib/python3.12/importlib/metadata/_itertools.py'>,\n",
       " 'importlib.resources.abc': <module 'importlib.resources.abc' from '/Users/reuven/.pyenv/versions/3.12.1/lib/python3.12/importlib/resources/abc.py'>,\n",
       " 'importlib.resources._adapters': <module 'importlib.resources._adapters' from '/Users/reuven/.pyenv/versions/3.12.1/lib/python3.12/importlib/resources/_adapters.py'>,\n",
       " 'importlib.resources._common': <module 'importlib.resources._common' from '/Users/reuven/.pyenv/versions/3.12.1/lib/python3.12/importlib/resources/_common.py'>,\n",
       " 'importlib.resources._legacy': <module 'importlib.resources._legacy' from '/Users/reuven/.pyenv/versions/3.12.1/lib/python3.12/importlib/resources/_legacy.py'>,\n",
       " 'importlib.resources': <module 'importlib.resources' from '/Users/reuven/.pyenv/versions/3.12.1/lib/python3.12/importlib/resources/__init__.py'>,\n",
       " 'importlib.abc': <module 'importlib.abc' from '/Users/reuven/.pyenv/versions/3.12.1/lib/python3.12/importlib/abc.py'>,\n",
       " 'importlib.metadata': <module 'importlib.metadata' from '/Users/reuven/.pyenv/versions/3.12.1/lib/python3.12/importlib/metadata/__init__.py'>,\n",
       " 'jupyter_client.provisioning.provisioner_base': <module 'jupyter_client.provisioning.provisioner_base' from '/Users/reuven/.pyenv/versions/3.12.1/lib/python3.12/site-packages/jupyter_client/provisioning/provisioner_base.py'>,\n",
       " 'jupyter_client.provisioning.factory': <module 'jupyter_client.provisioning.factory' from '/Users/reuven/.pyenv/versions/3.12.1/lib/python3.12/site-packages/jupyter_client/provisioning/factory.py'>,\n",
       " 'jupyter_client.provisioning.local_provisioner': <module 'jupyter_client.provisioning.local_provisioner' from '/Users/reuven/.pyenv/versions/3.12.1/lib/python3.12/site-packages/jupyter_client/provisioning/local_provisioner.py'>,\n",
       " 'jupyter_client.provisioning': <module 'jupyter_client.provisioning' from '/Users/reuven/.pyenv/versions/3.12.1/lib/python3.12/site-packages/jupyter_client/provisioning/__init__.py'>,\n",
       " 'jupyter_client.kernelspec': <module 'jupyter_client.kernelspec' from '/Users/reuven/.pyenv/versions/3.12.1/lib/python3.12/site-packages/jupyter_client/kernelspec.py'>,\n",
       " 'jupyter_client.managerabc': <module 'jupyter_client.managerabc' from '/Users/reuven/.pyenv/versions/3.12.1/lib/python3.12/site-packages/jupyter_client/managerabc.py'>,\n",
       " 'jupyter_client.manager': <module 'jupyter_client.manager' from '/Users/reuven/.pyenv/versions/3.12.1/lib/python3.12/site-packages/jupyter_client/manager.py'>,\n",
       " 'jupyter_client.multikernelmanager': <module 'jupyter_client.multikernelmanager' from '/Users/reuven/.pyenv/versions/3.12.1/lib/python3.12/site-packages/jupyter_client/multikernelmanager.py'>,\n",
       " 'jupyter_client': <module 'jupyter_client' from '/Users/reuven/.pyenv/versions/3.12.1/lib/python3.12/site-packages/jupyter_client/__init__.py'>,\n",
       " 'ipykernel.connect': <module 'ipykernel.connect' from '/Users/reuven/.pyenv/versions/3.12.1/lib/python3.12/site-packages/ipykernel/connect.py'>,\n",
       " 'ipykernel': <module 'ipykernel' from '/Users/reuven/.pyenv/versions/3.12.1/lib/python3.12/site-packages/ipykernel/__init__.py'>,\n",
       " 'IPython.core': <module 'IPython.core' from '/Users/reuven/.pyenv/versions/3.12.1/lib/python3.12/site-packages/IPython/core/__init__.py'>,\n",
       " 'IPython.core.getipython': <module 'IPython.core.getipython' from '/Users/reuven/.pyenv/versions/3.12.1/lib/python3.12/site-packages/IPython/core/getipython.py'>,\n",
       " 'IPython.core.release': <module 'IPython.core.release' from '/Users/reuven/.pyenv/versions/3.12.1/lib/python3.12/site-packages/IPython/core/release.py'>,\n",
       " 'pkgutil': <module 'pkgutil' from '/Users/reuven/.pyenv/versions/3.12.1/lib/python3.12/pkgutil.py'>,\n",
       " 'sysconfig': <module 'sysconfig' from '/Users/reuven/.pyenv/versions/3.12.1/lib/python3.12/sysconfig.py'>,\n",
       " '_sysconfigdata__darwin_darwin': <module '_sysconfigdata__darwin_darwin' from '/Users/reuven/.pyenv/versions/3.12.1/lib/python3.12/_sysconfigdata__darwin_darwin.py'>,\n",
       " '_osx_support': <module '_osx_support' from '/Users/reuven/.pyenv/versions/3.12.1/lib/python3.12/_osx_support.py'>,\n",
       " 'pydoc': <module 'pydoc' from '/Users/reuven/.pyenv/versions/3.12.1/lib/python3.12/pydoc.py'>,\n",
       " 'executing._exceptions': <module 'executing._exceptions' from '/Users/reuven/.pyenv/versions/3.12.1/lib/python3.12/site-packages/executing/_exceptions.py'>,\n",
       " 'executing._position_node_finder': <module 'executing._position_node_finder' from '/Users/reuven/.pyenv/versions/3.12.1/lib/python3.12/site-packages/executing/_position_node_finder.py'>,\n",
       " 'executing.executing': <module 'executing.executing' from '/Users/reuven/.pyenv/versions/3.12.1/lib/python3.12/site-packages/executing/executing.py'>,\n",
       " 'executing.version': <module 'executing.version' from '/Users/reuven/.pyenv/versions/3.12.1/lib/python3.12/site-packages/executing/version.py'>,\n",
       " 'executing': <module 'executing' from '/Users/reuven/.pyenv/versions/3.12.1/lib/python3.12/site-packages/executing/__init__.py'>,\n",
       " 'asttokens.line_numbers': <module 'asttokens.line_numbers' from '/Users/reuven/.pyenv/versions/3.12.1/lib/python3.12/site-packages/asttokens/line_numbers.py'>,\n",
       " 'asttokens.util': <module 'asttokens.util' from '/Users/reuven/.pyenv/versions/3.12.1/lib/python3.12/site-packages/asttokens/util.py'>,\n",
       " 'asttokens.asttokens': <module 'asttokens.asttokens' from '/Users/reuven/.pyenv/versions/3.12.1/lib/python3.12/site-packages/asttokens/asttokens.py'>,\n",
       " 'asttokens': <module 'asttokens' from '/Users/reuven/.pyenv/versions/3.12.1/lib/python3.12/site-packages/asttokens/__init__.py'>,\n",
       " 'fractions': <module 'fractions' from '/Users/reuven/.pyenv/versions/3.12.1/lib/python3.12/fractions.py'>,\n",
       " 'pure_eval.utils': <module 'pure_eval.utils' from '/Users/reuven/.pyenv/versions/3.12.1/lib/python3.12/site-packages/pure_eval/utils.py'>,\n",
       " 'pure_eval.my_getattr_static': <module 'pure_eval.my_getattr_static' from '/Users/reuven/.pyenv/versions/3.12.1/lib/python3.12/site-packages/pure_eval/my_getattr_static.py'>,\n",
       " 'pure_eval.core': <module 'pure_eval.core' from '/Users/reuven/.pyenv/versions/3.12.1/lib/python3.12/site-packages/pure_eval/core.py'>,\n",
       " 'pure_eval.version': <module 'pure_eval.version' from '/Users/reuven/.pyenv/versions/3.12.1/lib/python3.12/site-packages/pure_eval/version.py'>,\n",
       " 'pure_eval': <module 'pure_eval' from '/Users/reuven/.pyenv/versions/3.12.1/lib/python3.12/site-packages/pure_eval/__init__.py'>,\n",
       " 'stack_data.utils': <module 'stack_data.utils' from '/Users/reuven/.pyenv/versions/3.12.1/lib/python3.12/site-packages/stack_data/utils.py'>,\n",
       " 'stack_data.core': <module 'stack_data.core' from '/Users/reuven/.pyenv/versions/3.12.1/lib/python3.12/site-packages/stack_data/core.py'>,\n",
       " 'stack_data.formatting': <module 'stack_data.formatting' from '/Users/reuven/.pyenv/versions/3.12.1/lib/python3.12/site-packages/stack_data/formatting.py'>,\n",
       " 'stack_data.serializing': <module 'stack_data.serializing' from '/Users/reuven/.pyenv/versions/3.12.1/lib/python3.12/site-packages/stack_data/serializing.py'>,\n",
       " 'stack_data.version': <module 'stack_data.version' from '/Users/reuven/.pyenv/versions/3.12.1/lib/python3.12/site-packages/stack_data/version.py'>,\n",
       " 'stack_data': <module 'stack_data' from '/Users/reuven/.pyenv/versions/3.12.1/lib/python3.12/site-packages/stack_data/__init__.py'>,\n",
       " 'pygments': <module 'pygments' from '/Users/reuven/.pyenv/versions/3.12.1/lib/python3.12/site-packages/pygments/__init__.py'>,\n",
       " 'pygments.formatters._mapping': <module 'pygments.formatters._mapping' from '/Users/reuven/.pyenv/versions/3.12.1/lib/python3.12/site-packages/pygments/formatters/_mapping.py'>,\n",
       " 'pygments.plugin': <module 'pygments.plugin' from '/Users/reuven/.pyenv/versions/3.12.1/lib/python3.12/site-packages/pygments/plugin.py'>,\n",
       " 'pygments.util': <module 'pygments.util' from '/Users/reuven/.pyenv/versions/3.12.1/lib/python3.12/site-packages/pygments/util.py'>,\n",
       " 'pygments.formatters': <module 'pygments.formatters' from '/Users/reuven/.pyenv/versions/3.12.1/lib/python3.12/site-packages/pygments/formatters/__init__.py'>,\n",
       " 'pygments.styles._mapping': <module 'pygments.styles._mapping' from '/Users/reuven/.pyenv/versions/3.12.1/lib/python3.12/site-packages/pygments/styles/_mapping.py'>,\n",
       " 'pygments.styles': <module 'pygments.styles' from '/Users/reuven/.pyenv/versions/3.12.1/lib/python3.12/site-packages/pygments/styles/__init__.py'>,\n",
       " 'pygments.formatter': <module 'pygments.formatter' from '/Users/reuven/.pyenv/versions/3.12.1/lib/python3.12/site-packages/pygments/formatter.py'>,\n",
       " 'pygments.console': <module 'pygments.console' from '/Users/reuven/.pyenv/versions/3.12.1/lib/python3.12/site-packages/pygments/console.py'>,\n",
       " 'pygments.token': <module 'pygments.token' from '/Users/reuven/.pyenv/versions/3.12.1/lib/python3.12/site-packages/pygments/token.py'>,\n",
       " 'pygments.style': <module 'pygments.style' from '/Users/reuven/.pyenv/versions/3.12.1/lib/python3.12/site-packages/pygments/style.py'>,\n",
       " 'pygments.formatters.terminal256': <module 'pygments.formatters.terminal256' from '/Users/reuven/.pyenv/versions/3.12.1/lib/python3.12/site-packages/pygments/formatters/terminal256.py'>,\n",
       " 'IPython.utils': <module 'IPython.utils' from '/Users/reuven/.pyenv/versions/3.12.1/lib/python3.12/site-packages/IPython/utils/__init__.py'>,\n",
       " 'IPython.utils.colorable': <module 'IPython.utils.colorable' from '/Users/reuven/.pyenv/versions/3.12.1/lib/python3.12/site-packages/IPython/utils/colorable.py'>,\n",
       " 'IPython.utils.ipstruct': <module 'IPython.utils.ipstruct' from '/Users/reuven/.pyenv/versions/3.12.1/lib/python3.12/site-packages/IPython/utils/ipstruct.py'>,\n",
       " 'IPython.utils.coloransi': <module 'IPython.utils.coloransi' from '/Users/reuven/.pyenv/versions/3.12.1/lib/python3.12/site-packages/IPython/utils/coloransi.py'>,\n",
       " 'IPython.utils.PyColorize': <module 'IPython.utils.PyColorize' from '/Users/reuven/.pyenv/versions/3.12.1/lib/python3.12/site-packages/IPython/utils/PyColorize.py'>,\n",
       " 'IPython.utils.encoding': <module 'IPython.utils.encoding' from '/Users/reuven/.pyenv/versions/3.12.1/lib/python3.12/site-packages/IPython/utils/encoding.py'>,\n",
       " 'IPython.utils.py3compat': <module 'IPython.utils.py3compat' from '/Users/reuven/.pyenv/versions/3.12.1/lib/python3.12/site-packages/IPython/utils/py3compat.py'>,\n",
       " 'IPython.core.excolors': <module 'IPython.core.excolors' from '/Users/reuven/.pyenv/versions/3.12.1/lib/python3.12/site-packages/IPython/core/excolors.py'>,\n",
       " 'cmd': <module 'cmd' from '/Users/reuven/.pyenv/versions/3.12.1/lib/python3.12/cmd.py'>,\n",
       " 'bdb': <module 'bdb' from '/Users/reuven/.pyenv/versions/3.12.1/lib/python3.12/bdb.py'>,\n",
       " 'codeop': <module 'codeop' from '/Users/reuven/.pyenv/versions/3.12.1/lib/python3.12/codeop.py'>,\n",
       " 'code': <module 'code' from '/Users/reuven/.pyenv/versions/3.12.1/lib/python3.12/code.py'>,\n",
       " 'pdb': <module 'pdb' from '/Users/reuven/.pyenv/versions/3.12.1/lib/python3.12/pdb.py'>,\n",
       " 'IPython.core.debugger': <module 'IPython.core.debugger' from '/Users/reuven/.pyenv/versions/3.12.1/lib/python3.12/site-packages/IPython/core/debugger.py'>,\n",
       " 'IPython.core.display_trap': <module 'IPython.core.display_trap' from '/Users/reuven/.pyenv/versions/3.12.1/lib/python3.12/site-packages/IPython/core/display_trap.py'>,\n",
       " 'pexpect.exceptions': <module 'pexpect.exceptions' from '/Users/reuven/.pyenv/versions/3.12.1/lib/python3.12/site-packages/pexpect/exceptions.py'>,\n",
       " 'pexpect.utils': <module 'pexpect.utils' from '/Users/reuven/.pyenv/versions/3.12.1/lib/python3.12/site-packages/pexpect/utils.py'>,\n",
       " 'pexpect.expect': <module 'pexpect.expect' from '/Users/reuven/.pyenv/versions/3.12.1/lib/python3.12/site-packages/pexpect/expect.py'>,\n",
       " 'tty': <module 'tty' from '/Users/reuven/.pyenv/versions/3.12.1/lib/python3.12/tty.py'>,\n",
       " 'pty': <module 'pty' from '/Users/reuven/.pyenv/versions/3.12.1/lib/python3.12/pty.py'>,\n",
       " 'resource': <module 'resource' from '/Users/reuven/.pyenv/versions/3.12.1/lib/python3.12/lib-dynload/resource.cpython-312-darwin.so'>,\n",
       " 'ptyprocess.util': <module 'ptyprocess.util' from '/Users/reuven/.pyenv/versions/3.12.1/lib/python3.12/site-packages/ptyprocess/util.py'>,\n",
       " 'ptyprocess.ptyprocess': <module 'ptyprocess.ptyprocess' from '/Users/reuven/.pyenv/versions/3.12.1/lib/python3.12/site-packages/ptyprocess/ptyprocess.py'>,\n",
       " 'ptyprocess': <module 'ptyprocess' from '/Users/reuven/.pyenv/versions/3.12.1/lib/python3.12/site-packages/ptyprocess/__init__.py'>,\n",
       " 'pexpect.spawnbase': <module 'pexpect.spawnbase' from '/Users/reuven/.pyenv/versions/3.12.1/lib/python3.12/site-packages/pexpect/spawnbase.py'>,\n",
       " 'pexpect.pty_spawn': <module 'pexpect.pty_spawn' from '/Users/reuven/.pyenv/versions/3.12.1/lib/python3.12/site-packages/pexpect/pty_spawn.py'>,\n",
       " 'pexpect.run': <module 'pexpect.run' from '/Users/reuven/.pyenv/versions/3.12.1/lib/python3.12/site-packages/pexpect/run.py'>,\n",
       " 'pexpect': <module 'pexpect' from '/Users/reuven/.pyenv/versions/3.12.1/lib/python3.12/site-packages/pexpect/__init__.py'>,\n",
       " 'shlex': <module 'shlex' from '/Users/reuven/.pyenv/versions/3.12.1/lib/python3.12/shlex.py'>,\n",
       " 'IPython.utils._process_common': <module 'IPython.utils._process_common' from '/Users/reuven/.pyenv/versions/3.12.1/lib/python3.12/site-packages/IPython/utils/_process_common.py'>,\n",
       " 'IPython.utils._process_posix': <module 'IPython.utils._process_posix' from '/Users/reuven/.pyenv/versions/3.12.1/lib/python3.12/site-packages/IPython/utils/_process_posix.py'>,\n",
       " 'IPython.utils.process': <module 'IPython.utils.process' from '/Users/reuven/.pyenv/versions/3.12.1/lib/python3.12/site-packages/IPython/utils/process.py'>,\n",
       " 'IPython.utils.path': <module 'IPython.utils.path' from '/Users/reuven/.pyenv/versions/3.12.1/lib/python3.12/site-packages/IPython/utils/path.py'>,\n",
       " 'IPython.utils.terminal': <module 'IPython.utils.terminal' from '/Users/reuven/.pyenv/versions/3.12.1/lib/python3.12/site-packages/IPython/utils/terminal.py'>,\n",
       " 'IPython.core.ultratb': <module 'IPython.core.ultratb' from '/Users/reuven/.pyenv/versions/3.12.1/lib/python3.12/site-packages/IPython/core/ultratb.py'>,\n",
       " 'IPython.utils._sysinfo': <module 'IPython.utils._sysinfo' from '/Users/reuven/.pyenv/versions/3.12.1/lib/python3.12/site-packages/IPython/utils/_sysinfo.py'>,\n",
       " 'IPython.utils.sysinfo': <module 'IPython.utils.sysinfo' from '/Users/reuven/.pyenv/versions/3.12.1/lib/python3.12/site-packages/IPython/utils/sysinfo.py'>,\n",
       " 'IPython.core.crashhandler': <module 'IPython.core.crashhandler' from '/Users/reuven/.pyenv/versions/3.12.1/lib/python3.12/site-packages/IPython/core/crashhandler.py'>,\n",
       " 'IPython.utils.importstring': <module 'IPython.utils.importstring' from '/Users/reuven/.pyenv/versions/3.12.1/lib/python3.12/site-packages/IPython/utils/importstring.py'>,\n",
       " 'IPython.paths': <module 'IPython.paths' from '/Users/reuven/.pyenv/versions/3.12.1/lib/python3.12/site-packages/IPython/paths.py'>,\n",
       " 'IPython.core.profiledir': <module 'IPython.core.profiledir' from '/Users/reuven/.pyenv/versions/3.12.1/lib/python3.12/site-packages/IPython/core/profiledir.py'>,\n",
       " 'IPython.core.application': <module 'IPython.core.application' from '/Users/reuven/.pyenv/versions/3.12.1/lib/python3.12/site-packages/IPython/core/application.py'>,\n",
       " 'IPython.terminal': <module 'IPython.terminal' from '/Users/reuven/.pyenv/versions/3.12.1/lib/python3.12/site-packages/IPython/terminal/__init__.py'>,\n",
       " 'IPython.core.compilerop': <module 'IPython.core.compilerop' from '/Users/reuven/.pyenv/versions/3.12.1/lib/python3.12/site-packages/IPython/core/compilerop.py'>,\n",
       " 'IPython.core.error': <module 'IPython.core.error' from '/Users/reuven/.pyenv/versions/3.12.1/lib/python3.12/site-packages/IPython/core/error.py'>,\n",
       " 'IPython.utils.docs': <module 'IPython.utils.docs' from '/Users/reuven/.pyenv/versions/3.12.1/lib/python3.12/site-packages/IPython/utils/docs.py'>,\n",
       " 'IPython.utils.decorators': <module 'IPython.utils.decorators' from '/Users/reuven/.pyenv/versions/3.12.1/lib/python3.12/site-packages/IPython/utils/decorators.py'>,\n",
       " 'IPython.utils.text': <module 'IPython.utils.text' from '/Users/reuven/.pyenv/versions/3.12.1/lib/python3.12/site-packages/IPython/utils/text.py'>,\n",
       " 'IPython.core.magic_arguments': <module 'IPython.core.magic_arguments' from '/Users/reuven/.pyenv/versions/3.12.1/lib/python3.12/site-packages/IPython/core/magic_arguments.py'>,\n",
       " 'getopt': <module 'getopt' from '/Users/reuven/.pyenv/versions/3.12.1/lib/python3.12/getopt.py'>,\n",
       " 'IPython.core.display_functions': <module 'IPython.core.display_functions' from '/Users/reuven/.pyenv/versions/3.12.1/lib/python3.12/site-packages/IPython/core/display_functions.py'>,\n",
       " 'mimetypes': <module 'mimetypes' from '/Users/reuven/.pyenv/versions/3.12.1/lib/python3.12/mimetypes.py'>,\n",
       " 'IPython.testing': <module 'IPython.testing' from '/Users/reuven/.pyenv/versions/3.12.1/lib/python3.12/site-packages/IPython/testing/__init__.py'>,\n",
       " 'IPython.testing.skipdoctest': <module 'IPython.testing.skipdoctest' from '/Users/reuven/.pyenv/versions/3.12.1/lib/python3.12/site-packages/IPython/testing/skipdoctest.py'>,\n",
       " 'IPython.core.display': <module 'IPython.core.display' from '/Users/reuven/.pyenv/versions/3.12.1/lib/python3.12/site-packages/IPython/core/display.py'>,\n",
       " 'IPython.lib': <module 'IPython.lib' from '/Users/reuven/.pyenv/versions/3.12.1/lib/python3.12/site-packages/IPython/lib/__init__.py'>,\n",
       " 'IPython.lib.display': <module 'IPython.lib.display' from '/Users/reuven/.pyenv/versions/3.12.1/lib/python3.12/site-packages/IPython/lib/display.py'>,\n",
       " 'IPython.display': <module 'IPython.display' from '/Users/reuven/.pyenv/versions/3.12.1/lib/python3.12/site-packages/IPython/display.py'>,\n",
       " 'IPython.utils.data': <module 'IPython.utils.data' from '/Users/reuven/.pyenv/versions/3.12.1/lib/python3.12/site-packages/IPython/utils/data.py'>,\n",
       " 'IPython.core.page': <module 'IPython.core.page' from '/Users/reuven/.pyenv/versions/3.12.1/lib/python3.12/site-packages/IPython/core/page.py'>,\n",
       " 'IPython.lib.pretty': <module 'IPython.lib.pretty' from '/Users/reuven/.pyenv/versions/3.12.1/lib/python3.12/site-packages/IPython/lib/pretty.py'>,\n",
       " 'IPython.utils.openpy': <module 'IPython.utils.openpy' from '/Users/reuven/.pyenv/versions/3.12.1/lib/python3.12/site-packages/IPython/utils/openpy.py'>,\n",
       " 'IPython.utils.dir2': <module 'IPython.utils.dir2' from '/Users/reuven/.pyenv/versions/3.12.1/lib/python3.12/site-packages/IPython/utils/dir2.py'>,\n",
       " 'IPython.utils.wildcard': <module 'IPython.utils.wildcard' from '/Users/reuven/.pyenv/versions/3.12.1/lib/python3.12/site-packages/IPython/utils/wildcard.py'>,\n",
       " 'pygments.lexers._mapping': <module 'pygments.lexers._mapping' from '/Users/reuven/.pyenv/versions/3.12.1/lib/python3.12/site-packages/pygments/lexers/_mapping.py'>,\n",
       " 'pygments.modeline': <module 'pygments.modeline' from '/Users/reuven/.pyenv/versions/3.12.1/lib/python3.12/site-packages/pygments/modeline.py'>,\n",
       " 'pygments.lexers': <module 'pygments.lexers' from '/Users/reuven/.pyenv/versions/3.12.1/lib/python3.12/site-packages/pygments/lexers/__init__.py'>,\n",
       " 'pygments.filter': <module 'pygments.filter' from '/Users/reuven/.pyenv/versions/3.12.1/lib/python3.12/site-packages/pygments/filter.py'>,\n",
       " 'pygments.filters': <module 'pygments.filters' from '/Users/reuven/.pyenv/versions/3.12.1/lib/python3.12/site-packages/pygments/filters/__init__.py'>,\n",
       " 'pygments.regexopt': <module 'pygments.regexopt' from '/Users/reuven/.pyenv/versions/3.12.1/lib/python3.12/site-packages/pygments/regexopt.py'>,\n",
       " 'pygments.lexer': <module 'pygments.lexer' from '/Users/reuven/.pyenv/versions/3.12.1/lib/python3.12/site-packages/pygments/lexer.py'>,\n",
       " 'pygments.unistring': <module 'pygments.unistring' from '/Users/reuven/.pyenv/versions/3.12.1/lib/python3.12/site-packages/pygments/unistring.py'>,\n",
       " 'pygments.lexers.python': <module 'pygments.lexers.python' from '/Users/reuven/.pyenv/versions/3.12.1/lib/python3.12/site-packages/pygments/lexers/python.py'>,\n",
       " 'pygments.formatters.html': <module 'pygments.formatters.html' from '/Users/reuven/.pyenv/versions/3.12.1/lib/python3.12/site-packages/pygments/formatters/html.py'>,\n",
       " 'IPython.core.oinspect': <module 'IPython.core.oinspect' from '/Users/reuven/.pyenv/versions/3.12.1/lib/python3.12/site-packages/IPython/core/oinspect.py'>,\n",
       " 'IPython.utils.tokenutil': <module 'IPython.utils.tokenutil' from '/Users/reuven/.pyenv/versions/3.12.1/lib/python3.12/site-packages/IPython/utils/tokenutil.py'>,\n",
       " 'IPython.core.inputtransformer2': <module 'IPython.core.inputtransformer2' from '/Users/reuven/.pyenv/versions/3.12.1/lib/python3.12/site-packages/IPython/core/inputtransformer2.py'>,\n",
       " 'IPython.core.magic': <module 'IPython.core.magic' from '/Users/reuven/.pyenv/versions/3.12.1/lib/python3.12/site-packages/IPython/core/magic.py'>,\n",
       " 'pickleshare': <module 'pickleshare' from '/Users/reuven/.pyenv/versions/3.12.1/lib/python3.12/site-packages/pickleshare.py'>,\n",
       " 'IPython.core.hooks': <module 'IPython.core.hooks' from '/Users/reuven/.pyenv/versions/3.12.1/lib/python3.12/site-packages/IPython/core/hooks.py'>,\n",
       " 'IPython.core.autocall': <module 'IPython.core.autocall' from '/Users/reuven/.pyenv/versions/3.12.1/lib/python3.12/site-packages/IPython/core/autocall.py'>,\n",
       " 'IPython.core.macro': <module 'IPython.core.macro' from '/Users/reuven/.pyenv/versions/3.12.1/lib/python3.12/site-packages/IPython/core/macro.py'>,\n",
       " 'IPython.core.splitinput': <module 'IPython.core.splitinput' from '/Users/reuven/.pyenv/versions/3.12.1/lib/python3.12/site-packages/IPython/core/splitinput.py'>,\n",
       " 'IPython.core.prefilter': <module 'IPython.core.prefilter' from '/Users/reuven/.pyenv/versions/3.12.1/lib/python3.12/site-packages/IPython/core/prefilter.py'>,\n",
       " 'IPython.core.alias': <module 'IPython.core.alias' from '/Users/reuven/.pyenv/versions/3.12.1/lib/python3.12/site-packages/IPython/core/alias.py'>,\n",
       " 'IPython.core.builtin_trap': <module 'IPython.core.builtin_trap' from '/Users/reuven/.pyenv/versions/3.12.1/lib/python3.12/site-packages/IPython/core/builtin_trap.py'>,\n",
       " 'IPython.core.displayhook': <module 'IPython.core.displayhook' from '/Users/reuven/.pyenv/versions/3.12.1/lib/python3.12/site-packages/IPython/core/displayhook.py'>,\n",
       " 'IPython.core.displaypub': <module 'IPython.core.displaypub' from '/Users/reuven/.pyenv/versions/3.12.1/lib/python3.12/site-packages/IPython/core/displaypub.py'>,\n",
       " 'IPython.core.events': <module 'IPython.core.events' from '/Users/reuven/.pyenv/versions/3.12.1/lib/python3.12/site-packages/IPython/core/events.py'>,\n",
       " 'IPython.core.extensions': <module 'IPython.core.extensions' from '/Users/reuven/.pyenv/versions/3.12.1/lib/python3.12/site-packages/IPython/core/extensions.py'>,\n",
       " 'decorator': <module 'decorator' from '/Users/reuven/.pyenv/versions/3.12.1/lib/python3.12/site-packages/decorator.py'>,\n",
       " 'IPython.utils.sentinel': <module 'IPython.utils.sentinel' from '/Users/reuven/.pyenv/versions/3.12.1/lib/python3.12/site-packages/IPython/utils/sentinel.py'>,\n",
       " 'IPython.core.formatters': <module 'IPython.core.formatters' from '/Users/reuven/.pyenv/versions/3.12.1/lib/python3.12/site-packages/IPython/core/formatters.py'>,\n",
       " '_sqlite3': <module '_sqlite3' from '/Users/reuven/.pyenv/versions/3.12.1/lib/python3.12/lib-dynload/_sqlite3.cpython-312-darwin.so'>,\n",
       " 'sqlite3.dbapi2': <module 'sqlite3.dbapi2' from '/Users/reuven/.pyenv/versions/3.12.1/lib/python3.12/sqlite3/dbapi2.py'>,\n",
       " 'sqlite3': <module 'sqlite3' from '/Users/reuven/.pyenv/versions/3.12.1/lib/python3.12/sqlite3/__init__.py'>,\n",
       " 'IPython.core.history': <module 'IPython.core.history' from '/Users/reuven/.pyenv/versions/3.12.1/lib/python3.12/site-packages/IPython/core/history.py'>,\n",
       " 'IPython.core.logger': <module 'IPython.core.logger' from '/Users/reuven/.pyenv/versions/3.12.1/lib/python3.12/site-packages/IPython/core/logger.py'>,\n",
       " 'IPython.core.payload': <module 'IPython.core.payload' from '/Users/reuven/.pyenv/versions/3.12.1/lib/python3.12/site-packages/IPython/core/payload.py'>,\n",
       " 'IPython.core.usage': <module 'IPython.core.usage' from '/Users/reuven/.pyenv/versions/3.12.1/lib/python3.12/site-packages/IPython/core/usage.py'>,\n",
       " 'IPython.utils.capture': <module 'IPython.utils.capture' from '/Users/reuven/.pyenv/versions/3.12.1/lib/python3.12/site-packages/IPython/utils/capture.py'>,\n",
       " 'IPython.utils.io': <module 'IPython.utils.io' from '/Users/reuven/.pyenv/versions/3.12.1/lib/python3.12/site-packages/IPython/utils/io.py'>,\n",
       " 'IPython.utils.strdispatch': <module 'IPython.utils.strdispatch' from '/Users/reuven/.pyenv/versions/3.12.1/lib/python3.12/site-packages/IPython/utils/strdispatch.py'>,\n",
       " 'IPython.utils.syspathcontext': <module 'IPython.utils.syspathcontext' from '/Users/reuven/.pyenv/versions/3.12.1/lib/python3.12/site-packages/IPython/utils/syspathcontext.py'>,\n",
       " 'IPython.core.async_helpers': <module 'IPython.core.async_helpers' from '/Users/reuven/.pyenv/versions/3.12.1/lib/python3.12/site-packages/IPython/core/async_helpers.py'>,\n",
       " 'IPython.core.interactiveshell': <module 'IPython.core.interactiveshell' from '/Users/reuven/.pyenv/versions/3.12.1/lib/python3.12/site-packages/IPython/core/interactiveshell.py'>,\n",
       " 'prompt_toolkit.application.current': <module 'prompt_toolkit.application.current' from '/Users/reuven/.pyenv/versions/3.12.1/lib/python3.12/site-packages/prompt_toolkit/application/current.py'>,\n",
       " 'prompt_toolkit.eventloop.utils': <module 'prompt_toolkit.eventloop.utils' from '/Users/reuven/.pyenv/versions/3.12.1/lib/python3.12/site-packages/prompt_toolkit/eventloop/utils.py'>,\n",
       " 'prompt_toolkit.eventloop.async_generator': <module 'prompt_toolkit.eventloop.async_generator' from '/Users/reuven/.pyenv/versions/3.12.1/lib/python3.12/site-packages/prompt_toolkit/eventloop/async_generator.py'>,\n",
       " 'prompt_toolkit.eventloop.inputhook': <module 'prompt_toolkit.eventloop.inputhook' from '/Users/reuven/.pyenv/versions/3.12.1/lib/python3.12/site-packages/prompt_toolkit/eventloop/inputhook.py'>,\n",
       " 'prompt_toolkit.eventloop': <module 'prompt_toolkit.eventloop' from '/Users/reuven/.pyenv/versions/3.12.1/lib/python3.12/site-packages/prompt_toolkit/eventloop/__init__.py'>,\n",
       " 'prompt_toolkit.application.run_in_terminal': <module 'prompt_toolkit.application.run_in_terminal' from '/Users/reuven/.pyenv/versions/3.12.1/lib/python3.12/site-packages/prompt_toolkit/application/run_in_terminal.py'>,\n",
       " 'prompt_toolkit.selection': <module 'prompt_toolkit.selection' from '/Users/reuven/.pyenv/versions/3.12.1/lib/python3.12/site-packages/prompt_toolkit/selection.py'>,\n",
       " 'prompt_toolkit.clipboard.base': <module 'prompt_toolkit.clipboard.base' from '/Users/reuven/.pyenv/versions/3.12.1/lib/python3.12/site-packages/prompt_toolkit/clipboard/base.py'>,\n",
       " 'prompt_toolkit.clipboard.in_memory': <module 'prompt_toolkit.clipboard.in_memory' from '/Users/reuven/.pyenv/versions/3.12.1/lib/python3.12/site-packages/prompt_toolkit/clipboard/in_memory.py'>,\n",
       " 'prompt_toolkit.clipboard': <module 'prompt_toolkit.clipboard' from '/Users/reuven/.pyenv/versions/3.12.1/lib/python3.12/site-packages/prompt_toolkit/clipboard/__init__.py'>,\n",
       " 'prompt_toolkit.cache': <module 'prompt_toolkit.cache' from '/Users/reuven/.pyenv/versions/3.12.1/lib/python3.12/site-packages/prompt_toolkit/cache.py'>,\n",
       " 'prompt_toolkit.enums': <module 'prompt_toolkit.enums' from '/Users/reuven/.pyenv/versions/3.12.1/lib/python3.12/site-packages/prompt_toolkit/enums.py'>,\n",
       " 'prompt_toolkit.filters.base': <module 'prompt_toolkit.filters.base' from '/Users/reuven/.pyenv/versions/3.12.1/lib/python3.12/site-packages/prompt_toolkit/filters/base.py'>,\n",
       " 'prompt_toolkit.filters.app': <module 'prompt_toolkit.filters.app' from '/Users/reuven/.pyenv/versions/3.12.1/lib/python3.12/site-packages/prompt_toolkit/filters/app.py'>,\n",
       " 'prompt_toolkit.filters.cli': <module 'prompt_toolkit.filters.cli' from '/Users/reuven/.pyenv/versions/3.12.1/lib/python3.12/site-packages/prompt_toolkit/filters/cli.py'>,\n",
       " 'prompt_toolkit.filters.utils': <module 'prompt_toolkit.filters.utils' from '/Users/reuven/.pyenv/versions/3.12.1/lib/python3.12/site-packages/prompt_toolkit/filters/utils.py'>,\n",
       " 'prompt_toolkit.filters': <module 'prompt_toolkit.filters' from '/Users/reuven/.pyenv/versions/3.12.1/lib/python3.12/site-packages/prompt_toolkit/filters/__init__.py'>,\n",
       " 'prompt_toolkit.document': <module 'prompt_toolkit.document' from '/Users/reuven/.pyenv/versions/3.12.1/lib/python3.12/site-packages/prompt_toolkit/document.py'>,\n",
       " 'prompt_toolkit.auto_suggest': <module 'prompt_toolkit.auto_suggest' from '/Users/reuven/.pyenv/versions/3.12.1/lib/python3.12/site-packages/prompt_toolkit/auto_suggest.py'>,\n",
       " 'prompt_toolkit.keys': <module 'prompt_toolkit.keys' from '/Users/reuven/.pyenv/versions/3.12.1/lib/python3.12/site-packages/prompt_toolkit/keys.py'>,\n",
       " 'prompt_toolkit.key_binding.key_bindings': <module 'prompt_toolkit.key_binding.key_bindings' from '/Users/reuven/.pyenv/versions/3.12.1/lib/python3.12/site-packages/prompt_toolkit/key_binding/key_bindings.py'>,\n",
       " 'wcwidth.table_vs16': <module 'wcwidth.table_vs16' from '/Users/reuven/.pyenv/versions/3.12.1/lib/python3.12/site-packages/wcwidth/table_vs16.py'>,\n",
       " 'wcwidth.table_wide': <module 'wcwidth.table_wide' from '/Users/reuven/.pyenv/versions/3.12.1/lib/python3.12/site-packages/wcwidth/table_wide.py'>,\n",
       " 'wcwidth.table_zero': <module 'wcwidth.table_zero' from '/Users/reuven/.pyenv/versions/3.12.1/lib/python3.12/site-packages/wcwidth/table_zero.py'>,\n",
       " 'wcwidth.unicode_versions': <module 'wcwidth.unicode_versions' from '/Users/reuven/.pyenv/versions/3.12.1/lib/python3.12/site-packages/wcwidth/unicode_versions.py'>,\n",
       " 'wcwidth.wcwidth': <module 'wcwidth.wcwidth' from '/Users/reuven/.pyenv/versions/3.12.1/lib/python3.12/site-packages/wcwidth/wcwidth.py'>,\n",
       " 'wcwidth': <module 'wcwidth' from '/Users/reuven/.pyenv/versions/3.12.1/lib/python3.12/site-packages/wcwidth/__init__.py'>,\n",
       " 'prompt_toolkit.utils': <module 'prompt_toolkit.utils' from '/Users/reuven/.pyenv/versions/3.12.1/lib/python3.12/site-packages/prompt_toolkit/utils.py'>,\n",
       " 'prompt_toolkit.key_binding.key_processor': <module 'prompt_toolkit.key_binding.key_processor' from '/Users/reuven/.pyenv/versions/3.12.1/lib/python3.12/site-packages/prompt_toolkit/key_binding/key_processor.py'>,\n",
       " 'prompt_toolkit.key_binding': <module 'prompt_toolkit.key_binding' from '/Users/reuven/.pyenv/versions/3.12.1/lib/python3.12/site-packages/prompt_toolkit/key_binding/__init__.py'>,\n",
       " 'prompt_toolkit.key_binding.vi_state': <module 'prompt_toolkit.key_binding.vi_state' from '/Users/reuven/.pyenv/versions/3.12.1/lib/python3.12/site-packages/prompt_toolkit/key_binding/vi_state.py'>,\n",
       " 'prompt_toolkit.cursor_shapes': <module 'prompt_toolkit.cursor_shapes' from '/Users/reuven/.pyenv/versions/3.12.1/lib/python3.12/site-packages/prompt_toolkit/cursor_shapes.py'>,\n",
       " 'prompt_toolkit.data_structures': <module 'prompt_toolkit.data_structures' from '/Users/reuven/.pyenv/versions/3.12.1/lib/python3.12/site-packages/prompt_toolkit/data_structures.py'>,\n",
       " 'prompt_toolkit.styles.base': <module 'prompt_toolkit.styles.base' from '/Users/reuven/.pyenv/versions/3.12.1/lib/python3.12/site-packages/prompt_toolkit/styles/base.py'>,\n",
       " 'prompt_toolkit.styles.named_colors': <module 'prompt_toolkit.styles.named_colors' from '/Users/reuven/.pyenv/versions/3.12.1/lib/python3.12/site-packages/prompt_toolkit/styles/named_colors.py'>,\n",
       " 'prompt_toolkit.styles.style': <module 'prompt_toolkit.styles.style' from '/Users/reuven/.pyenv/versions/3.12.1/lib/python3.12/site-packages/prompt_toolkit/styles/style.py'>,\n",
       " 'prompt_toolkit.styles.defaults': <module 'prompt_toolkit.styles.defaults' from '/Users/reuven/.pyenv/versions/3.12.1/lib/python3.12/site-packages/prompt_toolkit/styles/defaults.py'>,\n",
       " 'prompt_toolkit.styles.pygments': <module 'prompt_toolkit.styles.pygments' from '/Users/reuven/.pyenv/versions/3.12.1/lib/python3.12/site-packages/prompt_toolkit/styles/pygments.py'>,\n",
       " 'colorsys': <module 'colorsys' from '/Users/reuven/.pyenv/versions/3.12.1/lib/python3.12/colorsys.py'>,\n",
       " 'prompt_toolkit.styles.style_transformation': <module 'prompt_toolkit.styles.style_transformation' from '/Users/reuven/.pyenv/versions/3.12.1/lib/python3.12/site-packages/prompt_toolkit/styles/style_transformation.py'>,\n",
       " 'prompt_toolkit.styles': <module 'prompt_toolkit.styles' from '/Users/reuven/.pyenv/versions/3.12.1/lib/python3.12/site-packages/prompt_toolkit/styles/__init__.py'>,\n",
       " 'prompt_toolkit.output.color_depth': <module 'prompt_toolkit.output.color_depth' from '/Users/reuven/.pyenv/versions/3.12.1/lib/python3.12/site-packages/prompt_toolkit/output/color_depth.py'>,\n",
       " 'prompt_toolkit.output.base': <module 'prompt_toolkit.output.base' from '/Users/reuven/.pyenv/versions/3.12.1/lib/python3.12/site-packages/prompt_toolkit/output/base.py'>,\n",
       " 'prompt_toolkit.output.flush_stdout': <module 'prompt_toolkit.output.flush_stdout' from '/Users/reuven/.pyenv/versions/3.12.1/lib/python3.12/site-packages/prompt_toolkit/output/flush_stdout.py'>,\n",
       " 'prompt_toolkit.output.plain_text': <module 'prompt_toolkit.output.plain_text' from '/Users/reuven/.pyenv/versions/3.12.1/lib/python3.12/site-packages/prompt_toolkit/output/plain_text.py'>,\n",
       " 'prompt_toolkit.output.defaults': <module 'prompt_toolkit.output.defaults' from '/Users/reuven/.pyenv/versions/3.12.1/lib/python3.12/site-packages/prompt_toolkit/output/defaults.py'>,\n",
       " 'prompt_toolkit.output': <module 'prompt_toolkit.output' from '/Users/reuven/.pyenv/versions/3.12.1/lib/python3.12/site-packages/prompt_toolkit/output/__init__.py'>,\n",
       " 'prompt_toolkit.output.vt100': <module 'prompt_toolkit.output.vt100' from '/Users/reuven/.pyenv/versions/3.12.1/lib/python3.12/site-packages/prompt_toolkit/output/vt100.py'>,\n",
       " 'prompt_toolkit.mouse_events': <module 'prompt_toolkit.mouse_events' from '/Users/reuven/.pyenv/versions/3.12.1/lib/python3.12/site-packages/prompt_toolkit/mouse_events.py'>,\n",
       " 'prompt_toolkit.formatted_text.base': <module 'prompt_toolkit.formatted_text.base' from '/Users/reuven/.pyenv/versions/3.12.1/lib/python3.12/site-packages/prompt_toolkit/formatted_text/base.py'>,\n",
       " 'prompt_toolkit.formatted_text.ansi': <module 'prompt_toolkit.formatted_text.ansi' from '/Users/reuven/.pyenv/versions/3.12.1/lib/python3.12/site-packages/prompt_toolkit/formatted_text/ansi.py'>,\n",
       " 'xml': <module 'xml' from '/Users/reuven/.pyenv/versions/3.12.1/lib/python3.12/xml/__init__.py'>,\n",
       " 'xml.dom.domreg': <module 'xml.dom.domreg' from '/Users/reuven/.pyenv/versions/3.12.1/lib/python3.12/xml/dom/domreg.py'>,\n",
       " 'xml.dom': <module 'xml.dom' from '/Users/reuven/.pyenv/versions/3.12.1/lib/python3.12/xml/dom/__init__.py'>,\n",
       " 'xml.dom.minicompat': <module 'xml.dom.minicompat' from '/Users/reuven/.pyenv/versions/3.12.1/lib/python3.12/xml/dom/minicompat.py'>,\n",
       " 'xml.dom.NodeFilter': <module 'xml.dom.NodeFilter' from '/Users/reuven/.pyenv/versions/3.12.1/lib/python3.12/xml/dom/NodeFilter.py'>,\n",
       " 'xml.dom.xmlbuilder': <module 'xml.dom.xmlbuilder' from '/Users/reuven/.pyenv/versions/3.12.1/lib/python3.12/xml/dom/xmlbuilder.py'>,\n",
       " 'xml.dom.minidom': <module 'xml.dom.minidom' from '/Users/reuven/.pyenv/versions/3.12.1/lib/python3.12/xml/dom/minidom.py'>,\n",
       " 'prompt_toolkit.formatted_text.html': <module 'prompt_toolkit.formatted_text.html' from '/Users/reuven/.pyenv/versions/3.12.1/lib/python3.12/site-packages/prompt_toolkit/formatted_text/html.py'>,\n",
       " 'prompt_toolkit.formatted_text.pygments': <module 'prompt_toolkit.formatted_text.pygments' from '/Users/reuven/.pyenv/versions/3.12.1/lib/python3.12/site-packages/prompt_toolkit/formatted_text/pygments.py'>,\n",
       " 'prompt_toolkit.formatted_text.utils': <module 'prompt_toolkit.formatted_text.utils' from '/Users/reuven/.pyenv/versions/3.12.1/lib/python3.12/site-packages/prompt_toolkit/formatted_text/utils.py'>,\n",
       " 'prompt_toolkit.formatted_text': <module 'prompt_toolkit.formatted_text' from '/Users/reuven/.pyenv/versions/3.12.1/lib/python3.12/site-packages/prompt_toolkit/formatted_text/__init__.py'>,\n",
       " 'prompt_toolkit.completion.base': <module 'prompt_toolkit.completion.base' from '/Users/reuven/.pyenv/versions/3.12.1/lib/python3.12/site-packages/prompt_toolkit/completion/base.py'>,\n",
       " 'prompt_toolkit.completion.deduplicate': <module 'prompt_toolkit.completion.deduplicate' from '/Users/reuven/.pyenv/versions/3.12.1/lib/python3.12/site-packages/prompt_toolkit/completion/deduplicate.py'>,\n",
       " 'prompt_toolkit.completion.filesystem': <module 'prompt_toolkit.completion.filesystem' from '/Users/reuven/.pyenv/versions/3.12.1/lib/python3.12/site-packages/prompt_toolkit/completion/filesystem.py'>,\n",
       " 'prompt_toolkit.completion.word_completer': <module 'prompt_toolkit.completion.word_completer' from '/Users/reuven/.pyenv/versions/3.12.1/lib/python3.12/site-packages/prompt_toolkit/completion/word_completer.py'>,\n",
       " 'prompt_toolkit.completion.fuzzy_completer': <module 'prompt_toolkit.completion.fuzzy_completer' from '/Users/reuven/.pyenv/versions/3.12.1/lib/python3.12/site-packages/prompt_toolkit/completion/fuzzy_completer.py'>,\n",
       " 'prompt_toolkit.completion.nested': <module 'prompt_toolkit.completion.nested' from '/Users/reuven/.pyenv/versions/3.12.1/lib/python3.12/site-packages/prompt_toolkit/completion/nested.py'>,\n",
       " 'prompt_toolkit.completion': <module 'prompt_toolkit.completion' from '/Users/reuven/.pyenv/versions/3.12.1/lib/python3.12/site-packages/prompt_toolkit/completion/__init__.py'>,\n",
       " 'prompt_toolkit.history': <module 'prompt_toolkit.history' from '/Users/reuven/.pyenv/versions/3.12.1/lib/python3.12/site-packages/prompt_toolkit/history.py'>,\n",
       " 'prompt_toolkit.search': <module 'prompt_toolkit.search' from '/Users/reuven/.pyenv/versions/3.12.1/lib/python3.12/site-packages/prompt_toolkit/search.py'>,\n",
       " 'prompt_toolkit.validation': <module 'prompt_toolkit.validation' from '/Users/reuven/.pyenv/versions/3.12.1/lib/python3.12/site-packages/prompt_toolkit/validation.py'>,\n",
       " 'prompt_toolkit.buffer': <module 'prompt_toolkit.buffer' from '/Users/reuven/.pyenv/versions/3.12.1/lib/python3.12/site-packages/prompt_toolkit/buffer.py'>,\n",
       " 'prompt_toolkit.input.base': <module 'prompt_toolkit.input.base' from '/Users/reuven/.pyenv/versions/3.12.1/lib/python3.12/site-packages/prompt_toolkit/input/base.py'>,\n",
       " 'prompt_toolkit.input.defaults': <module 'prompt_toolkit.input.defaults' from '/Users/reuven/.pyenv/versions/3.12.1/lib/python3.12/site-packages/prompt_toolkit/input/defaults.py'>,\n",
       " 'prompt_toolkit.input': <module 'prompt_toolkit.input' from '/Users/reuven/.pyenv/versions/3.12.1/lib/python3.12/site-packages/prompt_toolkit/input/__init__.py'>,\n",
       " 'prompt_toolkit.input.typeahead': <module 'prompt_toolkit.input.typeahead' from '/Users/reuven/.pyenv/versions/3.12.1/lib/python3.12/site-packages/prompt_toolkit/input/typeahead.py'>,\n",
       " 'prompt_toolkit.key_binding.bindings': <module 'prompt_toolkit.key_binding.bindings' from '/Users/reuven/.pyenv/versions/3.12.1/lib/python3.12/site-packages/prompt_toolkit/key_binding/bindings/__init__.py'>,\n",
       " 'prompt_toolkit.key_binding.bindings.scroll': <module 'prompt_toolkit.key_binding.bindings.scroll' from '/Users/reuven/.pyenv/versions/3.12.1/lib/python3.12/site-packages/prompt_toolkit/key_binding/bindings/scroll.py'>,\n",
       " 'prompt_toolkit.key_binding.bindings.page_navigation': <module 'prompt_toolkit.key_binding.bindings.page_navigation' from '/Users/reuven/.pyenv/versions/3.12.1/lib/python3.12/site-packages/prompt_toolkit/key_binding/bindings/page_navigation.py'>,\n",
       " 'prompt_toolkit.lexers.base': <module 'prompt_toolkit.lexers.base' from '/Users/reuven/.pyenv/versions/3.12.1/lib/python3.12/site-packages/prompt_toolkit/lexers/base.py'>,\n",
       " 'prompt_toolkit.lexers.pygments': <module 'prompt_toolkit.lexers.pygments' from '/Users/reuven/.pyenv/versions/3.12.1/lib/python3.12/site-packages/prompt_toolkit/lexers/pygments.py'>,\n",
       " 'prompt_toolkit.lexers': <module 'prompt_toolkit.lexers' from '/Users/reuven/.pyenv/versions/3.12.1/lib/python3.12/site-packages/prompt_toolkit/lexers/__init__.py'>,\n",
       " 'prompt_toolkit.layout.utils': <module 'prompt_toolkit.layout.utils' from '/Users/reuven/.pyenv/versions/3.12.1/lib/python3.12/site-packages/prompt_toolkit/layout/utils.py'>,\n",
       " 'prompt_toolkit.layout.processors': <module 'prompt_toolkit.layout.processors' from '/Users/reuven/.pyenv/versions/3.12.1/lib/python3.12/site-packages/prompt_toolkit/layout/processors.py'>,\n",
       " 'prompt_toolkit.layout.controls': <module 'prompt_toolkit.layout.controls' from '/Users/reuven/.pyenv/versions/3.12.1/lib/python3.12/site-packages/prompt_toolkit/layout/controls.py'>,\n",
       " 'prompt_toolkit.layout.dimension': <module 'prompt_toolkit.layout.dimension' from '/Users/reuven/.pyenv/versions/3.12.1/lib/python3.12/site-packages/prompt_toolkit/layout/dimension.py'>,\n",
       " 'prompt_toolkit.layout.margins': <module 'prompt_toolkit.layout.margins' from '/Users/reuven/.pyenv/versions/3.12.1/lib/python3.12/site-packages/prompt_toolkit/layout/margins.py'>,\n",
       " 'prompt_toolkit.layout.mouse_handlers': <module 'prompt_toolkit.layout.mouse_handlers' from '/Users/reuven/.pyenv/versions/3.12.1/lib/python3.12/site-packages/prompt_toolkit/layout/mouse_handlers.py'>,\n",
       " 'prompt_toolkit.layout.screen': <module 'prompt_toolkit.layout.screen' from '/Users/reuven/.pyenv/versions/3.12.1/lib/python3.12/site-packages/prompt_toolkit/layout/screen.py'>,\n",
       " 'prompt_toolkit.layout.containers': <module 'prompt_toolkit.layout.containers' from '/Users/reuven/.pyenv/versions/3.12.1/lib/python3.12/site-packages/prompt_toolkit/layout/containers.py'>,\n",
       " 'prompt_toolkit.layout.layout': <module 'prompt_toolkit.layout.layout' from '/Users/reuven/.pyenv/versions/3.12.1/lib/python3.12/site-packages/prompt_toolkit/layout/layout.py'>,\n",
       " 'prompt_toolkit.layout.menus': <module 'prompt_toolkit.layout.menus' from '/Users/reuven/.pyenv/versions/3.12.1/lib/python3.12/site-packages/prompt_toolkit/layout/menus.py'>,\n",
       " 'prompt_toolkit.layout.scrollable_pane': <module 'prompt_toolkit.layout.scrollable_pane' from '/Users/reuven/.pyenv/versions/3.12.1/lib/python3.12/site-packages/prompt_toolkit/layout/scrollable_pane.py'>,\n",
       " 'prompt_toolkit.layout': <module 'prompt_toolkit.layout' from '/Users/reuven/.pyenv/versions/3.12.1/lib/python3.12/site-packages/prompt_toolkit/layout/__init__.py'>,\n",
       " 'prompt_toolkit.key_binding.bindings.completion': <module 'prompt_toolkit.key_binding.bindings.completion' from '/Users/reuven/.pyenv/versions/3.12.1/lib/python3.12/site-packages/prompt_toolkit/key_binding/bindings/completion.py'>,\n",
       " 'prompt_toolkit.key_binding.bindings.named_commands': <module 'prompt_toolkit.key_binding.bindings.named_commands' from '/Users/reuven/.pyenv/versions/3.12.1/lib/python3.12/site-packages/prompt_toolkit/key_binding/bindings/named_commands.py'>,\n",
       " 'prompt_toolkit.key_binding.bindings.basic': <module 'prompt_toolkit.key_binding.bindings.basic' from '/Users/reuven/.pyenv/versions/3.12.1/lib/python3.12/site-packages/prompt_toolkit/key_binding/bindings/basic.py'>,\n",
       " 'prompt_toolkit.key_binding.bindings.cpr': <module 'prompt_toolkit.key_binding.bindings.cpr' from '/Users/reuven/.pyenv/versions/3.12.1/lib/python3.12/site-packages/prompt_toolkit/key_binding/bindings/cpr.py'>,\n",
       " 'prompt_toolkit.key_binding.bindings.emacs': <module 'prompt_toolkit.key_binding.bindings.emacs' from '/Users/reuven/.pyenv/versions/3.12.1/lib/python3.12/site-packages/prompt_toolkit/key_binding/bindings/emacs.py'>,\n",
       " 'prompt_toolkit.key_binding.bindings.mouse': <module 'prompt_toolkit.key_binding.bindings.mouse' from '/Users/reuven/.pyenv/versions/3.12.1/lib/python3.12/site-packages/prompt_toolkit/key_binding/bindings/mouse.py'>,\n",
       " 'prompt_toolkit.input.ansi_escape_sequences': <module 'prompt_toolkit.input.ansi_escape_sequences' from '/Users/reuven/.pyenv/versions/3.12.1/lib/python3.12/site-packages/prompt_toolkit/input/ansi_escape_sequences.py'>,\n",
       " 'prompt_toolkit.input.vt100_parser': <module 'prompt_toolkit.input.vt100_parser' from '/Users/reuven/.pyenv/versions/3.12.1/lib/python3.12/site-packages/prompt_toolkit/input/vt100_parser.py'>,\n",
       " 'prompt_toolkit.key_binding.digraphs': <module 'prompt_toolkit.key_binding.digraphs' from '/Users/reuven/.pyenv/versions/3.12.1/lib/python3.12/site-packages/prompt_toolkit/key_binding/digraphs.py'>,\n",
       " 'prompt_toolkit.key_binding.bindings.vi': <module 'prompt_toolkit.key_binding.bindings.vi' from '/Users/reuven/.pyenv/versions/3.12.1/lib/python3.12/site-packages/prompt_toolkit/key_binding/bindings/vi.py'>,\n",
       " 'prompt_toolkit.key_binding.defaults': <module 'prompt_toolkit.key_binding.defaults' from '/Users/reuven/.pyenv/versions/3.12.1/lib/python3.12/site-packages/prompt_toolkit/key_binding/defaults.py'>,\n",
       " 'prompt_toolkit.key_binding.emacs_state': <module 'prompt_toolkit.key_binding.emacs_state' from '/Users/reuven/.pyenv/versions/3.12.1/lib/python3.12/site-packages/prompt_toolkit/key_binding/emacs_state.py'>,\n",
       " 'prompt_toolkit.layout.dummy': <module 'prompt_toolkit.layout.dummy' from '/Users/reuven/.pyenv/versions/3.12.1/lib/python3.12/site-packages/prompt_toolkit/layout/dummy.py'>,\n",
       " 'prompt_toolkit.renderer': <module 'prompt_toolkit.renderer' from '/Users/reuven/.pyenv/versions/3.12.1/lib/python3.12/site-packages/prompt_toolkit/renderer.py'>,\n",
       " 'prompt_toolkit.application.application': <module 'prompt_toolkit.application.application' from '/Users/reuven/.pyenv/versions/3.12.1/lib/python3.12/site-packages/prompt_toolkit/application/application.py'>,\n",
       " 'prompt_toolkit.application.dummy': <module 'prompt_toolkit.application.dummy' from '/Users/reuven/.pyenv/versions/3.12.1/lib/python3.12/site-packages/prompt_toolkit/application/dummy.py'>,\n",
       " 'prompt_toolkit.application': <module 'prompt_toolkit.application' from '/Users/reuven/.pyenv/versions/3.12.1/lib/python3.12/site-packages/prompt_toolkit/application/__init__.py'>,\n",
       " 'prompt_toolkit.key_binding.bindings.focus': <module 'prompt_toolkit.key_binding.bindings.focus' from '/Users/reuven/.pyenv/versions/3.12.1/lib/python3.12/site-packages/prompt_toolkit/key_binding/bindings/focus.py'>,\n",
       " 'prompt_toolkit.widgets.toolbars': <module 'prompt_toolkit.widgets.toolbars' from '/Users/reuven/.pyenv/versions/3.12.1/lib/python3.12/site-packages/prompt_toolkit/widgets/toolbars.py'>,\n",
       " 'prompt_toolkit.widgets.base': <module 'prompt_toolkit.widgets.base' from '/Users/reuven/.pyenv/versions/3.12.1/lib/python3.12/site-packages/prompt_toolkit/widgets/base.py'>,\n",
       " 'prompt_toolkit.widgets.dialogs': <module 'prompt_toolkit.widgets.dialogs' from '/Users/reuven/.pyenv/versions/3.12.1/lib/python3.12/site-packages/prompt_toolkit/widgets/dialogs.py'>,\n",
       " 'prompt_toolkit.widgets.menus': <module 'prompt_toolkit.widgets.menus' from '/Users/reuven/.pyenv/versions/3.12.1/lib/python3.12/site-packages/prompt_toolkit/widgets/menus.py'>,\n",
       " 'prompt_toolkit.widgets': <module 'prompt_toolkit.widgets' from '/Users/reuven/.pyenv/versions/3.12.1/lib/python3.12/site-packages/prompt_toolkit/widgets/__init__.py'>,\n",
       " 'prompt_toolkit.shortcuts.dialogs': <module 'prompt_toolkit.shortcuts.dialogs' from '/Users/reuven/.pyenv/versions/3.12.1/lib/python3.12/site-packages/prompt_toolkit/shortcuts/dialogs.py'>,\n",
       " 'prompt_toolkit.shortcuts.progress_bar.formatters': <module 'prompt_toolkit.shortcuts.progress_bar.formatters' from '/Users/reuven/.pyenv/versions/3.12.1/lib/python3.12/site-packages/prompt_toolkit/shortcuts/progress_bar/formatters.py'>,\n",
       " 'prompt_toolkit.shortcuts.progress_bar.base': <module 'prompt_toolkit.shortcuts.progress_bar.base' from '/Users/reuven/.pyenv/versions/3.12.1/lib/python3.12/site-packages/prompt_toolkit/shortcuts/progress_bar/base.py'>,\n",
       " 'prompt_toolkit.shortcuts.progress_bar': <module 'prompt_toolkit.shortcuts.progress_bar' from '/Users/reuven/.pyenv/versions/3.12.1/lib/python3.12/site-packages/prompt_toolkit/shortcuts/progress_bar/__init__.py'>,\n",
       " 'prompt_toolkit.key_binding.bindings.auto_suggest': <module 'prompt_toolkit.key_binding.bindings.auto_suggest' from '/Users/reuven/.pyenv/versions/3.12.1/lib/python3.12/site-packages/prompt_toolkit/key_binding/bindings/auto_suggest.py'>,\n",
       " 'prompt_toolkit.key_binding.bindings.open_in_editor': <module 'prompt_toolkit.key_binding.bindings.open_in_editor' from '/Users/reuven/.pyenv/versions/3.12.1/lib/python3.12/site-packages/prompt_toolkit/key_binding/bindings/open_in_editor.py'>,\n",
       " 'prompt_toolkit.shortcuts.prompt': <module 'prompt_toolkit.shortcuts.prompt' from '/Users/reuven/.pyenv/versions/3.12.1/lib/python3.12/site-packages/prompt_toolkit/shortcuts/prompt.py'>,\n",
       " 'prompt_toolkit.shortcuts.utils': <module 'prompt_toolkit.shortcuts.utils' from '/Users/reuven/.pyenv/versions/3.12.1/lib/python3.12/site-packages/prompt_toolkit/shortcuts/utils.py'>,\n",
       " 'prompt_toolkit.shortcuts': <module 'prompt_toolkit.shortcuts' from '/Users/reuven/.pyenv/versions/3.12.1/lib/python3.12/site-packages/prompt_toolkit/shortcuts/__init__.py'>,\n",
       " 'prompt_toolkit': <module 'prompt_toolkit' from '/Users/reuven/.pyenv/versions/3.12.1/lib/python3.12/site-packages/prompt_toolkit/__init__.py'>,\n",
       " 'prompt_toolkit.patch_stdout': <module 'prompt_toolkit.patch_stdout' from '/Users/reuven/.pyenv/versions/3.12.1/lib/python3.12/site-packages/prompt_toolkit/patch_stdout.py'>,\n",
       " 'unicodedata': <module 'unicodedata' from '/Users/reuven/.pyenv/versions/3.12.1/lib/python3.12/lib-dynload/unicodedata.cpython-312-darwin.so'>,\n",
       " 'IPython.core.guarded_eval': <module 'IPython.core.guarded_eval' from '/Users/reuven/.pyenv/versions/3.12.1/lib/python3.12/site-packages/IPython/core/guarded_eval.py'>,\n",
       " 'IPython.core.latex_symbols': <module 'IPython.core.latex_symbols' from '/Users/reuven/.pyenv/versions/3.12.1/lib/python3.12/site-packages/IPython/core/latex_symbols.py'>,\n",
       " 'IPython.utils.generics': <module 'IPython.utils.generics' from '/Users/reuven/.pyenv/versions/3.12.1/lib/python3.12/site-packages/IPython/utils/generics.py'>,\n",
       " 'parso.utils': <module 'parso.utils' from '/Users/reuven/.pyenv/versions/3.12.1/lib/python3.12/site-packages/parso/utils.py'>,\n",
       " 'parso.tree': <module 'parso.tree' from '/Users/reuven/.pyenv/versions/3.12.1/lib/python3.12/site-packages/parso/tree.py'>,\n",
       " 'parso.python': <module 'parso.python' from '/Users/reuven/.pyenv/versions/3.12.1/lib/python3.12/site-packages/parso/python/__init__.py'>,\n",
       " 'parso.python.token': <module 'parso.python.token' from '/Users/reuven/.pyenv/versions/3.12.1/lib/python3.12/site-packages/parso/python/token.py'>,\n",
       " 'parso.python.tokenize': <module 'parso.python.tokenize' from '/Users/reuven/.pyenv/versions/3.12.1/lib/python3.12/site-packages/parso/python/tokenize.py'>,\n",
       " 'parso.pgen2.grammar_parser': <module 'parso.pgen2.grammar_parser' from '/Users/reuven/.pyenv/versions/3.12.1/lib/python3.12/site-packages/parso/pgen2/grammar_parser.py'>,\n",
       " 'parso.pgen2.generator': <module 'parso.pgen2.generator' from '/Users/reuven/.pyenv/versions/3.12.1/lib/python3.12/site-packages/parso/pgen2/generator.py'>,\n",
       " 'parso.pgen2': <module 'parso.pgen2' from '/Users/reuven/.pyenv/versions/3.12.1/lib/python3.12/site-packages/parso/pgen2/__init__.py'>,\n",
       " 'parso.parser': <module 'parso.parser' from '/Users/reuven/.pyenv/versions/3.12.1/lib/python3.12/site-packages/parso/parser.py'>,\n",
       " 'parso._compatibility': <module 'parso._compatibility' from '/Users/reuven/.pyenv/versions/3.12.1/lib/python3.12/site-packages/parso/_compatibility.py'>,\n",
       " 'difflib': <module 'difflib' from '/Users/reuven/.pyenv/versions/3.12.1/lib/python3.12/difflib.py'>,\n",
       " 'parso.python.prefix': <module 'parso.python.prefix' from '/Users/reuven/.pyenv/versions/3.12.1/lib/python3.12/site-packages/parso/python/prefix.py'>,\n",
       " 'parso.python.tree': <module 'parso.python.tree' from '/Users/reuven/.pyenv/versions/3.12.1/lib/python3.12/site-packages/parso/python/tree.py'>,\n",
       " 'parso.python.parser': <module 'parso.python.parser' from '/Users/reuven/.pyenv/versions/3.12.1/lib/python3.12/site-packages/parso/python/parser.py'>,\n",
       " 'parso.python.diff': <module 'parso.python.diff' from '/Users/reuven/.pyenv/versions/3.12.1/lib/python3.12/site-packages/parso/python/diff.py'>,\n",
       " 'gc': <module 'gc' (built-in)>,\n",
       " 'parso.cache': <module 'parso.cache' from '/Users/reuven/.pyenv/versions/3.12.1/lib/python3.12/site-packages/parso/cache.py'>,\n",
       " 'parso.normalizer': <module 'parso.normalizer' from '/Users/reuven/.pyenv/versions/3.12.1/lib/python3.12/site-packages/parso/normalizer.py'>,\n",
       " 'parso.python.errors': <module 'parso.python.errors' from '/Users/reuven/.pyenv/versions/3.12.1/lib/python3.12/site-packages/parso/python/errors.py'>,\n",
       " 'parso.python.pep8': <module 'parso.python.pep8' from '/Users/reuven/.pyenv/versions/3.12.1/lib/python3.12/site-packages/parso/python/pep8.py'>,\n",
       " 'parso.file_io': <module 'parso.file_io' from '/Users/reuven/.pyenv/versions/3.12.1/lib/python3.12/site-packages/parso/file_io.py'>,\n",
       " 'parso.grammar': <module 'parso.grammar' from '/Users/reuven/.pyenv/versions/3.12.1/lib/python3.12/site-packages/parso/grammar.py'>,\n",
       " 'parso': <module 'parso' from '/Users/reuven/.pyenv/versions/3.12.1/lib/python3.12/site-packages/parso/__init__.py'>,\n",
       " 'jedi.parser_utils': <module 'jedi.parser_utils' from '/Users/reuven/.pyenv/versions/3.12.1/lib/python3.12/site-packages/jedi/parser_utils.py'>,\n",
       " 'jedi.debug': <module 'jedi.debug' from '/Users/reuven/.pyenv/versions/3.12.1/lib/python3.12/site-packages/jedi/debug.py'>,\n",
       " 'jedi.settings': <module 'jedi.settings' from '/Users/reuven/.pyenv/versions/3.12.1/lib/python3.12/site-packages/jedi/settings.py'>,\n",
       " 'jedi.cache': <module 'jedi.cache' from '/Users/reuven/.pyenv/versions/3.12.1/lib/python3.12/site-packages/jedi/cache.py'>,\n",
       " 'jedi.file_io': <module 'jedi.file_io' from '/Users/reuven/.pyenv/versions/3.12.1/lib/python3.12/site-packages/jedi/file_io.py'>,\n",
       " 'jedi.inference.cache': <module 'jedi.inference.cache' from '/Users/reuven/.pyenv/versions/3.12.1/lib/python3.12/site-packages/jedi/inference/cache.py'>,\n",
       " 'jedi.inference.helpers': <module 'jedi.inference.helpers' from '/Users/reuven/.pyenv/versions/3.12.1/lib/python3.12/site-packages/jedi/inference/helpers.py'>,\n",
       " 'jedi.inference.utils': <module 'jedi.inference.utils' from '/Users/reuven/.pyenv/versions/3.12.1/lib/python3.12/site-packages/jedi/inference/utils.py'>,\n",
       " 'jedi.inference.base_value': <module 'jedi.inference.base_value' from '/Users/reuven/.pyenv/versions/3.12.1/lib/python3.12/site-packages/jedi/inference/base_value.py'>,\n",
       " 'jedi.inference.sys_path': <module 'jedi.inference.sys_path' from '/Users/reuven/.pyenv/versions/3.12.1/lib/python3.12/site-packages/jedi/inference/sys_path.py'>,\n",
       " 'jedi.inference.recursion': <module 'jedi.inference.recursion' from '/Users/reuven/.pyenv/versions/3.12.1/lib/python3.12/site-packages/jedi/inference/recursion.py'>,\n",
       " 'jedi.inference.flow_analysis': <module 'jedi.inference.flow_analysis' from '/Users/reuven/.pyenv/versions/3.12.1/lib/python3.12/site-packages/jedi/inference/flow_analysis.py'>,\n",
       " 'jedi.common': <module 'jedi.common' from '/Users/reuven/.pyenv/versions/3.12.1/lib/python3.12/site-packages/jedi/common.py'>,\n",
       " 'jedi.inference.lazy_value': <module 'jedi.inference.lazy_value' from '/Users/reuven/.pyenv/versions/3.12.1/lib/python3.12/site-packages/jedi/inference/lazy_value.py'>,\n",
       " 'jedi.inference.docstrings': <module 'jedi.inference.docstrings' from '/Users/reuven/.pyenv/versions/3.12.1/lib/python3.12/site-packages/jedi/inference/docstrings.py'>,\n",
       " 'jedi.plugins': <module 'jedi.plugins' from '/Users/reuven/.pyenv/versions/3.12.1/lib/python3.12/site-packages/jedi/plugins/__init__.py'>,\n",
       " 'jedi.inference.names': <module 'jedi.inference.names' from '/Users/reuven/.pyenv/versions/3.12.1/lib/python3.12/site-packages/jedi/inference/names.py'>,\n",
       " 'jedi.inference.filters': <module 'jedi.inference.filters' from '/Users/reuven/.pyenv/versions/3.12.1/lib/python3.12/site-packages/jedi/inference/filters.py'>,\n",
       " 'jedi.inference.compiled.getattr_static': <module 'jedi.inference.compiled.getattr_static' from '/Users/reuven/.pyenv/versions/3.12.1/lib/python3.12/site-packages/jedi/inference/compiled/getattr_static.py'>,\n",
       " 'jedi.inference.compiled.access': <module 'jedi.inference.compiled.access' from '/Users/reuven/.pyenv/versions/3.12.1/lib/python3.12/site-packages/jedi/inference/compiled/access.py'>,\n",
       " 'jedi.inference.signature': <module 'jedi.inference.signature' from '/Users/reuven/.pyenv/versions/3.12.1/lib/python3.12/site-packages/jedi/inference/signature.py'>,\n",
       " 'jedi.inference.context': <module 'jedi.inference.context' from '/Users/reuven/.pyenv/versions/3.12.1/lib/python3.12/site-packages/jedi/inference/context.py'>,\n",
       " 'jedi.inference.compiled.value': <module 'jedi.inference.compiled.value' from '/Users/reuven/.pyenv/versions/3.12.1/lib/python3.12/site-packages/jedi/inference/compiled/value.py'>,\n",
       " 'jedi.inference.compiled': <module 'jedi.inference.compiled' from '/Users/reuven/.pyenv/versions/3.12.1/lib/python3.12/site-packages/jedi/inference/compiled/__init__.py'>,\n",
       " 'jedi.inference.analysis': <module 'jedi.inference.analysis' from '/Users/reuven/.pyenv/versions/3.12.1/lib/python3.12/site-packages/jedi/inference/analysis.py'>,\n",
       " 'jedi.inference.gradual': <module 'jedi.inference.gradual' from '/Users/reuven/.pyenv/versions/3.12.1/lib/python3.12/site-packages/jedi/inference/gradual/__init__.py'>,\n",
       " 'jedi.inference.value.module': <module 'jedi.inference.value.module' from '/Users/reuven/.pyenv/versions/3.12.1/lib/python3.12/site-packages/jedi/inference/value/module.py'>,\n",
       " 'jedi.inference.value.dynamic_arrays': <module 'jedi.inference.value.dynamic_arrays' from '/Users/reuven/.pyenv/versions/3.12.1/lib/python3.12/site-packages/jedi/inference/value/dynamic_arrays.py'>,\n",
       " 'jedi.inference.value.iterable': <module 'jedi.inference.value.iterable' from '/Users/reuven/.pyenv/versions/3.12.1/lib/python3.12/site-packages/jedi/inference/value/iterable.py'>,\n",
       " 'jedi.inference.arguments': <module 'jedi.inference.arguments' from '/Users/reuven/.pyenv/versions/3.12.1/lib/python3.12/site-packages/jedi/inference/arguments.py'>,\n",
       " 'jedi.inference.parser_cache': <module 'jedi.inference.parser_cache' from '/Users/reuven/.pyenv/versions/3.12.1/lib/python3.12/site-packages/jedi/inference/parser_cache.py'>,\n",
       " 'jedi.inference.gradual.generics': <module 'jedi.inference.gradual.generics' from '/Users/reuven/.pyenv/versions/3.12.1/lib/python3.12/site-packages/jedi/inference/gradual/generics.py'>,\n",
       " 'jedi.inference.value.function': <module 'jedi.inference.value.function' from '/Users/reuven/.pyenv/versions/3.12.1/lib/python3.12/site-packages/jedi/inference/value/function.py'>,\n",
       " 'jedi.inference.value.klass': <module 'jedi.inference.value.klass' from '/Users/reuven/.pyenv/versions/3.12.1/lib/python3.12/site-packages/jedi/inference/value/klass.py'>,\n",
       " 'jedi.inference.value.instance': <module 'jedi.inference.value.instance' from '/Users/reuven/.pyenv/versions/3.12.1/lib/python3.12/site-packages/jedi/inference/value/instance.py'>,\n",
       " 'jedi.inference.value': <module 'jedi.inference.value' from '/Users/reuven/.pyenv/versions/3.12.1/lib/python3.12/site-packages/jedi/inference/value/__init__.py'>,\n",
       " 'jedi.inference.gradual.base': <module 'jedi.inference.gradual.base' from '/Users/reuven/.pyenv/versions/3.12.1/lib/python3.12/site-packages/jedi/inference/gradual/base.py'>,\n",
       " 'jedi.inference.gradual.type_var': <module 'jedi.inference.gradual.type_var' from '/Users/reuven/.pyenv/versions/3.12.1/lib/python3.12/site-packages/jedi/inference/gradual/type_var.py'>,\n",
       " 'jedi.inference.gradual.typing': <module 'jedi.inference.gradual.typing' from '/Users/reuven/.pyenv/versions/3.12.1/lib/python3.12/site-packages/jedi/inference/gradual/typing.py'>,\n",
       " 'jedi.inference.gradual.stub_value': <module 'jedi.inference.gradual.stub_value' from '/Users/reuven/.pyenv/versions/3.12.1/lib/python3.12/site-packages/jedi/inference/gradual/stub_value.py'>,\n",
       " 'jedi.inference.gradual.typeshed': <module 'jedi.inference.gradual.typeshed' from '/Users/reuven/.pyenv/versions/3.12.1/lib/python3.12/site-packages/jedi/inference/gradual/typeshed.py'>,\n",
       " 'jedi._compatibility': <module 'jedi._compatibility' from '/Users/reuven/.pyenv/versions/3.12.1/lib/python3.12/site-packages/jedi/_compatibility.py'>,\n",
       " 'jedi.inference.compiled.subprocess.functions': <module 'jedi.inference.compiled.subprocess.functions' from '/Users/reuven/.pyenv/versions/3.12.1/lib/python3.12/site-packages/jedi/inference/compiled/subprocess/functions.py'>,\n",
       " 'jedi.api.exceptions': <module 'jedi.api.exceptions' from '/Users/reuven/.pyenv/versions/3.12.1/lib/python3.12/site-packages/jedi/api/exceptions.py'>,\n",
       " 'jedi.inference.compiled.subprocess': <module 'jedi.inference.compiled.subprocess' from '/Users/reuven/.pyenv/versions/3.12.1/lib/python3.12/site-packages/jedi/inference/compiled/subprocess/__init__.py'>,\n",
       " 'jedi.inference.imports': <module 'jedi.inference.imports' from '/Users/reuven/.pyenv/versions/3.12.1/lib/python3.12/site-packages/jedi/inference/imports.py'>,\n",
       " 'jedi.inference.param': <module 'jedi.inference.param' from '/Users/reuven/.pyenv/versions/3.12.1/lib/python3.12/site-packages/jedi/inference/param.py'>,\n",
       " 'jedi.inference.gradual.annotation': <module 'jedi.inference.gradual.annotation' from '/Users/reuven/.pyenv/versions/3.12.1/lib/python3.12/site-packages/jedi/inference/gradual/annotation.py'>,\n",
       " 'jedi.inference.value.decorator': <module 'jedi.inference.value.decorator' from '/Users/reuven/.pyenv/versions/3.12.1/lib/python3.12/site-packages/jedi/inference/value/decorator.py'>,\n",
       " 'jedi.inference.syntax_tree': <module 'jedi.inference.syntax_tree' from '/Users/reuven/.pyenv/versions/3.12.1/lib/python3.12/site-packages/jedi/inference/syntax_tree.py'>,\n",
       " 'jedi.inference': <module 'jedi.inference' from '/Users/reuven/.pyenv/versions/3.12.1/lib/python3.12/site-packages/jedi/inference/__init__.py'>,\n",
       " 'jedi.inference.gradual.conversion': <module 'jedi.inference.gradual.conversion' from '/Users/reuven/.pyenv/versions/3.12.1/lib/python3.12/site-packages/jedi/inference/gradual/conversion.py'>,\n",
       " 'jedi.inference.compiled.mixed': <module 'jedi.inference.compiled.mixed' from '/Users/reuven/.pyenv/versions/3.12.1/lib/python3.12/site-packages/jedi/inference/compiled/mixed.py'>,\n",
       " 'pydoc_data': <module 'pydoc_data' from '/Users/reuven/.pyenv/versions/3.12.1/lib/python3.12/pydoc_data/__init__.py'>,\n",
       " 'pydoc_data.topics': <module 'pydoc_data.topics' from '/Users/reuven/.pyenv/versions/3.12.1/lib/python3.12/pydoc_data/topics.py'>,\n",
       " 'jedi.api.keywords': <module 'jedi.api.keywords' from '/Users/reuven/.pyenv/versions/3.12.1/lib/python3.12/site-packages/jedi/api/keywords.py'>,\n",
       " 'jedi.api.completion_cache': <module 'jedi.api.completion_cache' from '/Users/reuven/.pyenv/versions/3.12.1/lib/python3.12/site-packages/jedi/api/completion_cache.py'>,\n",
       " 'jedi.api.helpers': <module 'jedi.api.helpers' from '/Users/reuven/.pyenv/versions/3.12.1/lib/python3.12/site-packages/jedi/api/helpers.py'>,\n",
       " 'jedi.api.classes': <module 'jedi.api.classes' from '/Users/reuven/.pyenv/versions/3.12.1/lib/python3.12/site-packages/jedi/api/classes.py'>,\n",
       " 'jedi.api.interpreter': <module 'jedi.api.interpreter' from '/Users/reuven/.pyenv/versions/3.12.1/lib/python3.12/site-packages/jedi/api/interpreter.py'>,\n",
       " 'jedi.api.strings': <module 'jedi.api.strings' from '/Users/reuven/.pyenv/versions/3.12.1/lib/python3.12/site-packages/jedi/api/strings.py'>,\n",
       " 'jedi.api.file_name': <module 'jedi.api.file_name' from '/Users/reuven/.pyenv/versions/3.12.1/lib/python3.12/site-packages/jedi/api/file_name.py'>,\n",
       " 'jedi.inference.docstring_utils': <module 'jedi.inference.docstring_utils' from '/Users/reuven/.pyenv/versions/3.12.1/lib/python3.12/site-packages/jedi/inference/docstring_utils.py'>,\n",
       " 'jedi.api.completion': <module 'jedi.api.completion' from '/Users/reuven/.pyenv/versions/3.12.1/lib/python3.12/site-packages/jedi/api/completion.py'>,\n",
       " 'filecmp': <module 'filecmp' from '/Users/reuven/.pyenv/versions/3.12.1/lib/python3.12/filecmp.py'>,\n",
       " 'jedi.api.environment': <module 'jedi.api.environment' from '/Users/reuven/.pyenv/versions/3.12.1/lib/python3.12/site-packages/jedi/api/environment.py'>,\n",
       " 'jedi.inference.references': <module 'jedi.inference.references' from '/Users/reuven/.pyenv/versions/3.12.1/lib/python3.12/site-packages/jedi/inference/references.py'>,\n",
       " 'jedi.api.project': <module 'jedi.api.project' from '/Users/reuven/.pyenv/versions/3.12.1/lib/python3.12/site-packages/jedi/api/project.py'>,\n",
       " 'jedi.api.errors': <module 'jedi.api.errors' from '/Users/reuven/.pyenv/versions/3.12.1/lib/python3.12/site-packages/jedi/api/errors.py'>,\n",
       " 'jedi.inference.value.namespace': <module 'jedi.inference.value.namespace' from '/Users/reuven/.pyenv/versions/3.12.1/lib/python3.12/site-packages/jedi/inference/value/namespace.py'>,\n",
       " 'jedi.api.refactoring': <module 'jedi.api.refactoring' from '/Users/reuven/.pyenv/versions/3.12.1/lib/python3.12/site-packages/jedi/api/refactoring/__init__.py'>,\n",
       " 'jedi.api.refactoring.extract': <module 'jedi.api.refactoring.extract' from '/Users/reuven/.pyenv/versions/3.12.1/lib/python3.12/site-packages/jedi/api/refactoring/extract.py'>,\n",
       " 'jedi.inference.gradual.utils': <module 'jedi.inference.gradual.utils' from '/Users/reuven/.pyenv/versions/3.12.1/lib/python3.12/site-packages/jedi/inference/gradual/utils.py'>,\n",
       " 'jedi.api': <module 'jedi.api' from '/Users/reuven/.pyenv/versions/3.12.1/lib/python3.12/site-packages/jedi/api/__init__.py'>,\n",
       " 'jedi.plugins.stdlib': <module 'jedi.plugins.stdlib' from '/Users/reuven/.pyenv/versions/3.12.1/lib/python3.12/site-packages/jedi/plugins/stdlib.py'>,\n",
       " 'jedi.plugins.flask': <module 'jedi.plugins.flask' from '/Users/reuven/.pyenv/versions/3.12.1/lib/python3.12/site-packages/jedi/plugins/flask.py'>,\n",
       " 'jedi.plugins.pytest': <module 'jedi.plugins.pytest' from '/Users/reuven/.pyenv/versions/3.12.1/lib/python3.12/site-packages/jedi/plugins/pytest.py'>,\n",
       " 'jedi.plugins.django': <module 'jedi.plugins.django' from '/Users/reuven/.pyenv/versions/3.12.1/lib/python3.12/site-packages/jedi/plugins/django.py'>,\n",
       " 'jedi.plugins.registry': <module 'jedi.plugins.registry' from '/Users/reuven/.pyenv/versions/3.12.1/lib/python3.12/site-packages/jedi/plugins/registry.py'>,\n",
       " 'jedi': <module 'jedi' from '/Users/reuven/.pyenv/versions/3.12.1/lib/python3.12/site-packages/jedi/__init__.py'>,\n",
       " 'IPython.core.completer': <module 'IPython.core.completer' from '/Users/reuven/.pyenv/versions/3.12.1/lib/python3.12/site-packages/IPython/core/completer.py'>,\n",
       " 'IPython.terminal.ptutils': <module 'IPython.terminal.ptutils' from '/Users/reuven/.pyenv/versions/3.12.1/lib/python3.12/site-packages/IPython/terminal/ptutils.py'>,\n",
       " 'IPython.terminal.shortcuts.auto_match': <module 'IPython.terminal.shortcuts.auto_match' from '/Users/reuven/.pyenv/versions/3.12.1/lib/python3.12/site-packages/IPython/terminal/shortcuts/auto_match.py'>,\n",
       " 'IPython.terminal.shortcuts.filters': <module 'IPython.terminal.shortcuts.filters' from '/Users/reuven/.pyenv/versions/3.12.1/lib/python3.12/site-packages/IPython/terminal/shortcuts/filters.py'>,\n",
       " 'IPython.terminal.shortcuts.auto_suggest': <module 'IPython.terminal.shortcuts.auto_suggest' from '/Users/reuven/.pyenv/versions/3.12.1/lib/python3.12/site-packages/IPython/terminal/shortcuts/auto_suggest.py'>,\n",
       " 'IPython.terminal.shortcuts': <module 'IPython.terminal.shortcuts' from '/Users/reuven/.pyenv/versions/3.12.1/lib/python3.12/site-packages/IPython/terminal/shortcuts/__init__.py'>,\n",
       " 'concurrent.futures.thread': <module 'concurrent.futures.thread' from '/Users/reuven/.pyenv/versions/3.12.1/lib/python3.12/concurrent/futures/thread.py'>,\n",
       " 'IPython.terminal.debugger': <module 'IPython.terminal.debugger' from '/Users/reuven/.pyenv/versions/3.12.1/lib/python3.12/site-packages/IPython/terminal/debugger.py'>,\n",
       " 'IPython.lib.clipboard': <module 'IPython.lib.clipboard' from '/Users/reuven/.pyenv/versions/3.12.1/lib/python3.12/site-packages/IPython/lib/clipboard.py'>,\n",
       " 'IPython.terminal.magics': <module 'IPython.terminal.magics' from '/Users/reuven/.pyenv/versions/3.12.1/lib/python3.12/site-packages/IPython/terminal/magics.py'>,\n",
       " 'IPython.terminal.pt_inputhooks': <module 'IPython.terminal.pt_inputhooks' from '/Users/reuven/.pyenv/versions/3.12.1/lib/python3.12/site-packages/IPython/terminal/pt_inputhooks/__init__.py'>,\n",
       " 'IPython.terminal.prompts': <module 'IPython.terminal.prompts' from '/Users/reuven/.pyenv/versions/3.12.1/lib/python3.12/site-packages/IPython/terminal/prompts.py'>,\n",
       " 'IPython.terminal.interactiveshell': <module 'IPython.terminal.interactiveshell' from '/Users/reuven/.pyenv/versions/3.12.1/lib/python3.12/site-packages/IPython/terminal/interactiveshell.py'>,\n",
       " 'IPython.core.magics.auto': <module 'IPython.core.magics.auto' from '/Users/reuven/.pyenv/versions/3.12.1/lib/python3.12/site-packages/IPython/core/magics/auto.py'>,\n",
       " 'IPython.core.magics.basic': <module 'IPython.core.magics.basic' from '/Users/reuven/.pyenv/versions/3.12.1/lib/python3.12/site-packages/IPython/core/magics/basic.py'>,\n",
       " 'http': <module 'http' from '/Users/reuven/.pyenv/versions/3.12.1/lib/python3.12/http/__init__.py'>,\n",
       " 'email.feedparser': <module 'email.feedparser' from '/Users/reuven/.pyenv/versions/3.12.1/lib/python3.12/email/feedparser.py'>,\n",
       " 'email.parser': <module 'email.parser' from '/Users/reuven/.pyenv/versions/3.12.1/lib/python3.12/email/parser.py'>,\n",
       " 'http.client': <module 'http.client' from '/Users/reuven/.pyenv/versions/3.12.1/lib/python3.12/http/client.py'>,\n",
       " 'urllib.response': <module 'urllib.response' from '/Users/reuven/.pyenv/versions/3.12.1/lib/python3.12/urllib/response.py'>,\n",
       " 'urllib.error': <module 'urllib.error' from '/Users/reuven/.pyenv/versions/3.12.1/lib/python3.12/urllib/error.py'>,\n",
       " '_scproxy': <module '_scproxy' from '/Users/reuven/.pyenv/versions/3.12.1/lib/python3.12/lib-dynload/_scproxy.cpython-312-darwin.so'>,\n",
       " 'urllib.request': <module 'urllib.request' from '/Users/reuven/.pyenv/versions/3.12.1/lib/python3.12/urllib/request.py'>,\n",
       " 'IPython.utils.contexts': <module 'IPython.utils.contexts' from '/Users/reuven/.pyenv/versions/3.12.1/lib/python3.12/site-packages/IPython/utils/contexts.py'>,\n",
       " 'IPython.core.magics.code': <module 'IPython.core.magics.code' from '/Users/reuven/.pyenv/versions/3.12.1/lib/python3.12/site-packages/IPython/core/magics/code.py'>,\n",
       " 'IPython.core.magics.config': <module 'IPython.core.magics.config' from '/Users/reuven/.pyenv/versions/3.12.1/lib/python3.12/site-packages/IPython/core/magics/config.py'>,\n",
       " 'IPython.core.magics.display': <module 'IPython.core.magics.display' from '/Users/reuven/.pyenv/versions/3.12.1/lib/python3.12/site-packages/IPython/core/magics/display.py'>,\n",
       " '_lsprof': <module '_lsprof' from '/Users/reuven/.pyenv/versions/3.12.1/lib/python3.12/lib-dynload/_lsprof.cpython-312-darwin.so'>,\n",
       " 'profile': <module 'profile' from '/Users/reuven/.pyenv/versions/3.12.1/lib/python3.12/profile.py'>,\n",
       " 'cProfile': <module 'cProfile' from '/Users/reuven/.pyenv/versions/3.12.1/lib/python3.12/cProfile.py'>,\n",
       " 'pstats': <module 'pstats' from '/Users/reuven/.pyenv/versions/3.12.1/lib/python3.12/pstats.py'>,\n",
       " 'timeit': <module 'timeit' from '/Users/reuven/.pyenv/versions/3.12.1/lib/python3.12/timeit.py'>,\n",
       " 'IPython.utils.module_paths': <module 'IPython.utils.module_paths' from '/Users/reuven/.pyenv/versions/3.12.1/lib/python3.12/site-packages/IPython/utils/module_paths.py'>,\n",
       " 'IPython.utils.timing': <module 'IPython.utils.timing' from '/Users/reuven/.pyenv/versions/3.12.1/lib/python3.12/site-packages/IPython/utils/timing.py'>,\n",
       " 'IPython.core.magics.ast_mod': <module 'IPython.core.magics.ast_mod' from '/Users/reuven/.pyenv/versions/3.12.1/lib/python3.12/site-packages/IPython/core/magics/ast_mod.py'>,\n",
       " 'IPython.core.magics.execution': <module 'IPython.core.magics.execution' from '/Users/reuven/.pyenv/versions/3.12.1/lib/python3.12/site-packages/IPython/core/magics/execution.py'>,\n",
       " 'IPython.core.magics.extension': <module 'IPython.core.magics.extension' from '/Users/reuven/.pyenv/versions/3.12.1/lib/python3.12/site-packages/IPython/core/magics/extension.py'>,\n",
       " 'IPython.core.magics.history': <module 'IPython.core.magics.history' from '/Users/reuven/.pyenv/versions/3.12.1/lib/python3.12/site-packages/IPython/core/magics/history.py'>,\n",
       " 'IPython.core.magics.logging': <module 'IPython.core.magics.logging' from '/Users/reuven/.pyenv/versions/3.12.1/lib/python3.12/site-packages/IPython/core/magics/logging.py'>,\n",
       " 'IPython.core.magics.namespace': <module 'IPython.core.magics.namespace' from '/Users/reuven/.pyenv/versions/3.12.1/lib/python3.12/site-packages/IPython/core/magics/namespace.py'>,\n",
       " 'IPython.core.magics.osm': <module 'IPython.core.magics.osm' from '/Users/reuven/.pyenv/versions/3.12.1/lib/python3.12/site-packages/IPython/core/magics/osm.py'>,\n",
       " 'IPython.core.magics.packaging': <module 'IPython.core.magics.packaging' from '/Users/reuven/.pyenv/versions/3.12.1/lib/python3.12/site-packages/IPython/core/magics/packaging.py'>,\n",
       " 'IPython.core.pylabtools': <module 'IPython.core.pylabtools' from '/Users/reuven/.pyenv/versions/3.12.1/lib/python3.12/site-packages/IPython/core/pylabtools.py'>,\n",
       " 'IPython.core.magics.pylab': <module 'IPython.core.magics.pylab' from '/Users/reuven/.pyenv/versions/3.12.1/lib/python3.12/site-packages/IPython/core/magics/pylab.py'>,\n",
       " 'IPython.core.magics.script': <module 'IPython.core.magics.script' from '/Users/reuven/.pyenv/versions/3.12.1/lib/python3.12/site-packages/IPython/core/magics/script.py'>,\n",
       " 'IPython.core.magics': <module 'IPython.core.magics' from '/Users/reuven/.pyenv/versions/3.12.1/lib/python3.12/site-packages/IPython/core/magics/__init__.py'>,\n",
       " 'IPython.core.shellapp': <module 'IPython.core.shellapp' from '/Users/reuven/.pyenv/versions/3.12.1/lib/python3.12/site-packages/IPython/core/shellapp.py'>,\n",
       " 'IPython.extensions': <module 'IPython.extensions' from '/Users/reuven/.pyenv/versions/3.12.1/lib/python3.12/site-packages/IPython/extensions/__init__.py'>,\n",
       " 'IPython.extensions.storemagic': <module 'IPython.extensions.storemagic' from '/Users/reuven/.pyenv/versions/3.12.1/lib/python3.12/site-packages/IPython/extensions/storemagic.py'>,\n",
       " 'IPython.terminal.ipapp': <module 'IPython.terminal.ipapp' from '/Users/reuven/.pyenv/versions/3.12.1/lib/python3.12/site-packages/IPython/terminal/ipapp.py'>,\n",
       " 'IPython.terminal.embed': <module 'IPython.terminal.embed' from '/Users/reuven/.pyenv/versions/3.12.1/lib/python3.12/site-packages/IPython/terminal/embed.py'>,\n",
       " 'IPython.utils.frame': <module 'IPython.utils.frame' from '/Users/reuven/.pyenv/versions/3.12.1/lib/python3.12/site-packages/IPython/utils/frame.py'>,\n",
       " 'IPython': <module 'IPython' from '/Users/reuven/.pyenv/versions/3.12.1/lib/python3.12/site-packages/IPython/__init__.py'>,\n",
       " 'ipykernel.control': <module 'ipykernel.control' from '/Users/reuven/.pyenv/versions/3.12.1/lib/python3.12/site-packages/ipykernel/control.py'>,\n",
       " 'ipykernel.heartbeat': <module 'ipykernel.heartbeat' from '/Users/reuven/.pyenv/versions/3.12.1/lib/python3.12/site-packages/ipykernel/heartbeat.py'>,\n",
       " 'ipykernel.iostream': <module 'ipykernel.iostream' from '/Users/reuven/.pyenv/versions/3.12.1/lib/python3.12/site-packages/ipykernel/iostream.py'>,\n",
       " 'comm.base_comm': <module 'comm.base_comm' from '/Users/reuven/.pyenv/versions/3.12.1/lib/python3.12/site-packages/comm/base_comm.py'>,\n",
       " 'comm': <module 'comm' from '/Users/reuven/.pyenv/versions/3.12.1/lib/python3.12/site-packages/comm/__init__.py'>,\n",
       " 'ipykernel.jsonutil': <module 'ipykernel.jsonutil' from '/Users/reuven/.pyenv/versions/3.12.1/lib/python3.12/site-packages/ipykernel/jsonutil.py'>,\n",
       " 'pwd': <module 'pwd' (built-in)>,\n",
       " 'psutil._common': <module 'psutil._common' from '/Users/reuven/.pyenv/versions/3.12.1/lib/python3.12/site-packages/psutil/_common.py'>,\n",
       " 'psutil._compat': <module 'psutil._compat' from '/Users/reuven/.pyenv/versions/3.12.1/lib/python3.12/site-packages/psutil/_compat.py'>,\n",
       " 'psutil._psutil_osx': <module 'psutil._psutil_osx' from '/Users/reuven/.pyenv/versions/3.12.1/lib/python3.12/site-packages/psutil/_psutil_osx.abi3.so'>,\n",
       " 'psutil._psposix': <module 'psutil._psposix' from '/Users/reuven/.pyenv/versions/3.12.1/lib/python3.12/site-packages/psutil/_psposix.py'>,\n",
       " 'psutil._psutil_posix': <module 'psutil._psutil_posix' from '/Users/reuven/.pyenv/versions/3.12.1/lib/python3.12/site-packages/psutil/_psutil_posix.abi3.so'>,\n",
       " 'psutil._psosx': <module 'psutil._psosx' from '/Users/reuven/.pyenv/versions/3.12.1/lib/python3.12/site-packages/psutil/_psosx.py'>,\n",
       " 'psutil': <module 'psutil' from '/Users/reuven/.pyenv/versions/3.12.1/lib/python3.12/site-packages/psutil/__init__.py'>,\n",
       " 'tornado.gen': <module 'tornado.gen' from '/Users/reuven/.pyenv/versions/3.12.1/lib/python3.12/site-packages/tornado/gen.py'>,\n",
       " 'tornado.locks': <module 'tornado.locks' from '/Users/reuven/.pyenv/versions/3.12.1/lib/python3.12/site-packages/tornado/locks.py'>,\n",
       " 'tornado.queues': <module 'tornado.queues' from '/Users/reuven/.pyenv/versions/3.12.1/lib/python3.12/site-packages/tornado/queues.py'>,\n",
       " 'ipykernel.kernelbase': <module 'ipykernel.kernelbase' from '/Users/reuven/.pyenv/versions/3.12.1/lib/python3.12/site-packages/ipykernel/kernelbase.py'>,\n",
       " 'ipykernel.comm.comm': <module 'ipykernel.comm.comm' from '/Users/reuven/.pyenv/versions/3.12.1/lib/python3.12/site-packages/ipykernel/comm/comm.py'>,\n",
       " 'ipykernel.comm.manager': <module 'ipykernel.comm.manager' from '/Users/reuven/.pyenv/versions/3.12.1/lib/python3.12/site-packages/ipykernel/comm/manager.py'>,\n",
       " 'ipykernel.comm': <module 'ipykernel.comm' from '/Users/reuven/.pyenv/versions/3.12.1/lib/python3.12/site-packages/ipykernel/comm/__init__.py'>,\n",
       " 'ipykernel.compiler': <module 'ipykernel.compiler' from '/Users/reuven/.pyenv/versions/3.12.1/lib/python3.12/site-packages/ipykernel/compiler.py'>,\n",
       " 'debugpy._version': <module 'debugpy._version' from '/Users/reuven/.pyenv/versions/3.12.1/lib/python3.12/site-packages/debugpy/_version.py'>,\n",
       " 'debugpy.public_api': <module 'debugpy.public_api' from '/Users/reuven/.pyenv/versions/3.12.1/lib/python3.12/site-packages/debugpy/public_api.py'>,\n",
       " 'debugpy': <module 'debugpy' from '/Users/reuven/.pyenv/versions/3.12.1/lib/python3.12/site-packages/debugpy/__init__.py'>,\n",
       " 'debugpy._vendored._util': <module 'debugpy._vendored._util' from '/Users/reuven/.pyenv/versions/3.12.1/lib/python3.12/site-packages/debugpy/_vendored/_util.py'>,\n",
       " 'debugpy._vendored': <module 'debugpy._vendored' from '/Users/reuven/.pyenv/versions/3.12.1/lib/python3.12/site-packages/debugpy/_vendored/__init__.py'>,\n",
       " '_pydevd_bundle': <module '_pydevd_bundle' from '/Users/reuven/.pyenv/versions/3.12.1/lib/python3.12/site-packages/debugpy/_vendored/pydevd/_pydevd_bundle/__init__.py'>,\n",
       " 'encodings.ascii': <module 'encodings.ascii' from '/Users/reuven/.pyenv/versions/3.12.1/lib/python3.12/encodings/ascii.py'>,\n",
       " 'encodings.latin_1': <module 'encodings.latin_1' from '/Users/reuven/.pyenv/versions/3.12.1/lib/python3.12/encodings/latin_1.py'>,\n",
       " 'stringprep': <module 'stringprep' from '/Users/reuven/.pyenv/versions/3.12.1/lib/python3.12/stringprep.py'>,\n",
       " 'encodings.idna': <module 'encodings.idna' from '/Users/reuven/.pyenv/versions/3.12.1/lib/python3.12/encodings/idna.py'>,\n",
       " '_pydevd_bundle.pydevd_vm_type': <module '_pydevd_bundle.pydevd_vm_type' from '/Users/reuven/.pyenv/versions/3.12.1/lib/python3.12/site-packages/debugpy/_vendored/pydevd/_pydevd_bundle/pydevd_vm_type.py'>,\n",
       " '_pydev_bundle': <module '_pydev_bundle' from '/Users/reuven/.pyenv/versions/3.12.1/lib/python3.12/site-packages/debugpy/_vendored/pydevd/_pydev_bundle/__init__.py'>,\n",
       " 'xmlrpc': <module 'xmlrpc' from '/Users/reuven/.pyenv/versions/3.12.1/lib/python3.12/xmlrpc/__init__.py'>,\n",
       " 'xml.parsers': <module 'xml.parsers' from '/Users/reuven/.pyenv/versions/3.12.1/lib/python3.12/xml/parsers/__init__.py'>,\n",
       " 'pyexpat.errors': <module 'pyexpat.errors'>,\n",
       " 'pyexpat.model': <module 'pyexpat.model'>,\n",
       " 'pyexpat': <module 'pyexpat' from '/Users/reuven/.pyenv/versions/3.12.1/lib/python3.12/lib-dynload/pyexpat.cpython-312-darwin.so'>,\n",
       " 'xml.parsers.expat.model': <module 'pyexpat.model'>,\n",
       " 'xml.parsers.expat.errors': <module 'pyexpat.errors'>,\n",
       " 'xml.parsers.expat': <module 'xml.parsers.expat' from '/Users/reuven/.pyenv/versions/3.12.1/lib/python3.12/xml/parsers/expat.py'>,\n",
       " 'gzip': <module 'gzip' from '/Users/reuven/.pyenv/versions/3.12.1/lib/python3.12/gzip.py'>,\n",
       " 'xmlrpc.client': <module 'xmlrpc.client' from '/Users/reuven/.pyenv/versions/3.12.1/lib/python3.12/xmlrpc/client.py'>,\n",
       " 'http.server': <module 'http.server' from '/Users/reuven/.pyenv/versions/3.12.1/lib/python3.12/http/server.py'>,\n",
       " 'xmlrpc.server': <module 'xmlrpc.server' from '/Users/reuven/.pyenv/versions/3.12.1/lib/python3.12/xmlrpc/server.py'>,\n",
       " '_pydev_bundle._pydev_saved_modules': <module '_pydev_bundle._pydev_saved_modules' from '/Users/reuven/.pyenv/versions/3.12.1/lib/python3.12/site-packages/debugpy/_vendored/pydevd/_pydev_bundle/_pydev_saved_modules.py'>,\n",
       " '_pydevd_bundle.pydevd_constants': <module '_pydevd_bundle.pydevd_constants' from '/Users/reuven/.pyenv/versions/3.12.1/lib/python3.12/site-packages/debugpy/_vendored/pydevd/_pydevd_bundle/pydevd_constants.py'>,\n",
       " '_pydev_runfiles': <module '_pydev_runfiles' from '/Users/reuven/.pyenv/versions/3.12.1/lib/python3.12/site-packages/debugpy/_vendored/pydevd/_pydev_runfiles/__init__.py'>,\n",
       " '_pydevd_frame_eval': <module '_pydevd_frame_eval' from '/Users/reuven/.pyenv/versions/3.12.1/lib/python3.12/site-packages/debugpy/_vendored/pydevd/_pydevd_frame_eval/__init__.py'>,\n",
       " 'pydev_ipython': <module 'pydev_ipython' from '/Users/reuven/.pyenv/versions/3.12.1/lib/python3.12/site-packages/debugpy/_vendored/pydevd/pydev_ipython/__init__.py'>,\n",
       " 'pydevd_plugins': <module 'pydevd_plugins' (namespace) from ['/Users/reuven/.pyenv/versions/3.12.1/lib/python3.12/site-packages/debugpy/_vendored/pydevd/pydevd_plugins']>,\n",
       " '_pydev_bundle.pydev_log': <module '_pydev_bundle.pydev_log' from '/Users/reuven/.pyenv/versions/3.12.1/lib/python3.12/site-packages/debugpy/_vendored/pydevd/_pydev_bundle/pydev_log.py'>,\n",
       " '_pydev_bundle._pydev_filesystem_encoding': <module '_pydev_bundle._pydev_filesystem_encoding' from '/Users/reuven/.pyenv/versions/3.12.1/lib/python3.12/site-packages/debugpy/_vendored/pydevd/_pydev_bundle/_pydev_filesystem_encoding.py'>,\n",
       " '_pydevd_bundle.pydevd_comm_constants': <module '_pydevd_bundle.pydevd_comm_constants' from '/Users/reuven/.pyenv/versions/3.12.1/lib/python3.12/site-packages/debugpy/_vendored/pydevd/_pydevd_bundle/pydevd_comm_constants.py'>,\n",
       " 'pydevd_file_utils': <module 'pydevd_file_utils' from '/Users/reuven/.pyenv/versions/3.12.1/lib/python3.12/site-packages/debugpy/_vendored/pydevd/pydevd_file_utils.py'>,\n",
       " '_pydev_bundle._pydev_execfile': <module '_pydev_bundle._pydev_execfile' from '/Users/reuven/.pyenv/versions/3.12.1/lib/python3.12/site-packages/debugpy/_vendored/pydevd/_pydev_bundle/_pydev_execfile.py'>,\n",
       " '_pydevd_bundle.pydevd_exec2': <module '_pydevd_bundle.pydevd_exec2' from '/Users/reuven/.pyenv/versions/3.12.1/lib/python3.12/site-packages/debugpy/_vendored/pydevd/_pydevd_bundle/pydevd_exec2.py'>,\n",
       " '_pydev_bundle.pydev_imports': <module '_pydev_bundle.pydev_imports' from '/Users/reuven/.pyenv/versions/3.12.1/lib/python3.12/site-packages/debugpy/_vendored/pydevd/_pydev_bundle/pydev_imports.py'>,\n",
       " '_pydev_bundle.pydev_is_thread_alive': <module '_pydev_bundle.pydev_is_thread_alive' from '/Users/reuven/.pyenv/versions/3.12.1/lib/python3.12/site-packages/debugpy/_vendored/pydevd/_pydev_bundle/pydev_is_thread_alive.py'>,\n",
       " '_pydev_bundle.pydev_override': <module '_pydev_bundle.pydev_override' from '/Users/reuven/.pyenv/versions/3.12.1/lib/python3.12/site-packages/debugpy/_vendored/pydevd/_pydev_bundle/pydev_override.py'>,\n",
       " 'pydevd_plugins.extensions': <module 'pydevd_plugins.extensions' (namespace) from ['/Users/reuven/.pyenv/versions/3.12.1/lib/python3.12/site-packages/debugpy/_vendored/pydevd/pydevd_plugins/extensions']>,\n",
       " '_pydevd_bundle.pydevd_extension_utils': <module '_pydevd_bundle.pydevd_extension_utils' from '/Users/reuven/.pyenv/versions/3.12.1/lib/python3.12/site-packages/debugpy/_vendored/pydevd/_pydevd_bundle/pydevd_extension_utils.py'>,\n",
       " '_pydevd_bundle.pydevd_frame_utils': <module '_pydevd_bundle.pydevd_frame_utils' from '/Users/reuven/.pyenv/versions/3.12.1/lib/python3.12/site-packages/debugpy/_vendored/pydevd/_pydevd_bundle/pydevd_frame_utils.py'>,\n",
       " '_pydevd_bundle.pydevd_filtering': <module '_pydevd_bundle.pydevd_filtering' from '/Users/reuven/.pyenv/versions/3.12.1/lib/python3.12/site-packages/debugpy/_vendored/pydevd/_pydevd_bundle/pydevd_filtering.py'>,\n",
       " '_pydevd_bundle.pydevd_io': <module '_pydevd_bundle.pydevd_io' from '/Users/reuven/.pyenv/versions/3.12.1/lib/python3.12/site-packages/debugpy/_vendored/pydevd/_pydevd_bundle/pydevd_io.py'>,\n",
       " '_pydevd_bundle.pydevd_defaults': <module '_pydevd_bundle.pydevd_defaults' from '/Users/reuven/.pyenv/versions/3.12.1/lib/python3.12/site-packages/debugpy/_vendored/pydevd/_pydevd_bundle/pydevd_defaults.py'>,\n",
       " '_pydevd_bundle.pydevd_utils': <module '_pydevd_bundle.pydevd_utils' from '/Users/reuven/.pyenv/versions/3.12.1/lib/python3.12/site-packages/debugpy/_vendored/pydevd/_pydevd_bundle/pydevd_utils.py'>,\n",
       " '_pydevd_bundle.pydevd_runpy': <module '_pydevd_bundle.pydevd_runpy' from '/Users/reuven/.pyenv/versions/3.12.1/lib/python3.12/site-packages/debugpy/_vendored/pydevd/_pydevd_bundle/pydevd_runpy.py'>,\n",
       " '_pydev_bundle._pydev_tipper_common': <module '_pydev_bundle._pydev_tipper_common' from '/Users/reuven/.pyenv/versions/3.12.1/lib/python3.12/site-packages/debugpy/_vendored/pydevd/_pydev_bundle/_pydev_tipper_common.py'>,\n",
       " '_pydev_bundle._pydev_imports_tipper': <module '_pydev_bundle._pydev_imports_tipper' from '/Users/reuven/.pyenv/versions/3.12.1/lib/python3.12/site-packages/debugpy/_vendored/pydevd/_pydev_bundle/_pydev_imports_tipper.py'>,\n",
       " '_pydev_bundle._pydev_calltip_util': <module '_pydev_bundle._pydev_calltip_util' from '/Users/reuven/.pyenv/versions/3.12.1/lib/python3.12/site-packages/debugpy/_vendored/pydevd/_pydev_bundle/_pydev_calltip_util.py'>,\n",
       " '_pydevd_bundle.pydevd_safe_repr': <module '_pydevd_bundle.pydevd_safe_repr' from '/Users/reuven/.pyenv/versions/3.12.1/lib/python3.12/site-packages/debugpy/_vendored/pydevd/_pydevd_bundle/pydevd_safe_repr.py'>,\n",
       " '_pydevd_bundle.pydevd_resolver': <module '_pydevd_bundle.pydevd_resolver' from '/Users/reuven/.pyenv/versions/3.12.1/lib/python3.12/site-packages/debugpy/_vendored/pydevd/_pydevd_bundle/pydevd_resolver.py'>,\n",
       " '_pydevd_bundle.pydevd_extension_api': <module '_pydevd_bundle.pydevd_extension_api' from '/Users/reuven/.pyenv/versions/3.12.1/lib/python3.12/site-packages/debugpy/_vendored/pydevd/_pydevd_bundle/pydevd_extension_api.py'>,\n",
       " '_pydevd_bundle.pydevd_xml': <module '_pydevd_bundle.pydevd_xml' from '/Users/reuven/.pyenv/versions/3.12.1/lib/python3.12/site-packages/debugpy/_vendored/pydevd/_pydevd_bundle/pydevd_xml.py'>,\n",
       " '_pydevd_bundle.pydevd_dont_trace': <module '_pydevd_bundle.pydevd_dont_trace' from '/Users/reuven/.pyenv/versions/3.12.1/lib/python3.12/site-packages/debugpy/_vendored/pydevd/_pydevd_bundle/pydevd_dont_trace.py'>,\n",
       " '_pydevd_frame_eval.vendored': <module '_pydevd_frame_eval.vendored' from '/Users/reuven/.pyenv/versions/3.12.1/lib/python3.12/site-packages/debugpy/_vendored/pydevd/_pydevd_frame_eval/vendored/__init__.py'>,\n",
       " '_pydevd_frame_eval.vendored.bytecode.flags': <module '_pydevd_frame_eval.vendored.bytecode.flags' from '/Users/reuven/.pyenv/versions/3.12.1/lib/python3.12/site-packages/debugpy/_vendored/pydevd/_pydevd_frame_eval/vendored/bytecode/flags.py'>,\n",
       " '_pydevd_frame_eval.vendored.bytecode.instr': <module '_pydevd_frame_eval.vendored.bytecode.instr' from '/Users/reuven/.pyenv/versions/3.12.1/lib/python3.12/site-packages/debugpy/_vendored/pydevd/_pydevd_frame_eval/vendored/bytecode/instr.py'>,\n",
       " '_pydevd_frame_eval.vendored.bytecode.bytecode': <module '_pydevd_frame_eval.vendored.bytecode.bytecode' from '/Users/reuven/.pyenv/versions/3.12.1/lib/python3.12/site-packages/debugpy/_vendored/pydevd/_pydevd_frame_eval/vendored/bytecode/bytecode.py'>,\n",
       " '_pydevd_frame_eval.vendored.bytecode.concrete': <module '_pydevd_frame_eval.vendored.bytecode.concrete' from '/Users/reuven/.pyenv/versions/3.12.1/lib/python3.12/site-packages/debugpy/_vendored/pydevd/_pydevd_frame_eval/vendored/bytecode/concrete.py'>,\n",
       " '_pydevd_frame_eval.vendored.bytecode.cfg': <module '_pydevd_frame_eval.vendored.bytecode.cfg' from '/Users/reuven/.pyenv/versions/3.12.1/lib/python3.12/site-packages/debugpy/_vendored/pydevd/_pydevd_frame_eval/vendored/bytecode/cfg.py'>,\n",
       " '_pydevd_frame_eval.vendored.bytecode': <module '_pydevd_frame_eval.vendored.bytecode' from '/Users/reuven/.pyenv/versions/3.12.1/lib/python3.12/site-packages/debugpy/_vendored/pydevd/_pydevd_frame_eval/vendored/bytecode/__init__.py'>,\n",
       " '_pydevd_bundle.pydevd_bytecode_utils': <module '_pydevd_bundle.pydevd_bytecode_utils' from '/Users/reuven/.pyenv/versions/3.12.1/lib/python3.12/site-packages/debugpy/_vendored/pydevd/_pydevd_bundle/pydevd_bytecode_utils.py'>,\n",
       " '_pydevd_bundle.pydevd_frame': <module '_pydevd_bundle.pydevd_frame' from '/Users/reuven/.pyenv/versions/3.12.1/lib/python3.12/site-packages/debugpy/_vendored/pydevd/_pydevd_bundle/pydevd_frame.py'>,\n",
       " '_pydevd_bundle.pydevd_additional_thread_info_regular': <module '_pydevd_bundle.pydevd_additional_thread_info_regular' from '/Users/reuven/.pyenv/versions/3.12.1/lib/python3.12/site-packages/debugpy/_vendored/pydevd/_pydevd_bundle/pydevd_additional_thread_info_regular.py'>,\n",
       " '_pydevd_bundle.pydevd_additional_thread_info': <module '_pydevd_bundle.pydevd_additional_thread_info' from '/Users/reuven/.pyenv/versions/3.12.1/lib/python3.12/site-packages/debugpy/_vendored/pydevd/_pydevd_bundle/pydevd_additional_thread_info.py'>,\n",
       " '_pydevd_bundle.pydevd_thread_lifecycle': <module '_pydevd_bundle.pydevd_thread_lifecycle' from '/Users/reuven/.pyenv/versions/3.12.1/lib/python3.12/site-packages/debugpy/_vendored/pydevd/_pydevd_bundle/pydevd_thread_lifecycle.py'>,\n",
       " '_pydevd_bundle.pydevd_save_locals': <module '_pydevd_bundle.pydevd_save_locals' from '/Users/reuven/.pyenv/versions/3.12.1/lib/python3.12/site-packages/debugpy/_vendored/pydevd/_pydevd_bundle/pydevd_save_locals.py'>,\n",
       " '_pydev_bundle.pydev_monkey': <module '_pydev_bundle.pydev_monkey' from '/Users/reuven/.pyenv/versions/3.12.1/lib/python3.12/site-packages/debugpy/_vendored/pydevd/_pydev_bundle/pydev_monkey.py'>,\n",
       " 'pydevd_tracing': <module 'pydevd_tracing' from '/Users/reuven/.pyenv/versions/3.12.1/lib/python3.12/site-packages/debugpy/_vendored/pydevd/pydevd_tracing.py'>,\n",
       " '_pydevd_bundle.pydevd_collect_bytecode_info': <module '_pydevd_bundle.pydevd_collect_bytecode_info' from '/Users/reuven/.pyenv/versions/3.12.1/lib/python3.12/site-packages/debugpy/_vendored/pydevd/_pydevd_bundle/pydevd_collect_bytecode_info.py'>,\n",
       " '_pydevd_bundle.pydevd_daemon_thread': <module '_pydevd_bundle.pydevd_daemon_thread' from '/Users/reuven/.pyenv/versions/3.12.1/lib/python3.12/site-packages/debugpy/_vendored/pydevd/_pydevd_bundle/pydevd_daemon_thread.py'>,\n",
       " '_pydevd_bundle.pydevd_timeout': <module '_pydevd_bundle.pydevd_timeout' from '/Users/reuven/.pyenv/versions/3.12.1/lib/python3.12/site-packages/debugpy/_vendored/pydevd/_pydevd_bundle/pydevd_timeout.py'>,\n",
       " '_pydevd_bundle.pydevd_vars': <module '_pydevd_bundle.pydevd_vars' from '/Users/reuven/.pyenv/versions/3.12.1/lib/python3.12/site-packages/debugpy/_vendored/pydevd/_pydevd_bundle/pydevd_vars.py'>,\n",
       " '_pydev_bundle.pydev_console_utils': <module '_pydev_bundle.pydev_console_utils' from '/Users/reuven/.pyenv/versions/3.12.1/lib/python3.12/site-packages/debugpy/_vendored/pydevd/_pydev_bundle/pydev_console_utils.py'>,\n",
       " '_pydevd_bundle.pydevd_import_class': <module '_pydevd_bundle.pydevd_import_class' from '/Users/reuven/.pyenv/versions/3.12.1/lib/python3.12/site-packages/debugpy/_vendored/pydevd/_pydevd_bundle/pydevd_import_class.py'>,\n",
       " '_pydevd_bundle.pydevd_breakpoints': <module '_pydevd_bundle.pydevd_breakpoints' from '/Users/reuven/.pyenv/versions/3.12.1/lib/python3.12/site-packages/debugpy/_vendored/pydevd/_pydevd_bundle/pydevd_breakpoints.py'>,\n",
       " '_pydevd_bundle.pydevd_custom_frames': <module '_pydevd_bundle.pydevd_custom_frames' from '/Users/reuven/.pyenv/versions/3.12.1/lib/python3.12/site-packages/debugpy/_vendored/pydevd/_pydevd_bundle/pydevd_custom_frames.py'>,\n",
       " '_pydevd_bundle.pydevd_dont_trace_files': <module '_pydevd_bundle.pydevd_dont_trace_files' from '/Users/reuven/.pyenv/versions/3.12.1/lib/python3.12/site-packages/debugpy/_vendored/pydevd/_pydevd_bundle/pydevd_dont_trace_files.py'>,\n",
       " '_pydevd_bundle.pydevd_net_command': <module '_pydevd_bundle.pydevd_net_command' from '/Users/reuven/.pyenv/versions/3.12.1/lib/python3.12/site-packages/debugpy/_vendored/pydevd/_pydevd_bundle/pydevd_net_command.py'>,\n",
       " '_pydevd_bundle.pydevconsole_code': <module '_pydevd_bundle.pydevconsole_code' from '/Users/reuven/.pyenv/versions/3.12.1/lib/python3.12/site-packages/debugpy/_vendored/pydevd/_pydevd_bundle/pydevconsole_code.py'>,\n",
       " '_pydev_bundle.pydev_umd': <module '_pydev_bundle.pydev_umd' from '/Users/reuven/.pyenv/versions/3.12.1/lib/python3.12/site-packages/debugpy/_vendored/pydevd/_pydev_bundle/pydev_umd.py'>,\n",
       " 'pydevconsole': <module 'pydevconsole' from '/Users/reuven/.pyenv/versions/3.12.1/lib/python3.12/site-packages/debugpy/_vendored/pydevd/pydevconsole.py'>,\n",
       " '_pydev_bundle._pydev_completer': <module '_pydev_bundle._pydev_completer' from '/Users/reuven/.pyenv/versions/3.12.1/lib/python3.12/site-packages/debugpy/_vendored/pydevd/_pydev_bundle/_pydev_completer.py'>,\n",
       " '_pydevd_bundle.pydevd_net_command_factory_xml': <module '_pydevd_bundle.pydevd_net_command_factory_xml' from '/Users/reuven/.pyenv/versions/3.12.1/lib/python3.12/site-packages/debugpy/_vendored/pydevd/_pydevd_bundle/pydevd_net_command_factory_xml.py'>,\n",
       " '_pydevd_bundle.pydevd_trace_dispatch_regular': <module '_pydevd_bundle.pydevd_trace_dispatch_regular' from '/Users/reuven/.pyenv/versions/3.12.1/lib/python3.12/site-packages/debugpy/_vendored/pydevd/_pydevd_bundle/pydevd_trace_dispatch_regular.py'>,\n",
       " '_pydevd_bundle.pydevd_trace_dispatch': <module '_pydevd_bundle.pydevd_trace_dispatch' from '/Users/reuven/.pyenv/versions/3.12.1/lib/python3.12/site-packages/debugpy/_vendored/pydevd/_pydevd_bundle/pydevd_trace_dispatch.py'>,\n",
       " '_pydevd_frame_eval.pydevd_frame_eval_main': <module '_pydevd_frame_eval.pydevd_frame_eval_main' from '/Users/reuven/.pyenv/versions/3.12.1/lib/python3.12/site-packages/debugpy/_vendored/pydevd/_pydevd_frame_eval/pydevd_frame_eval_main.py'>,\n",
       " '_pydevd_bundle.pydevd_source_mapping': <module '_pydevd_bundle.pydevd_source_mapping' from '/Users/reuven/.pyenv/versions/3.12.1/lib/python3.12/site-packages/debugpy/_vendored/pydevd/_pydevd_bundle/pydevd_source_mapping.py'>,\n",
       " '_pydevd_bundle.pydevd_concurrency_analyser': <module '_pydevd_bundle.pydevd_concurrency_analyser' from '/Users/reuven/.pyenv/versions/3.12.1/lib/python3.12/site-packages/debugpy/_vendored/pydevd/_pydevd_bundle/pydevd_concurrency_analyser/__init__.py'>,\n",
       " '_pydevd_bundle.pydevd_concurrency_analyser.pydevd_thread_wrappers': <module '_pydevd_bundle.pydevd_concurrency_analyser.pydevd_thread_wrappers' from '/Users/reuven/.pyenv/versions/3.12.1/lib/python3.12/site-packages/debugpy/_vendored/pydevd/_pydevd_bundle/pydevd_concurrency_analyser/pydevd_thread_wrappers.py'>,\n",
       " '_pydevd_bundle.pydevd_concurrency_analyser.pydevd_concurrency_logger': <module '_pydevd_bundle.pydevd_concurrency_analyser.pydevd_concurrency_logger' from '/Users/reuven/.pyenv/versions/3.12.1/lib/python3.12/site-packages/debugpy/_vendored/pydevd/_pydevd_bundle/pydevd_concurrency_analyser/pydevd_concurrency_logger.py'>,\n",
       " '_pydevd_bundle._debug_adapter': <module '_pydevd_bundle._debug_adapter' from '/Users/reuven/.pyenv/versions/3.12.1/lib/python3.12/site-packages/debugpy/_vendored/pydevd/_pydevd_bundle/_debug_adapter/__init__.py'>,\n",
       " '_pydevd_bundle._debug_adapter.pydevd_schema_log': <module '_pydevd_bundle._debug_adapter.pydevd_schema_log' from '/Users/reuven/.pyenv/versions/3.12.1/lib/python3.12/site-packages/debugpy/_vendored/pydevd/_pydevd_bundle/_debug_adapter/pydevd_schema_log.py'>,\n",
       " '_pydevd_bundle._debug_adapter.pydevd_base_schema': <module '_pydevd_bundle._debug_adapter.pydevd_base_schema' from '/Users/reuven/.pyenv/versions/3.12.1/lib/python3.12/site-packages/debugpy/_vendored/pydevd/_pydevd_bundle/_debug_adapter/pydevd_base_schema.py'>,\n",
       " '_pydevd_bundle._debug_adapter.pydevd_schema': <module '_pydevd_bundle._debug_adapter.pydevd_schema' from '/Users/reuven/.pyenv/versions/3.12.1/lib/python3.12/site-packages/debugpy/_vendored/pydevd/_pydevd_bundle/_debug_adapter/pydevd_schema.py'>,\n",
       " '_pydevd_bundle.pydevd_reload': <module '_pydevd_bundle.pydevd_reload' from '/Users/reuven/.pyenv/versions/3.12.1/lib/python3.12/site-packages/debugpy/_vendored/pydevd/_pydevd_bundle/pydevd_reload.py'>,\n",
       " '_pydev_bundle.fsnotify': <module '_pydev_bundle.fsnotify' from '/Users/reuven/.pyenv/versions/3.12.1/lib/python3.12/site-packages/debugpy/_vendored/pydevd/_pydev_bundle/fsnotify/__init__.py'>,\n",
       " '_pydevd_bundle.pydevd_console': <module '_pydevd_bundle.pydevd_console' from '/Users/reuven/.pyenv/versions/3.12.1/lib/python3.12/site-packages/debugpy/_vendored/pydevd/_pydevd_bundle/pydevd_console.py'>,\n",
       " '_pydevd_bundle.pydevd_comm': <module '_pydevd_bundle.pydevd_comm' from '/Users/reuven/.pyenv/versions/3.12.1/lib/python3.12/site-packages/debugpy/_vendored/pydevd/_pydevd_bundle/pydevd_comm.py'>,\n",
       " '_pydevd_bundle.pydevd_net_command_factory_json': <module '_pydevd_bundle.pydevd_net_command_factory_json' from '/Users/reuven/.pyenv/versions/3.12.1/lib/python3.12/site-packages/debugpy/_vendored/pydevd/_pydevd_bundle/pydevd_net_command_factory_json.py'>,\n",
       " '_pydevd_bundle.pydevd_api': <module '_pydevd_bundle.pydevd_api' from '/Users/reuven/.pyenv/versions/3.12.1/lib/python3.12/site-packages/debugpy/_vendored/pydevd/_pydevd_bundle/pydevd_api.py'>,\n",
       " '_pydevd_bundle.pydevd_json_debug_options': <module '_pydevd_bundle.pydevd_json_debug_options' from '/Users/reuven/.pyenv/versions/3.12.1/lib/python3.12/site-packages/debugpy/_vendored/pydevd/_pydevd_bundle/pydevd_json_debug_options.py'>,\n",
       " '_pydevd_bundle.pydevd_process_net_command_json': <module '_pydevd_bundle.pydevd_process_net_command_json' from '/Users/reuven/.pyenv/versions/3.12.1/lib/python3.12/site-packages/debugpy/_vendored/pydevd/_pydevd_bundle/pydevd_process_net_command_json.py'>,\n",
       " '_pydevd_bundle.pydevd_traceproperty': <module '_pydevd_bundle.pydevd_traceproperty' from '/Users/reuven/.pyenv/versions/3.12.1/lib/python3.12/site-packages/debugpy/_vendored/pydevd/_pydevd_bundle/pydevd_traceproperty.py'>,\n",
       " '_pydevd_bundle.pydevd_process_net_command': <module '_pydevd_bundle.pydevd_process_net_command' from '/Users/reuven/.pyenv/versions/3.12.1/lib/python3.12/site-packages/debugpy/_vendored/pydevd/_pydevd_bundle/pydevd_process_net_command.py'>,\n",
       " '_pydevd_bundle.pydevd_suspended_frames': <module '_pydevd_bundle.pydevd_suspended_frames' from '/Users/reuven/.pyenv/versions/3.12.1/lib/python3.12/site-packages/debugpy/_vendored/pydevd/_pydevd_bundle/pydevd_suspended_frames.py'>,\n",
       " '_pydevd_bundle.pydevd_trace_api': <module '_pydevd_bundle.pydevd_trace_api' from '/Users/reuven/.pyenv/versions/3.12.1/lib/python3.12/site-packages/debugpy/_vendored/pydevd/_pydevd_bundle/pydevd_trace_api.py'>,\n",
       " 'pydevd_plugins.pydevd_line_validation': <module 'pydevd_plugins.pydevd_line_validation' from '/Users/reuven/.pyenv/versions/3.12.1/lib/python3.12/site-packages/debugpy/_vendored/pydevd/pydevd_plugins/pydevd_line_validation.py'>,\n",
       " 'django.utils': <module 'django.utils' from '/Users/reuven/.pyenv/versions/3.12.1/lib/python3.12/site-packages/django/utils/__init__.py'>,\n",
       " 'django.utils.functional': <module 'django.utils.functional' from '/Users/reuven/.pyenv/versions/3.12.1/lib/python3.12/site-packages/django/utils/functional.py'>,\n",
       " 'django.utils.regex_helper': <module 'django.utils.regex_helper' from '/Users/reuven/.pyenv/versions/3.12.1/lib/python3.12/site-packages/django/utils/regex_helper.py'>,\n",
       " 'django.utils.version': <module 'django.utils.version' from '/Users/reuven/.pyenv/versions/3.12.1/lib/python3.12/site-packages/django/utils/version.py'>,\n",
       " 'django': <module 'django' from '/Users/reuven/.pyenv/versions/3.12.1/lib/python3.12/site-packages/django/__init__.py'>,\n",
       " 'pydevd_plugins.django_debug': <module 'pydevd_plugins.django_debug' from '/Users/reuven/.pyenv/versions/3.12.1/lib/python3.12/site-packages/debugpy/_vendored/pydevd/pydevd_plugins/django_debug.py'>,\n",
       " 'pydevd_plugins.jinja2_debug': <module 'pydevd_plugins.jinja2_debug' from '/Users/reuven/.pyenv/versions/3.12.1/lib/python3.12/site-packages/debugpy/_vendored/pydevd/pydevd_plugins/jinja2_debug.py'>,\n",
       " '_pydevd_bundle.pydevd_plugin_utils': <module '_pydevd_bundle.pydevd_plugin_utils' from '/Users/reuven/.pyenv/versions/3.12.1/lib/python3.12/site-packages/debugpy/_vendored/pydevd/_pydevd_bundle/pydevd_plugin_utils.py'>,\n",
       " 'pydevd': <module 'pydevd' from '/Users/reuven/.pyenv/versions/3.12.1/lib/python3.12/site-packages/debugpy/_vendored/pydevd/pydevd.py'>,\n",
       " 'debugpy._vendored.force_pydevd': <module 'debugpy._vendored.force_pydevd' from '/Users/reuven/.pyenv/versions/3.12.1/lib/python3.12/site-packages/debugpy/_vendored/force_pydevd.py'>,\n",
       " 'debugpy.server': <module 'debugpy.server' from '/Users/reuven/.pyenv/versions/3.12.1/lib/python3.12/site-packages/debugpy/server/__init__.py'>,\n",
       " 'debugpy.adapter': <module 'debugpy.adapter' from '/Users/reuven/.pyenv/versions/3.12.1/lib/python3.12/site-packages/debugpy/adapter/__init__.py'>,\n",
       " 'debugpy.common': <module 'debugpy.common' from '/Users/reuven/.pyenv/versions/3.12.1/lib/python3.12/site-packages/debugpy/common/__init__.py'>,\n",
       " 'debugpy.common.json': <module 'debugpy.common.json' from '/Users/reuven/.pyenv/versions/3.12.1/lib/python3.12/site-packages/debugpy/common/json.py'>,\n",
       " 'debugpy.common.timestamp': <module 'debugpy.common.timestamp' from '/Users/reuven/.pyenv/versions/3.12.1/lib/python3.12/site-packages/debugpy/common/timestamp.py'>,\n",
       " 'debugpy.common.util': <module 'debugpy.common.util' from '/Users/reuven/.pyenv/versions/3.12.1/lib/python3.12/site-packages/debugpy/common/util.py'>,\n",
       " 'plistlib': <module 'plistlib' from '/Users/reuven/.pyenv/versions/3.12.1/lib/python3.12/plistlib.py'>,\n",
       " 'debugpy.common.log': <module 'debugpy.common.log' from '/Users/reuven/.pyenv/versions/3.12.1/lib/python3.12/site-packages/debugpy/common/log.py'>,\n",
       " 'debugpy.common.sockets': <module 'debugpy.common.sockets' from '/Users/reuven/.pyenv/versions/3.12.1/lib/python3.12/site-packages/debugpy/common/sockets.py'>,\n",
       " 'debugpy.server.api': <module 'debugpy.server.api' from '/Users/reuven/.pyenv/versions/3.12.1/lib/python3.12/site-packages/debugpy/server/api.py'>,\n",
       " 'ipykernel.debugger': <module 'ipykernel.debugger' from '/Users/reuven/.pyenv/versions/3.12.1/lib/python3.12/site-packages/ipykernel/debugger.py'>,\n",
       " 'packaging': <module 'packaging' from '/Users/reuven/.pyenv/versions/3.12.1/lib/python3.12/site-packages/packaging/__init__.py'>,\n",
       " 'packaging._structures': <module 'packaging._structures' from '/Users/reuven/.pyenv/versions/3.12.1/lib/python3.12/site-packages/packaging/_structures.py'>,\n",
       " 'packaging.version': <module 'packaging.version' from '/Users/reuven/.pyenv/versions/3.12.1/lib/python3.12/site-packages/packaging/version.py'>,\n",
       " 'ipykernel.eventloops': <module 'ipykernel.eventloops' from '/Users/reuven/.pyenv/versions/3.12.1/lib/python3.12/site-packages/ipykernel/eventloops.py'>,\n",
       " 'IPython.core.payloadpage': <module 'IPython.core.payloadpage' from '/Users/reuven/.pyenv/versions/3.12.1/lib/python3.12/site-packages/IPython/core/payloadpage.py'>,\n",
       " 'ipykernel.displayhook': <module 'ipykernel.displayhook' from '/Users/reuven/.pyenv/versions/3.12.1/lib/python3.12/site-packages/ipykernel/displayhook.py'>,\n",
       " 'ipykernel.zmqshell': <module 'ipykernel.zmqshell' from '/Users/reuven/.pyenv/versions/3.12.1/lib/python3.12/site-packages/ipykernel/zmqshell.py'>,\n",
       " 'ipykernel.ipkernel': <module 'ipykernel.ipkernel' from '/Users/reuven/.pyenv/versions/3.12.1/lib/python3.12/site-packages/ipykernel/ipkernel.py'>,\n",
       " 'ipykernel.parentpoller': <module 'ipykernel.parentpoller' from '/Users/reuven/.pyenv/versions/3.12.1/lib/python3.12/site-packages/ipykernel/parentpoller.py'>,\n",
       " 'ipykernel.kernelapp': <module 'ipykernel.kernelapp' from '/Users/reuven/.pyenv/versions/3.12.1/lib/python3.12/site-packages/ipykernel/kernelapp.py'>,\n",
       " 'argcomplete.completers': <module 'argcomplete.completers' from '/Users/reuven/.pyenv/versions/3.12.1/lib/python3.12/site-packages/argcomplete/completers.py'>,\n",
       " 'argcomplete.exceptions': <module 'argcomplete.exceptions' from '/Users/reuven/.pyenv/versions/3.12.1/lib/python3.12/site-packages/argcomplete/exceptions.py'>,\n",
       " 'argcomplete.io': <module 'argcomplete.io' from '/Users/reuven/.pyenv/versions/3.12.1/lib/python3.12/site-packages/argcomplete/io.py'>,\n",
       " 'argcomplete.packages': <module 'argcomplete.packages' from '/Users/reuven/.pyenv/versions/3.12.1/lib/python3.12/site-packages/argcomplete/packages/__init__.py'>,\n",
       " 'argcomplete.packages._shlex': <module 'argcomplete.packages._shlex' from '/Users/reuven/.pyenv/versions/3.12.1/lib/python3.12/site-packages/argcomplete/packages/_shlex.py'>,\n",
       " 'argcomplete.lexers': <module 'argcomplete.lexers' from '/Users/reuven/.pyenv/versions/3.12.1/lib/python3.12/site-packages/argcomplete/lexers.py'>,\n",
       " 'argcomplete.packages._argparse': <module 'argcomplete.packages._argparse' from '/Users/reuven/.pyenv/versions/3.12.1/lib/python3.12/site-packages/argcomplete/packages/_argparse.py'>,\n",
       " 'argcomplete.finders': <module 'argcomplete.finders' from '/Users/reuven/.pyenv/versions/3.12.1/lib/python3.12/site-packages/argcomplete/finders.py'>,\n",
       " 'argcomplete.shell_integration': <module 'argcomplete.shell_integration' from '/Users/reuven/.pyenv/versions/3.12.1/lib/python3.12/site-packages/argcomplete/shell_integration.py'>,\n",
       " 'argcomplete': <module 'argcomplete' from '/Users/reuven/.pyenv/versions/3.12.1/lib/python3.12/site-packages/argcomplete/__init__.py'>,\n",
       " 'traitlets.config.argcomplete_config': <module 'traitlets.config.argcomplete_config' from '/Users/reuven/.pyenv/versions/3.12.1/lib/python3.12/site-packages/traitlets/config/argcomplete_config.py'>,\n",
       " 'tornado.platform': <module 'tornado.platform' from '/Users/reuven/.pyenv/versions/3.12.1/lib/python3.12/site-packages/tornado/platform/__init__.py'>,\n",
       " 'tornado.platform.asyncio': <module 'tornado.platform.asyncio' from '/Users/reuven/.pyenv/versions/3.12.1/lib/python3.12/site-packages/tornado/platform/asyncio.py'>,\n",
       " 'faulthandler': <module 'faulthandler' (built-in)>,\n",
       " 'IPython.core.completerlib': <module 'IPython.core.completerlib' from '/Users/reuven/.pyenv/versions/3.12.1/lib/python3.12/site-packages/IPython/core/completerlib.py'>,\n",
       " 'ctypes.macholib': <module 'ctypes.macholib' from '/Users/reuven/.pyenv/versions/3.12.1/lib/python3.12/ctypes/macholib/__init__.py'>,\n",
       " 'ctypes.macholib.framework': <module 'ctypes.macholib.framework' from '/Users/reuven/.pyenv/versions/3.12.1/lib/python3.12/ctypes/macholib/framework.py'>,\n",
       " 'ctypes.macholib.dylib': <module 'ctypes.macholib.dylib' from '/Users/reuven/.pyenv/versions/3.12.1/lib/python3.12/ctypes/macholib/dylib.py'>,\n",
       " 'ctypes.macholib.dyld': <module 'ctypes.macholib.dyld' from '/Users/reuven/.pyenv/versions/3.12.1/lib/python3.12/ctypes/macholib/dyld.py'>,\n",
       " 'ctypes.util': <module 'ctypes.util' from '/Users/reuven/.pyenv/versions/3.12.1/lib/python3.12/ctypes/util.py'>,\n",
       " 'appnope._nope': <module 'appnope._nope' from '/Users/reuven/.pyenv/versions/3.12.1/lib/python3.12/site-packages/appnope/_nope.py'>,\n",
       " 'appnope': <module 'appnope' from '/Users/reuven/.pyenv/versions/3.12.1/lib/python3.12/site-packages/appnope/__init__.py'>}"
      ]
     },
     "execution_count": 4,
     "metadata": {},
     "output_type": "execute_result"
    }
   ],
   "source": [
    "sys.modules"
   ]
  },
  {
   "cell_type": "code",
   "execution_count": 5,
   "id": "4881913e-b30d-4838-abd6-5740601945a2",
   "metadata": {},
   "outputs": [
    {
     "data": {
      "text/plain": [
       "['BPF',\n",
       " 'LOG4',\n",
       " 'NV_MAGICCONST',\n",
       " 'RECIP_BPF',\n",
       " 'Random',\n",
       " 'SG_MAGICCONST',\n",
       " 'SystemRandom',\n",
       " 'TWOPI',\n",
       " '_ONE',\n",
       " '_Sequence',\n",
       " '__all__',\n",
       " '__builtins__',\n",
       " '__cached__',\n",
       " '__doc__',\n",
       " '__file__',\n",
       " '__loader__',\n",
       " '__name__',\n",
       " '__package__',\n",
       " '__spec__',\n",
       " '_accumulate',\n",
       " '_acos',\n",
       " '_bisect',\n",
       " '_ceil',\n",
       " '_cos',\n",
       " '_e',\n",
       " '_exp',\n",
       " '_fabs',\n",
       " '_floor',\n",
       " '_index',\n",
       " '_inst',\n",
       " '_isfinite',\n",
       " '_lgamma',\n",
       " '_log',\n",
       " '_log2',\n",
       " '_os',\n",
       " '_pi',\n",
       " '_random',\n",
       " '_repeat',\n",
       " '_sha512',\n",
       " '_sin',\n",
       " '_sqrt',\n",
       " '_test',\n",
       " '_test_generator',\n",
       " '_urandom',\n",
       " '_warn',\n",
       " 'betavariate',\n",
       " 'binomialvariate',\n",
       " 'choice',\n",
       " 'choices',\n",
       " 'expovariate',\n",
       " 'gammavariate',\n",
       " 'gauss',\n",
       " 'getrandbits',\n",
       " 'getstate',\n",
       " 'lognormvariate',\n",
       " 'normalvariate',\n",
       " 'paretovariate',\n",
       " 'randbytes',\n",
       " 'randint',\n",
       " 'random',\n",
       " 'randrange',\n",
       " 'sample',\n",
       " 'seed',\n",
       " 'setstate',\n",
       " 'shuffle',\n",
       " 'triangular',\n",
       " 'uniform',\n",
       " 'vonmisesvariate',\n",
       " 'weibullvariate']"
      ]
     },
     "execution_count": 5,
     "metadata": {},
     "output_type": "execute_result"
    }
   ],
   "source": [
    "dir(random)"
   ]
  },
  {
   "cell_type": "code",
   "execution_count": 6,
   "id": "0d7a5293-3bf8-4127-968b-c0606e899518",
   "metadata": {},
   "outputs": [],
   "source": [
    "# if I say `import random` a second time, Python sees that it has that module ('random' in sys.modules),\n",
    "# and so it just has to say\n",
    "\n",
    "random = sys.modules['random']   # this defines the variable for the module object"
   ]
  },
  {
   "cell_type": "markdown",
   "id": "e8cfb66b-82eb-4ee0-81ba-c0e95a81c253",
   "metadata": {},
   "source": [
    "# Variations on `import`\n",
    "\n",
    "- `import MODNAME` -- loads the module (if needed), assigns the variable `MODNAME` to the module object. `MODNAME.py` is the filename that Python will look for in `sys.path`.\n",
    "- `from MODNAME import NAME` -- loads the module (if needed), it assigns the variable `NAME` to `sys.modules[MODNAME].name`. It doesn't define `MODNAME` as a variable. We do this for convenience, so that we can write shorter variable/method names in our programs.\n",
    "- `import MODNAME as ALIAS` -- this does the same as `import MODNAME`, but the variable that is assigned is `ALIAS`, not `MODNAME`.\n",
    "- `from MODNAME import NAME as ALIAS` -- this does the same as `from .. import`, but only assigns one global variable, and it's `ALIAS`, referring to the individual attribute `NAME` on the module object.\n",
    "- `from MODNAME import *` -- this imports *all* of the names in `MODNAME` as global variables into the current module. **NEVER EVER EVER EVER EVER EVER EVER EVER DO THIS!!**"
   ]
  },
  {
   "cell_type": "code",
   "execution_count": 7,
   "id": "ba46bbe9-e2ef-4db4-9d82-fc8d7900b2cc",
   "metadata": {},
   "outputs": [],
   "source": [
    "import time"
   ]
  },
  {
   "cell_type": "code",
   "execution_count": 8,
   "id": "7fc9eb2e-c613-4877-bf4f-1610a1608c1c",
   "metadata": {},
   "outputs": [
    {
     "data": {
      "text/plain": [
       "<module 'time' (built-in)>"
      ]
     },
     "execution_count": 8,
     "metadata": {},
     "output_type": "execute_result"
    }
   ],
   "source": [
    "time"
   ]
  },
  {
   "cell_type": "code",
   "execution_count": 9,
   "id": "a99463db-2bf5-4ff4-a6fa-db96fe98b9b4",
   "metadata": {},
   "outputs": [],
   "source": [
    "from random import randint"
   ]
  },
  {
   "cell_type": "code",
   "execution_count": null,
   "id": "950ca697-df84-4a9f-b71c-0ed1b253bbb7",
   "metadata": {},
   "outputs": [],
   "source": [
    "# from numpy import *\n",
    "# from pandas import *\n",
    "# from random import *\n",
    "# from argparse import *\n",
    "\n",
    "# __version__"
   ]
  },
  {
   "cell_type": "code",
   "execution_count": null,
   "id": "e012d21a-18b4-493a-9def-61a99ee6917c",
   "metadata": {},
   "outputs": [],
   "source": [
    "# Python will\n",
    "# (1) look for pandas.py in each of the directories in sys.path. \n",
    "# (2) Assuming it finds such a file, it loads it into memory, executes it, top to bottom, and then stores the result as a module object\n",
    "#     in sys.modules.\n",
    "# (3) Then it defines a variable \"pandas\" that refers to sys.modules['pandas']\n",
    "\n",
    "import pandas   "
   ]
  },
  {
   "cell_type": "code",
   "execution_count": null,
   "id": "c2313d8b-c126-49bb-a2f9-5231aeb78302",
   "metadata": {},
   "outputs": [],
   "source": [
    "# Python will\n",
    "# (1) look for pandas.py in each of the directories in sys.path. \n",
    "# (2) Assuming it finds such a file, it loads it into memory, executes it, top to bottom, and then stores the result as a module object\n",
    "#     in sys.modules.\n",
    "# (3) Then it defines a variable \"pd\" that refers to sys.modules['pandas']\n",
    "\n",
    "import pandas as pd"
   ]
  },
  {
   "cell_type": "code",
   "execution_count": null,
   "id": "997a0f2e-3e4d-4b6b-bf89-ab1045f5d1fe",
   "metadata": {},
   "outputs": [],
   "source": [
    "# Python will\n",
    "# (1) look for pandas.py in each of the directories in sys.path. \n",
    "# (2) Assuming it finds such a file, it loads it into memory, executes it, top to bottom, and then stores the result as a module object\n",
    "#     in sys.modules.\n",
    "# (3) Then it defines a variable \"Series\" that refers to sys.modules['pandas'].Series\n",
    "\n",
    "from pandas import Series"
   ]
  },
  {
   "cell_type": "code",
   "execution_count": null,
   "id": "f276bd82-3c12-4d97-b79d-3ed0a72cbeb3",
   "metadata": {},
   "outputs": [],
   "source": [
    "# Python will\n",
    "# (1) look for pandas.py in each of the directories in sys.path. \n",
    "# (2) Assuming it finds such a file, it loads it into memory, executes it, top to bottom, and then stores the result as a module object\n",
    "#     in sys.modules.\n",
    "# (3) Then it runs a for loop over every name in sys.modules['pandas'], and defines a variable for each one\n",
    "\n",
    "from pandas import *\n",
    "\n",
    "for one_name in dir(sys.modules['pandas']):\n",
    "    globals()[one_name] = getattr(sys.modules['pandas'], one_name)    "
   ]
  },
  {
   "cell_type": "code",
   "execution_count": 10,
   "id": "49607cab-a598-4c03-8273-c65239b1b17b",
   "metadata": {},
   "outputs": [
    {
     "ename": "ImportError",
     "evalue": "cannot import name 'elephant' from 'pandas' (/Users/reuven/.pyenv/versions/3.12.1/lib/python3.12/site-packages/pandas/__init__.py)",
     "output_type": "error",
     "traceback": [
      "\u001b[0;31m---------------------------------------------------------------------------\u001b[0m",
      "\u001b[0;31mImportError\u001b[0m                               Traceback (most recent call last)",
      "Cell \u001b[0;32mIn[10], line 1\u001b[0m\n\u001b[0;32m----> 1\u001b[0m \u001b[38;5;28;01mfrom\u001b[39;00m \u001b[38;5;21;01mpandas\u001b[39;00m \u001b[38;5;28;01mimport\u001b[39;00m elephant\n",
      "\u001b[0;31mImportError\u001b[0m: cannot import name 'elephant' from 'pandas' (/Users/reuven/.pyenv/versions/3.12.1/lib/python3.12/site-packages/pandas/__init__.py)"
     ]
    }
   ],
   "source": [
    "from pandas import elephant"
   ]
  },
  {
   "cell_type": "code",
   "execution_count": 11,
   "id": "37ab5daf-69c3-4375-b24d-28b41ea9e1ea",
   "metadata": {},
   "outputs": [],
   "source": [
    "import mymod"
   ]
  },
  {
   "cell_type": "code",
   "execution_count": 12,
   "id": "29af48cf-a4e0-4b6a-ad60-7a92fe427b8b",
   "metadata": {},
   "outputs": [
    {
     "data": {
      "text/plain": [
       "<module 'mymod' from '/Users/reuven/Courses/Current/Cisco-2024-07July-advanced/mymod.py'>"
      ]
     },
     "execution_count": 12,
     "metadata": {},
     "output_type": "execute_result"
    }
   ],
   "source": [
    "mymod"
   ]
  },
  {
   "cell_type": "code",
   "execution_count": 14,
   "id": "5a2dbc69-3e74-41d5-8696-1e0bb9d2ed21",
   "metadata": {},
   "outputs": [
    {
     "data": {
      "text/plain": [
       "['__builtins__',\n",
       " '__cached__',\n",
       " '__doc__',\n",
       " '__file__',\n",
       " '__loader__',\n",
       " '__name__',\n",
       " '__package__',\n",
       " '__spec__']"
      ]
     },
     "execution_count": 14,
     "metadata": {},
     "output_type": "execute_result"
    }
   ],
   "source": [
    "dir(mymod)"
   ]
  },
  {
   "cell_type": "code",
   "execution_count": 15,
   "id": "e9aea37e-0f82-4c17-8e74-bbba2abb5926",
   "metadata": {},
   "outputs": [
    {
     "data": {
      "text/plain": [
       "'/Users/reuven/Courses/Current/Cisco-2024-07July-advanced/mymod.py'"
      ]
     },
     "execution_count": 15,
     "metadata": {},
     "output_type": "execute_result"
    }
   ],
   "source": [
    "mymod.__file__"
   ]
  },
  {
   "cell_type": "code",
   "execution_count": 16,
   "id": "f655cae3-d554-4c01-85b4-a7ddfbfb7b9f",
   "metadata": {},
   "outputs": [
    {
     "data": {
      "text/plain": [
       "'mymod'"
      ]
     },
     "execution_count": 16,
     "metadata": {},
     "output_type": "execute_result"
    }
   ],
   "source": [
    "mymod.__name__"
   ]
  },
  {
   "cell_type": "code",
   "execution_count": 17,
   "id": "ebd9ca3f-1ad1-4160-b731-760bcb9e6c29",
   "metadata": {},
   "outputs": [],
   "source": [
    "import mymod"
   ]
  },
  {
   "cell_type": "code",
   "execution_count": 18,
   "id": "bac40e83-3878-4792-b895-9b4e563492d5",
   "metadata": {},
   "outputs": [
    {
     "data": {
      "text/plain": [
       "['__builtins__',\n",
       " '__cached__',\n",
       " '__doc__',\n",
       " '__file__',\n",
       " '__loader__',\n",
       " '__name__',\n",
       " '__package__',\n",
       " '__spec__']"
      ]
     },
     "execution_count": 18,
     "metadata": {},
     "output_type": "execute_result"
    }
   ],
   "source": [
    "dir(mymod)"
   ]
  },
  {
   "cell_type": "code",
   "execution_count": 20,
   "id": "2a748359-e07f-4c7a-a164-3284fb38123f",
   "metadata": {},
   "outputs": [],
   "source": [
    "from importlib import reload"
   ]
  },
  {
   "cell_type": "code",
   "execution_count": 21,
   "id": "15c11cdc-0574-4372-a53e-83ee32d35a03",
   "metadata": {},
   "outputs": [
    {
     "data": {
      "text/plain": [
       "<module 'mymod' from '/Users/reuven/Courses/Current/Cisco-2024-07July-advanced/mymod.py'>"
      ]
     },
     "execution_count": 21,
     "metadata": {},
     "output_type": "execute_result"
    }
   ],
   "source": [
    "reload(mymod)  # this deletes sys.modules['mymod'], so that we can import it again"
   ]
  },
  {
   "cell_type": "code",
   "execution_count": 22,
   "id": "46dcba24-71bf-4597-8643-e15ef03a3466",
   "metadata": {},
   "outputs": [
    {
     "data": {
      "text/plain": [
       "['__builtins__',\n",
       " '__cached__',\n",
       " '__doc__',\n",
       " '__file__',\n",
       " '__loader__',\n",
       " '__name__',\n",
       " '__package__',\n",
       " '__spec__',\n",
       " 'hello',\n",
       " 'x',\n",
       " 'y']"
      ]
     },
     "execution_count": 22,
     "metadata": {},
     "output_type": "execute_result"
    }
   ],
   "source": [
    "dir(mymod)"
   ]
  },
  {
   "cell_type": "code",
   "execution_count": 23,
   "id": "6028a522-43b5-4a40-90c4-70ad05b63228",
   "metadata": {},
   "outputs": [
    {
     "data": {
      "text/plain": [
       "10"
      ]
     },
     "execution_count": 23,
     "metadata": {},
     "output_type": "execute_result"
    }
   ],
   "source": [
    "mymod.x   # x is an attribute on the mymod object"
   ]
  },
  {
   "cell_type": "code",
   "execution_count": 24,
   "id": "2a307c53-4b16-4404-a0a9-1e43ad7aa9ed",
   "metadata": {},
   "outputs": [
    {
     "data": {
      "text/plain": [
       "[10, 20, 30]"
      ]
     },
     "execution_count": 24,
     "metadata": {},
     "output_type": "execute_result"
    }
   ],
   "source": [
    "mymod.y"
   ]
  },
  {
   "cell_type": "code",
   "execution_count": 25,
   "id": "1048f3f4-88cb-4dac-9fbd-9b0f27fb7040",
   "metadata": {},
   "outputs": [
    {
     "data": {
      "text/plain": [
       "'Hello, world!'"
      ]
     },
     "execution_count": 25,
     "metadata": {},
     "output_type": "execute_result"
    }
   ],
   "source": [
    "mymod.hello('world')"
   ]
  },
  {
   "cell_type": "code",
   "execution_count": 26,
   "id": "46db4d33-ace4-4f27-bf9a-023c06405d3b",
   "metadata": {},
   "outputs": [
    {
     "name": "stdout",
     "output_type": "stream",
     "text": [
      "Hello\n",
      "Goodbye\n"
     ]
    },
    {
     "data": {
      "text/plain": [
       "<module 'mymod' from '/Users/reuven/Courses/Current/Cisco-2024-07July-advanced/mymod.py'>"
      ]
     },
     "execution_count": 26,
     "metadata": {},
     "output_type": "execute_result"
    }
   ],
   "source": [
    "reload(mymod)"
   ]
  },
  {
   "cell_type": "code",
   "execution_count": 27,
   "id": "dc2ab217-0ce1-470c-97aa-31363123df1f",
   "metadata": {},
   "outputs": [
    {
     "name": "stdout",
     "output_type": "stream",
     "text": [
      "Hello from mymod\n",
      "Goodbye from mymod\n"
     ]
    },
    {
     "data": {
      "text/plain": [
       "<module 'mymod' from '/Users/reuven/Courses/Current/Cisco-2024-07July-advanced/mymod.py'>"
      ]
     },
     "execution_count": 27,
     "metadata": {},
     "output_type": "execute_result"
    }
   ],
   "source": [
    "reload(mymod)"
   ]
  },
  {
   "cell_type": "code",
   "execution_count": 28,
   "id": "d3890027-b834-4ac7-9d3a-42307840a139",
   "metadata": {},
   "outputs": [
    {
     "data": {
      "text/plain": [
       "['__builtins__',\n",
       " '__cached__',\n",
       " '__doc__',\n",
       " '__file__',\n",
       " '__loader__',\n",
       " '__name__',\n",
       " '__package__',\n",
       " '__spec__',\n",
       " 'hello',\n",
       " 'x',\n",
       " 'y']"
      ]
     },
     "execution_count": 28,
     "metadata": {},
     "output_type": "execute_result"
    }
   ],
   "source": [
    "dir(mymod)"
   ]
  },
  {
   "cell_type": "code",
   "execution_count": 29,
   "id": "c91083d6-75cf-4350-9d57-77856cb74852",
   "metadata": {},
   "outputs": [
    {
     "name": "stdout",
     "output_type": "stream",
     "text": [
      "Hello from mymod\n",
      "Goodbye from mymod\n"
     ]
    },
    {
     "data": {
      "text/plain": [
       "<module 'mymod' from '/Users/reuven/Courses/Current/Cisco-2024-07July-advanced/mymod.py'>"
      ]
     },
     "execution_count": 29,
     "metadata": {},
     "output_type": "execute_result"
    }
   ],
   "source": [
    "reload(mymod)"
   ]
  },
  {
   "cell_type": "markdown",
   "id": "1747ffdc-5281-4209-89bc-9ff45aef6471",
   "metadata": {},
   "source": [
    "# `__name__` and `'__main__'`\n",
    "\n",
    "The `__name__` variable always exists in Python, and it always contains a string indicating the current namespace. If you are in a module that was loaded with `import`, then the value of `__name__` will be the string of the file that was loaded. For example, when we said `import mymod`, the value of `__name__` inside of the module was the string `'mymod'`.\n",
    "\n",
    "But the first module/program to be loaded into Python when it starts up has a special name, the string `'__main__'`. Don't confuse this with the `main` function in C or other programming languages! This simply means that we're in the first program to be loaded, and that no one imported us.\n",
    "\n",
    "- `__name__` is a variable\n",
    "- `'__main__'` is a string value\n",
    "\n",
    "So what? We can then test the value of `__name__` in our module. If it's `'__main__'`, then we know the module is being run as a program, and not be imported as a module.\n",
    "\n",
    "We can then have a module that also offers interactive features. The module's defintions will always be loaded, but only the stuff after the `if __name__ == '__main__'` will be executed when we're interactive."
   ]
  },
  {
   "cell_type": "code",
   "execution_count": 30,
   "id": "42cf3a1d-82b6-40d7-8854-d98b31850c4e",
   "metadata": {},
   "outputs": [
    {
     "name": "stdout",
     "output_type": "stream",
     "text": [
      "Hello from mymod\n"
     ]
    },
    {
     "data": {
      "text/plain": [
       "<module 'mymod' from '/Users/reuven/Courses/Current/Cisco-2024-07July-advanced/mymod.py'>"
      ]
     },
     "execution_count": 30,
     "metadata": {},
     "output_type": "execute_result"
    }
   ],
   "source": [
    "reload(mymod)"
   ]
  },
  {
   "cell_type": "markdown",
   "id": "b3dabfb5-b404-4e06-9721-78701fa6db29",
   "metadata": {},
   "source": [
    "# What's the use case for `if __name__ == '__main__'`?\n",
    "\n",
    "- Run automated tests\n",
    "- Start up a server\n",
    "- Have the module demo its capabilities\n",
    "- Offer interactive services based on the module's functionality\n",
    "\n",
    "Above that line, you define variables, classes, and functions. Those will always be defined, whether it's run interactively or via `import`. But the stuff below that line will only be run interactively, when you execute the module as a program."
   ]
  },
  {
   "cell_type": "markdown",
   "id": "6d1e78d8-b326-4fc5-b261-993539d86ee4",
   "metadata": {},
   "source": [
    "# Exercise: Menu function\n",
    "\n",
    "Create a module, `menu.py`, which defines a single function, `menu`. This function takes any number of string arguments. Those are the options that the user can choose from. The idea is that someone writing a larger program wants to force the user to choose from among several predefined options. They can call `menu('a', 'b', 'c')`, and the user will be asked to enter a, b, or c.\n",
    "\n",
    "The user's choice will be returned to the caller.\n",
    "\n",
    "You should be able to write code like this:\n",
    "\n",
    "```python\n",
    "import menu\n",
    "\n",
    "user_choice = menu.menu('a', 'b', 'c')   # user will be asked to choose from a, b, or c; their choice will be returned + assigned\n",
    "print(f'User chose {user_choice}')\n",
    "```\n",
    "\n",
    "Also make it possible to execute the module from the command line. In such a case, it'll call `menu` with x, y, and z, and ask the user to choose from them. The user's choice will be displayed."
   ]
  },
  {
   "cell_type": "code",
   "execution_count": 32,
   "id": "12d1842a-c3c2-490d-8055-76a5e35c3d00",
   "metadata": {},
   "outputs": [
    {
     "name": "stdin",
     "output_type": "stream",
     "text": [
      "Choose (a/b/c):  q\n"
     ]
    },
    {
     "name": "stdout",
     "output_type": "stream",
     "text": [
      "q is not a valid option; try again\n"
     ]
    },
    {
     "name": "stdin",
     "output_type": "stream",
     "text": [
      "Choose (a/b/c):  r\n"
     ]
    },
    {
     "name": "stdout",
     "output_type": "stream",
     "text": [
      "r is not a valid option; try again\n"
     ]
    },
    {
     "name": "stdin",
     "output_type": "stream",
     "text": [
      "Choose (a/b/c):  abc\n"
     ]
    },
    {
     "name": "stdout",
     "output_type": "stream",
     "text": [
      "abc is not a valid option; try again\n"
     ]
    },
    {
     "name": "stdin",
     "output_type": "stream",
     "text": [
      "Choose (a/b/c):  b\n"
     ]
    },
    {
     "name": "stdout",
     "output_type": "stream",
     "text": [
      "User chose b\n"
     ]
    }
   ],
   "source": [
    "reload(menu)\n",
    "\n",
    "user_choice = menu.menu('a', 'b', 'c')   # user will be asked to choose from a, b, or c; their choice will be returned + assigned\n",
    "print(f'User chose {user_choice}')\n"
   ]
  },
  {
   "cell_type": "code",
   "execution_count": null,
   "id": "44f223b2-9d17-48a7-bc84-e96ead2d0bab",
   "metadata": {},
   "outputs": [],
   "source": []
  }
 ],
 "metadata": {
  "kernelspec": {
   "display_name": "Python 3 (ipykernel)",
   "language": "python",
   "name": "python3"
  },
  "language_info": {
   "codemirror_mode": {
    "name": "ipython",
    "version": 3
   },
   "file_extension": ".py",
   "mimetype": "text/x-python",
   "name": "python",
   "nbconvert_exporter": "python",
   "pygments_lexer": "ipython3",
   "version": "3.12.1"
  }
 },
 "nbformat": 4,
 "nbformat_minor": 5
}
