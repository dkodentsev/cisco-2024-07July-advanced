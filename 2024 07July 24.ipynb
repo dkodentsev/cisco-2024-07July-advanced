{
 "cells": [
  {
   "cell_type": "markdown",
   "id": "7419be46-bbdd-410f-bc5a-07d7b1abc1b7",
   "metadata": {},
   "source": [
    "# Agenda\n",
    "\n",
    "1. Modules + packages\n",
    "2. Basic objects\n",
    "    - `class`\n",
    "    - What happens when we define a class? What is a class, anyway?\n",
    "    - Attributes -- the core of objects in Python\n",
    "    - Attribute lookup via ICPO\n",
    "    - Magic methods\n",
    "    - Inheritance\n",
    "    - Methods vs. functions\n",
    "    - Properties\n",
    "    - Descriptors"
   ]
  },
  {
   "cell_type": "code",
   "execution_count": null,
   "id": "2607b5de-3599-443e-bd9c-b6dda1174e70",
   "metadata": {},
   "outputs": [],
   "source": []
  }
 ],
 "metadata": {
  "kernelspec": {
   "display_name": "Python 3 (ipykernel)",
   "language": "python",
   "name": "python3"
  },
  "language_info": {
   "codemirror_mode": {
    "name": "ipython",
    "version": 3
   },
   "file_extension": ".py",
   "mimetype": "text/x-python",
   "name": "python",
   "nbconvert_exporter": "python",
   "pygments_lexer": "ipython3",
   "version": "3.12.1"
  }
 },
 "nbformat": 4,
 "nbformat_minor": 5
}
