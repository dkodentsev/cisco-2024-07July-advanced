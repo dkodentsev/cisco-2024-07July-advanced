{
 "cells": [
  {
   "cell_type": "markdown",
   "metadata": {},
   "source": [
    "# Agenda\n",
    "\n",
    "1. Data structures (this morning)\n",
    "    - How are core data structures implemented\n",
    "    - Advanced core data structures (`Decimal` and `namedtuple`)\n",
    "    - Dictionaries and their variants\n",
    "2. Functions (this afternoon + Tuesday morning)\n",
    "    - Functions as nouns, not just verbs -- function objects, and how they work\n",
    "    - Attributes on function objects\n",
    "    - Bytecodes\n",
    "    - How are arguments mapped to parameters when we call a function? (positional and keyword arguments)\n",
    "    - Special parameter types (`*args` and `**kwargs`), keyword only, defaults\n",
    "    - Variable scoping (LEGB)\n",
    "    - The enclosing scope -- closures, inner functions, and why we want them\n",
    "    - Type hints/annotations, and what they are (and aren't)\n",
    "    - Dispatch tables\n",
    "3. Functional programming in Python (Tuesday afternoon)\n",
    "    - Comprehensions (list, set, dict comprehensions -- including nested comprehensions)\n",
    "    - Functions as arguments to other functions\n",
    "    - `lambda` and its friends\n",
    "4. Modules and packages (Tuesday afternoon)\n",
    "5. Objects (Wednesday)\n",
    "    - Classes\n",
    "    - Methods\n",
    "    - Instances\n",
    "    - Attributes -- one of the most important things in all of Python (ICPO rule for attribute lookup)\n",
    "    - Magic methods\n",
    "    - Properties\n",
    "    - Descriptors\n",
    "    - Methods vs. functions -- how are they different, and how does `self` work?\n",
    "6. Iterators and generators (Thursday morning)\n",
    "    - Making your class iterable\n",
    "    - Generator functions\n",
    "    - Generator comprehensions (aka generator expressions)\n",
    "7. Decorators (Thursday)\n",
    "8. Concurrency\n",
    "    - Threads and processes (multiprocessing)\n",
    "    - `asyncio`, and how it works (and doesn't)\n",
    "    - Where is this all going in the Python world?"
   ]
  },
  {
   "cell_type": "code",
   "execution_count": 1,
   "metadata": {},
   "outputs": [],
   "source": [
    "# gitautopush -- on PyPI\n"
   ]
  },
  {
   "cell_type": "markdown",
   "metadata": {},
   "source": [
    "# Assignment in Python\n",
    "\n",
    "In a language like C, a variable is an alias to a location in memory. So when I assign to a variable, the value is being put in a particular location in memory. This is why we need to (a) declare our variables as having a certain type and (b) only certain types can be assigned to certain variables.\n",
    "\n",
    "In Python, variables refer to values.  Variables are *not* memory locations! All values are objects, and all objects are on the heap. A variable is just a *pointer* to one of those values. This is why any Python variable can refer to any Python value, and why we don't (and cannot) declare our variables to be a particular type.\n",
    "\n",
    "This is the definition of a *dynamic language*.  It doesn't mean that values don't have types. It just means that variables don't have types."
   ]
  },
  {
   "cell_type": "code",
   "execution_count": 2,
   "metadata": {},
   "outputs": [],
   "source": [
    "x = 5    # when we assign, we're saying that the variable on the left should refer to the value on the right"
   ]
  },
  {
   "cell_type": "code",
   "execution_count": 3,
   "metadata": {},
   "outputs": [
    {
     "data": {
      "text/plain": [
       "int"
      ]
     },
     "execution_count": 3,
     "metadata": {},
     "output_type": "execute_result"
    }
   ],
   "source": [
    "type(x)"
   ]
  },
  {
   "cell_type": "code",
   "execution_count": 4,
   "metadata": {},
   "outputs": [
    {
     "data": {
      "text/plain": [
       "5"
      ]
     },
     "execution_count": 4,
     "metadata": {},
     "output_type": "execute_result"
    }
   ],
   "source": [
    "# there is no way in Python for one variable to refer to another variable\n",
    "\n",
    "x = 5\n",
    "y = x    # this doesn't mean that y \"follows x around.\" Rather, it says that y refers to whatever x currently refers to\n",
    "\n",
    "y"
   ]
  },
  {
   "cell_type": "code",
   "execution_count": 5,
   "metadata": {},
   "outputs": [
    {
     "data": {
      "text/plain": [
       "5"
      ]
     },
     "execution_count": 5,
     "metadata": {},
     "output_type": "execute_result"
    }
   ],
   "source": [
    "x = 10  # we're reassigned x\n",
    "\n",
    "y"
   ]
  },
  {
   "cell_type": "code",
   "execution_count": 6,
   "metadata": {},
   "outputs": [
    {
     "data": {
      "text/plain": [
       "['!', 20, 30]"
      ]
     },
     "execution_count": 6,
     "metadata": {},
     "output_type": "execute_result"
    }
   ],
   "source": [
    "# if the value is mutable, then things get stickier\n",
    "\n",
    "x = [10, 20, 30]\n",
    "y = x\n",
    "\n",
    "x[0] = '!'   # I have modified the list to which x refers .. which is also the list to which y refers!\n",
    "y"
   ]
  },
  {
   "cell_type": "code",
   "execution_count": 7,
   "metadata": {},
   "outputs": [
    {
     "data": {
      "text/plain": [
       "[10, 20, 30, [...]]"
      ]
     },
     "execution_count": 7,
     "metadata": {},
     "output_type": "execute_result"
    }
   ],
   "source": [
    "mylist = [10, 20, 30]\n",
    "mylist.append(mylist)\n",
    "\n",
    "mylist"
   ]
  },
  {
   "cell_type": "code",
   "execution_count": 8,
   "metadata": {},
   "outputs": [],
   "source": [
    "del(mylist)   # delete the variable"
   ]
  },
  {
   "cell_type": "code",
   "execution_count": 9,
   "metadata": {},
   "outputs": [],
   "source": [
    "x = None"
   ]
  },
  {
   "cell_type": "code",
   "execution_count": 10,
   "metadata": {},
   "outputs": [
    {
     "data": {
      "text/plain": [
       "NoneType"
      ]
     },
     "execution_count": 10,
     "metadata": {},
     "output_type": "execute_result"
    }
   ],
   "source": [
    "type(x)    "
   ]
  },
  {
   "cell_type": "markdown",
   "metadata": {},
   "source": [
    "`None` exists so that we can say that we have no value, and make that distinct from 0, `False`, empty string, etc. It's its own value. In a boolean context (i.e., in an `if` statement), it is considered `False`. But if you check whether `None` is the same as something else, it isn't.\n",
    "\n",
    "Where do we use `None`?\n",
    "\n",
    "- A function that doesn't explicitly return a value returns `None`\n",
    "- Many times, default argument values in functions have a value of `None`\n",
    "- You'll see it for default attributes in objects, too"
   ]
  },
  {
   "cell_type": "code",
   "execution_count": 11,
   "metadata": {},
   "outputs": [
    {
     "data": {
      "text/plain": [
       "True"
      ]
     },
     "execution_count": 11,
     "metadata": {},
     "output_type": "execute_result"
    }
   ],
   "source": [
    "None == None"
   ]
  },
  {
   "cell_type": "code",
   "execution_count": 12,
   "metadata": {},
   "outputs": [
    {
     "data": {
      "text/plain": [
       "False"
      ]
     },
     "execution_count": 12,
     "metadata": {},
     "output_type": "execute_result"
    }
   ],
   "source": [
    "None == False"
   ]
  },
  {
   "cell_type": "code",
   "execution_count": 13,
   "metadata": {},
   "outputs": [
    {
     "data": {
      "text/plain": [
       "False"
      ]
     },
     "execution_count": 13,
     "metadata": {},
     "output_type": "execute_result"
    }
   ],
   "source": [
    "None == 0"
   ]
  },
  {
   "cell_type": "code",
   "execution_count": 15,
   "metadata": {},
   "outputs": [
    {
     "name": "stdout",
     "output_type": "stream",
     "text": [
      "Yes! It is None!\n"
     ]
    }
   ],
   "source": [
    "# how can I check to see if something is None?\n",
    "\n",
    "x = None\n",
    "\n",
    "if x == None:   # unfortunately, this works -- it isn't Pythonic\n",
    "    print('Yes! It is None!')"
   ]
  },
  {
   "cell_type": "markdown",
   "metadata": {},
   "source": [
    "`None` is a singleton object; every `None` in Python is not only equal to every other one, but it is the exact same object."
   ]
  },
  {
   "cell_type": "code",
   "execution_count": 16,
   "metadata": {},
   "outputs": [
    {
     "data": {
      "text/plain": [
       "4466115072"
      ]
     },
     "execution_count": 16,
     "metadata": {},
     "output_type": "execute_result"
    }
   ],
   "source": [
    "id(None)   # this returns the unique object number"
   ]
  },
  {
   "cell_type": "code",
   "execution_count": 17,
   "metadata": {},
   "outputs": [
    {
     "data": {
      "text/plain": [
       "4466115072"
      ]
     },
     "execution_count": 17,
     "metadata": {},
     "output_type": "execute_result"
    }
   ],
   "source": [
    "id(None)"
   ]
  },
  {
   "cell_type": "code",
   "execution_count": 18,
   "metadata": {},
   "outputs": [],
   "source": [
    "new_none = type(None)()"
   ]
  },
  {
   "cell_type": "code",
   "execution_count": 19,
   "metadata": {},
   "outputs": [
    {
     "data": {
      "text/plain": [
       "4466115072"
      ]
     },
     "execution_count": 19,
     "metadata": {},
     "output_type": "execute_result"
    }
   ],
   "source": [
    "id(new_none)"
   ]
  },
  {
   "cell_type": "code",
   "execution_count": 20,
   "metadata": {},
   "outputs": [],
   "source": [
    "# According to PEP 8, the Python style guide, we shouldn't use \"==\" on singletons, especially with None.\n",
    "# Rather, we should check the identity of the object with the \"is\" operator.\n",
    "\n",
    "# \"is\" doesn't check whether two things are equal. It checks whether their ids are equal"
   ]
  },
  {
   "cell_type": "code",
   "execution_count": 21,
   "metadata": {},
   "outputs": [
    {
     "data": {
      "text/plain": [
       "True"
      ]
     },
     "execution_count": 21,
     "metadata": {},
     "output_type": "execute_result"
    }
   ],
   "source": [
    "id(None) == id(new_none)"
   ]
  },
  {
   "cell_type": "code",
   "execution_count": 22,
   "metadata": {},
   "outputs": [
    {
     "data": {
      "text/plain": [
       "True"
      ]
     },
     "execution_count": 22,
     "metadata": {},
     "output_type": "execute_result"
    }
   ],
   "source": [
    "# we can say the same thing, much better:\n",
    "\n",
    "None is new_none"
   ]
  },
  {
   "cell_type": "code",
   "execution_count": 25,
   "metadata": {},
   "outputs": [],
   "source": [
    "ni = type(NotImplemented)()"
   ]
  },
  {
   "cell_type": "code",
   "execution_count": 26,
   "metadata": {},
   "outputs": [
    {
     "data": {
      "text/plain": [
       "True"
      ]
     },
     "execution_count": 26,
     "metadata": {},
     "output_type": "execute_result"
    }
   ],
   "source": [
    "NotImplemented is ni"
   ]
  },
  {
   "cell_type": "code",
   "execution_count": 27,
   "metadata": {},
   "outputs": [
    {
     "data": {
      "text/plain": [
       "4466981456"
      ]
     },
     "execution_count": 27,
     "metadata": {},
     "output_type": "execute_result"
    }
   ],
   "source": [
    "id(5)  # yes, you get back a unique ID of the object... which happens to be its address in memory!"
   ]
  },
  {
   "cell_type": "code",
   "execution_count": 28,
   "metadata": {},
   "outputs": [
    {
     "data": {
      "text/plain": [
       "<_io.TextIOWrapper name='/etc/passwd' mode='r' encoding='UTF-8'>"
      ]
     },
     "execution_count": 28,
     "metadata": {},
     "output_type": "execute_result"
    }
   ],
   "source": [
    "f = open('/etc/passwd')\n",
    "\n",
    "f"
   ]
  },
  {
   "cell_type": "markdown",
   "metadata": {},
   "source": [
    "# What does `type` do?\n",
    "\n",
    "It actually does *two* things:\n",
    "\n",
    "1. If you give it just one argument, it returns the type of the object, basically the same thing that you would get from the object's `__class__` attribute.\n",
    "2. If you give it three arguments, then you get back a new class which you have created. This is pretty rare."
   ]
  },
  {
   "cell_type": "code",
   "execution_count": 29,
   "metadata": {},
   "outputs": [
    {
     "data": {
      "text/plain": [
       "str"
      ]
     },
     "execution_count": 29,
     "metadata": {},
     "output_type": "execute_result"
    }
   ],
   "source": [
    "type('abcd')   # this will return 'abcd'.__class__"
   ]
  },
  {
   "cell_type": "code",
   "execution_count": 30,
   "metadata": {},
   "outputs": [
    {
     "data": {
      "text/plain": [
       "True"
      ]
     },
     "execution_count": 30,
     "metadata": {},
     "output_type": "execute_result"
    }
   ],
   "source": [
    "x = 100\n",
    "y = 100\n",
    "\n",
    "x == y    # are these the same value?"
   ]
  },
  {
   "cell_type": "code",
   "execution_count": 31,
   "metadata": {},
   "outputs": [
    {
     "data": {
      "text/plain": [
       "True"
      ]
     },
     "execution_count": 31,
     "metadata": {},
     "output_type": "execute_result"
    }
   ],
   "source": [
    "x is y    # are these the same object in memory?"
   ]
  },
  {
   "cell_type": "code",
   "execution_count": 32,
   "metadata": {},
   "outputs": [
    {
     "data": {
      "text/plain": [
       "True"
      ]
     },
     "execution_count": 32,
     "metadata": {},
     "output_type": "execute_result"
    }
   ],
   "source": [
    "x = 1000\n",
    "y = 1000\n",
    "\n",
    "x == y"
   ]
  },
  {
   "cell_type": "code",
   "execution_count": 33,
   "metadata": {},
   "outputs": [
    {
     "data": {
      "text/plain": [
       "False"
      ]
     },
     "execution_count": 33,
     "metadata": {},
     "output_type": "execute_result"
    }
   ],
   "source": [
    "x is y"
   ]
  },
  {
   "cell_type": "markdown",
   "metadata": {},
   "source": [
    "Python knows that we'll be using a lot of small integers, and thus creates -- when it starts up -- all of the integers from -5 to 256. So any time you use one of those integers, Python just grabs the object it already has available. Thus, these small integers will always be `is` to each other.\n",
    "\n",
    "But once you get into larger integers, that's no longer the case."
   ]
  },
  {
   "cell_type": "code",
   "execution_count": 34,
   "metadata": {},
   "outputs": [
    {
     "data": {
      "text/plain": [
       "True"
      ]
     },
     "execution_count": 34,
     "metadata": {},
     "output_type": "execute_result"
    }
   ],
   "source": [
    "x = 'abcd'\n",
    "y = 'abcd'\n",
    "\n",
    "x == y"
   ]
  },
  {
   "cell_type": "code",
   "execution_count": 35,
   "metadata": {},
   "outputs": [
    {
     "data": {
      "text/plain": [
       "True"
      ]
     },
     "execution_count": 35,
     "metadata": {},
     "output_type": "execute_result"
    }
   ],
   "source": [
    "x is y"
   ]
  },
  {
   "cell_type": "code",
   "execution_count": 36,
   "metadata": {},
   "outputs": [
    {
     "data": {
      "text/plain": [
       "True"
      ]
     },
     "execution_count": 36,
     "metadata": {},
     "output_type": "execute_result"
    }
   ],
   "source": [
    "x = 'abcd' * 10_000\n",
    "y = 'abcd' * 10_000\n",
    "\n",
    "x == y"
   ]
  },
  {
   "cell_type": "code",
   "execution_count": 37,
   "metadata": {},
   "outputs": [
    {
     "data": {
      "text/plain": [
       "False"
      ]
     },
     "execution_count": 37,
     "metadata": {},
     "output_type": "execute_result"
    }
   ],
   "source": [
    "x is y"
   ]
  },
  {
   "cell_type": "code",
   "execution_count": 38,
   "metadata": {},
   "outputs": [
    {
     "data": {
      "text/plain": [
       "True"
      ]
     },
     "execution_count": 38,
     "metadata": {},
     "output_type": "execute_result"
    }
   ],
   "source": [
    "x = 'ab.cd'\n",
    "y = 'ab.cd'\n",
    "\n",
    "x == y"
   ]
  },
  {
   "cell_type": "code",
   "execution_count": 39,
   "metadata": {},
   "outputs": [
    {
     "data": {
      "text/plain": [
       "False"
      ]
     },
     "execution_count": 39,
     "metadata": {},
     "output_type": "execute_result"
    }
   ],
   "source": [
    "x is y"
   ]
  },
  {
   "cell_type": "markdown",
   "metadata": {},
   "source": [
    "What's going on?\n",
    "\n",
    "When we assign to a variable in Python, that variable name is turned into a string, and is then used as the key in an internal dict to store our value. This means that every time we store or retrieve a variable's value, we're creating a new string.\n",
    "\n",
    "Python's solution to this is that any short string (I think < 500 characters) that only contains characters that are legal in an identifier are cached. This means that the first time we see such a string, it's really created. The second and next times, we just reuse the same string.\n",
    "\n",
    "- If the string is long, then this caching doesn't happen\n",
    "- If the string contains `.` (or some other illegal character in an identifier), then it doesn't either.\n",
    "\n",
    "This is transparent to us, but if you use `is` to compare strings, you'll discover it."
   ]
  },
  {
   "cell_type": "code",
   "execution_count": 40,
   "metadata": {},
   "outputs": [
    {
     "data": {
      "text/plain": [
       "100"
      ]
     },
     "execution_count": 40,
     "metadata": {},
     "output_type": "execute_result"
    }
   ],
   "source": [
    "x = 100\n",
    "\n",
    "globals()['x']  # retrieves the value of x"
   ]
  },
  {
   "cell_type": "code",
   "execution_count": 42,
   "metadata": {},
   "outputs": [],
   "source": [
    "globals()['x'] = 9876"
   ]
  },
  {
   "cell_type": "code",
   "execution_count": 43,
   "metadata": {},
   "outputs": [
    {
     "data": {
      "text/plain": [
       "9876"
      ]
     },
     "execution_count": 43,
     "metadata": {},
     "output_type": "execute_result"
    }
   ],
   "source": [
    "x"
   ]
  },
  {
   "cell_type": "markdown",
   "metadata": {},
   "source": [
    "Only use `is` to compare with `None`. Otherwise, use `==`.\n",
    "\n"
   ]
  },
  {
   "cell_type": "code",
   "execution_count": 45,
   "metadata": {},
   "outputs": [
    {
     "data": {
      "text/plain": [
       "True"
      ]
     },
     "execution_count": 45,
     "metadata": {},
     "output_type": "execute_result"
    }
   ],
   "source": [
    "# False is a singleton, too\n",
    "bool(0) is bool(0)"
   ]
  },
  {
   "cell_type": "code",
   "execution_count": 46,
   "metadata": {},
   "outputs": [
    {
     "data": {
      "text/plain": [
       "True"
      ]
     },
     "execution_count": 46,
     "metadata": {},
     "output_type": "execute_result"
    }
   ],
   "source": [
    "# True is a singleton, too\n",
    "bool(1) is bool(1)"
   ]
  },
  {
   "cell_type": "markdown",
   "metadata": {},
   "source": [
    "# Integers\n",
    "\n",
    "Many people new to Python ask: What is the biggest integer we're allowed? Or how many bits are our integers?\n",
    "\n",
    "This is the *wrong* question to ask! Because integers are objects; they run themselves, and manage their own memory. Integers can be as big as you want, so long as you don't run out of memory."
   ]
  },
  {
   "cell_type": "code",
   "execution_count": 47,
   "metadata": {},
   "outputs": [
    {
     "data": {
      "text/plain": [
       "28"
      ]
     },
     "execution_count": 47,
     "metadata": {},
     "output_type": "execute_result"
    }
   ],
   "source": [
    "import sys   \n",
    "\n",
    "sys.getsizeof(0)   # how many bytes does something in Python take up?"
   ]
  },
  {
   "cell_type": "code",
   "execution_count": 51,
   "metadata": {},
   "outputs": [
    {
     "data": {
      "text/plain": [
       "32"
      ]
     },
     "execution_count": 51,
     "metadata": {},
     "output_type": "execute_result"
    }
   ],
   "source": [
    "sys.getsizeof(10_000_000_000_000_000)"
   ]
  },
  {
   "cell_type": "code",
   "execution_count": 52,
   "metadata": {},
   "outputs": [],
   "source": [
    "x = 10_000_000_000_000_000\n",
    "x = x ** 1000"
   ]
  },
  {
   "cell_type": "code",
   "execution_count": 53,
   "metadata": {},
   "outputs": [
    {
     "data": {
      "text/plain": [
       "7112"
      ]
     },
     "execution_count": 53,
     "metadata": {},
     "output_type": "execute_result"
    }
   ],
   "source": [
    "sys.getsizeof(x)"
   ]
  },
  {
   "cell_type": "code",
   "execution_count": 55,
   "metadata": {},
   "outputs": [],
   "source": [
    "x = x ** 100"
   ]
  },
  {
   "cell_type": "code",
   "execution_count": 56,
   "metadata": {},
   "outputs": [
    {
     "data": {
      "text/plain": [
       "708704"
      ]
     },
     "execution_count": 56,
     "metadata": {},
     "output_type": "execute_result"
    }
   ],
   "source": [
    "sys.getsizeof(x)"
   ]
  },
  {
   "cell_type": "code",
   "execution_count": 57,
   "metadata": {},
   "outputs": [
    {
     "data": {
      "text/plain": [
       "0.30000000000000004"
      ]
     },
     "execution_count": 57,
     "metadata": {},
     "output_type": "execute_result"
    }
   ],
   "source": [
    "# floats\n",
    "\n",
    "0.1 + 0.2 "
   ]
  },
  {
   "cell_type": "code",
   "execution_count": 58,
   "metadata": {},
   "outputs": [
    {
     "data": {
      "text/plain": [
       "Decimal('0.3')"
      ]
     },
     "execution_count": 58,
     "metadata": {},
     "output_type": "execute_result"
    }
   ],
   "source": [
    "# what if we could keep our number in decimal, and never go to binary?\n",
    "# we can trade off longer execution and more memory with having greater precision\n",
    "\n",
    "from decimal import Decimal \n",
    "\n",
    "x = Decimal('0.1')\n",
    "y = Decimal('0.2')\n",
    "\n",
    "x + y"
   ]
  },
  {
   "cell_type": "code",
   "execution_count": 59,
   "metadata": {},
   "outputs": [
    {
     "data": {
      "text/plain": [
       "0.3"
      ]
     },
     "execution_count": 59,
     "metadata": {},
     "output_type": "execute_result"
    }
   ],
   "source": [
    "float(x+y)"
   ]
  },
  {
   "cell_type": "code",
   "execution_count": 60,
   "metadata": {},
   "outputs": [
    {
     "data": {
      "text/plain": [
       "0.3"
      ]
     },
     "execution_count": 60,
     "metadata": {},
     "output_type": "execute_result"
    }
   ],
   "source": [
    "# another solution to the float problem: Use the builtin round() function\n",
    "\n",
    "round(0.1 + 0.2, 2)  # round things off after 2 digits past the decimal point"
   ]
  },
  {
   "cell_type": "code",
   "execution_count": 61,
   "metadata": {},
   "outputs": [],
   "source": [
    "# another solution: use ints!"
   ]
  },
  {
   "cell_type": "code",
   "execution_count": 62,
   "metadata": {},
   "outputs": [
    {
     "data": {
      "text/plain": [
       "24"
      ]
     },
     "execution_count": 62,
     "metadata": {},
     "output_type": "execute_result"
    }
   ],
   "source": [
    "sys.getsizeof(0.1)"
   ]
  },
  {
   "cell_type": "code",
   "execution_count": 63,
   "metadata": {},
   "outputs": [
    {
     "data": {
      "text/plain": [
       "24"
      ]
     },
     "execution_count": 63,
     "metadata": {},
     "output_type": "execute_result"
    }
   ],
   "source": [
    "sys.getsizeof(1234567890.1234567890)"
   ]
  },
  {
   "cell_type": "code",
   "execution_count": 64,
   "metadata": {},
   "outputs": [
    {
     "data": {
      "text/plain": [
       "104"
      ]
     },
     "execution_count": 64,
     "metadata": {},
     "output_type": "execute_result"
    }
   ],
   "source": [
    "sys.getsizeof(x)"
   ]
  },
  {
   "cell_type": "code",
   "execution_count": null,
   "metadata": {},
   "outputs": [],
   "source": [
    "# teraflops  -- trillions of floating point operations per second"
   ]
  },
  {
   "cell_type": "code",
   "execution_count": 65,
   "metadata": {},
   "outputs": [
    {
     "name": "stdout",
     "output_type": "stream",
     "text": [
      "26.1 ns ± 1.76 ns per loop (mean ± std. dev. of 7 runs, 10,000,000 loops each)\n"
     ]
    }
   ],
   "source": [
    "x = 12345.6789\n",
    "y = 98765.4321\n",
    "\n",
    "%timeit x * y"
   ]
  },
  {
   "cell_type": "code",
   "execution_count": 66,
   "metadata": {},
   "outputs": [
    {
     "name": "stdout",
     "output_type": "stream",
     "text": [
      "74.1 ns ± 2.01 ns per loop (mean ± std. dev. of 7 runs, 10,000,000 loops each)\n"
     ]
    }
   ],
   "source": [
    "x = Decimal('12345.6789')\n",
    "y = Decimal('98765.4321')\n",
    "\n",
    "%timeit x * y"
   ]
  },
  {
   "cell_type": "code",
   "execution_count": 68,
   "metadata": {},
   "outputs": [
    {
     "data": {
      "text/plain": [
       "(35-5j)"
      ]
     },
     "execution_count": 68,
     "metadata": {},
     "output_type": "execute_result"
    }
   ],
   "source": [
    "# Python does have a third numeric type: Complex!\n",
    "\n",
    "x = 20+3j\n",
    "y = 15-8j\n",
    "\n",
    "x + y"
   ]
  },
  {
   "cell_type": "code",
   "execution_count": 69,
   "metadata": {},
   "outputs": [
    {
     "data": {
      "text/plain": [
       "32"
      ]
     },
     "execution_count": 69,
     "metadata": {},
     "output_type": "execute_result"
    }
   ],
   "source": [
    "sys.getsizeof(x)"
   ]
  },
  {
   "cell_type": "code",
   "execution_count": 70,
   "metadata": {},
   "outputs": [
    {
     "data": {
      "text/plain": [
       "32"
      ]
     },
     "execution_count": 70,
     "metadata": {},
     "output_type": "execute_result"
    }
   ],
   "source": [
    "sys.getsizeof(y)"
   ]
  },
  {
   "cell_type": "markdown",
   "metadata": {},
   "source": [
    "# Lists\n",
    "\n",
    "Many people, when they come to Python, call lists \"arrays.\" This is not true! They aren't arrays, because:\n",
    "\n",
    "1. Arrays have a fixed size, set when we create them\n",
    "2. All of the elements of an array must be of the same type\n",
    "\n",
    "Neither of these is true regarding lists. We can modify them (their contents and their lengths), and we can also put any type we want, and any combination of types we want in a list.\n",
    "\n",
    "That said: The tradition in Python is to have lists contain only one type. \n",
    "\n",
    "But... behind the scenes, a list is implemented as an array.  How?\n",
    "\n",
    "1. A list's array is allocated with extra space. So when we add new elements, those spaces are used.\n",
    "2. When we run out of those spaces, then a new array is allocated, with extra space there, as well.\n",
    "3. Since all values in Python are referred to via pointers, we can argue that the array contains only one type, namely `*PyObject` in C."
   ]
  },
  {
   "cell_type": "code",
   "execution_count": 71,
   "metadata": {},
   "outputs": [
    {
     "data": {
      "text/plain": [
       "88"
      ]
     },
     "execution_count": 71,
     "metadata": {},
     "output_type": "execute_result"
    }
   ],
   "source": [
    "mylist = [10, 20, 30]\n",
    "sys.getsizeof(mylist)"
   ]
  },
  {
   "cell_type": "code",
   "execution_count": 72,
   "metadata": {},
   "outputs": [
    {
     "name": "stdout",
     "output_type": "stream",
     "text": [
      "i=0, len(mylist)=0, sys.getsizeof(mylist)=56\n",
      "i=1, len(mylist)=1, sys.getsizeof(mylist)=88\n",
      "i=2, len(mylist)=2, sys.getsizeof(mylist)=88\n",
      "i=3, len(mylist)=3, sys.getsizeof(mylist)=88\n",
      "i=4, len(mylist)=4, sys.getsizeof(mylist)=88\n",
      "i=5, len(mylist)=5, sys.getsizeof(mylist)=120\n",
      "i=6, len(mylist)=6, sys.getsizeof(mylist)=120\n",
      "i=7, len(mylist)=7, sys.getsizeof(mylist)=120\n",
      "i=8, len(mylist)=8, sys.getsizeof(mylist)=120\n",
      "i=9, len(mylist)=9, sys.getsizeof(mylist)=184\n",
      "i=10, len(mylist)=10, sys.getsizeof(mylist)=184\n",
      "i=11, len(mylist)=11, sys.getsizeof(mylist)=184\n",
      "i=12, len(mylist)=12, sys.getsizeof(mylist)=184\n",
      "i=13, len(mylist)=13, sys.getsizeof(mylist)=184\n",
      "i=14, len(mylist)=14, sys.getsizeof(mylist)=184\n",
      "i=15, len(mylist)=15, sys.getsizeof(mylist)=184\n",
      "i=16, len(mylist)=16, sys.getsizeof(mylist)=184\n",
      "i=17, len(mylist)=17, sys.getsizeof(mylist)=248\n",
      "i=18, len(mylist)=18, sys.getsizeof(mylist)=248\n",
      "i=19, len(mylist)=19, sys.getsizeof(mylist)=248\n",
      "i=20, len(mylist)=20, sys.getsizeof(mylist)=248\n",
      "i=21, len(mylist)=21, sys.getsizeof(mylist)=248\n",
      "i=22, len(mylist)=22, sys.getsizeof(mylist)=248\n",
      "i=23, len(mylist)=23, sys.getsizeof(mylist)=248\n",
      "i=24, len(mylist)=24, sys.getsizeof(mylist)=248\n",
      "i=25, len(mylist)=25, sys.getsizeof(mylist)=312\n",
      "i=26, len(mylist)=26, sys.getsizeof(mylist)=312\n",
      "i=27, len(mylist)=27, sys.getsizeof(mylist)=312\n",
      "i=28, len(mylist)=28, sys.getsizeof(mylist)=312\n",
      "i=29, len(mylist)=29, sys.getsizeof(mylist)=312\n",
      "i=30, len(mylist)=30, sys.getsizeof(mylist)=312\n",
      "i=31, len(mylist)=31, sys.getsizeof(mylist)=312\n",
      "i=32, len(mylist)=32, sys.getsizeof(mylist)=312\n",
      "i=33, len(mylist)=33, sys.getsizeof(mylist)=376\n",
      "i=34, len(mylist)=34, sys.getsizeof(mylist)=376\n",
      "i=35, len(mylist)=35, sys.getsizeof(mylist)=376\n",
      "i=36, len(mylist)=36, sys.getsizeof(mylist)=376\n",
      "i=37, len(mylist)=37, sys.getsizeof(mylist)=376\n",
      "i=38, len(mylist)=38, sys.getsizeof(mylist)=376\n",
      "i=39, len(mylist)=39, sys.getsizeof(mylist)=376\n"
     ]
    }
   ],
   "source": [
    "mylist = []\n",
    "\n",
    "for i in range(40):\n",
    "    print(f'{i=}, {len(mylist)=}, {sys.getsizeof(mylist)=}')\n",
    "    mylist.append(i)"
   ]
  },
  {
   "cell_type": "code",
   "execution_count": 73,
   "metadata": {},
   "outputs": [
    {
     "data": {
      "text/plain": [
       "10"
      ]
     },
     "execution_count": 73,
     "metadata": {},
     "output_type": "execute_result"
    }
   ],
   "source": [
    "mylist[10]"
   ]
  },
  {
   "cell_type": "code",
   "execution_count": 74,
   "metadata": {},
   "outputs": [
    {
     "data": {
      "text/plain": [
       "4520534144"
      ]
     },
     "execution_count": 74,
     "metadata": {},
     "output_type": "execute_result"
    }
   ],
   "source": [
    "id(mylist)"
   ]
  },
  {
   "cell_type": "code",
   "execution_count": 75,
   "metadata": {},
   "outputs": [
    {
     "data": {
      "text/plain": [
       "4520534154"
      ]
     },
     "execution_count": 75,
     "metadata": {},
     "output_type": "execute_result"
    }
   ],
   "source": [
    "id(mylist) + 10"
   ]
  },
  {
   "cell_type": "code",
   "execution_count": 76,
   "metadata": {},
   "outputs": [
    {
     "data": {
      "text/plain": [
       "376"
      ]
     },
     "execution_count": 76,
     "metadata": {},
     "output_type": "execute_result"
    }
   ],
   "source": [
    "sys.getsizeof(mylist)"
   ]
  },
  {
   "cell_type": "code",
   "execution_count": 77,
   "metadata": {},
   "outputs": [],
   "source": [
    "mylist[0] = 'abcdefghij' * 10_000_000"
   ]
  },
  {
   "cell_type": "code",
   "execution_count": 78,
   "metadata": {},
   "outputs": [
    {
     "data": {
      "text/plain": [
       "376"
      ]
     },
     "execution_count": 78,
     "metadata": {},
     "output_type": "execute_result"
    }
   ],
   "source": [
    "sys.getsizeof(mylist)   # it's only giving us the size of the pointers, not the values to which the pointers are referring"
   ]
  },
  {
   "cell_type": "code",
   "execution_count": 79,
   "metadata": {},
   "outputs": [
    {
     "data": {
      "text/plain": [
       "NoneType"
      ]
     },
     "execution_count": 79,
     "metadata": {},
     "output_type": "execute_result"
    }
   ],
   "source": [
    "mylist = [10, 20, 30]\n",
    "\n",
    "# the general rule of thumb in Python is:\n",
    "# if you invoke a method \n",
    "# and the method modifies the object\n",
    "# then the method returns None, not the object\n",
    "\n",
    "mylist = mylist.append(40)   \n",
    "type(mylist)"
   ]
  },
  {
   "cell_type": "code",
   "execution_count": 80,
   "metadata": {},
   "outputs": [
    {
     "data": {
      "text/plain": [
       "[10, 20, 30, 40]"
      ]
     },
     "execution_count": 80,
     "metadata": {},
     "output_type": "execute_result"
    }
   ],
   "source": [
    "# if you want to append to a list, then just invoke append\n",
    "# *not* on the right side of assignment\n",
    "\n",
    "mylist = [10, 20, 30]\n",
    "mylist.append(40)\n",
    "\n",
    "mylist"
   ]
  },
  {
   "cell_type": "code",
   "execution_count": 81,
   "metadata": {},
   "outputs": [
    {
     "data": {
      "text/plain": [
       "40"
      ]
     },
     "execution_count": 81,
     "metadata": {},
     "output_type": "execute_result"
    }
   ],
   "source": [
    "mylist.pop()"
   ]
  },
  {
   "cell_type": "code",
   "execution_count": 82,
   "metadata": {},
   "outputs": [
    {
     "data": {
      "text/plain": [
       "[10, 20, 30]"
      ]
     },
     "execution_count": 82,
     "metadata": {},
     "output_type": "execute_result"
    }
   ],
   "source": [
    "mylist"
   ]
  },
  {
   "cell_type": "markdown",
   "metadata": {},
   "source": [
    "# Tuples\n",
    "\n",
    "Tuples are for use as Python's structs/records. The idea is that if you have fields of different types, you'll use a tuple. When you retrieve from a database, you will often get a list of tuples -- a list, because you have many tuples of the same type, and tuples, because the fields/columns are different types.\n",
    "\n",
    "I don't use tuples very much -- but Python does, behind the scenes, and there are many people who do.\n",
    "\n",
    "Because tuples are immutable, they don't need that extra space in a list. So they're more compact than lists. They're by far the most optimized/smallest data structure in Python.\n",
    "\n",
    "When you invoke a function, the arguments are passed as a tuple."
   ]
  },
  {
   "cell_type": "code",
   "execution_count": 83,
   "metadata": {},
   "outputs": [],
   "source": [
    "person = ('Reuven', 'Lerner', 46)"
   ]
  },
  {
   "cell_type": "code",
   "execution_count": 84,
   "metadata": {},
   "outputs": [
    {
     "data": {
      "text/plain": [
       "'Reuven'"
      ]
     },
     "execution_count": 84,
     "metadata": {},
     "output_type": "execute_result"
    }
   ],
   "source": [
    "person[0]"
   ]
  },
  {
   "cell_type": "code",
   "execution_count": 85,
   "metadata": {},
   "outputs": [
    {
     "data": {
      "text/plain": [
       "'Lerner'"
      ]
     },
     "execution_count": 85,
     "metadata": {},
     "output_type": "execute_result"
    }
   ],
   "source": [
    "person[1]"
   ]
  },
  {
   "cell_type": "code",
   "execution_count": 86,
   "metadata": {},
   "outputs": [
    {
     "data": {
      "text/plain": [
       "46"
      ]
     },
     "execution_count": 86,
     "metadata": {},
     "output_type": "execute_result"
    }
   ],
   "source": [
    "person[2]"
   ]
  },
  {
   "cell_type": "code",
   "execution_count": 87,
   "metadata": {},
   "outputs": [],
   "source": [
    "# I don't like this, because I don't want to have think about/remember which numeric\n",
    "# index goes with which field.\n",
    "\n",
    "# enter named tuples!"
   ]
  },
  {
   "cell_type": "code",
   "execution_count": 88,
   "metadata": {},
   "outputs": [],
   "source": [
    "from collections import namedtuple"
   ]
  },
  {
   "cell_type": "code",
   "execution_count": 93,
   "metadata": {},
   "outputs": [],
   "source": [
    "# I'm going to create a new Person class, using namedtuple. The new class\n",
    "# will be a subclass of tuple.\n",
    "\n",
    "# every class needs to have a __name__ (its name, as a string). Here, we \n",
    "# provide that name as the first argument to namedtuple.\n",
    "\n",
    "# the second argument is a string (separated by whitespace) or a list of strings,\n",
    "# either way, the field names you want for your named tuple\n",
    "\n",
    "Person = namedtuple('Person', 'first last shoesize')"
   ]
  },
  {
   "cell_type": "code",
   "execution_count": 94,
   "metadata": {},
   "outputs": [
    {
     "data": {
      "text/plain": [
       "type"
      ]
     },
     "execution_count": 94,
     "metadata": {},
     "output_type": "execute_result"
    }
   ],
   "source": [
    "type(Person)"
   ]
  },
  {
   "cell_type": "code",
   "execution_count": 95,
   "metadata": {},
   "outputs": [
    {
     "data": {
      "text/plain": [
       "(tuple,)"
      ]
     },
     "execution_count": 95,
     "metadata": {},
     "output_type": "execute_result"
    }
   ],
   "source": [
    "Person.__bases__   # who does Person inherit from?"
   ]
  },
  {
   "cell_type": "code",
   "execution_count": 96,
   "metadata": {},
   "outputs": [],
   "source": [
    "# let's create a person!\n",
    "\n",
    "p = Person('Reuven', 'Lerner', 46)"
   ]
  },
  {
   "cell_type": "code",
   "execution_count": 97,
   "metadata": {},
   "outputs": [
    {
     "data": {
      "text/plain": [
       "'Reuven'"
      ]
     },
     "execution_count": 97,
     "metadata": {},
     "output_type": "execute_result"
    }
   ],
   "source": [
    "p[0]"
   ]
  },
  {
   "cell_type": "code",
   "execution_count": 98,
   "metadata": {},
   "outputs": [
    {
     "data": {
      "text/plain": [
       "'Lerner'"
      ]
     },
     "execution_count": 98,
     "metadata": {},
     "output_type": "execute_result"
    }
   ],
   "source": [
    "p[1]"
   ]
  },
  {
   "cell_type": "code",
   "execution_count": 99,
   "metadata": {},
   "outputs": [
    {
     "data": {
      "text/plain": [
       "46"
      ]
     },
     "execution_count": 99,
     "metadata": {},
     "output_type": "execute_result"
    }
   ],
   "source": [
    "p[2]"
   ]
  },
  {
   "cell_type": "code",
   "execution_count": 100,
   "metadata": {},
   "outputs": [
    {
     "data": {
      "text/plain": [
       "'Reuven'"
      ]
     },
     "execution_count": 100,
     "metadata": {},
     "output_type": "execute_result"
    }
   ],
   "source": [
    "p.first"
   ]
  },
  {
   "cell_type": "code",
   "execution_count": 101,
   "metadata": {},
   "outputs": [
    {
     "data": {
      "text/plain": [
       "'Lerner'"
      ]
     },
     "execution_count": 101,
     "metadata": {},
     "output_type": "execute_result"
    }
   ],
   "source": [
    "p.last"
   ]
  },
  {
   "cell_type": "code",
   "execution_count": 102,
   "metadata": {},
   "outputs": [
    {
     "data": {
      "text/plain": [
       "46"
      ]
     },
     "execution_count": 102,
     "metadata": {},
     "output_type": "execute_result"
    }
   ],
   "source": [
    "p.shoesize"
   ]
  },
  {
   "cell_type": "code",
   "execution_count": 103,
   "metadata": {},
   "outputs": [
    {
     "ename": "AttributeError",
     "evalue": "can't set attribute",
     "output_type": "error",
     "traceback": [
      "\u001b[0;31m---------------------------------------------------------------------------\u001b[0m",
      "\u001b[0;31mAttributeError\u001b[0m                            Traceback (most recent call last)",
      "Cell \u001b[0;32mIn[103], line 1\u001b[0m\n\u001b[0;32m----> 1\u001b[0m \u001b[43mp\u001b[49m\u001b[38;5;241;43m.\u001b[39;49m\u001b[43mfirst\u001b[49m \u001b[38;5;241m=\u001b[39m \u001b[38;5;124m'\u001b[39m\u001b[38;5;124masdfafaf\u001b[39m\u001b[38;5;124m'\u001b[39m\n",
      "\u001b[0;31mAttributeError\u001b[0m: can't set attribute"
     ]
    }
   ],
   "source": [
    "p.first = 'asdfafaf'"
   ]
  },
  {
   "cell_type": "code",
   "execution_count": 104,
   "metadata": {},
   "outputs": [
    {
     "data": {
      "text/plain": [
       "Person(first='asdfsafa', last='Lerner', shoesize=46)"
      ]
     },
     "execution_count": 104,
     "metadata": {},
     "output_type": "execute_result"
    }
   ],
   "source": [
    "# there is a way to change a value (sort of) on a namedtuple\n",
    "# we can invoke the _replace method, passing keyword arguments with the new values.\n",
    "\n",
    "p._replace(first='asdfsafa')"
   ]
  },
  {
   "cell_type": "code",
   "execution_count": 105,
   "metadata": {},
   "outputs": [
    {
     "data": {
      "text/plain": [
       "tuple"
      ]
     },
     "execution_count": 105,
     "metadata": {},
     "output_type": "execute_result"
    }
   ],
   "source": [
    "# regular tuples -- a reminder\n",
    "\n",
    "t = (10, 20, 30)\n",
    "type(t)"
   ]
  },
  {
   "cell_type": "code",
   "execution_count": 106,
   "metadata": {},
   "outputs": [
    {
     "data": {
      "text/plain": [
       "tuple"
      ]
     },
     "execution_count": 106,
     "metadata": {},
     "output_type": "execute_result"
    }
   ],
   "source": [
    "t = (10, 20)\n",
    "type(t)"
   ]
  },
  {
   "cell_type": "code",
   "execution_count": 107,
   "metadata": {},
   "outputs": [
    {
     "data": {
      "text/plain": [
       "int"
      ]
     },
     "execution_count": 107,
     "metadata": {},
     "output_type": "execute_result"
    }
   ],
   "source": [
    "t = (10)   # HUH?  \n",
    "type(t)"
   ]
  },
  {
   "cell_type": "code",
   "execution_count": 108,
   "metadata": {},
   "outputs": [
    {
     "data": {
      "text/plain": [
       "tuple"
      ]
     },
     "execution_count": 108,
     "metadata": {},
     "output_type": "execute_result"
    }
   ],
   "source": [
    "t = ()\n",
    "type(t)"
   ]
  },
  {
   "cell_type": "code",
   "execution_count": 109,
   "metadata": {},
   "outputs": [
    {
     "data": {
      "text/plain": [
       "34"
      ]
     },
     "execution_count": 109,
     "metadata": {},
     "output_type": "execute_result"
    }
   ],
   "source": [
    "# because we use () for so many things in Python, if we want a one-element tuple, we need\n",
    "# to help Python resolve the ambiguity.\n",
    "\n",
    "# remember that we can use () for priority in math expressions (for one)\n",
    "\n",
    "4 + 5 * 6"
   ]
  },
  {
   "cell_type": "code",
   "execution_count": 110,
   "metadata": {},
   "outputs": [
    {
     "data": {
      "text/plain": [
       "54"
      ]
     },
     "execution_count": 110,
     "metadata": {},
     "output_type": "execute_result"
    }
   ],
   "source": [
    "(4 + 5) * 6"
   ]
  },
  {
   "cell_type": "code",
   "execution_count": 111,
   "metadata": {},
   "outputs": [
    {
     "data": {
      "text/plain": [
       "tuple"
      ]
     },
     "execution_count": 111,
     "metadata": {},
     "output_type": "execute_result"
    }
   ],
   "source": [
    "# for a one-element tuple, you *must* have a comma\n",
    "\n",
    "t = (10,)\n",
    "type(t)"
   ]
  },
  {
   "cell_type": "code",
   "execution_count": 112,
   "metadata": {},
   "outputs": [
    {
     "data": {
      "text/plain": [
       "(9, 9, 9, 9, 9, 9)"
      ]
     },
     "execution_count": 112,
     "metadata": {},
     "output_type": "execute_result"
    }
   ],
   "source": [
    "# what about this?\n",
    "\n",
    "(4 + 5,) * 6"
   ]
  },
  {
   "cell_type": "code",
   "execution_count": 113,
   "metadata": {},
   "outputs": [
    {
     "data": {
      "text/plain": [
       "tuple"
      ]
     },
     "execution_count": 113,
     "metadata": {},
     "output_type": "execute_result"
    }
   ],
   "source": [
    "# do I need parentheses to create a tuple? No!\n",
    "\n",
    "t = 10, 20, 30\n",
    "\n",
    "type(t)"
   ]
  },
  {
   "cell_type": "code",
   "execution_count": 114,
   "metadata": {},
   "outputs": [],
   "source": [
    "# tuple unpacking\n",
    "\n",
    "mylist = [10, 20, 30]\n",
    "\n",
    "x,y,z = mylist   # tuple unpacking, because we have a tuple of variables on the *left* -- parallel assignment"
   ]
  },
  {
   "cell_type": "code",
   "execution_count": 115,
   "metadata": {},
   "outputs": [
    {
     "data": {
      "text/plain": [
       "10"
      ]
     },
     "execution_count": 115,
     "metadata": {},
     "output_type": "execute_result"
    }
   ],
   "source": [
    "x"
   ]
  },
  {
   "cell_type": "code",
   "execution_count": 116,
   "metadata": {},
   "outputs": [
    {
     "data": {
      "text/plain": [
       "20"
      ]
     },
     "execution_count": 116,
     "metadata": {},
     "output_type": "execute_result"
    }
   ],
   "source": [
    "y"
   ]
  },
  {
   "cell_type": "code",
   "execution_count": 117,
   "metadata": {},
   "outputs": [
    {
     "data": {
      "text/plain": [
       "30"
      ]
     },
     "execution_count": 117,
     "metadata": {},
     "output_type": "execute_result"
    }
   ],
   "source": [
    "z"
   ]
  },
  {
   "cell_type": "code",
   "execution_count": 118,
   "metadata": {},
   "outputs": [
    {
     "ename": "ValueError",
     "evalue": "too many values to unpack (expected 2)",
     "output_type": "error",
     "traceback": [
      "\u001b[0;31m---------------------------------------------------------------------------\u001b[0m",
      "\u001b[0;31mValueError\u001b[0m                                Traceback (most recent call last)",
      "Cell \u001b[0;32mIn[118], line 3\u001b[0m\n\u001b[1;32m      1\u001b[0m \u001b[38;5;66;03m# what if we have the wrong number of variables/values?\u001b[39;00m\n\u001b[0;32m----> 3\u001b[0m x,y \u001b[38;5;241m=\u001b[39m mylist\n",
      "\u001b[0;31mValueError\u001b[0m: too many values to unpack (expected 2)"
     ]
    }
   ],
   "source": [
    "# what if we have the wrong number of variables/values?\n",
    "\n",
    "x,y = mylist"
   ]
  },
  {
   "cell_type": "code",
   "execution_count": 119,
   "metadata": {},
   "outputs": [
    {
     "ename": "ValueError",
     "evalue": "not enough values to unpack (expected 4, got 3)",
     "output_type": "error",
     "traceback": [
      "\u001b[0;31m---------------------------------------------------------------------------\u001b[0m",
      "\u001b[0;31mValueError\u001b[0m                                Traceback (most recent call last)",
      "Cell \u001b[0;32mIn[119], line 1\u001b[0m\n\u001b[0;32m----> 1\u001b[0m w,x,y,z \u001b[38;5;241m=\u001b[39m mylist\n",
      "\u001b[0;31mValueError\u001b[0m: not enough values to unpack (expected 4, got 3)"
     ]
    }
   ],
   "source": [
    "w,x,y,z = mylist"
   ]
  },
  {
   "cell_type": "code",
   "execution_count": 120,
   "metadata": {},
   "outputs": [],
   "source": [
    "# if you want, one (just one!) of the variables in the unpacking can have a * before its name\n",
    "# in that case, it's a list, containing all of the values that didn't \"fit\" into the other variables\n",
    "\n",
    "mylist = [10, 20, 30, 40, 50, 60, 70]\n",
    "\n",
    "x, *y, z = mylist"
   ]
  },
  {
   "cell_type": "code",
   "execution_count": 121,
   "metadata": {},
   "outputs": [
    {
     "data": {
      "text/plain": [
       "10"
      ]
     },
     "execution_count": 121,
     "metadata": {},
     "output_type": "execute_result"
    }
   ],
   "source": [
    "x"
   ]
  },
  {
   "cell_type": "code",
   "execution_count": 122,
   "metadata": {},
   "outputs": [
    {
     "data": {
      "text/plain": [
       "[20, 30, 40, 50, 60]"
      ]
     },
     "execution_count": 122,
     "metadata": {},
     "output_type": "execute_result"
    }
   ],
   "source": [
    "y"
   ]
  },
  {
   "cell_type": "code",
   "execution_count": 123,
   "metadata": {},
   "outputs": [
    {
     "data": {
      "text/plain": [
       "70"
      ]
     },
     "execution_count": 123,
     "metadata": {},
     "output_type": "execute_result"
    }
   ],
   "source": [
    "z"
   ]
  },
  {
   "cell_type": "code",
   "execution_count": 124,
   "metadata": {},
   "outputs": [],
   "source": [
    "x,y,*z = mylist"
   ]
  },
  {
   "cell_type": "code",
   "execution_count": 125,
   "metadata": {},
   "outputs": [
    {
     "data": {
      "text/plain": [
       "[30, 40, 50, 60, 70]"
      ]
     },
     "execution_count": 125,
     "metadata": {},
     "output_type": "execute_result"
    }
   ],
   "source": [
    "z"
   ]
  },
  {
   "cell_type": "code",
   "execution_count": 126,
   "metadata": {},
   "outputs": [
    {
     "ename": "SyntaxError",
     "evalue": "multiple starred expressions in assignment (605520719.py, line 1)",
     "output_type": "error",
     "traceback": [
      "\u001b[0;36m  Cell \u001b[0;32mIn[126], line 1\u001b[0;36m\u001b[0m\n\u001b[0;31m    x,*y,*z = mylist\u001b[0m\n\u001b[0m    ^\u001b[0m\n\u001b[0;31mSyntaxError\u001b[0m\u001b[0;31m:\u001b[0m multiple starred expressions in assignment\n"
     ]
    }
   ],
   "source": [
    "x,*y,*z = mylist"
   ]
  },
  {
   "cell_type": "code",
   "execution_count": 128,
   "metadata": {},
   "outputs": [
    {
     "data": {
      "text/plain": [
       "([10, 20, 30], [100, 200, 300])"
      ]
     },
     "execution_count": 128,
     "metadata": {},
     "output_type": "execute_result"
    }
   ],
   "source": [
    "# can I create a tuple of lists?  YES!\n",
    "\n",
    "t = ([10, 20, 30],\n",
    "     [100, 200, 300])\n",
    "t"
   ]
  },
  {
   "cell_type": "code",
   "execution_count": 129,
   "metadata": {},
   "outputs": [
    {
     "data": {
      "text/plain": [
       "([10, 20, 30, 40], [100, 200, 300])"
      ]
     },
     "execution_count": 129,
     "metadata": {},
     "output_type": "execute_result"
    }
   ],
   "source": [
    "# Can I modify the lists?\n",
    "\n",
    "t[0].append(40)\n",
    "t"
   ]
  },
  {
   "cell_type": "code",
   "execution_count": 130,
   "metadata": {},
   "outputs": [
    {
     "ename": "TypeError",
     "evalue": "'tuple' object does not support item assignment",
     "output_type": "error",
     "traceback": [
      "\u001b[0;31m---------------------------------------------------------------------------\u001b[0m",
      "\u001b[0;31mTypeError\u001b[0m                                 Traceback (most recent call last)",
      "Cell \u001b[0;32mIn[130], line 3\u001b[0m\n\u001b[1;32m      1\u001b[0m \u001b[38;5;66;03m# what happens when I do this?\u001b[39;00m\n\u001b[0;32m----> 3\u001b[0m \u001b[43mt\u001b[49m\u001b[43m[\u001b[49m\u001b[38;5;241;43m0\u001b[39;49m\u001b[43m]\u001b[49m \u001b[38;5;241m+\u001b[39m\u001b[38;5;241m=\u001b[39m [\u001b[38;5;241m50\u001b[39m, \u001b[38;5;241m60\u001b[39m, \u001b[38;5;241m70\u001b[39m]\n",
      "\u001b[0;31mTypeError\u001b[0m: 'tuple' object does not support item assignment"
     ]
    }
   ],
   "source": [
    "# what happens when I do this?\n",
    "\n",
    "t[0] += [50, 60, 70]      # this is translated into the .__iadd__ method (\"inplace add\")"
   ]
  },
  {
   "cell_type": "code",
   "execution_count": 131,
   "metadata": {},
   "outputs": [
    {
     "data": {
      "text/plain": [
       "([10, 20, 30, 40, 50, 60, 70], [100, 200, 300])"
      ]
     },
     "execution_count": 131,
     "metadata": {},
     "output_type": "execute_result"
    }
   ],
   "source": [
    "t"
   ]
  },
  {
   "cell_type": "code",
   "execution_count": 132,
   "metadata": {},
   "outputs": [
    {
     "data": {
      "text/plain": [
       "([10, 20, 30, 40, 50, 60, 70, 80, 90, 100], [100, 200, 300])"
      ]
     },
     "execution_count": 132,
     "metadata": {},
     "output_type": "execute_result"
    }
   ],
   "source": [
    "# instead, you can always use the \"extend\" method on a list, which doesn't have this issue\n",
    "\n",
    "t[0].extend([80, 90, 100])\n",
    "t"
   ]
  },
  {
   "cell_type": "code",
   "execution_count": 133,
   "metadata": {},
   "outputs": [
    {
     "name": "stdout",
     "output_type": "stream",
     "text": [
      "Hello\n",
      "Hello\n",
      "Hello\n"
     ]
    }
   ],
   "source": [
    "# _ is used for throwaway variables\n",
    "\n",
    "for _ in range(3):\n",
    "    print('Hello')"
   ]
  },
  {
   "cell_type": "code",
   "execution_count": 134,
   "metadata": {},
   "outputs": [],
   "source": [
    "first, *_, last = [10, 20, 30, 40, 50, 60]"
   ]
  },
  {
   "cell_type": "code",
   "execution_count": 136,
   "metadata": {},
   "outputs": [
    {
     "data": {
      "text/plain": [
       "[30, 40, 50]"
      ]
     },
     "execution_count": 136,
     "metadata": {},
     "output_type": "execute_result"
    }
   ],
   "source": [
    "mylist[2:5]"
   ]
  },
  {
   "cell_type": "code",
   "execution_count": null,
   "metadata": {},
   "outputs": [],
   "source": []
  },
  {
   "cell_type": "code",
   "execution_count": null,
   "metadata": {},
   "outputs": [],
   "source": []
  },
  {
   "cell_type": "markdown",
   "metadata": {},
   "source": [
    "# Next up\n",
    "\n",
    "1. Practice with named tuples (and friends)\n",
    "2. Dictionaries and their variants\n",
    "\n",
    "Resume at :55"
   ]
  },
  {
   "cell_type": "markdown",
   "metadata": {},
   "source": [
    "# Exercise: Bookstore\n",
    "\n",
    "1. Use `namedtuple` to create a class of `Book`. Each instance of book will have a title, author, and price.\n",
    "2. Create 3-4 different instances of `Book`, and put them on a list, the inventory for a store.\n",
    "3. Allow a customer to ask whether a book is in stock, by entering its title.\n",
    "    - If the user enters an empty string, then stop asking and print the title cost of all books they've bought\n",
    "    - If the user enters the name of a book in the inventory, print its full info and the current total\n",
    "    - If the user enters the name of a book *not* in the inventory, scold the user\n",
    "\n",
    "Example:\n",
    "\n",
    "    What book: title1\n",
    "    title 1, by Author1, is 50, total is now 50\n",
    "    What book: title2\n",
    "    title 2, by Author 2, is 60, total is now 110\n",
    "    "
   ]
  },
  {
   "cell_type": "code",
   "execution_count": 142,
   "metadata": {},
   "outputs": [
    {
     "name": "stdin",
     "output_type": "stream",
     "text": [
      "Enter title:  title1\n"
     ]
    },
    {
     "name": "stdout",
     "output_type": "stream",
     "text": [
      "Found title1 by author1; cost is 50 and total=50\n"
     ]
    },
    {
     "name": "stdin",
     "output_type": "stream",
     "text": [
      "Enter title:  title9\n"
     ]
    },
    {
     "name": "stdout",
     "output_type": "stream",
     "text": [
      "Did not find title9 in our inventory\n"
     ]
    },
    {
     "name": "stdin",
     "output_type": "stream",
     "text": [
      "Enter title:  \n"
     ]
    },
    {
     "name": "stdout",
     "output_type": "stream",
     "text": [
      "In the end, total=50\n"
     ]
    }
   ],
   "source": [
    "from collections import namedtuple\n",
    "\n",
    "Book = namedtuple('Book', 'title author price')\n",
    "\n",
    "b1 = Book('title1', 'author1', 50)\n",
    "b2 = Book('title2', 'author1', 60)\n",
    "b3 = Book('title3', 'author2', 70)\n",
    "b4 = Book('title4', 'author3', 80)\n",
    "\n",
    "inventory = [b1, b2, b3, b3]\n",
    "total = 0\n",
    "\n",
    "while True:\n",
    "    s = input('Enter title: ').strip()\n",
    "\n",
    "    if not s:  # all strings are True in a boolean context, except the empty string... this is the Pythonic way to check\n",
    "        break\n",
    "\n",
    "    found_it = False\n",
    "    for one_book in inventory:\n",
    "        if one_book.title == s:\n",
    "            total += one_book.price\n",
    "            print(f'Found {one_book.title} by {one_book.author}; cost is {one_book.price} and {total=}')\n",
    "            found_it = True\n",
    "            break\n",
    "\n",
    "    if not found_it:\n",
    "        print(f'Did not find {s} in our inventory')\n",
    "\n",
    "print(f'In the end, {total=}')"
   ]
  },
  {
   "cell_type": "code",
   "execution_count": 138,
   "metadata": {},
   "outputs": [
    {
     "data": {
      "text/plain": [
       "Book(title='title1', author='author1', price=50)"
      ]
     },
     "execution_count": 138,
     "metadata": {},
     "output_type": "execute_result"
    }
   ],
   "source": [
    "b1"
   ]
  },
  {
   "cell_type": "code",
   "execution_count": 140,
   "metadata": {},
   "outputs": [
    {
     "name": "stdout",
     "output_type": "stream",
     "text": [
      "x=10, y=[10, 20, 30], z='hello', len(z)=5\n"
     ]
    }
   ],
   "source": [
    "x = 10\n",
    "y = [10, 20, 30]\n",
    "z = 'hello'\n",
    "\n",
    "print(f'{x=}, {y=}, {z=}, {len(z)=}')"
   ]
  },
  {
   "cell_type": "code",
   "execution_count": null,
   "metadata": {},
   "outputs": [],
   "source": [
    "# let's remove the need for found_it as a variable -- using \"for-else\"\n",
    "\n",
    "from collections import namedtuple\n",
    "\n",
    "Book = namedtuple('Book', 'title author price')\n",
    "\n",
    "b1 = Book('title1', 'author1', 50)\n",
    "b2 = Book('title2', 'author1', 60)\n",
    "b3 = Book('title3', 'author2', 70)\n",
    "b4 = Book('title4', 'author3', 80)\n",
    "\n",
    "inventory = [b1, b2, b3, b3]\n",
    "total = 0\n",
    "\n",
    "while True:\n",
    "    s = input('Enter title: ').strip()\n",
    "\n",
    "    if not s:  # all strings are True in a boolean context, except the empty string... this is the Pythonic way to check\n",
    "        break\n",
    "\n",
    "    for one_book in inventory:\n",
    "        if one_book.title == s:\n",
    "            total += one_book.price\n",
    "            print(f'Found {one_book.title} by {one_book.author}; cost is {one_book.price} and {total=}')\n",
    "            break\n",
    "\n",
    "    else:   # else on a for loop means: run this code if you didn't encounter a break\n",
    "        print(f'Did not find {s} in our inventory')\n",
    "\n",
    "print(f'In the end, {total=}')"
   ]
  },
  {
   "cell_type": "code",
   "execution_count": 146,
   "metadata": {},
   "outputs": [
    {
     "ename": "SyntaxError",
     "evalue": "invalid syntax. Maybe you meant '==' or ':=' instead of '='? (3905101370.py, line 18)",
     "output_type": "error",
     "traceback": [
      "\u001b[0;36m  Cell \u001b[0;32mIn[146], line 18\u001b[0;36m\u001b[0m\n\u001b[0;31m    while s = input('Enter title: ').strip():\u001b[0m\n\u001b[0m          ^\u001b[0m\n\u001b[0;31mSyntaxError\u001b[0m\u001b[0;31m:\u001b[0m invalid syntax. Maybe you meant '==' or ':=' instead of '='?\n"
     ]
    }
   ],
   "source": [
    "# let's cut down the size of our \"while\" loop\n",
    "\n",
    "from collections import namedtuple\n",
    "\n",
    "Book = namedtuple('Book', 'title author price')\n",
    "\n",
    "b1 = Book('title1', 'author1', 50)\n",
    "b2 = Book('title2', 'author1', 60)\n",
    "b3 = Book('title3', 'author2', 70)\n",
    "b4 = Book('title4', 'author3', 80)\n",
    "\n",
    "inventory = [b1, b2, b3, b3]\n",
    "total = 0\n",
    "\n",
    "# the := operator is the assignment expression operator\n",
    "# it means: assign, and return the value as expression\n",
    "# everyone calls it the \"walrus operator\"\n",
    "while s := input('Enter title: ').strip():\n",
    "\n",
    "    for one_book in inventory:\n",
    "        if one_book.title == s:\n",
    "            total += one_book.price\n",
    "            print(f'Found {one_book.title} by {one_book.author}; cost is {one_book.price} and {total=}')\n",
    "            break\n",
    "\n",
    "    else:   # else on a for loop means: run this code if you didn't encounter a break\n",
    "        print(f'Did not find {s} in our inventory')\n",
    "\n",
    "print(f'In the end, {total=}')"
   ]
  },
  {
   "cell_type": "code",
   "execution_count": 145,
   "metadata": {},
   "outputs": [
    {
     "ename": "SyntaxError",
     "evalue": "invalid syntax (4101523498.py, line 1)",
     "output_type": "error",
     "traceback": [
      "\u001b[0;36m  Cell \u001b[0;32mIn[145], line 1\u001b[0;36m\u001b[0m\n\u001b[0;31m    x := 5\u001b[0m\n\u001b[0m      ^\u001b[0m\n\u001b[0;31mSyntaxError\u001b[0m\u001b[0;31m:\u001b[0m invalid syntax\n"
     ]
    }
   ],
   "source": [
    "x := 5"
   ]
  },
  {
   "cell_type": "markdown",
   "metadata": {},
   "source": [
    "# Dictionaries\n",
    "\n",
    "Dicts are the most important data structure in Python! Python itself uses dicts everywhere:\n",
    "\n",
    "- Every object is a dict\n",
    "- Every namespace (module or set of attributes) is a dict\n",
    "- Every variable is actually a key-value pair in a dict\n",
    "\n",
    "Some ground rules for dicts:\n",
    "- Every key has a value, every value has a key\n",
    "- Keys must be immutable\n",
    "- Keys must be unique\n",
    "- Values can be absolutely anything -- any type, any repetition, etc.\n",
    "- We get values via keys, not vice versa"
   ]
  },
  {
   "cell_type": "code",
   "execution_count": 148,
   "metadata": {},
   "outputs": [
    {
     "data": {
      "text/plain": [
       "3"
      ]
     },
     "execution_count": 148,
     "metadata": {},
     "output_type": "execute_result"
    }
   ],
   "source": [
    "d = {'a':100, 'b':200, 'c':300}\n",
    "\n",
    "len(d)    # how many name-value pairs do we have?"
   ]
  },
  {
   "cell_type": "code",
   "execution_count": 149,
   "metadata": {},
   "outputs": [
    {
     "data": {
      "text/plain": [
       "{'a': 2345, 'b': 200, 'c': 300}"
      ]
     },
     "execution_count": 149,
     "metadata": {},
     "output_type": "execute_result"
    }
   ],
   "source": [
    "d['a'] = 2345    # updating is done via assignment\n",
    "d"
   ]
  },
  {
   "cell_type": "code",
   "execution_count": 150,
   "metadata": {},
   "outputs": [
    {
     "data": {
      "text/plain": [
       "{'a': 2345, 'b': 200, 'c': 300, 'x': 9999}"
      ]
     },
     "execution_count": 150,
     "metadata": {},
     "output_type": "execute_result"
    }
   ],
   "source": [
    "d['x'] = 9999   # adding a new key-value pair is done via assignment\n",
    "d"
   ]
  },
  {
   "cell_type": "code",
   "execution_count": 151,
   "metadata": {},
   "outputs": [
    {
     "data": {
      "text/plain": [
       "2345"
      ]
     },
     "execution_count": 151,
     "metadata": {},
     "output_type": "execute_result"
    }
   ],
   "source": [
    "d['a']"
   ]
  },
  {
   "cell_type": "code",
   "execution_count": 152,
   "metadata": {},
   "outputs": [
    {
     "name": "stdin",
     "output_type": "stream",
     "text": [
      "Enter a key:  a\n"
     ]
    },
    {
     "name": "stdout",
     "output_type": "stream",
     "text": [
      "d[a] is 2345\n"
     ]
    },
    {
     "name": "stdin",
     "output_type": "stream",
     "text": [
      "Enter a key:  b\n"
     ]
    },
    {
     "name": "stdout",
     "output_type": "stream",
     "text": [
      "d[b] is 200\n"
     ]
    },
    {
     "name": "stdin",
     "output_type": "stream",
     "text": [
      "Enter a key:  c\n"
     ]
    },
    {
     "name": "stdout",
     "output_type": "stream",
     "text": [
      "d[c] is 300\n"
     ]
    },
    {
     "name": "stdin",
     "output_type": "stream",
     "text": [
      "Enter a key:  d\n"
     ]
    },
    {
     "name": "stdout",
     "output_type": "stream",
     "text": [
      "d has no key d\n"
     ]
    },
    {
     "name": "stdin",
     "output_type": "stream",
     "text": [
      "Enter a key:  e\n"
     ]
    },
    {
     "name": "stdout",
     "output_type": "stream",
     "text": [
      "d has no key e\n"
     ]
    },
    {
     "name": "stdin",
     "output_type": "stream",
     "text": [
      "Enter a key:  a\n"
     ]
    },
    {
     "name": "stdout",
     "output_type": "stream",
     "text": [
      "d[a] is 2345\n"
     ]
    },
    {
     "name": "stdin",
     "output_type": "stream",
     "text": [
      "Enter a key:  \n"
     ]
    }
   ],
   "source": [
    "# what if I want to let the user specify a key?\n",
    "# I could do this:\n",
    "\n",
    "while True:\n",
    "    k = input('Enter a key: ').strip()\n",
    "\n",
    "    if not k:\n",
    "        break\n",
    "        \n",
    "    # these lines, where if the key exists, we want the value but if it doesn't,\n",
    "    # then we want some default value/message, happens all of the time\n",
    "    if k in d:\n",
    "        print(f'd[{k}] is {d[k]}')\n",
    "    else:\n",
    "        print(f'd has no key {k}')"
   ]
  },
  {
   "cell_type": "code",
   "execution_count": 153,
   "metadata": {},
   "outputs": [
    {
     "data": {
      "text/plain": [
       "2345"
      ]
     },
     "execution_count": 153,
     "metadata": {},
     "output_type": "execute_result"
    }
   ],
   "source": [
    "# we can instead use dict.get, which is just like []\n",
    "# except that if the key doesn't exist, we get None back\n",
    "\n",
    "d.get('a')"
   ]
  },
  {
   "cell_type": "code",
   "execution_count": 154,
   "metadata": {},
   "outputs": [],
   "source": [
    "d.get('xyz')"
   ]
  },
  {
   "cell_type": "code",
   "execution_count": 155,
   "metadata": {},
   "outputs": [
    {
     "ename": "KeyError",
     "evalue": "'xyz'",
     "output_type": "error",
     "traceback": [
      "\u001b[0;31m---------------------------------------------------------------------------\u001b[0m",
      "\u001b[0;31mKeyError\u001b[0m                                  Traceback (most recent call last)",
      "Cell \u001b[0;32mIn[155], line 1\u001b[0m\n\u001b[0;32m----> 1\u001b[0m \u001b[43md\u001b[49m\u001b[43m[\u001b[49m\u001b[38;5;124;43m'\u001b[39;49m\u001b[38;5;124;43mxyz\u001b[39;49m\u001b[38;5;124;43m'\u001b[39;49m\u001b[43m]\u001b[49m\n",
      "\u001b[0;31mKeyError\u001b[0m: 'xyz'"
     ]
    }
   ],
   "source": [
    "d['xyz']"
   ]
  },
  {
   "cell_type": "code",
   "execution_count": 156,
   "metadata": {},
   "outputs": [
    {
     "data": {
      "text/plain": [
       "123"
      ]
     },
     "execution_count": 156,
     "metadata": {},
     "output_type": "execute_result"
    }
   ],
   "source": [
    "# there's another method, the opposite of dict.get, dict.setdefault\n",
    "# it only sets a value if the key is new; if the key already exists, then it does nothing\n",
    "\n",
    "d.setdefault('y', 123)"
   ]
  },
  {
   "cell_type": "code",
   "execution_count": 157,
   "metadata": {},
   "outputs": [
    {
     "data": {
      "text/plain": [
       "{'a': 2345, 'b': 200, 'c': 300, 'x': 9999, 'y': 123}"
      ]
     },
     "execution_count": 157,
     "metadata": {},
     "output_type": "execute_result"
    }
   ],
   "source": [
    "d"
   ]
  },
  {
   "cell_type": "code",
   "execution_count": 159,
   "metadata": {},
   "outputs": [
    {
     "data": {
      "text/plain": [
       "123"
      ]
     },
     "execution_count": 159,
     "metadata": {},
     "output_type": "execute_result"
    }
   ],
   "source": [
    "d.setdefault('y', 246)   # we get 123 back because 'y' already exists as a key, so we won't set 246 or create a new pair"
   ]
  },
  {
   "cell_type": "code",
   "execution_count": 160,
   "metadata": {},
   "outputs": [
    {
     "data": {
      "text/plain": [
       "9999"
      ]
     },
     "execution_count": 160,
     "metadata": {},
     "output_type": "execute_result"
    }
   ],
   "source": [
    "d.pop('x')  # this means: remove key-value pair with 'x' as the key, returning the value"
   ]
  },
  {
   "cell_type": "code",
   "execution_count": 161,
   "metadata": {},
   "outputs": [
    {
     "data": {
      "text/plain": [
       "{'a': 2345, 'b': 200, 'c': 300, 'y': 123}"
      ]
     },
     "execution_count": 161,
     "metadata": {},
     "output_type": "execute_result"
    }
   ],
   "source": [
    "d"
   ]
  },
  {
   "cell_type": "code",
   "execution_count": 163,
   "metadata": {},
   "outputs": [
    {
     "data": {
      "text/plain": [
       "{'a': 0, 'b': 0, 'c': 0, 'd': 0}"
      ]
     },
     "execution_count": 163,
     "metadata": {},
     "output_type": "execute_result"
    }
   ],
   "source": [
    "# if you want to create a new dict whose keys you know and whose values are\n",
    "# all the same, use dict.fromkeys\n",
    "\n",
    "d = dict.fromkeys('abcd', 0)\n",
    "d"
   ]
  },
  {
   "cell_type": "code",
   "execution_count": 164,
   "metadata": {},
   "outputs": [
    {
     "data": {
      "text/plain": [
       "{'a': None, 'b': None, 'c': None, 'd': None}"
      ]
     },
     "execution_count": 164,
     "metadata": {},
     "output_type": "execute_result"
    }
   ],
   "source": [
    "# don't pass a value, and it'll be None\n",
    "d = dict.fromkeys('abcd')\n",
    "d"
   ]
  },
  {
   "cell_type": "code",
   "execution_count": 165,
   "metadata": {},
   "outputs": [
    {
     "data": {
      "text/plain": [
       "{'a': [], 'b': [], 'c': [], 'd': []}"
      ]
     },
     "execution_count": 165,
     "metadata": {},
     "output_type": "execute_result"
    }
   ],
   "source": [
    "d = dict.fromkeys('abcd', [])\n",
    "d"
   ]
  },
  {
   "cell_type": "code",
   "execution_count": 166,
   "metadata": {},
   "outputs": [
    {
     "data": {
      "text/plain": [
       "{'a': [10, 20, 30], 'b': [10, 20, 30], 'c': [10, 20, 30], 'd': [10, 20, 30]}"
      ]
     },
     "execution_count": 166,
     "metadata": {},
     "output_type": "execute_result"
    }
   ],
   "source": [
    "d['a'].append(10)\n",
    "d['b'].append(20)\n",
    "d['c'].append(30)\n",
    "\n",
    "d"
   ]
  },
  {
   "cell_type": "code",
   "execution_count": 168,
   "metadata": {},
   "outputs": [
    {
     "data": {
      "text/plain": [
       "100"
      ]
     },
     "execution_count": 168,
     "metadata": {},
     "output_type": "execute_result"
    }
   ],
   "source": [
    "# the = sign (assignment) does two different things in Python\n",
    "# 1. assignment to a variable, where the variable then refers to a new object\n",
    "\n",
    "x = 100\n",
    "y = x\n",
    "\n",
    "x = 200   # here, I assign a new value to x; this has no effect on y\n",
    "y"
   ]
  },
  {
   "cell_type": "code",
   "execution_count": 169,
   "metadata": {},
   "outputs": [
    {
     "data": {
      "text/plain": [
       "['!', 20, 30]"
      ]
     },
     "execution_count": 169,
     "metadata": {},
     "output_type": "execute_result"
    }
   ],
   "source": [
    "# 2. mutation of an existing value\n",
    "\n",
    "x = [10, 20, 30]\n",
    "y = x   # now, both x and y refer to the same value\n",
    "\n",
    "x[0] = '!'   # here, I'm changing the object to which x refers, which y also refers to \n",
    "y"
   ]
  },
  {
   "cell_type": "code",
   "execution_count": 170,
   "metadata": {},
   "outputs": [
    {
     "data": {
      "text/plain": [
       "{'a': 100, 'b': 200, 'c': None, 'd': None}"
      ]
     },
     "execution_count": 170,
     "metadata": {},
     "output_type": "execute_result"
    }
   ],
   "source": [
    "d = dict.fromkeys('abcd')\n",
    "d['a'] = 100\n",
    "d['b'] = 200\n",
    "d"
   ]
  },
  {
   "cell_type": "code",
   "execution_count": 171,
   "metadata": {},
   "outputs": [
    {
     "data": {
      "text/plain": [
       "{'a': [100, 200], 'b': [100, 200], 'c': [100, 200], 'd': [100, 200]}"
      ]
     },
     "execution_count": 171,
     "metadata": {},
     "output_type": "execute_result"
    }
   ],
   "source": [
    "d = dict.fromkeys('abcd', [])\n",
    "d['a'].append(100)  # I'm not assigning a new value to a; I'm mutating the list to which it refers\n",
    "d['b'].append(200)  # again, I'm mutating the value to which d['b'] refers\n",
    "\n",
    "d"
   ]
  },
  {
   "cell_type": "code",
   "execution_count": 172,
   "metadata": {},
   "outputs": [],
   "source": [
    "d = dict.fromkeys('these are my keys for the example'.split(), 9999)"
   ]
  },
  {
   "cell_type": "code",
   "execution_count": 173,
   "metadata": {},
   "outputs": [
    {
     "data": {
      "text/plain": [
       "{'these': 9999,\n",
       " 'are': 9999,\n",
       " 'my': 9999,\n",
       " 'keys': 9999,\n",
       " 'for': 9999,\n",
       " 'the': 9999,\n",
       " 'example': 9999}"
      ]
     },
     "execution_count": 173,
     "metadata": {},
     "output_type": "execute_result"
    }
   ],
   "source": [
    "d\n"
   ]
  },
  {
   "cell_type": "code",
   "execution_count": 174,
   "metadata": {},
   "outputs": [
    {
     "data": {
      "text/plain": [
       "{'a': 1000, 'b': 1000, 'c': 1000, 'd': 1000}"
      ]
     },
     "execution_count": 174,
     "metadata": {},
     "output_type": "execute_result"
    }
   ],
   "source": [
    "val = 1000\n",
    "d = dict.fromkeys('abcd', val)\n",
    "d"
   ]
  },
  {
   "cell_type": "code",
   "execution_count": 176,
   "metadata": {},
   "outputs": [
    {
     "data": {
      "text/plain": [
       "{'a': 1000, 'b': 1000, 'c': 1000, 'd': 1000}"
      ]
     },
     "execution_count": 176,
     "metadata": {},
     "output_type": "execute_result"
    }
   ],
   "source": [
    "val = 20\n",
    "d"
   ]
  },
  {
   "cell_type": "code",
   "execution_count": 177,
   "metadata": {},
   "outputs": [
    {
     "data": {
      "text/plain": [
       "{'a': 1000, 'b': 99, 'c': 1000, 'd': 1000}"
      ]
     },
     "execution_count": 177,
     "metadata": {},
     "output_type": "execute_result"
    }
   ],
   "source": [
    "d['b'] = 99\n",
    "d"
   ]
  },
  {
   "cell_type": "code",
   "execution_count": 179,
   "metadata": {},
   "outputs": [
    {
     "data": {
      "text/plain": [
       "True"
      ]
     },
     "execution_count": 179,
     "metadata": {},
     "output_type": "execute_result"
    }
   ],
   "source": [
    "# how can I search in a dict?\n",
    "# If I want to know if a key is in a dict, I can use \"in\"\n",
    "# \"in\" only checks the keys!\n",
    "\n",
    "'a' in d"
   ]
  },
  {
   "cell_type": "code",
   "execution_count": 181,
   "metadata": {},
   "outputs": [
    {
     "data": {
      "text/plain": [
       "True"
      ]
     },
     "execution_count": 181,
     "metadata": {},
     "output_type": "execute_result"
    }
   ],
   "source": [
    "# could I do this:\n",
    "\n",
    "'a' in d.keys()   # this gives exactly the same answer, but much more slowly"
   ]
  },
  {
   "cell_type": "code",
   "execution_count": 182,
   "metadata": {},
   "outputs": [
    {
     "name": "stdout",
     "output_type": "stream",
     "text": [
      "39.7 ns ± 2.05 ns per loop (mean ± std. dev. of 7 runs, 10,000,000 loops each)\n"
     ]
    }
   ],
   "source": [
    "%timeit 'a' in d"
   ]
  },
  {
   "cell_type": "code",
   "execution_count": 183,
   "metadata": {},
   "outputs": [
    {
     "name": "stdout",
     "output_type": "stream",
     "text": [
      "92.8 ns ± 4.2 ns per loop (mean ± std. dev. of 7 runs, 10,000,000 loops each)\n"
     ]
    }
   ],
   "source": [
    "%timeit 'a' in d.keys()"
   ]
  },
  {
   "cell_type": "code",
   "execution_count": 184,
   "metadata": {},
   "outputs": [
    {
     "data": {
      "text/plain": [
       "364"
      ]
     },
     "execution_count": 184,
     "metadata": {},
     "output_type": "execute_result"
    }
   ],
   "source": [
    "len(globals())"
   ]
  },
  {
   "cell_type": "code",
   "execution_count": 186,
   "metadata": {},
   "outputs": [
    {
     "name": "stdout",
     "output_type": "stream",
     "text": [
      "56 ns ± 2.29 ns per loop (mean ± std. dev. of 7 runs, 10,000,000 loops each)\n"
     ]
    }
   ],
   "source": [
    "%timeit 'x' in globals()"
   ]
  },
  {
   "cell_type": "code",
   "execution_count": 187,
   "metadata": {},
   "outputs": [
    {
     "name": "stdout",
     "output_type": "stream",
     "text": [
      "109 ns ± 1.95 ns per loop (mean ± std. dev. of 7 runs, 10,000,000 loops each)\n"
     ]
    }
   ],
   "source": [
    "%timeit 'x' in globals().keys()"
   ]
  },
  {
   "cell_type": "code",
   "execution_count": 188,
   "metadata": {},
   "outputs": [
    {
     "data": {
      "text/plain": [
       "dict_keys(['a', 'b', 'c', 'd'])"
      ]
     },
     "execution_count": 188,
     "metadata": {},
     "output_type": "execute_result"
    }
   ],
   "source": [
    "d.keys()"
   ]
  },
  {
   "cell_type": "markdown",
   "metadata": {},
   "source": [
    "# Exercise: Rainfall\n",
    "\n",
    "1. Create an empty dict; it'll eventually contain keys (strings, names of cities) and values (lists of integers).\n",
    "2. Ask the user, repeatedly, to enter the name of a city.\n",
    "    - If they enter the empty string, then stop asking.\n",
    "3. If you got the name of a city, ask for the rainfall in mm.\n",
    "    - Check that you got something reasonable here\n",
    "4. If this is the first time you're seeing a city name, then add the key-value pair (city name and mm rain in a list) to the dict.\n",
    "5. If this is not the first time, then just add the mm rain to the end of the existing list.\n",
    "6. When the user enters an empty string to exit from entering data, go through each city and print the city name, the total rainfall, and the mean rainfall.\n",
    "\n",
    "Example:\n",
    "\n",
    "    City: a\n",
    "    Rainfall: 5\n",
    "    City: b\n",
    "    Rainfall: 4\n",
    "    City: a\n",
    "    Rainfall: 3\n",
    "    City: [ENTER]\n",
    "    a: total 8, mean 4\n",
    "    b: total 4, mean 4"
   ]
  },
  {
   "cell_type": "code",
   "execution_count": 189,
   "metadata": {},
   "outputs": [
    {
     "name": "stdin",
     "output_type": "stream",
     "text": [
      "City:  a\n",
      "Rain:  5\n",
      "City:  b\n",
      "Rain:  4\n",
      "City:  a\n",
      "Rain:  3\n",
      "City:  b\n",
      "Rain:  8\n",
      "City:  c\n",
      "Rain:  2\n",
      "City:  \n"
     ]
    },
    {
     "name": "stdout",
     "output_type": "stream",
     "text": [
      "a: total 8, mean 4.0\n",
      "b: total 12, mean 6.0\n",
      "c: total 2, mean 2.0\n"
     ]
    }
   ],
   "source": [
    "rainfall = {}\n",
    "\n",
    "while True:\n",
    "    city_name = input('City: ').strip()\n",
    "\n",
    "    if not city_name:\n",
    "        break\n",
    "\n",
    "    mm_rain_s = input('Rain: ').strip()\n",
    "    mm_rain = int(mm_rain_s)\n",
    "\n",
    "    # if there is no city_name key, add it with an empty list\n",
    "    rainfall.setdefault(city_name, [])\n",
    "    rainfall[city_name].append(mm_rain)\n",
    "\n",
    "for key, value in rainfall.items():\n",
    "    print(f'{key}: total {sum(value)}, mean {sum(value)/len(value)}')"
   ]
  },
  {
   "cell_type": "code",
   "execution_count": 190,
   "metadata": {},
   "outputs": [
    {
     "data": {
      "text/plain": [
       "{'a': [5, 3], 'b': [4, 8], 'c': [2]}"
      ]
     },
     "execution_count": 190,
     "metadata": {},
     "output_type": "execute_result"
    }
   ],
   "source": [
    "rainfall"
   ]
  },
  {
   "cell_type": "code",
   "execution_count": 192,
   "metadata": {},
   "outputs": [
    {
     "name": "stdout",
     "output_type": "stream",
     "text": [
      "a: [5, 3]\n",
      "b: [4, 8]\n",
      "c: [2]\n"
     ]
    }
   ],
   "source": [
    "# how does it work to iterate over dict.items? \n",
    "\n",
    "for one_thing in rainfall.items():\n",
    "    key, value = one_thing    # tuple unpacking\n",
    "    print(f'{key}: {value}')"
   ]
  },
  {
   "cell_type": "code",
   "execution_count": 193,
   "metadata": {},
   "outputs": [
    {
     "name": "stdout",
     "output_type": "stream",
     "text": [
      "a: [5, 3]\n",
      "b: [4, 8]\n",
      "c: [2]\n"
     ]
    }
   ],
   "source": [
    "for key, value in rainfall.items():\n",
    "    print(f'{key}: {value}')"
   ]
  },
  {
   "cell_type": "code",
   "execution_count": 194,
   "metadata": {},
   "outputs": [
    {
     "name": "stdout",
     "output_type": "stream",
     "text": [
      "(0, ('a', [5, 3]))\n",
      "(1, ('b', [4, 8]))\n",
      "(2, ('c', [2]))\n"
     ]
    }
   ],
   "source": [
    "# what if we want to number the key-value pairs, too?\n",
    "# we can use enumerate, which returns a tuple of (index, value)\n",
    "\n",
    "for one_thing in enumerate(rainfall.items()):\n",
    "    print(one_thing)"
   ]
  },
  {
   "cell_type": "code",
   "execution_count": 196,
   "metadata": {},
   "outputs": [
    {
     "name": "stdout",
     "output_type": "stream",
     "text": [
      "1: a, total 8, mean 4.0\n",
      "2: b, total 12, mean 6.0\n",
      "3: c, total 2, mean 2.0\n"
     ]
    }
   ],
   "source": [
    "for index, (key, value) in enumerate(rainfall.items(), 1):\n",
    "    print(f'{index}: {key}, total {sum(value)}, mean {sum(value)/len(value)}')"
   ]
  },
  {
   "cell_type": "code",
   "execution_count": 197,
   "metadata": {},
   "outputs": [
    {
     "name": "stdin",
     "output_type": "stream",
     "text": [
      "City:  a\n",
      "Rain:  none today\n"
     ]
    },
    {
     "ename": "ValueError",
     "evalue": "invalid literal for int() with base 10: 'none today'",
     "output_type": "error",
     "traceback": [
      "\u001b[0;31m---------------------------------------------------------------------------\u001b[0m",
      "\u001b[0;31mValueError\u001b[0m                                Traceback (most recent call last)",
      "Cell \u001b[0;32mIn[197], line 12\u001b[0m\n\u001b[1;32m      9\u001b[0m     \u001b[38;5;28;01mbreak\u001b[39;00m\n\u001b[1;32m     11\u001b[0m mm_rain_s \u001b[38;5;241m=\u001b[39m \u001b[38;5;28minput\u001b[39m(\u001b[38;5;124m'\u001b[39m\u001b[38;5;124mRain: \u001b[39m\u001b[38;5;124m'\u001b[39m)\u001b[38;5;241m.\u001b[39mstrip()\n\u001b[0;32m---> 12\u001b[0m mm_rain \u001b[38;5;241m=\u001b[39m \u001b[38;5;28;43mint\u001b[39;49m\u001b[43m(\u001b[49m\u001b[43mmm_rain_s\u001b[49m\u001b[43m)\u001b[49m\n\u001b[1;32m     14\u001b[0m \u001b[38;5;66;03m# if there is no city_name key, add it with an empty list\u001b[39;00m\n\u001b[1;32m     15\u001b[0m rainfall\u001b[38;5;241m.\u001b[39msetdefault(city_name, [])\n",
      "\u001b[0;31mValueError\u001b[0m: invalid literal for int() with base 10: 'none today'"
     ]
    }
   ],
   "source": [
    "# how can we be sure that we got integers?\n",
    "\n",
    "rainfall = {}\n",
    "\n",
    "while True:\n",
    "    city_name = input('City: ').strip()\n",
    "\n",
    "    if not city_name:\n",
    "        break\n",
    "\n",
    "    mm_rain_s = input('Rain: ').strip()\n",
    "    if not mm_rain.isdigit():\n",
    "        print(f'Not numeric; try again')\n",
    "        continue\n",
    "    mm_rain = int(mm_rain_s)\n",
    "\n",
    "    # if there is no city_name key, add it with an empty list\n",
    "    rainfall.setdefault(city_name, [])\n",
    "    rainfall[city_name].append(mm_rain)\n",
    "\n",
    "for key, value in rainfall.items():\n",
    "    print(f'{key}: total {sum(value)}, mean {sum(value)/len(value)}')"
   ]
  },
  {
   "cell_type": "code",
   "execution_count": 198,
   "metadata": {},
   "outputs": [
    {
     "name": "stdin",
     "output_type": "stream",
     "text": [
      "City:  a\n",
      "Rain:  5\n",
      "City:  a\n",
      "Rain:  -3\n",
      "City:  \n"
     ]
    },
    {
     "name": "stdout",
     "output_type": "stream",
     "text": [
      "a: total 2, mean 1.0\n"
     ]
    }
   ],
   "source": [
    "# how can we be sure that we got integers?\n",
    "\n",
    "rainfall = {}\n",
    "\n",
    "while city_name := input('City: ').strip()\n",
    "\n",
    "    mm_rain_s = input('Rain: ').strip()\n",
    "    try:\n",
    "        mm_rain = int(mm_rain_s)\n",
    "    except ValueError:\n",
    "        print(f'{mm_rain_s} is not numeric; try again')\n",
    "        continue\n",
    "\n",
    "    # if there is no city_name key, add it with an empty list\n",
    "    rainfall.setdefault(city_name, [])\n",
    "    rainfall[city_name].append(mm_rain)\n",
    "\n",
    "for key, value in rainfall.items():\n",
    "    print(f'{key}: total {sum(value)}, mean {sum(value)/len(value)}')"
   ]
  },
  {
   "cell_type": "code",
   "execution_count": null,
   "metadata": {},
   "outputs": [],
   "source": [
    "# Pydantic "
   ]
  },
  {
   "cell_type": "markdown",
   "metadata": {},
   "source": [
    "# Next up\n",
    "\n",
    "1. How are dicts implemented? (Old and new)\n",
    "2. Some dict variants\n",
    "3. Functions\n",
    "    - Arguments and parameters\n",
    "    - Scoping\n",
    "  \n",
    "Resume at 13:30 Paris Time"
   ]
  },
  {
   "cell_type": "markdown",
   "metadata": {},
   "source": [
    "# Dicts\n",
    "\n",
    "For a long time, we knew two things about dicts:\n",
    "\n",
    "1. They used a ton of memory\n",
    "2. You didn't know in what order the keys and values were stored\n",
    "\n"
   ]
  },
  {
   "cell_type": "raw",
   "metadata": {},
   "source": [
    "let's assume that I have an old-style dict\n",
    "That was implemented as a table of 8 rows, with two columns\n",
    "\n",
    "     key              value\n",
    "0\n",
    "1\n",
    "2      'd'            40\n",
    "3     'a'             10\n",
    "4     'b'            20\n",
    "5       'c'             30\n",
    "6\n",
    "7"
   ]
  },
  {
   "cell_type": "code",
   "execution_count": 199,
   "metadata": {},
   "outputs": [],
   "source": [
    "d = {}\n",
    "d['a'] = 10"
   ]
  },
  {
   "cell_type": "code",
   "execution_count": 201,
   "metadata": {},
   "outputs": [
    {
     "data": {
      "text/plain": [
       "3"
      ]
     },
     "execution_count": 201,
     "metadata": {},
     "output_type": "execute_result"
    }
   ],
   "source": [
    "# to know where we put this key-value pair ('a' - 10), we run hash on the key\n",
    "hash('a') % 8"
   ]
  },
  {
   "cell_type": "code",
   "execution_count": 202,
   "metadata": {},
   "outputs": [
    {
     "data": {
      "text/plain": [
       "True"
      ]
     },
     "execution_count": 202,
     "metadata": {},
     "output_type": "execute_result"
    }
   ],
   "source": [
    "'a' in d"
   ]
  },
  {
   "cell_type": "code",
   "execution_count": 203,
   "metadata": {},
   "outputs": [
    {
     "data": {
      "text/plain": [
       "10"
      ]
     },
     "execution_count": 203,
     "metadata": {},
     "output_type": "execute_result"
    }
   ],
   "source": [
    "d['a']"
   ]
  },
  {
   "cell_type": "code",
   "execution_count": 204,
   "metadata": {},
   "outputs": [
    {
     "data": {
      "text/plain": [
       "3"
      ]
     },
     "execution_count": 204,
     "metadata": {},
     "output_type": "execute_result"
    }
   ],
   "source": [
    "d['b'] = 20\n",
    "hash('b') % 8"
   ]
  },
  {
   "cell_type": "code",
   "execution_count": 205,
   "metadata": {},
   "outputs": [
    {
     "data": {
      "text/plain": [
       "True"
      ]
     },
     "execution_count": 205,
     "metadata": {},
     "output_type": "execute_result"
    }
   ],
   "source": [
    "'b' in d"
   ]
  },
  {
   "cell_type": "code",
   "execution_count": 206,
   "metadata": {},
   "outputs": [
    {
     "data": {
      "text/plain": [
       "4"
      ]
     },
     "execution_count": 206,
     "metadata": {},
     "output_type": "execute_result"
    }
   ],
   "source": [
    "d['c'] = 30\n",
    "hash('c') % 8"
   ]
  },
  {
   "cell_type": "code",
   "execution_count": 207,
   "metadata": {},
   "outputs": [
    {
     "data": {
      "text/plain": [
       "2"
      ]
     },
     "execution_count": 207,
     "metadata": {},
     "output_type": "execute_result"
    }
   ],
   "source": [
    "hash('d') % 8"
   ]
  },
  {
   "cell_type": "raw",
   "metadata": {},
   "source": [
    "New dict implementation as of Python 3.6/3.7\n",
    "Two data structures (internally)\n",
    "\n",
    "- Table with 3 columns (index, key, value) that starts with 0 rows and grows as needed\n",
    "  (every new key-value pair will be put in a new row, given the next available index)\n",
    "- An array of 8 integers. Each integer will point to one row in the 3-column table\n",
    "\n",
    "index      key      value\n",
    " 0         'a'        10\n",
    " 1         'b'        20\n",
    " 2         'c'        30\n",
    "\n",
    "[None, None, None, 0, 1, 2, None, None]"
   ]
  },
  {
   "cell_type": "code",
   "execution_count": 208,
   "metadata": {},
   "outputs": [],
   "source": [
    "d = {}\n",
    "d['a'] = 10"
   ]
  },
  {
   "cell_type": "code",
   "execution_count": 209,
   "metadata": {},
   "outputs": [
    {
     "data": {
      "text/plain": [
       "3"
      ]
     },
     "execution_count": 209,
     "metadata": {},
     "output_type": "execute_result"
    }
   ],
   "source": [
    "hash('a') % 8"
   ]
  },
  {
   "cell_type": "code",
   "execution_count": 210,
   "metadata": {},
   "outputs": [
    {
     "data": {
      "text/plain": [
       "3"
      ]
     },
     "execution_count": 210,
     "metadata": {},
     "output_type": "execute_result"
    }
   ],
   "source": [
    "d['b'] = 20\n",
    "hash('b') % 8"
   ]
  },
  {
   "cell_type": "code",
   "execution_count": 211,
   "metadata": {},
   "outputs": [
    {
     "data": {
      "text/plain": [
       "4"
      ]
     },
     "execution_count": 211,
     "metadata": {},
     "output_type": "execute_result"
    }
   ],
   "source": [
    "d['c'] = 30\n",
    "hash('c') % 8"
   ]
  },
  {
   "cell_type": "code",
   "execution_count": 212,
   "metadata": {},
   "outputs": [
    {
     "ename": "TypeError",
     "evalue": "first argument must be callable or None",
     "output_type": "error",
     "traceback": [
      "\u001b[0;31m---------------------------------------------------------------------------\u001b[0m",
      "\u001b[0;31mTypeError\u001b[0m                                 Traceback (most recent call last)",
      "Cell \u001b[0;32mIn[212], line 8\u001b[0m\n\u001b[1;32m      1\u001b[0m \u001b[38;5;66;03m# variants on dictionaries\u001b[39;00m\n\u001b[1;32m      2\u001b[0m \u001b[38;5;66;03m# first: defaultdict\u001b[39;00m\n\u001b[1;32m      3\u001b[0m \n\u001b[1;32m      4\u001b[0m \u001b[38;5;66;03m# if the key isn't in the dict, then you can get a default value back, rather than a KeyError exception\u001b[39;00m\n\u001b[1;32m      6\u001b[0m \u001b[38;5;28;01mfrom\u001b[39;00m \u001b[38;5;21;01mcollections\u001b[39;00m \u001b[38;5;28;01mimport\u001b[39;00m defaultdict\n\u001b[0;32m----> 8\u001b[0m d \u001b[38;5;241m=\u001b[39m \u001b[43mdefaultdict\u001b[49m\u001b[43m(\u001b[49m\u001b[38;5;241;43m0\u001b[39;49m\u001b[43m)\u001b[49m\n",
      "\u001b[0;31mTypeError\u001b[0m: first argument must be callable or None"
     ]
    }
   ],
   "source": [
    "# variants on dictionaries\n",
    "# first: defaultdict\n",
    "\n",
    "# if the key isn't in the dict, then you can get a default value back, rather than a KeyError exception\n",
    "\n",
    "from collections import defaultdict\n",
    "\n",
    "d = defaultdict(0)"
   ]
  },
  {
   "cell_type": "code",
   "execution_count": 213,
   "metadata": {},
   "outputs": [
    {
     "data": {
      "text/plain": [
       "0"
      ]
     },
     "execution_count": 213,
     "metadata": {},
     "output_type": "execute_result"
    }
   ],
   "source": [
    "# the argument to defaultdict is a function/class (not calling it, passing it)\n",
    "# when we request a value based on a key, if the key doesn't yet exist, then the \n",
    "# function is invoked, the value is set, and then is returned\n",
    "\n",
    "d = defaultdict(int)    # if I call int(), I get 0\n",
    "\n",
    "d['a']    # I asked for d['a'], but 'a' wasn't a key. So defaultdict said d['a'] = int()  "
   ]
  },
  {
   "cell_type": "code",
   "execution_count": 214,
   "metadata": {},
   "outputs": [
    {
     "data": {
      "text/plain": [
       "defaultdict(int, {'a': 0})"
      ]
     },
     "execution_count": 214,
     "metadata": {},
     "output_type": "execute_result"
    }
   ],
   "source": [
    "d"
   ]
  },
  {
   "cell_type": "code",
   "execution_count": 215,
   "metadata": {},
   "outputs": [
    {
     "data": {
      "text/plain": [
       "0"
      ]
     },
     "execution_count": 215,
     "metadata": {},
     "output_type": "execute_result"
    }
   ],
   "source": [
    "d['a']"
   ]
  },
  {
   "cell_type": "code",
   "execution_count": 216,
   "metadata": {},
   "outputs": [
    {
     "data": {
      "text/plain": [
       "0"
      ]
     },
     "execution_count": 216,
     "metadata": {},
     "output_type": "execute_result"
    }
   ],
   "source": [
    "# if I ask for d['b'], and there is no key 'b', then \n",
    "# defaultdict will set d['b'] = int(), and then return d['b']\n",
    "\n",
    "d['b']"
   ]
  },
  {
   "cell_type": "code",
   "execution_count": 217,
   "metadata": {},
   "outputs": [
    {
     "data": {
      "text/plain": [
       "defaultdict(int, {'a': 0, 'b': 0})"
      ]
     },
     "execution_count": 217,
     "metadata": {},
     "output_type": "execute_result"
    }
   ],
   "source": [
    "d"
   ]
  },
  {
   "cell_type": "code",
   "execution_count": 219,
   "metadata": {},
   "outputs": [
    {
     "data": {
      "text/plain": [
       "1721649493.017952"
      ]
     },
     "execution_count": 219,
     "metadata": {},
     "output_type": "execute_result"
    }
   ],
   "source": [
    "# any function/class without arguments can be passed\n",
    "\n",
    "import time\n",
    "time.time()   # number of seconds since 1.1.1970 at midnight"
   ]
  },
  {
   "cell_type": "code",
   "execution_count": 220,
   "metadata": {},
   "outputs": [
    {
     "data": {
      "text/plain": [
       "1721649509.7191029"
      ]
     },
     "execution_count": 220,
     "metadata": {},
     "output_type": "execute_result"
    }
   ],
   "source": [
    "d = defaultdict(time.time)  # notice, we don't invoke the function! We let defaultdict do that for us\n",
    "\n",
    "d['a']"
   ]
  },
  {
   "cell_type": "code",
   "execution_count": 221,
   "metadata": {},
   "outputs": [
    {
     "data": {
      "text/plain": [
       "1721649511.635984"
      ]
     },
     "execution_count": 221,
     "metadata": {},
     "output_type": "execute_result"
    }
   ],
   "source": [
    "d['b']"
   ]
  },
  {
   "cell_type": "code",
   "execution_count": 222,
   "metadata": {},
   "outputs": [
    {
     "data": {
      "text/plain": [
       "1721649513.359512"
      ]
     },
     "execution_count": 222,
     "metadata": {},
     "output_type": "execute_result"
    }
   ],
   "source": [
    "d['c']"
   ]
  },
  {
   "cell_type": "code",
   "execution_count": 223,
   "metadata": {},
   "outputs": [
    {
     "data": {
      "text/plain": [
       "defaultdict(<function time.time>,\n",
       "            {'a': 1721649509.7191029,\n",
       "             'b': 1721649511.635984,\n",
       "             'c': 1721649513.359512})"
      ]
     },
     "execution_count": 223,
     "metadata": {},
     "output_type": "execute_result"
    }
   ],
   "source": [
    "d"
   ]
  },
  {
   "cell_type": "code",
   "execution_count": 224,
   "metadata": {},
   "outputs": [
    {
     "data": {
      "text/plain": [
       "1721649532.289632"
      ]
     },
     "execution_count": 224,
     "metadata": {},
     "output_type": "execute_result"
    }
   ],
   "source": [
    "d['username']"
   ]
  },
  {
   "cell_type": "code",
   "execution_count": 225,
   "metadata": {},
   "outputs": [
    {
     "data": {
      "text/plain": [
       "defaultdict(<function time.time>,\n",
       "            {'a': 1721649509.7191029,\n",
       "             'b': 1721649511.635984,\n",
       "             'c': 1721649513.359512,\n",
       "             'username': 1721649532.289632})"
      ]
     },
     "execution_count": 225,
     "metadata": {},
     "output_type": "execute_result"
    }
   ],
   "source": [
    "d"
   ]
  },
  {
   "cell_type": "code",
   "execution_count": 226,
   "metadata": {},
   "outputs": [],
   "source": [
    "# now I have an auto-growing two-level tree structure\n",
    "\n",
    "d = defaultdict(dict)\n"
   ]
  },
  {
   "cell_type": "code",
   "execution_count": 227,
   "metadata": {},
   "outputs": [],
   "source": [
    "d['a']['b'] = 100"
   ]
  },
  {
   "cell_type": "code",
   "execution_count": 228,
   "metadata": {},
   "outputs": [
    {
     "data": {
      "text/plain": [
       "defaultdict(dict, {'a': {'b': 100, 'c': 300}, 'x': {'y': 200}})"
      ]
     },
     "execution_count": 228,
     "metadata": {},
     "output_type": "execute_result"
    }
   ],
   "source": [
    "d['x']['y'] = 200\n",
    "d['a']['c'] = 300\n",
    "d"
   ]
  },
  {
   "cell_type": "code",
   "execution_count": 229,
   "metadata": {},
   "outputs": [
    {
     "name": "stdin",
     "output_type": "stream",
     "text": [
      "City:  \n"
     ]
    }
   ],
   "source": [
    "# rainfall with defaultdict\n",
    "\n",
    "from collections import defaultdict\n",
    "\n",
    "rainfall = defaultdict(list)\n",
    "\n",
    "while True:\n",
    "    city_name = input('City: ').strip()\n",
    "\n",
    "    if not city_name:\n",
    "        break\n",
    "\n",
    "    mm_rain_s = input('Rain: ').strip()\n",
    "    if not mm_rain.isdigit():\n",
    "        print(f'Not numeric; try again')\n",
    "        continue\n",
    "    mm_rain = int(mm_rain_s)\n",
    "\n",
    "    rainfall[city_name].append(mm_rain)\n",
    "\n",
    "for key, value in rainfall.items():\n",
    "    print(f'{key}: total {sum(value)}, mean {sum(value)/len(value)}')"
   ]
  },
  {
   "cell_type": "code",
   "execution_count": 230,
   "metadata": {},
   "outputs": [
    {
     "ename": "KeyError",
     "evalue": "'q'",
     "output_type": "error",
     "traceback": [
      "\u001b[0;31m---------------------------------------------------------------------------\u001b[0m",
      "\u001b[0;31mKeyError\u001b[0m                                  Traceback (most recent call last)",
      "Cell \u001b[0;32mIn[230], line 3\u001b[0m\n\u001b[1;32m      1\u001b[0m d \u001b[38;5;241m=\u001b[39m {\u001b[38;5;124m'\u001b[39m\u001b[38;5;124ma\u001b[39m\u001b[38;5;124m'\u001b[39m:\u001b[38;5;241m10\u001b[39m, \u001b[38;5;124m'\u001b[39m\u001b[38;5;124mb\u001b[39m\u001b[38;5;124m'\u001b[39m:\u001b[38;5;241m20\u001b[39m, \u001b[38;5;124m'\u001b[39m\u001b[38;5;124mc\u001b[39m\u001b[38;5;124m'\u001b[39m:\u001b[38;5;241m30\u001b[39m}\n\u001b[0;32m----> 3\u001b[0m \u001b[43md\u001b[49m\u001b[43m[\u001b[49m\u001b[38;5;124;43m'\u001b[39;49m\u001b[38;5;124;43mq\u001b[39;49m\u001b[38;5;124;43m'\u001b[39;49m\u001b[43m]\u001b[49m\n",
      "\u001b[0;31mKeyError\u001b[0m: 'q'"
     ]
    }
   ],
   "source": [
    "d = {'a':10, 'b':20, 'c':30}\n",
    "\n",
    "d['q']"
   ]
  },
  {
   "cell_type": "markdown",
   "metadata": {},
   "source": [
    "# Exercise: Travel\n",
    "\n",
    "The goal is to create a dict in which the keys are countries you've visited, and the values are lists of cities you've visited in each country.\n",
    "\n",
    "1. Ask the user to enter a place they've visited in the form of `city, country`\n",
    "2. Break that apart, and make sure that the country is the dict key, and the city is added to the list for that country.\n",
    "    - If the user enters bad data, scold them and let them try again\n",
    "    - If the user enters an empty string, stop asking\n",
    "3. Iterate over the dict, printing each country and then each of the cities for that country.\n",
    "\n",
    "Example:\n",
    "\n",
    "    Enter a place: Chicago, USA\n",
    "    Enter a place: Boston, USA\n",
    "    Enter a place: Shanghai, China\n",
    "    Enter a place: Beijing, China\n",
    "    Enter a place: [ENTER]\n",
    "\n",
    "    China\n",
    "        Shanghai\n",
    "        Beijing\n",
    "    USA\n",
    "        Chicago\n",
    "        Boston"
   ]
  },
  {
   "cell_type": "code",
   "execution_count": 231,
   "metadata": {},
   "outputs": [
    {
     "name": "stdin",
     "output_type": "stream",
     "text": [
      "Enter a place:  Chicago, USA\n",
      "Enter a place:  Boston, USA\n",
      "Enter a place:  Beijing, China\n",
      "Enter a place:  Shanghai, China\n",
      "Enter a place:  \n"
     ]
    },
    {
     "name": "stdout",
     "output_type": "stream",
     "text": [
      "USA\n",
      "\tChicago\n",
      "\tBoston\n",
      "China\n",
      "\tBeijing\n",
      "\tShanghai\n"
     ]
    }
   ],
   "source": [
    "from collections import defaultdict\n",
    "\n",
    "all_places = defaultdict(lixst)\n",
    "\n",
    "while s := input('Enter a place: ').strip():\n",
    "\n",
    "    if s.count(',') != 1:\n",
    "        print(f'Use format of \"CITY, COUNTRY\"')\n",
    "        continue\n",
    "\n",
    "    city, country = s.split(',')\n",
    "    all_places[country.strip()].append(city.strip())\n",
    "\n",
    "for country, all_cities in all_places.items():\n",
    "    print(country)\n",
    "    for one_city in all_cities:\n",
    "        print(f'\\t{one_city}')"
   ]
  },
  {
   "cell_type": "code",
   "execution_count": 232,
   "metadata": {},
   "outputs": [
    {
     "data": {
      "text/plain": [
       "Counter({'b': 10, 'a': 5, 'c': 3})"
      ]
     },
     "execution_count": 232,
     "metadata": {},
     "output_type": "execute_result"
    }
   ],
   "source": [
    "# Counter\n",
    "\n",
    "from collections import Counter\n",
    "\n",
    "c = Counter()\n",
    "c['a'] += 5\n",
    "c['b'] += 8\n",
    "c['c'] += 3\n",
    "c['b'] += 2\n",
    "\n",
    "c"
   ]
  },
  {
   "cell_type": "code",
   "execution_count": 233,
   "metadata": {},
   "outputs": [
    {
     "data": {
      "text/plain": [
       "Counter({20: 4, 30: 4, 40: 3, 50: 2, 10: 1, 60: 1})"
      ]
     },
     "execution_count": 233,
     "metadata": {},
     "output_type": "execute_result"
    }
   ],
   "source": [
    "# the idea of Counter is to pass it an iterable (string, list, tuple, etc.)\n",
    "# Counter will count how often each element appears in the iterable\n",
    "# the elements will become the keys, and the counts will be the values\n",
    "\n",
    "c = Counter([10, 20, 30, 20, 30, 40, 20, 30, 40, 50, 20, 30, 40, 50, 60])\n",
    "c"
   ]
  },
  {
   "cell_type": "code",
   "execution_count": 234,
   "metadata": {},
   "outputs": [],
   "source": [
    "c = Counter('this is a bunch of text and I wish I knew which letters appeared most often')"
   ]
  },
  {
   "cell_type": "code",
   "execution_count": 235,
   "metadata": {},
   "outputs": [
    {
     "data": {
      "text/plain": [
       "Counter({' ': 15,\n",
       "         't': 7,\n",
       "         'e': 7,\n",
       "         'h': 5,\n",
       "         's': 5,\n",
       "         'i': 4,\n",
       "         'a': 4,\n",
       "         'n': 4,\n",
       "         'o': 3,\n",
       "         'w': 3,\n",
       "         'c': 2,\n",
       "         'f': 2,\n",
       "         'd': 2,\n",
       "         'I': 2,\n",
       "         'r': 2,\n",
       "         'p': 2,\n",
       "         'b': 1,\n",
       "         'u': 1,\n",
       "         'x': 1,\n",
       "         'k': 1,\n",
       "         'l': 1,\n",
       "         'm': 1})"
      ]
     },
     "execution_count": 235,
     "metadata": {},
     "output_type": "execute_result"
    }
   ],
   "source": [
    "c"
   ]
  },
  {
   "cell_type": "code",
   "execution_count": 236,
   "metadata": {},
   "outputs": [
    {
     "data": {
      "text/plain": [
       "[(' ', 15),\n",
       " ('t', 7),\n",
       " ('e', 7),\n",
       " ('h', 5),\n",
       " ('s', 5),\n",
       " ('i', 4),\n",
       " ('a', 4),\n",
       " ('n', 4),\n",
       " ('o', 3),\n",
       " ('w', 3),\n",
       " ('c', 2),\n",
       " ('f', 2),\n",
       " ('d', 2),\n",
       " ('I', 2),\n",
       " ('r', 2),\n",
       " ('p', 2),\n",
       " ('b', 1),\n",
       " ('u', 1),\n",
       " ('x', 1),\n",
       " ('k', 1),\n",
       " ('l', 1),\n",
       " ('m', 1)]"
      ]
     },
     "execution_count": 236,
     "metadata": {},
     "output_type": "execute_result"
    }
   ],
   "source": [
    "c.most_common()"
   ]
  },
  {
   "cell_type": "code",
   "execution_count": 237,
   "metadata": {},
   "outputs": [
    {
     "data": {
      "text/plain": [
       "[(' ', 15), ('t', 7), ('e', 7), ('h', 5), ('s', 5)]"
      ]
     },
     "execution_count": 237,
     "metadata": {},
     "output_type": "execute_result"
    }
   ],
   "source": [
    "c.most_common(5)"
   ]
  },
  {
   "cell_type": "code",
   "execution_count": 238,
   "metadata": {},
   "outputs": [],
   "source": [
    "c += c"
   ]
  },
  {
   "cell_type": "code",
   "execution_count": 239,
   "metadata": {},
   "outputs": [
    {
     "data": {
      "text/plain": [
       "Counter({' ': 30,\n",
       "         't': 14,\n",
       "         'e': 14,\n",
       "         'h': 10,\n",
       "         's': 10,\n",
       "         'i': 8,\n",
       "         'a': 8,\n",
       "         'n': 8,\n",
       "         'o': 6,\n",
       "         'w': 6,\n",
       "         'c': 4,\n",
       "         'f': 4,\n",
       "         'd': 4,\n",
       "         'I': 4,\n",
       "         'r': 4,\n",
       "         'p': 4,\n",
       "         'b': 2,\n",
       "         'u': 2,\n",
       "         'x': 2,\n",
       "         'k': 2,\n",
       "         'l': 2,\n",
       "         'm': 2})"
      ]
     },
     "execution_count": 239,
     "metadata": {},
     "output_type": "execute_result"
    }
   ],
   "source": [
    "c"
   ]
  },
  {
   "cell_type": "code",
   "execution_count": 240,
   "metadata": {},
   "outputs": [
    {
     "data": {
      "text/plain": [
       "[(' ', 12387),\n",
       " ('e', 6671),\n",
       " ('t', 5152),\n",
       " ('o', 4242),\n",
       " ('a', 4058),\n",
       " ('i', 3547),\n",
       " ('n', 3530),\n",
       " ('h', 3122),\n",
       " ('r', 3111),\n",
       " ('s', 3057),\n",
       " ('d', 2245),\n",
       " ('l', 2221),\n",
       " ('\\n', 1702),\n",
       " ('u', 1634),\n",
       " ('c', 1435),\n",
       " ('g', 1230),\n",
       " ('w', 1165),\n",
       " ('m', 1064),\n",
       " ('f', 1061),\n",
       " ('y', 985)]"
      ]
     },
     "execution_count": 240,
     "metadata": {},
     "output_type": "execute_result"
    }
   ],
   "source": [
    "c = Counter()\n",
    "\n",
    "for one_line in open('/Users/reuven/Courses/Current/Data/alice-in-wonderland.txt'):\n",
    "    c += Counter(one_line)\n",
    "\n",
    "c.most_common(20)"
   ]
  },
  {
   "cell_type": "code",
   "execution_count": 243,
   "metadata": {},
   "outputs": [
    {
     "name": "stdout",
     "output_type": "stream",
     "text": [
      "﻿: 1\n",
      "T: 241\n",
      "h: 3122\n",
      "e: 6671\n",
      " : 12387\n",
      "P: 140\n",
      "r: 3111\n",
      "o: 4242\n",
      "j: 129\n",
      "c: 1435\n",
      "t: 5152\n",
      "G: 122\n",
      "u: 1634\n",
      "n: 3530\n",
      "b: 742\n",
      "g: 1230\n",
      "E: 187\n",
      "B: 62\n",
      "k: 509\n",
      "f: 1061\n",
      "A: 352\n",
      "l: 2221\n",
      "i: 3547\n",
      "W: 103\n",
      "d: 2245\n",
      "a: 4058\n",
      ",: 927\n",
      "y: 985\n",
      "L: 90\n",
      "w: 1165\n",
      "s: 3057\n",
      "C: 100\n",
      "\n",
      ": 1702\n",
      "m: 1064\n",
      "v: 389\n",
      ".: 621\n",
      "Y: 58\n",
      "p: 849\n",
      "-: 287\n",
      ":: 40\n",
      "I: 375\n",
      "R: 133\n",
      "D: 120\n",
      "1: 64\n",
      "2: 10\n",
      "0: 24\n",
      "6: 9\n",
      "[: 27\n",
      "#: 1\n",
      "9: 15\n",
      "3: 21\n",
      "]: 27\n",
      "*: 33\n",
      "S: 159\n",
      "O: 116\n",
      "F: 92\n",
      "H: 92\n",
      "J: 14\n",
      "U: 53\n",
      "N: 113\n",
      "K: 42\n",
      "/: 31\n",
      "_: 150\n",
      "\": 710\n",
      "': 260\n",
      "V: 20\n",
      "M: 79\n",
      "&: 2\n",
      "?: 70\n",
      "(: 33\n",
      "): 33\n",
      "!: 176\n",
      ";: 78\n",
      "z: 34\n",
      "x: 70\n",
      "q: 62\n",
      "ù: 1\n",
      "Q: 34\n",
      "X: 4\n",
      "8: 11\n",
      "7: 6\n",
      "4: 9\n",
      "5: 12\n",
      "%: 1\n",
      "@: 2\n",
      "$: 2\n"
     ]
    }
   ],
   "source": [
    "for key, value in c.items():\n",
    "    print(f'{key}: {value}')"
   ]
  },
  {
   "cell_type": "code",
   "execution_count": 249,
   "metadata": {},
   "outputs": [
    {
     "data": {
      "text/plain": [
       "[('66.249.65.38', 100),\n",
       " ('66.249.65.12', 32),\n",
       " ('89.248.172.58', 22),\n",
       " ('67.195.112.35', 16),\n",
       " ('66.249.71.65', 3)]"
      ]
     },
     "execution_count": 249,
     "metadata": {},
     "output_type": "execute_result"
    }
   ],
   "source": [
    "# I want to know which 5 IP addresses accessed my system most often in our logfile\n",
    "\n",
    "Counter( \n",
    "    [one_line.split()[0]    # list comprehension\n",
    "    for one_line in open('/Users/reuven/Courses/Current/Data/mini-access-log.txt')]\n",
    ").most_common(5)"
   ]
  },
  {
   "cell_type": "code",
   "execution_count": 250,
   "metadata": {},
   "outputs": [],
   "source": [
    "def poor_man_counter(iterable):\n",
    "    output = {}\n",
    "\n",
    "    for one_item in iterable:\n",
    "        output.setdefault(one_item, 0)\n",
    "        output[one_item] += 1\n",
    "\n",
    "    return output"
   ]
  },
  {
   "cell_type": "code",
   "execution_count": 251,
   "metadata": {},
   "outputs": [],
   "source": [
    "# OrderedDict\n",
    "\n",
    "from collections import OrderedDict"
   ]
  },
  {
   "cell_type": "code",
   "execution_count": 252,
   "metadata": {},
   "outputs": [
    {
     "data": {
      "text/plain": [
       "OrderedDict([('a', 10), ('b', 20), ('c', 30)])"
      ]
     },
     "execution_count": 252,
     "metadata": {},
     "output_type": "execute_result"
    }
   ],
   "source": [
    "od = OrderedDict(a=10, b=20, c=30)\n",
    "od"
   ]
  },
  {
   "cell_type": "code",
   "execution_count": 253,
   "metadata": {},
   "outputs": [],
   "source": [
    "# regular dicts are considered equal if all key-value pairs are equal\n",
    "\n",
    "d1 = {'a':10, 'b':20, 'c':30}\n",
    "d2 = {'b':20, 'a':10, 'c':30}"
   ]
  },
  {
   "cell_type": "code",
   "execution_count": 254,
   "metadata": {},
   "outputs": [
    {
     "data": {
      "text/plain": [
       "True"
      ]
     },
     "execution_count": 254,
     "metadata": {},
     "output_type": "execute_result"
    }
   ],
   "source": [
    "d1 == d2"
   ]
  },
  {
   "cell_type": "code",
   "execution_count": 255,
   "metadata": {},
   "outputs": [
    {
     "data": {
      "text/plain": [
       "False"
      ]
     },
     "execution_count": 255,
     "metadata": {},
     "output_type": "execute_result"
    }
   ],
   "source": [
    "# OrderedDicts are only equal if their order, as well as pairs, are equal\n",
    "od1 = OrderedDict(a=10, b=20, c=30)\n",
    "od2 = OrderedDict(b=20, a=10, c=30)\n",
    "\n",
    "od1 == od2"
   ]
  },
  {
   "cell_type": "markdown",
   "metadata": {},
   "source": [
    "# Functions\n",
    "\n",
    "The first thing to realize about defining functions in Python is that when we use `def`, we're really doing two things:\n",
    "\n",
    "1. We're creating a function object\n",
    "2. We're assigning that function object to a variable\n",
    "\n"
   ]
  },
  {
   "cell_type": "code",
   "execution_count": 256,
   "metadata": {},
   "outputs": [],
   "source": [
    "def hello():\n",
    "    return 'Hello'"
   ]
  },
  {
   "cell_type": "code",
   "execution_count": 257,
   "metadata": {},
   "outputs": [
    {
     "data": {
      "text/plain": [
       "function"
      ]
     },
     "execution_count": 257,
     "metadata": {},
     "output_type": "execute_result"
    }
   ],
   "source": [
    "# which variable has been assigned the function?\n",
    "# answer: hello\n",
    "\n",
    "type(hello)"
   ]
  },
  {
   "cell_type": "code",
   "execution_count": 258,
   "metadata": {},
   "outputs": [],
   "source": [
    "hello = 5"
   ]
  },
  {
   "cell_type": "code",
   "execution_count": 259,
   "metadata": {},
   "outputs": [
    {
     "ename": "TypeError",
     "evalue": "'int' object is not callable",
     "output_type": "error",
     "traceback": [
      "\u001b[0;31m---------------------------------------------------------------------------\u001b[0m",
      "\u001b[0;31mTypeError\u001b[0m                                 Traceback (most recent call last)",
      "Cell \u001b[0;32mIn[259], line 1\u001b[0m\n\u001b[0;32m----> 1\u001b[0m \u001b[43mhello\u001b[49m\u001b[43m(\u001b[49m\u001b[43m)\u001b[49m\n",
      "\u001b[0;31mTypeError\u001b[0m: 'int' object is not callable"
     ]
    }
   ],
   "source": [
    "hello()"
   ]
  },
  {
   "cell_type": "code",
   "execution_count": 260,
   "metadata": {},
   "outputs": [],
   "source": [
    "def hello():\n",
    "    return 'Hello'"
   ]
  },
  {
   "cell_type": "code",
   "execution_count": 261,
   "metadata": {},
   "outputs": [
    {
     "data": {
      "text/plain": [
       "['__class__',\n",
       " '__delattr__',\n",
       " '__dir__',\n",
       " '__doc__',\n",
       " '__eq__',\n",
       " '__format__',\n",
       " '__ge__',\n",
       " '__getattribute__',\n",
       " '__getstate__',\n",
       " '__gt__',\n",
       " '__hash__',\n",
       " '__init__',\n",
       " '__init_subclass__',\n",
       " '__le__',\n",
       " '__lt__',\n",
       " '__ne__',\n",
       " '__new__',\n",
       " '__reduce__',\n",
       " '__reduce_ex__',\n",
       " '__repr__',\n",
       " '__setattr__',\n",
       " '__sizeof__',\n",
       " '__str__',\n",
       " '__subclasshook__',\n",
       " '_co_code_adaptive',\n",
       " '_varname_from_oparg',\n",
       " 'co_argcount',\n",
       " 'co_cellvars',\n",
       " 'co_code',\n",
       " 'co_consts',\n",
       " 'co_exceptiontable',\n",
       " 'co_filename',\n",
       " 'co_firstlineno',\n",
       " 'co_flags',\n",
       " 'co_freevars',\n",
       " 'co_kwonlyargcount',\n",
       " 'co_lines',\n",
       " 'co_linetable',\n",
       " 'co_lnotab',\n",
       " 'co_name',\n",
       " 'co_names',\n",
       " 'co_nlocals',\n",
       " 'co_positions',\n",
       " 'co_posonlyargcount',\n",
       " 'co_qualname',\n",
       " 'co_stacksize',\n",
       " 'co_varnames',\n",
       " 'replace']"
      ]
     },
     "execution_count": 261,
     "metadata": {},
     "output_type": "execute_result"
    }
   ],
   "source": [
    "# there is a __code__ object under hello\n",
    "# that's where the real brains of our function are\n",
    "\n",
    "dir(hello.__code__)"
   ]
  },
  {
   "cell_type": "code",
   "execution_count": 262,
   "metadata": {},
   "outputs": [],
   "source": [
    "# inside of the function\n",
    "# inside of its __code__ attribute\n",
    "# we have a bunch of co_* attributes, which are hints/info for running the function"
   ]
  },
  {
   "cell_type": "code",
   "execution_count": 263,
   "metadata": {},
   "outputs": [
    {
     "name": "stdout",
     "output_type": "stream",
     "text": [
      "  1           0 RESUME                   0\n",
      "\n",
      "  2           2 RETURN_CONST             1 ('Hello')\n"
     ]
    }
   ],
   "source": [
    "# we can look at the bytecodes that Python has compiled our function into\n",
    "\n",
    "import dis   # Python disassembler\n",
    "\n",
    "dis.dis(hello)"
   ]
  },
  {
   "cell_type": "code",
   "execution_count": 264,
   "metadata": {},
   "outputs": [
    {
     "data": {
      "text/plain": [
       "(None, 'Hello')"
      ]
     },
     "execution_count": 264,
     "metadata": {},
     "output_type": "execute_result"
    }
   ],
   "source": [
    "# part of the function object is the co_consts attribute\n",
    "# it's a tuple containing all of the function's constants\n",
    "# meaning: values that were stored when the function was defined\n",
    "\n",
    "hello.__code__.co_consts"
   ]
  },
  {
   "cell_type": "code",
   "execution_count": 265,
   "metadata": {},
   "outputs": [
    {
     "data": {
      "text/plain": [
       "'Hello'"
      ]
     },
     "execution_count": 265,
     "metadata": {},
     "output_type": "execute_result"
    }
   ],
   "source": [
    "hello()"
   ]
  },
  {
   "cell_type": "code",
   "execution_count": 266,
   "metadata": {},
   "outputs": [
    {
     "ename": "TypeError",
     "evalue": "hello() takes 0 positional arguments but 1 was given",
     "output_type": "error",
     "traceback": [
      "\u001b[0;31m---------------------------------------------------------------------------\u001b[0m",
      "\u001b[0;31mTypeError\u001b[0m                                 Traceback (most recent call last)",
      "Cell \u001b[0;32mIn[266], line 3\u001b[0m\n\u001b[1;32m      1\u001b[0m \u001b[38;5;66;03m# what if I call the function with an argument?\u001b[39;00m\n\u001b[0;32m----> 3\u001b[0m \u001b[43mhello\u001b[49m\u001b[43m(\u001b[49m\u001b[38;5;124;43m'\u001b[39;49m\u001b[38;5;124;43mworld\u001b[39;49m\u001b[38;5;124;43m'\u001b[39;49m\u001b[43m)\u001b[49m\n",
      "\u001b[0;31mTypeError\u001b[0m: hello() takes 0 positional arguments but 1 was given"
     ]
    }
   ],
   "source": [
    "# what if I call the function with an argument?\n",
    "\n",
    "hello('world')"
   ]
  },
  {
   "cell_type": "code",
   "execution_count": 270,
   "metadata": {},
   "outputs": [
    {
     "data": {
      "text/plain": [
       "0"
      ]
     },
     "execution_count": 270,
     "metadata": {},
     "output_type": "execute_result"
    }
   ],
   "source": [
    "# how does Python know that the 'hello' function takes 0 arguments?\n",
    "# the answer is: the co_argcount attribute\n",
    "\n",
    "hello.__code__.co_argcount"
   ]
  },
  {
   "cell_type": "code",
   "execution_count": 271,
   "metadata": {},
   "outputs": [],
   "source": [
    "def hello(name):\n",
    "    return f'Hello, {name}!'"
   ]
  },
  {
   "cell_type": "code",
   "execution_count": 272,
   "metadata": {},
   "outputs": [
    {
     "name": "stdout",
     "output_type": "stream",
     "text": [
      "  1           0 RESUME                   0\n",
      "\n",
      "  2           2 LOAD_CONST               1 ('Hello, ')\n",
      "              4 LOAD_FAST                0 (name)\n",
      "              6 FORMAT_VALUE             0\n",
      "              8 LOAD_CONST               2 ('!')\n",
      "             10 BUILD_STRING             3\n",
      "             12 RETURN_VALUE\n"
     ]
    }
   ],
   "source": [
    "dis.dis(hello)"
   ]
  },
  {
   "cell_type": "code",
   "execution_count": 273,
   "metadata": {},
   "outputs": [
    {
     "data": {
      "text/plain": [
       "(None, 'Hello, ', '!')"
      ]
     },
     "execution_count": 273,
     "metadata": {},
     "output_type": "execute_result"
    }
   ],
   "source": [
    "hello.__code__.co_consts"
   ]
  },
  {
   "cell_type": "code",
   "execution_count": 274,
   "metadata": {},
   "outputs": [
    {
     "data": {
      "text/plain": [
       "('name',)"
      ]
     },
     "execution_count": 274,
     "metadata": {},
     "output_type": "execute_result"
    }
   ],
   "source": [
    "hello.__code__.co_varnames"
   ]
  },
  {
   "cell_type": "code",
   "execution_count": 275,
   "metadata": {},
   "outputs": [
    {
     "ename": "TypeError",
     "evalue": "hello() missing 1 required positional argument: 'name'",
     "output_type": "error",
     "traceback": [
      "\u001b[0;31m---------------------------------------------------------------------------\u001b[0m",
      "\u001b[0;31mTypeError\u001b[0m                                 Traceback (most recent call last)",
      "Cell \u001b[0;32mIn[275], line 1\u001b[0m\n\u001b[0;32m----> 1\u001b[0m \u001b[43mhello\u001b[49m\u001b[43m(\u001b[49m\u001b[43m)\u001b[49m   \u001b[38;5;66;03m# can I do this?\u001b[39;00m\n",
      "\u001b[0;31mTypeError\u001b[0m: hello() missing 1 required positional argument: 'name'"
     ]
    }
   ],
   "source": [
    "hello()   # can I do this?"
   ]
  },
  {
   "cell_type": "code",
   "execution_count": 276,
   "metadata": {},
   "outputs": [
    {
     "data": {
      "text/plain": [
       "'Hello, world!'"
      ]
     },
     "execution_count": 276,
     "metadata": {},
     "output_type": "execute_result"
    }
   ],
   "source": [
    "hello('world')"
   ]
  },
  {
   "cell_type": "code",
   "execution_count": 277,
   "metadata": {},
   "outputs": [
    {
     "data": {
      "text/plain": [
       "'Hello, [10, 20, 30]!'"
      ]
     },
     "execution_count": 277,
     "metadata": {},
     "output_type": "execute_result"
    }
   ],
   "source": [
    "hello([10, 20, 30])"
   ]
  },
  {
   "cell_type": "code",
   "execution_count": 278,
   "metadata": {},
   "outputs": [
    {
     "data": {
      "text/plain": [
       "\"Hello, {'a': 10, 'b': 20}!\""
      ]
     },
     "execution_count": 278,
     "metadata": {},
     "output_type": "execute_result"
    }
   ],
   "source": [
    "hello({'a':10, 'b':20})"
   ]
  },
  {
   "cell_type": "code",
   "execution_count": 279,
   "metadata": {},
   "outputs": [
    {
     "data": {
      "text/plain": [
       "'Hello, <function hello at 0x10d962de0>!'"
      ]
     },
     "execution_count": 279,
     "metadata": {},
     "output_type": "execute_result"
    }
   ],
   "source": [
    "hello(hello)"
   ]
  },
  {
   "cell_type": "code",
   "execution_count": 280,
   "metadata": {},
   "outputs": [],
   "source": [
    "def return_5():\n",
    "    return 5"
   ]
  },
  {
   "cell_type": "code",
   "execution_count": 281,
   "metadata": {},
   "outputs": [
    {
     "name": "stdout",
     "output_type": "stream",
     "text": [
      "  1           0 RESUME                   0\n",
      "\n",
      "  2           2 RETURN_CONST             1 (5)\n"
     ]
    }
   ],
   "source": [
    "dis.dis(return_5)"
   ]
  },
  {
   "cell_type": "code",
   "execution_count": 282,
   "metadata": {},
   "outputs": [],
   "source": [
    "def return_twice(n):\n",
    "    return n * 2"
   ]
  },
  {
   "cell_type": "code",
   "execution_count": 283,
   "metadata": {},
   "outputs": [
    {
     "name": "stdout",
     "output_type": "stream",
     "text": [
      "  1           0 RESUME                   0\n",
      "\n",
      "  2           2 LOAD_FAST                0 (n)\n",
      "              4 LOAD_CONST               1 (2)\n",
      "              6 BINARY_OP                5 (*)\n",
      "             10 RETURN_VALUE\n"
     ]
    }
   ],
   "source": [
    "dis.dis(return_twice)"
   ]
  },
  {
   "cell_type": "code",
   "execution_count": 284,
   "metadata": {},
   "outputs": [],
   "source": [
    "def return_two(n):\n",
    "    return n, n*2"
   ]
  },
  {
   "cell_type": "code",
   "execution_count": 285,
   "metadata": {},
   "outputs": [
    {
     "name": "stdout",
     "output_type": "stream",
     "text": [
      "  1           0 RESUME                   0\n",
      "\n",
      "  2           2 LOAD_FAST                0 (n)\n",
      "              4 LOAD_FAST                0 (n)\n",
      "              6 LOAD_CONST               1 (2)\n",
      "              8 BINARY_OP                5 (*)\n",
      "             12 BUILD_TUPLE              2\n",
      "             14 RETURN_VALUE\n"
     ]
    }
   ],
   "source": [
    "dis.dis(return_two)"
   ]
  },
  {
   "cell_type": "code",
   "execution_count": 286,
   "metadata": {},
   "outputs": [],
   "source": [
    "def return_a_list():\n",
    "    mylist = [10, 20, 30]\n",
    "    return mylist"
   ]
  },
  {
   "cell_type": "code",
   "execution_count": 287,
   "metadata": {
    "scrolled": true
   },
   "outputs": [
    {
     "name": "stdout",
     "output_type": "stream",
     "text": [
      "  1           0 RESUME                   0\n",
      "\n",
      "  2           2 BUILD_LIST               0\n",
      "              4 LOAD_CONST               1 ((10, 20, 30))\n",
      "              6 LIST_EXTEND              1\n",
      "              8 STORE_FAST               0 (mylist)\n",
      "\n",
      "  3          10 LOAD_FAST                0 (mylist)\n",
      "             12 RETURN_VALUE\n"
     ]
    }
   ],
   "source": [
    "dis.dis(return_a_list)"
   ]
  },
  {
   "cell_type": "code",
   "execution_count": 293,
   "metadata": {},
   "outputs": [],
   "source": [
    "def return_twice(n):\n",
    "    output = n*2\n",
    "    return n * 2"
   ]
  },
  {
   "cell_type": "code",
   "execution_count": 294,
   "metadata": {},
   "outputs": [
    {
     "name": "stdout",
     "output_type": "stream",
     "text": [
      "  1           0 RESUME                   0\n",
      "\n",
      "  2           2 LOAD_FAST                0 (n)\n",
      "              4 LOAD_CONST               1 (2)\n",
      "              6 BINARY_OP                5 (*)\n",
      "             10 STORE_FAST               1 (output)\n",
      "\n",
      "  3          12 LOAD_FAST                0 (n)\n",
      "             14 LOAD_CONST               1 (2)\n",
      "             16 BINARY_OP                5 (*)\n",
      "             20 RETURN_VALUE\n"
     ]
    }
   ],
   "source": [
    "dis.dis(return_twice)"
   ]
  },
  {
   "cell_type": "code",
   "execution_count": 295,
   "metadata": {},
   "outputs": [
    {
     "data": {
      "text/plain": [
       "('n', 'output')"
      ]
     },
     "execution_count": 295,
     "metadata": {},
     "output_type": "execute_result"
    }
   ],
   "source": [
    "return_twice.__code__.co_varnames"
   ]
  },
  {
   "cell_type": "code",
   "execution_count": 301,
   "metadata": {},
   "outputs": [
    {
     "name": "stdout",
     "output_type": "stream",
     "text": [
      "0\t151\n",
      "\t0\n",
      "2\t124\n",
      "\t0\n",
      "4\t100\n",
      "\t1\n",
      "6\t122\n",
      "\t5\n",
      "8\t0\n",
      "\t0\n",
      "10\t125\n",
      "\t1\n",
      "12\t124\n",
      "\t0\n",
      "14\t100\n",
      "\t1\n",
      "16\t122\n",
      "\t5\n",
      "18\t0\n",
      "\t0\n",
      "20\t83\n",
      "\t0\n"
     ]
    }
   ],
   "source": [
    "for index, one_byte in enumerate(return_twice.__code__.co_code):\n",
    "    if index % 2:\n",
    "        print(f'\\t{one_byte}')\n",
    "    else:\n",
    "        print(f'{index}\\t{one_byte}')"
   ]
  },
  {
   "cell_type": "code",
   "execution_count": null,
   "metadata": {},
   "outputs": [],
   "source": []
  },
  {
   "cell_type": "code",
   "execution_count": null,
   "metadata": {},
   "outputs": [],
   "source": []
  },
  {
   "cell_type": "markdown",
   "metadata": {},
   "source": [
    "# Next up\n",
    "\n",
    "1. Practice with functions\n",
    "2. Arguments and parameters\n",
    "3. A bit of scoping\n",
    "\n",
    "Resume at :15"
   ]
  },
  {
   "cell_type": "markdown",
   "metadata": {},
   "source": [
    "# Arguments and parameters\n",
    "\n",
    "- Parameters are local variables that we declare in the first line of a program, and which get their values set via arguments, when the function is called.\n",
    "- Arguments are values that are passed to the function when we invoke it, and which are then assigned to the parameters.\n",
    "\n",
    "A big part of writing Python functions is understanding how arguments are assigned (mapped) to parameters."
   ]
  },
  {
   "cell_type": "code",
   "execution_count": 302,
   "metadata": {},
   "outputs": [
    {
     "data": {
      "text/plain": [
       "'Hello, world!'"
      ]
     },
     "execution_count": 302,
     "metadata": {},
     "output_type": "execute_result"
    }
   ],
   "source": [
    "# parameters:  name\n",
    "# arguments:   'world'\n",
    "\n",
    "def hello(name):\n",
    "    return f'Hello, {name}!'\n",
    "\n",
    "hello('world')   # this is a positional argument, called that because it's assigned to a parameter based on their positions"
   ]
  },
  {
   "cell_type": "code",
   "execution_count": 303,
   "metadata": {},
   "outputs": [
    {
     "data": {
      "text/plain": [
       "'Hello, world!'"
      ]
     },
     "execution_count": 303,
     "metadata": {},
     "output_type": "execute_result"
    }
   ],
   "source": [
    "# parameters:  name\n",
    "# arguments:  'world'\n",
    "\n",
    "def hello(name):\n",
    "    return f'Hello, {name}!'\n",
    "\n",
    "hello(name='world')   # this is a keyword argument, recognizable because it's name=value"
   ]
  },
  {
   "cell_type": "code",
   "execution_count": 304,
   "metadata": {},
   "outputs": [
    {
     "data": {
      "text/plain": [
       "7"
      ]
     },
     "execution_count": 304,
     "metadata": {},
     "output_type": "execute_result"
    }
   ],
   "source": [
    "def add(first, second):\n",
    "    return first + second\n",
    "\n",
    "add(3, 4)  # both are positional"
   ]
  },
  {
   "cell_type": "code",
   "execution_count": 305,
   "metadata": {},
   "outputs": [
    {
     "data": {
      "text/plain": [
       "7"
      ]
     },
     "execution_count": 305,
     "metadata": {},
     "output_type": "execute_result"
    }
   ],
   "source": [
    "add(first=3, second=4)  # both are keyword"
   ]
  },
  {
   "cell_type": "code",
   "execution_count": 306,
   "metadata": {},
   "outputs": [
    {
     "data": {
      "text/plain": [
       "7"
      ]
     },
     "execution_count": 306,
     "metadata": {},
     "output_type": "execute_result"
    }
   ],
   "source": [
    "add(second=3, first=4)  # both are keyword, the order doesn't matter"
   ]
  },
  {
   "cell_type": "code",
   "execution_count": 307,
   "metadata": {},
   "outputs": [
    {
     "data": {
      "text/plain": [
       "7"
      ]
     },
     "execution_count": 307,
     "metadata": {},
     "output_type": "execute_result"
    }
   ],
   "source": [
    "add(3, second=4)  # can I do this? YES, so long as all positional come before all keyword"
   ]
  },
  {
   "cell_type": "code",
   "execution_count": 308,
   "metadata": {},
   "outputs": [
    {
     "ename": "SyntaxError",
     "evalue": "positional argument follows keyword argument (2062583197.py, line 1)",
     "output_type": "error",
     "traceback": [
      "\u001b[0;36m  Cell \u001b[0;32mIn[308], line 1\u001b[0;36m\u001b[0m\n\u001b[0;31m    add(first=3, 4)\u001b[0m\n\u001b[0m                  ^\u001b[0m\n\u001b[0;31mSyntaxError\u001b[0m\u001b[0;31m:\u001b[0m positional argument follows keyword argument\n"
     ]
    }
   ],
   "source": [
    "add(first=3, 4)"
   ]
  },
  {
   "cell_type": "code",
   "execution_count": 314,
   "metadata": {},
   "outputs": [],
   "source": [
    "# in order to provide us with flexible function calling, we can define a function with parameters\n",
    "# that have default argument values. This effectively makes the parameters optional.\n",
    "\n",
    "# in this function, first can take either positional or keyword arguments, and is mandatory\n",
    "# but second, which can also take either positional or keyword arguments, is optional. If we don't pass a value, it'll be 5\n",
    "\n",
    "# parameters: first   second\n",
    "# arguments:   10      5\n",
    "\n",
    "def add(first, second=5):\n",
    "    return first + second"
   ]
  },
  {
   "cell_type": "code",
   "execution_count": 310,
   "metadata": {},
   "outputs": [
    {
     "data": {
      "text/plain": [
       "13"
      ]
     },
     "execution_count": 310,
     "metadata": {},
     "output_type": "execute_result"
    }
   ],
   "source": [
    "add(10, 3)"
   ]
  },
  {
   "cell_type": "code",
   "execution_count": 311,
   "metadata": {},
   "outputs": [
    {
     "data": {
      "text/plain": [
       "15"
      ]
     },
     "execution_count": 311,
     "metadata": {},
     "output_type": "execute_result"
    }
   ],
   "source": [
    "add(10)"
   ]
  },
  {
   "cell_type": "code",
   "execution_count": 312,
   "metadata": {},
   "outputs": [
    {
     "data": {
      "text/plain": [
       "2"
      ]
     },
     "execution_count": 312,
     "metadata": {},
     "output_type": "execute_result"
    }
   ],
   "source": [
    "add.__code__.co_argcount  # how many arguments does the function need?"
   ]
  },
  {
   "cell_type": "code",
   "execution_count": 313,
   "metadata": {},
   "outputs": [
    {
     "data": {
      "text/plain": [
       "(5,)"
      ]
     },
     "execution_count": 313,
     "metadata": {},
     "output_type": "execute_result"
    }
   ],
   "source": [
    "# if we passed too few arguments for the argcount,\n",
    "# the function grabs values from __defaults__\n",
    "\n",
    "add.__defaults__"
   ]
  },
  {
   "cell_type": "markdown",
   "metadata": {},
   "source": [
    "# Our story so far\n",
    "\n",
    "Our function can be defined with two different types of parameters:\n",
    "\n",
    "1. Mandatory (positional or keyword arguments)\n",
    "2. Optional, thanks to default argument values (positional or keyword arguments)"
   ]
  },
  {
   "cell_type": "code",
   "execution_count": 315,
   "metadata": {},
   "outputs": [
    {
     "data": {
      "text/plain": [
       "[10, 20, 30, 1]"
      ]
     },
     "execution_count": 315,
     "metadata": {},
     "output_type": "execute_result"
    }
   ],
   "source": [
    "def add_one(x):\n",
    "    x.append(1)\n",
    "    return x\n",
    "\n",
    "mylist = [10, 20, 30]\n",
    "add_one(mylist)\n",
    "\n",
    "mylist"
   ]
  },
  {
   "cell_type": "code",
   "execution_count": 319,
   "metadata": {},
   "outputs": [
    {
     "data": {
      "text/plain": [
       "[1]"
      ]
     },
     "execution_count": 319,
     "metadata": {},
     "output_type": "execute_result"
    }
   ],
   "source": [
    "# now, let's give a default value\n",
    "\n",
    "# parameters: x\n",
    "# arguments: []\n",
    "\n",
    "def add_one(x=[]):  # we intended to say: if we don't pass a list, use THIS empty one\n",
    "    x.append(1)\n",
    "    return x\n",
    "\n",
    "add_one()"
   ]
  },
  {
   "cell_type": "code",
   "execution_count": 320,
   "metadata": {},
   "outputs": [
    {
     "data": {
      "text/plain": [
       "([1],)"
      ]
     },
     "execution_count": 320,
     "metadata": {},
     "output_type": "execute_result"
    }
   ],
   "source": [
    "add_one.__defaults__"
   ]
  },
  {
   "cell_type": "code",
   "execution_count": 321,
   "metadata": {},
   "outputs": [
    {
     "data": {
      "text/plain": [
       "[1, 1]"
      ]
     },
     "execution_count": 321,
     "metadata": {},
     "output_type": "execute_result"
    }
   ],
   "source": [
    "# parameters: x\n",
    "# arguments: [1]\n",
    "\n",
    "add_one()"
   ]
  },
  {
   "cell_type": "code",
   "execution_count": 322,
   "metadata": {},
   "outputs": [
    {
     "data": {
      "text/plain": [
       "([1, 1],)"
      ]
     },
     "execution_count": 322,
     "metadata": {},
     "output_type": "execute_result"
    }
   ],
   "source": [
    "add_one.__defaults__"
   ]
  },
  {
   "cell_type": "code",
   "execution_count": 323,
   "metadata": {},
   "outputs": [
    {
     "data": {
      "text/plain": [
       "[1, 1, 1]"
      ]
     },
     "execution_count": 323,
     "metadata": {},
     "output_type": "execute_result"
    }
   ],
   "source": [
    "add_one()"
   ]
  },
  {
   "cell_type": "markdown",
   "metadata": {},
   "source": [
    "# NEVER USE MUTABLE DEFAULTS!"
   ]
  },
  {
   "cell_type": "code",
   "execution_count": null,
   "metadata": {},
   "outputs": [],
   "source": [
    "def add_one(x=None): \n",
    "    if x is None:\n",
    "        x = []   # this is a new, empty list each time we run the function -- it's a runtime creation, not compile-time creation\n",
    "    x.append(1)\n",
    "    return x\n",
    "\n",
    "add_one()"
   ]
  },
  {
   "cell_type": "code",
   "execution_count": 324,
   "metadata": {},
   "outputs": [
    {
     "data": {
      "text/plain": [
       "60"
      ]
     },
     "execution_count": 324,
     "metadata": {},
     "output_type": "execute_result"
    }
   ],
   "source": [
    "# let's say I want to write a function that adds a list of numbers\n",
    "\n",
    "def mysum(numbers):\n",
    "    total = 0\n",
    "\n",
    "    for one_number in numbers:\n",
    "        total += one_number\n",
    "\n",
    "    return total\n",
    "\n",
    "mysum([10, 20, 30])"
   ]
  },
  {
   "cell_type": "code",
   "execution_count": 325,
   "metadata": {},
   "outputs": [
    {
     "data": {
      "text/plain": [
       "60"
      ]
     },
     "execution_count": 325,
     "metadata": {},
     "output_type": "execute_result"
    }
   ],
   "source": [
    "# what if I don't want to pass a list?\n",
    "# what if I want to pass just a bunch of numbers, as separate arguments?\n",
    "\n",
    "def mysum(a, b, c):\n",
    "    return a + b + c\n",
    "\n",
    "mysum(10, 20, 30)"
   ]
  },
  {
   "cell_type": "code",
   "execution_count": 326,
   "metadata": {},
   "outputs": [
    {
     "ename": "TypeError",
     "evalue": "mysum() takes 3 positional arguments but 4 were given",
     "output_type": "error",
     "traceback": [
      "\u001b[0;31m---------------------------------------------------------------------------\u001b[0m",
      "\u001b[0;31mTypeError\u001b[0m                                 Traceback (most recent call last)",
      "Cell \u001b[0;32mIn[326], line 1\u001b[0m\n\u001b[0;32m----> 1\u001b[0m \u001b[43mmysum\u001b[49m\u001b[43m(\u001b[49m\u001b[38;5;241;43m10\u001b[39;49m\u001b[43m,\u001b[49m\u001b[43m \u001b[49m\u001b[38;5;241;43m20\u001b[39;49m\u001b[43m,\u001b[49m\u001b[43m \u001b[49m\u001b[38;5;241;43m30\u001b[39;49m\u001b[43m,\u001b[49m\u001b[43m \u001b[49m\u001b[38;5;241;43m40\u001b[39;49m\u001b[43m)\u001b[49m\n",
      "\u001b[0;31mTypeError\u001b[0m: mysum() takes 3 positional arguments but 4 were given"
     ]
    }
   ],
   "source": [
    "mysum(10, 20, 30, 40)"
   ]
  },
  {
   "cell_type": "code",
   "execution_count": 327,
   "metadata": {},
   "outputs": [
    {
     "data": {
      "text/plain": [
       "60"
      ]
     },
     "execution_count": 327,
     "metadata": {},
     "output_type": "execute_result"
    }
   ],
   "source": [
    "def mysum(a=0, b=0, c=0, d=0, e=0, f=0, g=0, h=0):\n",
    "    return a + b + c + d + e + f + g + h\n",
    "\n",
    "mysum(10, 20, 30)"
   ]
  },
  {
   "cell_type": "code",
   "execution_count": 328,
   "metadata": {},
   "outputs": [
    {
     "data": {
      "text/plain": [
       "150"
      ]
     },
     "execution_count": 328,
     "metadata": {},
     "output_type": "execute_result"
    }
   ],
   "source": [
    "mysum(10, 20, 30, 40, 50)"
   ]
  },
  {
   "cell_type": "code",
   "execution_count": 329,
   "metadata": {},
   "outputs": [],
   "source": [
    "# what we want is a way to say, \"I don't care how many arguments someone passes.\n",
    "# I want to accept them all.\"\n",
    "\n",
    "# the way we do that in Python is with *args, a parameter to our function\n",
    "# that is a tuple whose values are positional arguments that no one parameter took.\n",
    "\n",
    "def mysum(name, *numbers):   # numbers will be a tuple of numbers\n",
    "    total = 0\n",
    "\n",
    "    for one_number in numbers:\n",
    "        total += one_number\n",
    "\n",
    "    return f'{name}, the total is {total}'\n",
    "\n",
    "    "
   ]
  },
  {
   "cell_type": "code",
   "execution_count": 330,
   "metadata": {},
   "outputs": [
    {
     "data": {
      "text/plain": [
       "'Reuven, the total is 100'"
      ]
     },
     "execution_count": 330,
     "metadata": {},
     "output_type": "execute_result"
    }
   ],
   "source": [
    "mysum('Reuven', 10, 20, 30, 40)"
   ]
  },
  {
   "cell_type": "markdown",
   "metadata": {},
   "source": [
    "# Parameter types\n",
    "\n",
    "1. Mandatory (positional or keyword)\n",
    "2. Optional, thanks to argument defaults (positional or keyword)\n",
    "3. `*args`, a tuple containing all remaining positional arguments that no parameter took"
   ]
  },
  {
   "cell_type": "markdown",
   "metadata": {},
   "source": [
    "# Exercise: `all_lines`\n",
    "\n",
    "1. Write a function that takes a filename (string) for output as its first argument, and then any number of additional filenames (strings) as additional arguments (input files).\n",
    "2. Go through each input file, one line at a time, and write its contents to the output file (i.e., the first argument that was passed).\n",
    "3. The result of calling the function will be one large output file whose contents are from each of the individual input files -- all of their lines.\n",
    "\n",
    "Example:\n",
    "\n",
    "    all_lines('output.txt', 'input1.txt', 'input2.txt', 'input3.txt')\n",
    "\n",
    "The above will put all of the lines from `input1.txt`, `input2.txt`, and `input3.txt` (which we assume already exist) into the new output file `output.txt`.    "
   ]
  },
  {
   "cell_type": "code",
   "execution_count": 333,
   "metadata": {},
   "outputs": [],
   "source": [
    "def all_lines(outfile, *args):\n",
    "    with open(outfile, 'w') as f:\n",
    "        for one_filename in args:\n",
    "            print(f'Processing {one_filename}')\n",
    "            for one_line in open(one_filename):\n",
    "                f.write(one_line)    # write the current line from the input file to the output file\n",
    "\n",
    "    # thanks to with, the output file will be flushed + closed "
   ]
  },
  {
   "cell_type": "code",
   "execution_count": 334,
   "metadata": {},
   "outputs": [
    {
     "name": "stdout",
     "output_type": "stream",
     "text": [
      "Processing /etc/passwd\n",
      "Processing /Users/reuven/.zshrc\n"
     ]
    }
   ],
   "source": [
    "all_lines('output.txt', '/etc/passwd', '/Users/reuven/.zshrc')"
   ]
  },
  {
   "cell_type": "code",
   "execution_count": 335,
   "metadata": {},
   "outputs": [
    {
     "name": "stdout",
     "output_type": "stream",
     "text": [
      "##\n",
      "# User Database\n",
      "# \n",
      "# Note that this file is consulted directly only when the system is running\n",
      "# in single-user mode.  At other times this information is provided by\n",
      "# Open Directory.\n",
      "#\n",
      "# See the opendirectoryd(8) man page for additional information about\n",
      "# Open Directory.\n",
      "##\n",
      "nobody:*:-2:-2:Unprivileged User:/var/empty:/usr/bin/false\n",
      "root:*:0:0:System Administrator:/var/root:/bin/sh\n",
      "daemon:*:1:1:System Services:/var/root:/usr/bin/false\n",
      "_uucp:*:4:4:Unix to Unix Copy Protocol:/var/spool/uucp:/usr/sbin/uucico\n",
      "_taskgated:*:13:13:Task Gate Daemon:/var/empty:/usr/bin/false\n",
      "_networkd:*:24:24:Network Services:/var/networkd:/usr/bin/false\n",
      "_installassistant:*:25:25:Install Assistant:/var/empty:/usr/bin/false\n",
      "_lp:*:26:26:Printing Services:/var/spool/cups:/usr/bin/false\n",
      "_postfix:*:27:27:Postfix Mail Server:/var/spool/postfix:/usr/bin/false\n",
      "_scsd:*:31:31:Service Configuration Service:/var/empty:/usr/bin/false\n",
      "_ces:*:32:32:Certificate Enrollment Service:/var/empty:/usr/bin/false\n",
      "_appstore:*:33:33:Mac App Store Service:/var/db/appstore:/usr/bin/false\n",
      "_mcxalr:*:54:54:MCX AppLaunch:/var/empty:/usr/bin/false\n",
      "_appleevents:*:55:55:AppleEvents Daemon:/var/empty:/usr/bin/false\n",
      "_geod:*:56:56:Geo Services Daemon:/var/db/geod:/usr/bin/false\n",
      "_devdocs:*:59:59:Developer Documentation:/var/empty:/usr/bin/false\n",
      "_sandbox:*:60:60:Seatbelt:/var/empty:/usr/bin/false\n",
      "_mdnsresponder:*:65:65:mDNSResponder:/var/empty:/usr/bin/false\n",
      "_ard:*:67:67:Apple Remote Desktop:/var/empty:/usr/bin/false\n",
      "_www:*:70:70:World Wide Web Server:/Library/WebServer:/usr/bin/false\n",
      "_eppc:*:71:71:Apple Events User:/var/empty:/usr/bin/false\n",
      "_cvs:*:72:72:CVS Server:/var/empty:/usr/bin/false\n",
      "_svn:*:73:73:SVN Server:/var/empty:/usr/bin/false\n",
      "_mysql:*:74:74:MySQL Server:/var/empty:/usr/bin/false\n",
      "_sshd:*:75:75:sshd Privilege separation:/var/empty:/usr/bin/false\n",
      "_qtss:*:76:76:QuickTime Streaming Server:/var/empty:/usr/bin/false\n",
      "_cyrus:*:77:6:Cyrus Administrator:/var/imap:/usr/bin/false\n",
      "_mailman:*:78:78:Mailman List Server:/var/empty:/usr/bin/false\n",
      "_appserver:*:79:79:Application Server:/var/empty:/usr/bin/false\n",
      "_clamav:*:82:82:ClamAV Daemon:/var/virusmails:/usr/bin/false\n",
      "_amavisd:*:83:83:AMaViS Daemon:/var/virusmails:/usr/bin/false\n",
      "_jabber:*:84:84:Jabber XMPP Server:/var/empty:/usr/bin/false\n",
      "_appowner:*:87:87:Application Owner:/var/empty:/usr/bin/false\n",
      "_windowserver:*:88:88:WindowServer:/var/empty:/usr/bin/false\n",
      "_spotlight:*:89:89:Spotlight:/var/empty:/usr/bin/false\n",
      "_tokend:*:91:91:Token Daemon:/var/empty:/usr/bin/false\n",
      "_securityagent:*:92:92:SecurityAgent:/var/db/securityagent:/usr/bin/false\n",
      "_calendar:*:93:93:Calendar:/var/empty:/usr/bin/false\n",
      "_teamsserver:*:94:94:TeamsServer:/var/teamsserver:/usr/bin/false\n",
      "_update_sharing:*:95:-2:Update Sharing:/var/empty:/usr/bin/false\n",
      "_installer:*:96:-2:Installer:/var/empty:/usr/bin/false\n",
      "_atsserver:*:97:97:ATS Server:/var/empty:/usr/bin/false\n",
      "_ftp:*:98:-2:FTP Daemon:/var/empty:/usr/bin/false\n",
      "_unknown:*:99:99:Unknown User:/var/empty:/usr/bin/false\n",
      "_softwareupdate:*:200:200:Software Update Service:/var/db/softwareupdate:/usr/bin/false\n",
      "_coreaudiod:*:202:202:Core Audio Daemon:/var/empty:/usr/bin/false\n",
      "_screensaver:*:203:203:Screensaver:/var/empty:/usr/bin/false\n",
      "_locationd:*:205:205:Location Daemon:/var/db/locationd:/usr/bin/false\n",
      "_trustevaluationagent:*:208:208:Trust Evaluation Agent:/var/empty:/usr/bin/false\n",
      "_timezone:*:210:210:AutoTimeZoneDaemon:/var/empty:/usr/bin/false\n",
      "_lda:*:211:211:Local Delivery Agent:/var/empty:/usr/bin/false\n",
      "_cvmsroot:*:212:212:CVMS Root:/var/empty:/usr/bin/false\n",
      "_usbmuxd:*:213:213:iPhone OS Device Helper:/var/db/lockdown:/usr/bin/false\n",
      "_dovecot:*:214:6:Dovecot Administrator:/var/empty:/usr/bin/false\n",
      "_dpaudio:*:215:215:DP Audio:/var/empty:/usr/bin/false\n",
      "_postgres:*:216:216:PostgreSQL Server:/var/empty:/usr/bin/false\n",
      "_krbtgt:*:217:-2:Kerberos Ticket Granting Ticket:/var/empty:/usr/bin/false\n",
      "_kadmin_admin:*:218:-2:Kerberos Admin Service:/var/empty:/usr/bin/false\n",
      "_kadmin_changepw:*:219:-2:Kerberos Change Password Service:/var/empty:/usr/bin/false\n",
      "_devicemgr:*:220:220:Device Management Server:/var/empty:/usr/bin/false\n",
      "_webauthserver:*:221:221:Web Auth Server:/var/empty:/usr/bin/false\n",
      "_netbios:*:222:222:NetBIOS:/var/empty:/usr/bin/false\n",
      "_warmd:*:224:224:Warm Daemon:/var/empty:/usr/bin/false\n",
      "_dovenull:*:227:227:Dovecot Authentication:/var/empty:/usr/bin/false\n",
      "_netstatistics:*:228:228:Network Statistics Daemon:/var/empty:/usr/bin/false\n",
      "_avbdeviced:*:229:-2:Ethernet AVB Device Daemon:/var/empty:/usr/bin/false\n",
      "_krb_krbtgt:*:230:-2:Open Directory Kerberos Ticket Granting Ticket:/var/empty:/usr/bin/false\n",
      "_krb_kadmin:*:231:-2:Open Directory Kerberos Admin Service:/var/empty:/usr/bin/false\n",
      "_krb_changepw:*:232:-2:Open Directory Kerberos Change Password Service:/var/empty:/usr/bin/false\n",
      "_krb_kerberos:*:233:-2:Open Directory Kerberos:/var/empty:/usr/bin/false\n",
      "_krb_anonymous:*:234:-2:Open Directory Kerberos Anonymous:/var/empty:/usr/bin/false\n",
      "_assetcache:*:235:235:Asset Cache Service:/var/empty:/usr/bin/false\n",
      "_coremediaiod:*:236:236:Core Media IO Daemon:/var/empty:/usr/bin/false\n",
      "_launchservicesd:*:239:239:_launchservicesd:/var/empty:/usr/bin/false\n",
      "_iconservices:*:240:240:IconServices:/var/empty:/usr/bin/false\n",
      "_distnote:*:241:241:DistNote:/var/empty:/usr/bin/false\n",
      "_nsurlsessiond:*:242:242:NSURLSession Daemon:/var/db/nsurlsessiond:/usr/bin/false\n",
      "_displaypolicyd:*:244:244:Display Policy Daemon:/var/empty:/usr/bin/false\n",
      "_astris:*:245:245:Astris Services:/var/db/astris:/usr/bin/false\n",
      "_krbfast:*:246:-2:Kerberos FAST Account:/var/empty:/usr/bin/false\n",
      "_gamecontrollerd:*:247:247:Game Controller Daemon:/var/empty:/usr/bin/false\n",
      "_mbsetupuser:*:248:248:Setup User:/var/setup:/bin/bash\n",
      "_ondemand:*:249:249:On Demand Resource Daemon:/var/db/ondemand:/usr/bin/false\n",
      "_xserverdocs:*:251:251:macOS Server Documents Service:/var/empty:/usr/bin/false\n",
      "_wwwproxy:*:252:252:WWW Proxy:/var/empty:/usr/bin/false\n",
      "_mobileasset:*:253:253:MobileAsset User:/var/ma:/usr/bin/false\n",
      "_findmydevice:*:254:254:Find My Device Daemon:/var/db/findmydevice:/usr/bin/false\n",
      "_datadetectors:*:257:257:DataDetectors:/var/db/datadetectors:/usr/bin/false\n",
      "_captiveagent:*:258:258:captiveagent:/var/empty:/usr/bin/false\n",
      "_ctkd:*:259:259:ctkd Account:/var/empty:/usr/bin/false\n",
      "_applepay:*:260:260:applepay Account:/var/db/applepay:/usr/bin/false\n",
      "_hidd:*:261:261:HID Service User:/var/db/hidd:/usr/bin/false\n",
      "_cmiodalassistants:*:262:262:CoreMedia IO Assistants User:/var/db/cmiodalassistants:/usr/bin/false\n",
      "_analyticsd:*:263:263:Analytics Daemon:/var/db/analyticsd:/usr/bin/false\n",
      "_fpsd:*:265:265:FPS Daemon:/var/db/fpsd:/usr/bin/false\n",
      "_timed:*:266:266:Time Sync Daemon:/var/db/timed:/usr/bin/false\n",
      "_nearbyd:*:268:268:Proximity and Ranging Daemon:/var/db/nearbyd:/usr/bin/false\n",
      "_reportmemoryexception:*:269:269:ReportMemoryException:/var/db/reportmemoryexception:/usr/bin/false\n",
      "_driverkit:*:270:270:DriverKit:/var/empty:/usr/bin/false\n",
      "_diskimagesiod:*:271:271:DiskImages IO Daemon:/var/db/diskimagesiod:/usr/bin/false\n",
      "_logd:*:272:272:Log Daemon:/var/db/diagnostics:/usr/bin/false\n",
      "_appinstalld:*:273:273:App Install Daemon:/var/db/appinstalld:/usr/bin/false\n",
      "_installcoordinationd:*:274:274:Install Coordination Daemon:/var/db/installcoordinationd:/usr/bin/false\n",
      "_demod:*:275:275:Demo Daemon:/var/empty:/usr/bin/false\n",
      "_rmd:*:277:277:Remote Management Daemon:/var/db/rmd:/usr/bin/false\n",
      "_accessoryupdater:*:278:278:Accessory Update Daemon:/var/db/accessoryupdater:/usr/bin/false\n",
      "_knowledgegraphd:*:279:279:Knowledge Graph Daemon:/var/db/knowledgegraphd:/usr/bin/false\n",
      "_coreml:*:280:280:CoreML Services:/var/db/coreml:/usr/bin/false\n",
      "_sntpd:*:281:281:SNTP Server Daemon:/var/empty:/usr/bin/false\n",
      "_trustd:*:282:282:trustd:/var/empty:/usr/bin/false\n",
      "_mmaintenanced:*:283:283:mmaintenanced:/var/db/mmaintenanced:/usr/bin/false\n",
      "_darwindaemon:*:284:284:Darwin Daemon:/var/db/darwindaemon:/usr/bin/false\n",
      "_notification_proxy:*:285:285:Notification Proxy:/var/empty:/usr/bin/false\n",
      "_avphidbridge:*:288:288:Apple Virtual Platform HID Bridge:/var/empty:/usr/bin/false\n",
      "_biome:*:289:289:Biome:/var/db/biome:/usr/bin/false\n",
      "_backgroundassets:*:291:291:Background Assets Service:/var/empty:/usr/bin/false\n",
      "_mobilegestalthelper:*:293:293:MobileGestaltHelper:/var/empty:/usr/bin/false\n",
      "_audiomxd:*:294:294:Audio and MediaExperience Daemon:/var/db/audiomxd:/usr/bin/false\n",
      "_terminusd:*:295:295:Terminus:/var/empty:/usr/bin/false\n",
      "_neuralengine:*:296:296:AppleNeuralEngine:/var/db/neuralengine:/usr/bin/false\n",
      "_eligibilityd:*:297:297:OS Eligibility Daemon:/var/db/eligibilityd:/usr/bin/false\n",
      "_oahd:*:441:441:OAH Daemon:/var/empty:/usr/bin/false\n",
      "# Enable Powerlevel10k instant prompt. Should stay close to the top of ~/.zshrc.\n",
      "# Initialization code that may require console input (password prompts, [y/n]\n",
      "# confirmations, etc.) must go above this block; everything else may go below.\n",
      "if [[ -r \"${XDG_CACHE_HOME:-$HOME/.cache}/p10k-instant-prompt-${(%):-%n}.zsh\" ]]; then\n",
      "  source \"${XDG_CACHE_HOME:-$HOME/.cache}/p10k-instant-prompt-${(%):-%n}.zsh\"\n",
      "fi\n",
      "\n",
      "# Path to your oh-my-zsh configuration.\n",
      "export ZSH=$HOME/.oh-my-zsh\n",
      "\n",
      "# export ZSH_THEME=\"reuven\"\n",
      "export EDITOR=/Applications/Emacs.app/Contents/MacOS/bin/emacsclient\n",
      "\n",
      "plugins=(emacs git macos compleat python brew zsh-syntax-highlighting poetry)\n",
      "ZSH_HIGHLIGHT_HIGHLIGHTERS=(main brackets pattern cursor root)\n",
      "\n",
      "typeset -A ZSH_HIGHLIGHT_STYLES\n",
      "ZSH_HIGHLIGHT_STYLES[globbing]='fg=cyan'\n",
      "source $ZSH/oh-my-zsh.sh\n",
      "\n",
      "alias ls=\"gls -BF --color\"\n",
      "alias ec=\"/Applications/Emacs.app/Contents/MacOS/bin/emacsclient -n\"\n",
      "\n",
      "export PAGER=less\n",
      "export LESS='-RXs'\n",
      "\n",
      "zstyle ':completion:*' completer _complete _match _approximate\n",
      "zstyle ':completion:*:match:*' original only\n",
      "zstyle ':completion:*:approximate:*' max-errors 1 numeric\n",
      "\n",
      "# tab completion for PID :D\n",
      "zstyle ':completion:*:*:kill:*' menu yes select\n",
      "zstyle ':completion:*:kill:*' force-list always\n",
      "\n",
      "# cd not select parent dir\n",
      "zstyle ':completion:*:cd:*' ignore-parents parent pwd\n",
      "\n",
      "bindkey \"\\e.\" insert-last-word\n",
      "\n",
      "setopt hist_ignore_all_dups\n",
      "setopt interactivecomments\n",
      "\n",
      "export EMAIL=\"reuven@lerner.co.il\"\n",
      "export NAME=\"Reuven M. Lerner\"\n",
      "export SMTPSERVER=\"smtp.emailsrvr.com\"\n",
      "\n",
      "export PATH=\"/usr/local/opt/coreutils/libexec/gnubin:/Users/reuven/.local/bin:$PATH\"\n",
      "export PATH=\"/usr/local/opt/ruby/bin:$PATH\"\n",
      "export PATH=\"/usr/local/lib/ruby/gems/2.7.0/bin:$PATH\"\n",
      "export SPARK_HOME=/usr/local/Cellar/apache-spark/3.4.0/libexec\n",
      "export PATH=\"/usr/local/sbin:$PATH\"\n",
      "\n",
      "eval \"$(starship init zsh)\"\n",
      "source /usr/local/share/powerlevel10k/powerlevel10k.zsh-theme\n",
      "\n",
      "# To customize prompt, run `p10k configure` or edit ~/.p10k.zsh.\n",
      "[[ ! -f ~/.p10k.zsh ]] || source ~/.p10k.zsh\n",
      "\n",
      "export PYENV_ROOT=\"$HOME/.pyenv\"\n",
      "[[ -d $PYENV_ROOT/bin ]] && export PATH=\"$PYENV_ROOT/bin:$PATH\"\n",
      "eval \"$(pyenv init -)\"\n"
     ]
    }
   ],
   "source": [
    "!cat output.txt"
   ]
  },
  {
   "cell_type": "code",
   "execution_count": 336,
   "metadata": {},
   "outputs": [],
   "source": [
    "# the glob module lets me get a list of filenames matching a particular pattern \n",
    "\n",
    "import glob"
   ]
  },
  {
   "cell_type": "code",
   "execution_count": 339,
   "metadata": {},
   "outputs": [
    {
     "data": {
      "text/plain": [
       "['mini-access-log.txt',\n",
       " 'nums.txt',\n",
       " 'shoe-data.txt',\n",
       " 'linux-etc-passwd.txt',\n",
       " 'wcfile.txt']"
      ]
     },
     "execution_count": 339,
     "metadata": {},
     "output_type": "execute_result"
    }
   ],
   "source": [
    "# get all files starting with m, n, s, l, or w\n",
    "glob.glob('[mnslw]*.txt')"
   ]
  },
  {
   "cell_type": "code",
   "execution_count": 340,
   "metadata": {},
   "outputs": [
    {
     "name": "stdout",
     "output_type": "stream",
     "text": [
      "Processing ['mini-access-log.txt', 'nums.txt', 'shoe-data.txt', 'linux-etc-passwd.txt', 'wcfile.txt']\n"
     ]
    },
    {
     "ename": "TypeError",
     "evalue": "unhashable type: 'list'",
     "output_type": "error",
     "traceback": [
      "\u001b[0;31m---------------------------------------------------------------------------\u001b[0m",
      "\u001b[0;31mTypeError\u001b[0m                                 Traceback (most recent call last)",
      "Cell \u001b[0;32mIn[340], line 1\u001b[0m\n\u001b[0;32m----> 1\u001b[0m \u001b[43mall_lines\u001b[49m\u001b[43m(\u001b[49m\u001b[38;5;124;43m'\u001b[39;49m\u001b[38;5;124;43moutput.txt\u001b[39;49m\u001b[38;5;124;43m'\u001b[39;49m\u001b[43m,\u001b[49m\u001b[43m \u001b[49m\n\u001b[1;32m      2\u001b[0m \u001b[43m          \u001b[49m\u001b[43mglob\u001b[49m\u001b[38;5;241;43m.\u001b[39;49m\u001b[43mglob\u001b[49m\u001b[43m(\u001b[49m\u001b[38;5;124;43m'\u001b[39;49m\u001b[38;5;124;43m[mnslw]*.txt\u001b[39;49m\u001b[38;5;124;43m'\u001b[39;49m\u001b[43m)\u001b[49m\u001b[43m)\u001b[49m   \u001b[38;5;66;03m# this won't work -- we need to pass strings, not a list of strings\u001b[39;00m\n",
      "Cell \u001b[0;32mIn[333], line 5\u001b[0m, in \u001b[0;36mall_lines\u001b[0;34m(outfile, *args)\u001b[0m\n\u001b[1;32m      3\u001b[0m \u001b[38;5;28;01mfor\u001b[39;00m one_filename \u001b[38;5;129;01min\u001b[39;00m args:\n\u001b[1;32m      4\u001b[0m     \u001b[38;5;28mprint\u001b[39m(\u001b[38;5;124mf\u001b[39m\u001b[38;5;124m'\u001b[39m\u001b[38;5;124mProcessing \u001b[39m\u001b[38;5;132;01m{\u001b[39;00mone_filename\u001b[38;5;132;01m}\u001b[39;00m\u001b[38;5;124m'\u001b[39m)\n\u001b[0;32m----> 5\u001b[0m     \u001b[38;5;28;01mfor\u001b[39;00m one_line \u001b[38;5;129;01min\u001b[39;00m \u001b[38;5;28;43mopen\u001b[39;49m\u001b[43m(\u001b[49m\u001b[43mone_filename\u001b[49m\u001b[43m)\u001b[49m:\n\u001b[1;32m      6\u001b[0m         f\u001b[38;5;241m.\u001b[39mwrite(one_line)\n",
      "File \u001b[0;32m~/.pyenv/versions/3.12.1/lib/python3.12/site-packages/IPython/core/interactiveshell.py:303\u001b[0m, in \u001b[0;36m_modified_open\u001b[0;34m(file, *args, **kwargs)\u001b[0m\n\u001b[1;32m    301\u001b[0m \u001b[38;5;129m@functools\u001b[39m\u001b[38;5;241m.\u001b[39mwraps(io_open)\n\u001b[1;32m    302\u001b[0m \u001b[38;5;28;01mdef\u001b[39;00m \u001b[38;5;21m_modified_open\u001b[39m(file, \u001b[38;5;241m*\u001b[39margs, \u001b[38;5;241m*\u001b[39m\u001b[38;5;241m*\u001b[39mkwargs):\n\u001b[0;32m--> 303\u001b[0m     \u001b[38;5;28;01mif\u001b[39;00m \u001b[43mfile\u001b[49m\u001b[43m \u001b[49m\u001b[38;5;129;43;01min\u001b[39;49;00m\u001b[43m \u001b[49m\u001b[43m{\u001b[49m\u001b[38;5;241;43m0\u001b[39;49m\u001b[43m,\u001b[49m\u001b[43m \u001b[49m\u001b[38;5;241;43m1\u001b[39;49m\u001b[43m,\u001b[49m\u001b[43m \u001b[49m\u001b[38;5;241;43m2\u001b[39;49m\u001b[43m}\u001b[49m:\n\u001b[1;32m    304\u001b[0m         \u001b[38;5;28;01mraise\u001b[39;00m \u001b[38;5;167;01mValueError\u001b[39;00m(\n\u001b[1;32m    305\u001b[0m             \u001b[38;5;124mf\u001b[39m\u001b[38;5;124m\"\u001b[39m\u001b[38;5;124mIPython won\u001b[39m\u001b[38;5;124m'\u001b[39m\u001b[38;5;124mt let you open fd=\u001b[39m\u001b[38;5;132;01m{\u001b[39;00mfile\u001b[38;5;132;01m}\u001b[39;00m\u001b[38;5;124m by default \u001b[39m\u001b[38;5;124m\"\u001b[39m\n\u001b[1;32m    306\u001b[0m             \u001b[38;5;124m\"\u001b[39m\u001b[38;5;124mas it is likely to crash IPython. If you know what you are doing, \u001b[39m\u001b[38;5;124m\"\u001b[39m\n\u001b[1;32m    307\u001b[0m             \u001b[38;5;124m\"\u001b[39m\u001b[38;5;124myou can use builtins\u001b[39m\u001b[38;5;124m'\u001b[39m\u001b[38;5;124m open.\u001b[39m\u001b[38;5;124m\"\u001b[39m\n\u001b[1;32m    308\u001b[0m         )\n\u001b[1;32m    310\u001b[0m     \u001b[38;5;28;01mreturn\u001b[39;00m io_open(file, \u001b[38;5;241m*\u001b[39margs, \u001b[38;5;241m*\u001b[39m\u001b[38;5;241m*\u001b[39mkwargs)\n",
      "\u001b[0;31mTypeError\u001b[0m: unhashable type: 'list'"
     ]
    }
   ],
   "source": [
    "all_lines('output.txt', \n",
    "          glob.glob('[mnslw]*.txt'))   # this won't work -- we need to pass strings, not a list of strings"
   ]
  },
  {
   "cell_type": "code",
   "execution_count": 341,
   "metadata": {},
   "outputs": [
    {
     "name": "stdout",
     "output_type": "stream",
     "text": [
      "Processing mini-access-log.txt\n",
      "Processing nums.txt\n",
      "Processing shoe-data.txt\n",
      "Processing linux-etc-passwd.txt\n",
      "Processing wcfile.txt\n"
     ]
    }
   ],
   "source": [
    "# if I have a function that expects a few separate arguments, but I have\n",
    "# them in a list, how can I remove the list brackets, and turn them into arguments?\n",
    "\n",
    "# answer: * \n",
    "# if I put a * before the list value, then the elements of the list are turned into individual arguments\n",
    "\n",
    "all_lines('output.txt', \n",
    "          *glob.glob('[mnslw]*.txt'))    # I unrolled the list we got back from glob.glob into a number of separate string args."
   ]
  },
  {
   "cell_type": "markdown",
   "metadata": {},
   "source": [
    "# Tomorrow\n",
    "\n",
    "1. `**kwargs` and other parameter types\n",
    "2. Scoping (LEGB)\n",
    "3. Enclosing functions\n",
    "4. Dispatch tables\n",
    "5. Comprehensions\n",
    "6. Sorting and `lambda`"
   ]
  },
  {
   "cell_type": "code",
   "execution_count": 342,
   "metadata": {},
   "outputs": [],
   "source": [
    "def factorial(n):\n",
    "    if n <= 1:\n",
    "        return 1\n",
    "    return n * factorial(n-1)"
   ]
  },
  {
   "cell_type": "code",
   "execution_count": 344,
   "metadata": {},
   "outputs": [
    {
     "data": {
      "text/plain": [
       "1307674368000"
      ]
     },
     "execution_count": 344,
     "metadata": {},
     "output_type": "execute_result"
    }
   ],
   "source": [
    "factorial(15)"
   ]
  },
  {
   "cell_type": "code",
   "execution_count": 347,
   "metadata": {},
   "outputs": [
    {
     "ename": "RecursionError",
     "evalue": "maximum recursion depth exceeded",
     "output_type": "error",
     "traceback": [
      "\u001b[0;31m---------------------------------------------------------------------------\u001b[0m",
      "\u001b[0;31mRecursionError\u001b[0m                            Traceback (most recent call last)",
      "Cell \u001b[0;32mIn[347], line 1\u001b[0m\n\u001b[0;32m----> 1\u001b[0m \u001b[43mfactorial\u001b[49m\u001b[43m(\u001b[49m\u001b[38;5;241;43m15000\u001b[39;49m\u001b[43m)\u001b[49m\n",
      "Cell \u001b[0;32mIn[342], line 4\u001b[0m, in \u001b[0;36mfactorial\u001b[0;34m(n)\u001b[0m\n\u001b[1;32m      2\u001b[0m \u001b[38;5;28;01mif\u001b[39;00m n \u001b[38;5;241m<\u001b[39m\u001b[38;5;241m=\u001b[39m \u001b[38;5;241m1\u001b[39m:\n\u001b[1;32m      3\u001b[0m     \u001b[38;5;28;01mreturn\u001b[39;00m \u001b[38;5;241m1\u001b[39m\n\u001b[0;32m----> 4\u001b[0m \u001b[38;5;28;01mreturn\u001b[39;00m n \u001b[38;5;241m*\u001b[39m \u001b[43mfactorial\u001b[49m\u001b[43m(\u001b[49m\u001b[43mn\u001b[49m\u001b[38;5;241;43m-\u001b[39;49m\u001b[38;5;241;43m1\u001b[39;49m\u001b[43m)\u001b[49m\n",
      "Cell \u001b[0;32mIn[342], line 4\u001b[0m, in \u001b[0;36mfactorial\u001b[0;34m(n)\u001b[0m\n\u001b[1;32m      2\u001b[0m \u001b[38;5;28;01mif\u001b[39;00m n \u001b[38;5;241m<\u001b[39m\u001b[38;5;241m=\u001b[39m \u001b[38;5;241m1\u001b[39m:\n\u001b[1;32m      3\u001b[0m     \u001b[38;5;28;01mreturn\u001b[39;00m \u001b[38;5;241m1\u001b[39m\n\u001b[0;32m----> 4\u001b[0m \u001b[38;5;28;01mreturn\u001b[39;00m n \u001b[38;5;241m*\u001b[39m \u001b[43mfactorial\u001b[49m\u001b[43m(\u001b[49m\u001b[43mn\u001b[49m\u001b[38;5;241;43m-\u001b[39;49m\u001b[38;5;241;43m1\u001b[39;49m\u001b[43m)\u001b[49m\n",
      "    \u001b[0;31m[... skipping similar frames: factorial at line 4 (2975 times)]\u001b[0m\n",
      "Cell \u001b[0;32mIn[342], line 4\u001b[0m, in \u001b[0;36mfactorial\u001b[0;34m(n)\u001b[0m\n\u001b[1;32m      2\u001b[0m \u001b[38;5;28;01mif\u001b[39;00m n \u001b[38;5;241m<\u001b[39m\u001b[38;5;241m=\u001b[39m \u001b[38;5;241m1\u001b[39m:\n\u001b[1;32m      3\u001b[0m     \u001b[38;5;28;01mreturn\u001b[39;00m \u001b[38;5;241m1\u001b[39m\n\u001b[0;32m----> 4\u001b[0m \u001b[38;5;28;01mreturn\u001b[39;00m n \u001b[38;5;241m*\u001b[39m \u001b[43mfactorial\u001b[49m\u001b[43m(\u001b[49m\u001b[43mn\u001b[49m\u001b[38;5;241;43m-\u001b[39;49m\u001b[38;5;241;43m1\u001b[39;49m\u001b[43m)\u001b[49m\n",
      "\u001b[0;31mRecursionError\u001b[0m: maximum recursion depth exceeded"
     ]
    }
   ],
   "source": [
    "factorial(15000)"
   ]
  },
  {
   "cell_type": "code",
   "execution_count": null,
   "metadata": {},
   "outputs": [],
   "source": []
  }
 ],
 "metadata": {
  "kernelspec": {
   "display_name": "Python 3 (ipykernel)",
   "language": "python",
   "name": "python3"
  },
  "language_info": {
   "codemirror_mode": {
    "name": "ipython",
    "version": 3
   },
   "file_extension": ".py",
   "mimetype": "text/x-python",
   "name": "python",
   "nbconvert_exporter": "python",
   "pygments_lexer": "ipython3",
   "version": "3.12.1"
  }
 },
 "nbformat": 4,
 "nbformat_minor": 4
}
