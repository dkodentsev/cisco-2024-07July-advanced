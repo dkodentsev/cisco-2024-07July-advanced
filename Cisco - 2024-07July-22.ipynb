{
 "cells": [
  {
   "cell_type": "markdown",
   "metadata": {},
   "source": [
    "# Agenda\n",
    "\n",
    "1. Data structures (this morning)\n",
    "    - How are core data structures implemented\n",
    "    - Advanced core data structures (`Decimal` and `namedtuple`)\n",
    "    - Dictionaries and their variants\n",
    "2. Functions (this afternoon + tomorr"
   ]
  }
 ],
 "metadata": {
  "kernelspec": {
   "display_name": "Python 3 (ipykernel)",
   "language": "python",
   "name": "python3"
  },
  "language_info": {
   "codemirror_mode": {
    "name": "ipython",
    "version": 3
   },
   "file_extension": ".py",
   "mimetype": "text/x-python",
   "name": "python",
   "nbconvert_exporter": "python",
   "pygments_lexer": "ipython3",
   "version": "3.12.1"
  }
 },
 "nbformat": 4,
 "nbformat_minor": 4
}
