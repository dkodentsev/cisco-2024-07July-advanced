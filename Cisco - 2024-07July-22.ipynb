{
 "cells": [
  {
   "cell_type": "markdown",
   "metadata": {},
   "source": [
    "# Agenda\n",
    "\n",
    "1. Data structures (this morning)\n",
    "    - How are core data structures implemented\n",
    "    - Advanced core data structures (`Decimal` and `namedtuple`)\n",
    "    - Dictionaries and their variants\n",
    "2. Functions (this afternoon + Tuesday morning)\n",
    "    - Functions as nouns, not just verbs -- function objects, and how they work\n",
    "    - Attributes on function objects\n",
    "    - Bytecodes\n",
    "    - How are arguments mapped to parameters when we call a function? (positional and keyword arguments)\n",
    "    - Special parameter types (`*args` and `**kwargs`), keyword only, defaults\n",
    "    - Variable scoping (LEGB)\n",
    "    - The enclosing scope -- closures, inner functions, and why we want them\n",
    "    - Type hints/annotations, and what they are (and aren't)\n",
    "    - Dispatch tables\n",
    "3. Functional programming in Python (Tuesday afternoon)\n",
    "    - Comprehensions (list, set, dict comprehensions -- including nested comprehensions)\n",
    "    - Functions as arguments to other functions\n",
    "    - `lambda` and its friends\n",
    "4. Modules and packages (Tuesday afternoon)\n",
    "5. Objects (Wednesday)\n",
    "    - Classes\n",
    "    - Methods\n",
    "    - Instances\n",
    "    - Attributes -- one of the most important things in all of Python (ICPO rule for attribute lookup)\n",
    "    - Magic methods\n",
    "    - Properties\n",
    "    - Descriptors\n",
    "    - Methods vs. functions -- how are they different, and how does `self` work?\n",
    "6. Iterators and generators (Thursday morning)\n",
    "    - Making your class iterable\n",
    "    - Generator functions\n",
    "    - Generator comprehensions (aka generator expressions)\n",
    "7. Decorators (Thursday)\n",
    "8. Concurrency\n",
    "    - Threads and processes (multiprocessing)\n",
    "    - `asyncio`, and how it works (and doesn't)\n",
    "    - Where is this all going in the Python world?"
   ]
  },
  {
   "cell_type": "code",
   "execution_count": 1,
   "metadata": {},
   "outputs": [],
   "source": [
    "# gitautopush -- on PyPI\n"
   ]
  },
  {
   "cell_type": "markdown",
   "metadata": {},
   "source": [
    "# Assignment in Python\n",
    "\n",
    "In a language like C, a variable is an alias to a location in memory. So when I assign to a variable, the value is being put in a particular location in memory. This is why we need to (a) declare our variables as having a certain type and (b) only certain types can be assigned to certain variables.\n",
    "\n",
    "In Python, variables refer to values.  Variables are *not* memory locations! All values are objects, and all objects are on the heap. A variable is just a *pointer* to one of those values. This is why any Python variable can refer to any Python value, and why we don't (and cannot) declare our variables to be a particular type.\n",
    "\n",
    "This is the definition of a *dynamic language*.  It doesn't mean that values don't have types. It just m"
   ]
  }
 ],
 "metadata": {
  "kernelspec": {
   "display_name": "Python 3 (ipykernel)",
   "language": "python",
   "name": "python3"
  },
  "language_info": {
   "codemirror_mode": {
    "name": "ipython",
    "version": 3
   },
   "file_extension": ".py",
   "mimetype": "text/x-python",
   "name": "python",
   "nbconvert_exporter": "python",
   "pygments_lexer": "ipython3",
   "version": "3.12.1"
  }
 },
 "nbformat": 4,
 "nbformat_minor": 4
}
