{
 "cells": [
  {
   "cell_type": "markdown",
   "id": "3e04fc1e-8769-461e-921e-a452bb682b67",
   "metadata": {},
   "source": [
    "# Agenda\n",
    "\n",
    "1. Iterators and the iterator protocol\n",
    "    - The protocol itself\n",
    "    - Making our classes iterable\n",
    "    - Generators and generator functions\n",
    "    - Generator expressions / generator comprehensions\n",
    "    - `itertools`\n",
    "2. Decorators\n",
    "3. Concurrency\n",
    "    - Threads\n",
    "    - Multiprocessing\n",
    "    - `asyncio`\n"
   ]
  },
  {
   "cell_type": "markdown",
   "id": "c6718aad-ebfd-445f-9043-527adb1c3211",
   "metadata": {},
   "source": [
    "# Iterators\n",
    "\n",
    "We know that we can put many different data types into a `for` loop:\n",
    "\n",
    "- Strings, and we get one character per iteration\n",
    "- Lists or tuples, one element per iteration\n",
    "- Dicts, one key per iteration\n",
    "- Files, one line per iteration\n",
    "\n"
   ]
  },
  {
   "cell_type": "code",
   "execution_count": 1,
   "id": "578594f3-7a50-4649-87b1-82db4503c967",
   "metadata": {},
   "outputs": [
    {
     "name": "stdout",
     "output_type": "stream",
     "text": [
      "a\n",
      "b\n",
      "c\n",
      "d\n"
     ]
    }
   ],
   "source": [
    "for one_character in 'abcd':\n",
    "    print(one_character)"
   ]
  },
  {
   "cell_type": "markdown",
   "id": "c3c1a704-2a7b-4cf0-be10-b578d41e89f1",
   "metadata": {},
   "source": [
    "# Iterator protocol\n",
    "\n",
    "1. `for` turns to the object at the end of the line, and asks: Are you iterable? (`iter`)\n",
    "    - If not, then we exit with a `TypeError` exception\n",
    "2. If so, then we get an iteator object back, to which `for` says: Give me your next value (`next`)\n",
    "    - If there are no more values, then the loop exits (becuse `next` raised the `StopIteration` exception)\n",
    "3. The next value is assigned to the loop variable (`one_character`)\n",
    "4. The loop body executes with that assignment\n",
    "5. We return to step 2"
   ]
  },
  {
   "cell_type": "code",
   "execution_count": 2,
   "id": "8e923c03-552a-4236-a710-6969590ccee9",
   "metadata": {},
   "outputs": [
    {
     "data": {
      "text/plain": [
       "str_ascii_iterator"
      ]
     },
     "execution_count": 2,
     "metadata": {},
     "output_type": "execute_result"
    }
   ],
   "source": [
    "s = 'abcd'\n",
    "\n",
    "i = iter(s)\n",
    "type(i)"
   ]
  },
  {
   "cell_type": "code",
   "execution_count": 3,
   "id": "74657b6a-d10e-4caa-a69a-9cb8ebb376df",
   "metadata": {},
   "outputs": [
    {
     "data": {
      "text/plain": [
       "'a'"
      ]
     },
     "execution_count": 3,
     "metadata": {},
     "output_type": "execute_result"
    }
   ],
   "source": [
    "next(i)"
   ]
  },
  {
   "cell_type": "code",
   "execution_count": 4,
   "id": "bf296862-d60e-44b4-b98c-b2a597d29865",
   "metadata": {},
   "outputs": [
    {
     "data": {
      "text/plain": [
       "'b'"
      ]
     },
     "execution_count": 4,
     "metadata": {},
     "output_type": "execute_result"
    }
   ],
   "source": [
    "next(i)"
   ]
  },
  {
   "cell_type": "code",
   "execution_count": 5,
   "id": "7de0107f-75be-4072-9759-c67da67636ab",
   "metadata": {},
   "outputs": [
    {
     "data": {
      "text/plain": [
       "'c'"
      ]
     },
     "execution_count": 5,
     "metadata": {},
     "output_type": "execute_result"
    }
   ],
   "source": [
    "next(i)"
   ]
  },
  {
   "cell_type": "code",
   "execution_count": 6,
   "id": "dbfff3f0-d281-4a68-b311-f14bfd5b4701",
   "metadata": {},
   "outputs": [
    {
     "data": {
      "text/plain": [
       "'d'"
      ]
     },
     "execution_count": 6,
     "metadata": {},
     "output_type": "execute_result"
    }
   ],
   "source": [
    "next(i)"
   ]
  },
  {
   "cell_type": "code",
   "execution_count": 7,
   "id": "5a48ec0a-2ee8-42c1-af26-30f0d2305195",
   "metadata": {},
   "outputs": [
    {
     "ename": "StopIteration",
     "evalue": "",
     "output_type": "error",
     "traceback": [
      "\u001b[0;31m---------------------------------------------------------------------------\u001b[0m",
      "\u001b[0;31mStopIteration\u001b[0m                             Traceback (most recent call last)",
      "Cell \u001b[0;32mIn[7], line 1\u001b[0m\n\u001b[0;32m----> 1\u001b[0m \u001b[38;5;28;43mnext\u001b[39;49m\u001b[43m(\u001b[49m\u001b[43mi\u001b[49m\u001b[43m)\u001b[49m\n",
      "\u001b[0;31mStopIteration\u001b[0m: "
     ]
    }
   ],
   "source": [
    "next(i)"
   ]
  },
  {
   "cell_type": "code",
   "execution_count": 8,
   "id": "4c8ba54b-6602-46ef-9ae9-426d65997c8f",
   "metadata": {},
   "outputs": [],
   "source": [
    "f = open('/etc/passwd')\n",
    "i = iter(f)"
   ]
  },
  {
   "cell_type": "code",
   "execution_count": 9,
   "id": "6cb82841-7ef8-4a79-bc32-1688cc4bc7cc",
   "metadata": {},
   "outputs": [
    {
     "data": {
      "text/plain": [
       "<_io.TextIOWrapper name='/etc/passwd' mode='r' encoding='UTF-8'>"
      ]
     },
     "execution_count": 9,
     "metadata": {},
     "output_type": "execute_result"
    }
   ],
   "source": [
    "i"
   ]
  },
  {
   "cell_type": "code",
   "execution_count": 10,
   "id": "1561f695-cf00-457f-bab7-0d2725c1ed48",
   "metadata": {},
   "outputs": [
    {
     "data": {
      "text/plain": [
       "True"
      ]
     },
     "execution_count": 10,
     "metadata": {},
     "output_type": "execute_result"
    }
   ],
   "source": [
    "f is i   # is f its own iterator?"
   ]
  },
  {
   "cell_type": "code",
   "execution_count": 11,
   "id": "2cdb2418-d6a1-4bf7-8302-471df209154a",
   "metadata": {},
   "outputs": [
    {
     "ename": "TypeError",
     "evalue": "'int' object is not iterable",
     "output_type": "error",
     "traceback": [
      "\u001b[0;31m---------------------------------------------------------------------------\u001b[0m",
      "\u001b[0;31mTypeError\u001b[0m                                 Traceback (most recent call last)",
      "Cell \u001b[0;32mIn[11], line 1\u001b[0m\n\u001b[0;32m----> 1\u001b[0m \u001b[38;5;28;43miter\u001b[39;49m\u001b[43m(\u001b[49m\u001b[38;5;241;43m10\u001b[39;49m\u001b[43m)\u001b[49m\n",
      "\u001b[0;31mTypeError\u001b[0m: 'int' object is not iterable"
     ]
    }
   ],
   "source": [
    "iter(10)"
   ]
  },
  {
   "cell_type": "code",
   "execution_count": 12,
   "id": "071ad142-e4b6-4896-8110-135febb4f1e1",
   "metadata": {},
   "outputs": [
    {
     "ename": "TypeError",
     "evalue": "'int' object is not iterable",
     "output_type": "error",
     "traceback": [
      "\u001b[0;31m---------------------------------------------------------------------------\u001b[0m",
      "\u001b[0;31mTypeError\u001b[0m                                 Traceback (most recent call last)",
      "Cell \u001b[0;32mIn[12], line 1\u001b[0m\n\u001b[0;32m----> 1\u001b[0m \u001b[38;5;28;43;01mfor\u001b[39;49;00m\u001b[43m \u001b[49m\u001b[43mi\u001b[49m\u001b[43m \u001b[49m\u001b[38;5;129;43;01min\u001b[39;49;00m\u001b[43m \u001b[49m\u001b[38;5;241;43m10\u001b[39;49m\u001b[43m:\u001b[49m\n\u001b[1;32m      2\u001b[0m \u001b[43m    \u001b[49m\u001b[38;5;28;43mprint\u001b[39;49m\u001b[43m(\u001b[49m\u001b[43mi\u001b[49m\u001b[43m)\u001b[49m\n",
      "\u001b[0;31mTypeError\u001b[0m: 'int' object is not iterable"
     ]
    }
   ],
   "source": [
    "for i in 10:\n",
    "    print(i)"
   ]
  },
  {
   "cell_type": "code",
   "execution_count": 16,
   "id": "fd29ad66-8d29-4879-80e4-97ba1388a4d5",
   "metadata": {},
   "outputs": [
    {
     "name": "stdout",
     "output_type": "stream",
     "text": [
      "\tIn MyIter.__init__, self.data='abcd', self.index=0\n",
      "*** First run\n",
      "\tIn MyIter.__iter__, self.data='abcd', self.index=0\n",
      "\tIn MyIter.__next__, self.data='abcd', self.index=0\n",
      "\tIn MyIter.__next__, returning a\n",
      "a\n",
      "\tIn MyIter.__next__, self.data='abcd', self.index=1\n",
      "\tIn MyIter.__next__, returning b\n",
      "b\n",
      "\tIn MyIter.__next__, self.data='abcd', self.index=2\n",
      "\tIn MyIter.__next__, returning c\n",
      "c\n",
      "\tIn MyIter.__next__, self.data='abcd', self.index=3\n",
      "\tIn MyIter.__next__, returning d\n",
      "d\n",
      "\tIn MyIter.__next__, self.data='abcd', self.index=4\n",
      "\tIn MyIter.__next__, raising StopIteration\n",
      "*** Second run\n",
      "\tIn MyIter.__iter__, self.data='abcd', self.index=4\n",
      "\tIn MyIter.__next__, self.data='abcd', self.index=4\n",
      "\tIn MyIter.__next__, raising StopIteration\n"
     ]
    }
   ],
   "source": [
    "class MyIter:\n",
    "    def __init__(self, data):\n",
    "        self.data = data\n",
    "        self.index = 0\n",
    "        print(f'\\tIn MyIter.__init__, {self.data=}, {self.index=}')\n",
    "\n",
    "    def __iter__(self):  # the job of __iter__ is to return the object's iterator, where __next__ is implemented\n",
    "        print(f'\\tIn MyIter.__iter__, {self.data=}, {self.index=}')\n",
    "        return self      # I am my own iterator!\n",
    "\n",
    "    def __next__(self):\n",
    "        print(f'\\tIn MyIter.__next__, {self.data=}, {self.index=}')\n",
    "        if self.index >= len(self.data):\n",
    "            print(f'\\tIn MyIter.__next__, raising StopIteration')\n",
    "            raise StopIteration     # stop the loop if we've gone past the end\n",
    "\n",
    "        value = self.data[self.index]\n",
    "        self.index += 1\n",
    "        print(f'\\tIn MyIter.__next__, returning {value}')\n",
    "        return value\n",
    "\n",
    "m = MyIter('abcd')\n",
    "\n",
    "print('*** First run')\n",
    "for one_item in m:\n",
    "    print(one_item)\n",
    "\n",
    "print('*** Second run')\n",
    "for one_item in m:\n",
    "    print(one_item)"
   ]
  },
  {
   "cell_type": "markdown",
   "id": "a9666019-7060-48d7-961b-d199560ad5b6",
   "metadata": {},
   "source": [
    "# Exercise: Circle\n",
    "\n",
    "1. Write a `Circle` class that takes two arguments, an iterable (`data`) and an integer (`maxtimes`).\n",
    "2. When someone iterates over an instance of `Circle`, they should get `maxtimes` results.\n",
    "3. If `maxtimes` is bigger than the length of `Circle`, then you should go back to the beginning for more values.\n",
    "\n",
    "Example:\n",
    "\n",
    "```python\n",
    "c = Circle('abcd', 7)\n",
    "\n",
    "for one_item in c:\n",
    "    print(one_item)  # a b c d a b c \n",
    "```    "
   ]
  },
  {
   "cell_type": "code",
   "execution_count": 22,
   "id": "71c43287-b680-4fe2-80bc-09c8f80b64de",
   "metadata": {},
   "outputs": [
    {
     "name": "stdout",
     "output_type": "stream",
     "text": [
      "**** first run\n",
      "a\n",
      "b\n",
      "c\n",
      "d\n",
      "a\n",
      "b\n",
      "c\n",
      "**** second run\n"
     ]
    }
   ],
   "source": [
    "class Circle:\n",
    "    def __init__(self, data, maxtimes):\n",
    "        self.data = data\n",
    "        self.maxtimes = maxtimes\n",
    "        self.index = 0\n",
    "\n",
    "    def __iter__(self):\n",
    "        return self\n",
    "\n",
    "    def __next__(self):\n",
    "        if self.index >= self.maxtimes:\n",
    "            raise StopIteration\n",
    "\n",
    "        value = self.data[self.index % len(self.data)]\n",
    "        self.index += 1\n",
    "        return value\n",
    "\n",
    "c = Circle('abcd', 7)\n",
    "\n",
    "print('**** first run')\n",
    "for one_item in c:\n",
    "    print(one_item)  \n",
    "\n",
    "print('**** second run')\n",
    "for one_item in c:\n",
    "    print(one_item)  "
   ]
  },
  {
   "cell_type": "code",
   "execution_count": 23,
   "id": "f6e6c55f-2f76-4c83-9a34-c7ca6335d9e2",
   "metadata": {},
   "outputs": [],
   "source": [
    "s = 'abcd'\n",
    "\n",
    "i1 = iter(s)\n",
    "i2 = iter(s)"
   ]
  },
  {
   "cell_type": "code",
   "execution_count": 24,
   "id": "79fd3219-e766-47c8-bcee-9c1d6d4ed77f",
   "metadata": {},
   "outputs": [
    {
     "data": {
      "text/plain": [
       "4412964096"
      ]
     },
     "execution_count": 24,
     "metadata": {},
     "output_type": "execute_result"
    }
   ],
   "source": [
    "id(i1)"
   ]
  },
  {
   "cell_type": "code",
   "execution_count": 25,
   "id": "edc49014-82c0-402e-8de7-26bf4c804e3a",
   "metadata": {},
   "outputs": [
    {
     "data": {
      "text/plain": [
       "4412956512"
      ]
     },
     "execution_count": 25,
     "metadata": {},
     "output_type": "execute_result"
    }
   ],
   "source": [
    "id(i2)"
   ]
  },
  {
   "cell_type": "code",
   "execution_count": 26,
   "id": "24d8dfee-6ae9-4b9c-a5a1-06c8ce349435",
   "metadata": {},
   "outputs": [
    {
     "data": {
      "text/plain": [
       "'a'"
      ]
     },
     "execution_count": 26,
     "metadata": {},
     "output_type": "execute_result"
    }
   ],
   "source": [
    "next(i1)"
   ]
  },
  {
   "cell_type": "code",
   "execution_count": 27,
   "id": "eb255cde-a378-4261-80a9-aeea34db08b6",
   "metadata": {},
   "outputs": [
    {
     "data": {
      "text/plain": [
       "'b'"
      ]
     },
     "execution_count": 27,
     "metadata": {},
     "output_type": "execute_result"
    }
   ],
   "source": [
    "next(i1)"
   ]
  },
  {
   "cell_type": "code",
   "execution_count": 28,
   "id": "e57bb1e2-5ddc-4885-b8af-987bf0ff686b",
   "metadata": {},
   "outputs": [
    {
     "data": {
      "text/plain": [
       "'c'"
      ]
     },
     "execution_count": 28,
     "metadata": {},
     "output_type": "execute_result"
    }
   ],
   "source": [
    "next(i1)"
   ]
  },
  {
   "cell_type": "code",
   "execution_count": 29,
   "id": "8627fd86-4953-4309-94d1-d75b078f24a9",
   "metadata": {},
   "outputs": [
    {
     "data": {
      "text/plain": [
       "'a'"
      ]
     },
     "execution_count": 29,
     "metadata": {},
     "output_type": "execute_result"
    }
   ],
   "source": [
    "next(i2)"
   ]
  },
  {
   "cell_type": "code",
   "execution_count": 30,
   "id": "d36669fb-59e4-4472-9509-40d6928af75e",
   "metadata": {},
   "outputs": [
    {
     "name": "stdout",
     "output_type": "stream",
     "text": [
      "**** first run\n",
      "a\n",
      "b\n",
      "c\n",
      "d\n",
      "a\n",
      "b\n",
      "c\n",
      "**** second run\n",
      "a\n",
      "b\n",
      "c\n",
      "d\n",
      "a\n",
      "b\n",
      "c\n"
     ]
    }
   ],
   "source": [
    "class CircleIterator:\n",
    "    def __init__(self, data, maxtimes):\n",
    "        self.data = data\n",
    "        self.maxtimes = maxtimes\n",
    "        self.index = 0\n",
    "\n",
    "    def __next__(self):\n",
    "        if self.index >= self.maxtimes:\n",
    "            raise StopIteration\n",
    "\n",
    "        value = self.data[self.index % len(self.data)]\n",
    "        self.index += 1\n",
    "        return value\n",
    "\n",
    "class Circle:\n",
    "    def __init__(self, data, maxtimes):\n",
    "        self.data = data\n",
    "        self.maxtimes = maxtimes\n",
    "\n",
    "    def __iter__(self):\n",
    "        return CircleIterator(self.data, self.maxtimes)\n",
    "\n",
    "c = Circle('abcd', 7)\n",
    "\n",
    "print('**** first run')\n",
    "for one_item in c:\n",
    "    print(one_item)  \n",
    "\n",
    "print('**** second run')\n",
    "for one_item in c:\n",
    "    print(one_item)  "
   ]
  },
  {
   "cell_type": "code",
   "execution_count": 31,
   "id": "ebd65702-5b7a-40aa-9a72-4679547fda57",
   "metadata": {},
   "outputs": [
    {
     "name": "stdout",
     "output_type": "stream",
     "text": [
      "**** first run\n",
      "a\n",
      "b\n",
      "c\n",
      "d\n",
      "a\n",
      "b\n",
      "c\n",
      "**** second run\n",
      "a\n",
      "b\n",
      "c\n",
      "d\n",
      "a\n",
      "b\n",
      "c\n"
     ]
    }
   ],
   "source": [
    "# another way -- keeping the reference to Circle\n",
    "\n",
    "class CircleIterator:\n",
    "    def __init__(self, the_circle):\n",
    "        self.the_circle = the_circle\n",
    "        self.index = 0\n",
    "\n",
    "    def __next__(self):\n",
    "        if self.index >= self.the_circle.maxtimes:\n",
    "            raise StopIteration\n",
    "\n",
    "        value = self.the_circle.data[self.index % len(self.the_circle.data)]\n",
    "        self.index += 1\n",
    "        return value\n",
    "\n",
    "class Circle:\n",
    "    def __init__(self, data, maxtimes):\n",
    "        self.data = data\n",
    "        self.maxtimes = maxtimes\n",
    "\n",
    "    def __iter__(self):\n",
    "        return CircleIterator(self)\n",
    "\n",
    "c = Circle('abcd', 7)\n",
    "\n",
    "print('**** first run')\n",
    "for one_item in c:\n",
    "    print(one_item)  \n",
    "\n",
    "print('**** second run')\n",
    "for one_item in c:\n",
    "    print(one_item)  "
   ]
  },
  {
   "cell_type": "markdown",
   "id": "2e4774b8-248e-456d-ae11-a7a153b1822f",
   "metadata": {},
   "source": [
    "# Exercise: Selective iteration\n",
    "\n",
    "1. Create an iterator, `Select`, that takes two arguments:\n",
    "    - `data`, which can be any sequence\n",
    "    - `func`, a function that returns `True` or `False`\n",
    "2. When I iterate over an instance of `Select`, I'll only get those elements of `data` for which `func` returns `True`\n",
    "3. Use a two-class iterator construct for this to work\n",
    "\n",
    "Example:\n",
    "\n",
    "```python\n",
    "s = Select([10, 15, 20, 25],\n",
    "           lambda x: x % 2 == 0)\n",
    "\n",
    "for one_item in s:\n",
    "    print(one_item)   # 10 20"
   ]
  },
  {
   "cell_type": "code",
   "execution_count": 44,
   "id": "9ca9b96a-fd3b-4673-9f30-dce4a425db68",
   "metadata": {},
   "outputs": [],
   "source": [
    "class SelectIterator:\n",
    "    def __init__(self, selector):\n",
    "        self.selector = selector\n",
    "        self.index = 0\n",
    "    \n",
    "    def __next__(self):\n",
    "        while self.index < len(self.selector.data):\n",
    "    \n",
    "            value = self.selector.data[self.index]\n",
    "            self.index += 1\n",
    "\n",
    "            if self.selector.func(value):\n",
    "                return value\n",
    "\n",
    "        raise StopIteration\n",
    "        \n",
    "class Select:\n",
    "    def __init__(self, data, func):\n",
    "        self.data = data\n",
    "        self.func = func\n",
    "\n",
    "    def __iter__(self):\n",
    "        return SelectIterator(self)\n",
    "\n"
   ]
  },
  {
   "cell_type": "code",
   "execution_count": 45,
   "id": "cc8d5e08-0e88-49a9-a8b2-21b1b164ee32",
   "metadata": {},
   "outputs": [
    {
     "name": "stdout",
     "output_type": "stream",
     "text": [
      "15\n",
      "25\n"
     ]
    }
   ],
   "source": [
    "s = Select([10, 15, 20, 25],\n",
    "           lambda x: x % 2 == 1)\n",
    "\n",
    "for one_item in s:\n",
    "    print(one_item)   # 10 20"
   ]
  },
  {
   "cell_type": "code",
   "execution_count": 47,
   "id": "78a5f927-6fec-4f9a-8777-73f577859e7b",
   "metadata": {},
   "outputs": [],
   "source": [
    "import itertools\n",
    "import string"
   ]
  },
  {
   "cell_type": "code",
   "execution_count": 48,
   "id": "c7f97276-eabb-44de-a514-17168ae9ad3b",
   "metadata": {},
   "outputs": [
    {
     "data": {
      "text/plain": [
       "'abcdefghijklmnopqrstuvwxyz'"
      ]
     },
     "execution_count": 48,
     "metadata": {},
     "output_type": "execute_result"
    }
   ],
   "source": [
    "string.ascii_lowercase"
   ]
  },
  {
   "cell_type": "code",
   "execution_count": 52,
   "id": "da187d69-b036-4065-a5e6-4b25e1533ca3",
   "metadata": {},
   "outputs": [
    {
     "name": "stdout",
     "output_type": "stream",
     "text": [
      "abcd\n",
      "abce\n",
      "abcf\n",
      "abcg\n",
      "abch\n",
      "abci\n",
      "abcj\n",
      "abck\n",
      "abcl\n",
      "abcm\n",
      "abcn\n",
      "abco\n",
      "abcp\n",
      "abcq\n",
      "abcr\n",
      "abcs\n",
      "abct\n",
      "abcu\n",
      "abcv\n",
      "abcw\n",
      "abcx\n",
      "abcy\n"
     ]
    }
   ],
   "source": [
    "c = itertools.combinations(string.ascii_lowercase, 4)\n",
    "\n",
    "for index, one_combination in enumerate(c):\n",
    "    print(''.join(one_combination))\n",
    "\n",
    "    if index > 20:\n",
    "        break"
   ]
  },
  {
   "cell_type": "code",
   "execution_count": 53,
   "id": "3d1b97b9-64e3-4220-8841-facb2b487c03",
   "metadata": {},
   "outputs": [],
   "source": [
    "# generators\n",
    "\n",
    "# the world's dumbest function\n",
    "\n",
    "def myfunc():\n",
    "    return 1\n",
    "    return 2\n",
    "    return 3"
   ]
  },
  {
   "cell_type": "code",
   "execution_count": 54,
   "id": "fd855a9d-6574-49cc-a05c-df0b97d2858b",
   "metadata": {},
   "outputs": [
    {
     "data": {
      "text/plain": [
       "1"
      ]
     },
     "execution_count": 54,
     "metadata": {},
     "output_type": "execute_result"
    }
   ],
   "source": [
    "myfunc()"
   ]
  },
  {
   "cell_type": "code",
   "execution_count": 55,
   "id": "ff0e8abb-386d-4b95-9a2b-8c819e097767",
   "metadata": {},
   "outputs": [],
   "source": [
    "import dis"
   ]
  },
  {
   "cell_type": "code",
   "execution_count": 56,
   "id": "22ce6576-7b9c-4d2e-9db7-e7c46f8dec2b",
   "metadata": {},
   "outputs": [
    {
     "name": "stdout",
     "output_type": "stream",
     "text": [
      "  5           0 RESUME                   0\n",
      "\n",
      "  6           2 RETURN_CONST             1 (1)\n"
     ]
    }
   ],
   "source": [
    "dis.dis(myfunc)"
   ]
  },
  {
   "cell_type": "code",
   "execution_count": 57,
   "id": "f947755f-3906-4a29-b2e8-82e352b19e8d",
   "metadata": {},
   "outputs": [],
   "source": [
    "# let's do another function that seems very similar\n",
    "\n",
    "def myfunc():\n",
    "    yield 1\n",
    "    yield 2\n",
    "    yield 3"
   ]
  },
  {
   "cell_type": "code",
   "execution_count": 58,
   "id": "812c8665-a3c0-4c95-b95b-a521494e117d",
   "metadata": {},
   "outputs": [
    {
     "data": {
      "text/plain": [
       "<generator object myfunc at 0x1076203b0>"
      ]
     },
     "execution_count": 58,
     "metadata": {},
     "output_type": "execute_result"
    }
   ],
   "source": [
    "myfunc()   # what will we get back? answer... a generator object"
   ]
  },
  {
   "cell_type": "markdown",
   "id": "e89782f1-73b7-4c71-aee4-4db9bb8bbe68",
   "metadata": {},
   "source": [
    "# Generators\n",
    "\n",
    "A generator is an object that supports the iterator protocol. In other words, we can put it in a `for` loop, and/or we can use `iter` and `next` on it to get the next values.\n",
    "\n",
    "We typically create a generator using a \"generator function,\" a function that instead of using `return` uses the `yield` keyword. `yield` basically means: (a) return the current value to the caller and (b) go to sleep at this point in the program.\n",
    "\n",
    "When `next` is next invoked on the generator, it \"wake up\" at the point it went to sleep, and continues as if nothing had happened. All of the local variables are stil intact, and it can keep running.\n",
    "\n",
    "Generators allow us to express ideas as functions, rather than as classes. There are many instances where that turns out to be easier and clearer."
   ]
  },
  {
   "cell_type": "code",
   "execution_count": 59,
   "id": "f308aee8-1749-4f58-8efa-a151b5730aa2",
   "metadata": {},
   "outputs": [],
   "source": [
    "g = myfunc()"
   ]
  },
  {
   "cell_type": "code",
   "execution_count": 60,
   "id": "ad4f9f78-d950-45f2-bdac-06f35c6a35d4",
   "metadata": {},
   "outputs": [
    {
     "data": {
      "text/plain": [
       "1"
      ]
     },
     "execution_count": 60,
     "metadata": {},
     "output_type": "execute_result"
    }
   ],
   "source": [
    "next(g)"
   ]
  },
  {
   "cell_type": "code",
   "execution_count": 61,
   "id": "cecf0d69-4d26-4fa1-abb3-08a009d3c7b2",
   "metadata": {},
   "outputs": [
    {
     "data": {
      "text/plain": [
       "2"
      ]
     },
     "execution_count": 61,
     "metadata": {},
     "output_type": "execute_result"
    }
   ],
   "source": [
    "next(g)"
   ]
  },
  {
   "cell_type": "code",
   "execution_count": 62,
   "id": "5a4bebdb-1c8c-4794-ba0f-2e6d1703661b",
   "metadata": {},
   "outputs": [
    {
     "data": {
      "text/plain": [
       "3"
      ]
     },
     "execution_count": 62,
     "metadata": {},
     "output_type": "execute_result"
    }
   ],
   "source": [
    "next(g)"
   ]
  },
  {
   "cell_type": "code",
   "execution_count": 63,
   "id": "7220cf2a-7afc-41d2-a849-b532e89d8ea0",
   "metadata": {},
   "outputs": [
    {
     "ename": "StopIteration",
     "evalue": "",
     "output_type": "error",
     "traceback": [
      "\u001b[0;31m---------------------------------------------------------------------------\u001b[0m",
      "\u001b[0;31mStopIteration\u001b[0m                             Traceback (most recent call last)",
      "Cell \u001b[0;32mIn[63], line 1\u001b[0m\n\u001b[0;32m----> 1\u001b[0m \u001b[38;5;28;43mnext\u001b[39;49m\u001b[43m(\u001b[49m\u001b[43mg\u001b[49m\u001b[43m)\u001b[49m\n",
      "\u001b[0;31mStopIteration\u001b[0m: "
     ]
    }
   ],
   "source": [
    "next(g)"
   ]
  },
  {
   "cell_type": "code",
   "execution_count": 65,
   "id": "96837e44-b2de-40b1-b6d9-2e012e4f31cf",
   "metadata": {},
   "outputs": [
    {
     "name": "stdout",
     "output_type": "stream",
     "text": [
      "0 1 1 2 3 5 8 13 21 34 55 89 144 233 377 610 987 1597 2584 4181 6765 10946 17711 28657 46368 75025 121393 196418 317811 514229 832040 1346269 2178309 3524578 5702887 9227465 14930352 24157817 39088169 63245986 102334155 165580141 267914296 433494437 701408733 1134903170 1836311903 2971215073 4807526976 7778742049 12586269025 20365011074 32951280099 53316291173 86267571272 139583862445 "
     ]
    }
   ],
   "source": [
    "# Fibonacci sequence\n",
    "\n",
    "def fib():\n",
    "    first = 0\n",
    "    second = 1\n",
    "\n",
    "    while True:\n",
    "        yield first\n",
    "        first, second = second, first+second\n",
    "\n",
    "for one_number in fib():\n",
    "    print(one_number, end=' ')\n",
    "\n",
    "    if one_number > 100_000_000_000:\n",
    "        break"
   ]
  },
  {
   "cell_type": "code",
   "execution_count": 66,
   "id": "982806af-e038-4ff9-a100-f33394bc9153",
   "metadata": {},
   "outputs": [],
   "source": [
    "# this would be a very bad idea:\n",
    "\n",
    "# list(fib())"
   ]
  },
  {
   "cell_type": "code",
   "execution_count": 67,
   "id": "fffa942f-b811-4a7e-9c19-4f4e480a3676",
   "metadata": {},
   "outputs": [
    {
     "name": "stdout",
     "output_type": "stream",
     "text": [
      "a\n",
      "b\n",
      "c\n",
      "d\n",
      "10\n",
      "20\n",
      "30\n",
      "e\n",
      "f\n",
      "g\n",
      "h\n"
     ]
    }
   ],
   "source": [
    "# one of the functions in itertools is called \"chain\"\n",
    "\n",
    "for one_item in itertools.chain('abcd', [10, 20, 30], 'efgh'):\n",
    "    print(one_item)"
   ]
  },
  {
   "cell_type": "code",
   "execution_count": 68,
   "id": "4a001d4f-afc0-4aa3-aac6-5e1f18cd8a64",
   "metadata": {},
   "outputs": [
    {
     "name": "stdout",
     "output_type": "stream",
     "text": [
      "a\n",
      "b\n",
      "c\n",
      "d\n",
      "10\n",
      "20\n",
      "30\n",
      "e\n",
      "f\n",
      "g\n",
      "h\n"
     ]
    }
   ],
   "source": [
    "# how could we implement chain ourselves?\n",
    "\n",
    "def mychain(*args):\n",
    "    for one_arg in args:            # go through each argument\n",
    "        for one_item in one_arg:    # go through each element in this argument\n",
    "            yield one_item          # return the current value, and go to sleep until next is called \n",
    "\n",
    "for one_item in mychain('abcd', [10, 20, 30], 'efgh'):\n",
    "    print(one_item)"
   ]
  },
  {
   "cell_type": "code",
   "execution_count": 69,
   "id": "a1964346-8490-4515-a181-c3272f88cc9f",
   "metadata": {},
   "outputs": [],
   "source": [
    "def file_words(filename):\n",
    "    for one_line in open(filename):\n",
    "        for one_word in one_line.split():\n",
    "            yield one_word"
   ]
  },
  {
   "cell_type": "code",
   "execution_count": 71,
   "id": "82960669-6c27-4914-a260-7637e3e9f026",
   "metadata": {},
   "outputs": [],
   "source": [
    "g = file_words('myfile.txt')"
   ]
  },
  {
   "cell_type": "code",
   "execution_count": 72,
   "id": "7103f4a6-368a-4660-967a-e91a522ff4c7",
   "metadata": {},
   "outputs": [
    {
     "data": {
      "text/plain": [
       "'this'"
      ]
     },
     "execution_count": 72,
     "metadata": {},
     "output_type": "execute_result"
    }
   ],
   "source": [
    "next(g)"
   ]
  },
  {
   "cell_type": "code",
   "execution_count": 81,
   "id": "d9cad5ab-771b-40f0-b523-32cd325313de",
   "metadata": {},
   "outputs": [
    {
     "ename": "StopIteration",
     "evalue": "",
     "output_type": "error",
     "traceback": [
      "\u001b[0;31m---------------------------------------------------------------------------\u001b[0m",
      "\u001b[0;31mStopIteration\u001b[0m                             Traceback (most recent call last)",
      "Cell \u001b[0;32mIn[81], line 1\u001b[0m\n\u001b[0;32m----> 1\u001b[0m \u001b[38;5;28;43mnext\u001b[39;49m\u001b[43m(\u001b[49m\u001b[43mg\u001b[49m\u001b[43m)\u001b[49m\n",
      "\u001b[0;31mStopIteration\u001b[0m: "
     ]
    }
   ],
   "source": [
    "next(g)"
   ]
  },
  {
   "cell_type": "code",
   "execution_count": null,
   "id": "3199d5ca-2836-4f16-8920-b4d46dc5adf2",
   "metadata": {},
   "outputs": [],
   "source": []
  },
  {
   "cell_type": "code",
   "execution_count": 82,
   "id": "9fb8520c-da01-41c7-9889-f60cd91a5a09",
   "metadata": {},
   "outputs": [
    {
     "name": "stdout",
     "output_type": "stream",
     "text": [
      "Name:              file_words\n",
      "Filename:          /var/folders/rr/0mnyyv811fs5vyp22gf4fxk00000gn/T/ipykernel_73545/1796451847.py\n",
      "Argument count:    1\n",
      "Positional-only arguments: 0\n",
      "Kw-only arguments: 0\n",
      "Number of locals:  3\n",
      "Stack size:        3\n",
      "Flags:             OPTIMIZED, NEWLOCALS, GENERATOR\n",
      "Constants:\n",
      "   0: None\n",
      "Names:\n",
      "   0: open\n",
      "   1: split\n",
      "Variable names:\n",
      "   0: filename\n",
      "   1: one_line\n",
      "   2: one_word\n"
     ]
    }
   ],
   "source": [
    "dis.show_code(file_words)"
   ]
  },
  {
   "cell_type": "code",
   "execution_count": 83,
   "id": "066b0b3d-1632-4a5a-9786-a3b1049570bb",
   "metadata": {},
   "outputs": [],
   "source": [
    "def file_words(filename):\n",
    "    for one_line in open(filename):\n",
    "        for one_word in one_line.split():\n",
    "            yield one_word\n",
    "        return 'hello out there'"
   ]
  },
  {
   "cell_type": "code",
   "execution_count": 85,
   "id": "a8b9ac5a-729c-46b0-becc-5247210ac006",
   "metadata": {},
   "outputs": [],
   "source": [
    "g = file_words('myfile.txt')"
   ]
  },
  {
   "cell_type": "code",
   "execution_count": 86,
   "id": "d4499efc-e190-4075-82f2-2a09a017f5fa",
   "metadata": {},
   "outputs": [
    {
     "data": {
      "text/plain": [
       "'this'"
      ]
     },
     "execution_count": 86,
     "metadata": {},
     "output_type": "execute_result"
    }
   ],
   "source": [
    "next(g)"
   ]
  },
  {
   "cell_type": "code",
   "execution_count": 87,
   "id": "b86836ce-d4eb-4f55-a9b2-dc4c63d0af59",
   "metadata": {},
   "outputs": [
    {
     "data": {
      "text/plain": [
       "'is'"
      ]
     },
     "execution_count": 87,
     "metadata": {},
     "output_type": "execute_result"
    }
   ],
   "source": [
    "next(g)"
   ]
  },
  {
   "cell_type": "code",
   "execution_count": 88,
   "id": "1c3c05b5-7a5b-4333-a870-b6f40f115953",
   "metadata": {},
   "outputs": [
    {
     "data": {
      "text/plain": [
       "'a'"
      ]
     },
     "execution_count": 88,
     "metadata": {},
     "output_type": "execute_result"
    }
   ],
   "source": [
    "next(g)"
   ]
  },
  {
   "cell_type": "code",
   "execution_count": 89,
   "id": "37977974-1be7-4436-80dc-30a755f8759c",
   "metadata": {},
   "outputs": [
    {
     "data": {
      "text/plain": [
       "'test'"
      ]
     },
     "execution_count": 89,
     "metadata": {},
     "output_type": "execute_result"
    }
   ],
   "source": [
    "next(g)"
   ]
  },
  {
   "cell_type": "code",
   "execution_count": 90,
   "id": "d813f929-33f5-44e2-9143-89f8a56fa355",
   "metadata": {},
   "outputs": [
    {
     "ename": "StopIteration",
     "evalue": "hello out there",
     "output_type": "error",
     "traceback": [
      "\u001b[0;31m---------------------------------------------------------------------------\u001b[0m",
      "\u001b[0;31mStopIteration\u001b[0m                             Traceback (most recent call last)",
      "Cell \u001b[0;32mIn[90], line 1\u001b[0m\n\u001b[0;32m----> 1\u001b[0m \u001b[38;5;28;43mnext\u001b[39;49m\u001b[43m(\u001b[49m\u001b[43mg\u001b[49m\u001b[43m)\u001b[49m\n",
      "\u001b[0;31mStopIteration\u001b[0m: hello out there"
     ]
    }
   ],
   "source": [
    "next(g)"
   ]
  },
  {
   "cell_type": "code",
   "execution_count": 91,
   "id": "f26d85fa-11d2-4c2f-81d4-2882023cf7c5",
   "metadata": {},
   "outputs": [],
   "source": [
    "def myfunc():\n",
    "    print('hello')\n",
    "    return 5  # return means: finish the function *now*, get rid of its frame/local variables, we're done\n",
    "    print('goodbye')"
   ]
  },
  {
   "cell_type": "code",
   "execution_count": null,
   "id": "9d1ba939-efd4-48ac-9e82-b9483d3417ce",
   "metadata": {},
   "outputs": [],
   "source": [
    "def myfunc():\n",
    "    print('hello')\n",
    "    yield 5  # yield means: (a) running the function produces a generator and (b) each \"next\" goes through the next yield\n",
    "             # which returns is value and goes to sleep there, (c) the next \"next\" wakes up there and continues\n",
    "    print('goodbye')"
   ]
  },
  {
   "cell_type": "markdown",
   "id": "03a9cc69-f9c0-4baa-be69-6f1c793d7371",
   "metadata": {},
   "source": [
    "# Exercise: `read_n`\n",
    "\n",
    "When we read from a file in a `for` loop, we get one line at a time -- as a string, with the ending `'\\n'`. This works really well, because many files are structured with one record per line.\n",
    "\n",
    "But what if we have a file that uses two or three lines per record? Then reading in a `for` loop isn't so effective.\n",
    "\n",
    "I want you to write `read_n`, a generator that takes two arguments:\n",
    "\n",
    "- `filename`, a string\n",
    "- `n`, the number of lines you want to get in each iteration\n",
    "\n",
    "When you iterate over `read_n` on a file, you'll get one string per iteration containing `n` lines. The final iteration on the file might contain fewer than that.\n",
    "\n",
    "```python\n",
    "for one_chunk in read_n('/etc/passwd', 5):\n",
    "    print(one_chunk)\n",
    "```    "
   ]
  },
  {
   "cell_type": "code",
   "execution_count": 95,
   "id": "bd310672-9fcf-46c6-99a2-a12ac4907cdd",
   "metadata": {},
   "outputs": [
    {
     "name": "stdout",
     "output_type": "stream",
     "text": [
      "##\n",
      "# User Database\n",
      "# \n",
      "# Note that this file is consulted directly only when the system is running\n",
      "# in single-user mode.  At other times this information is provided by\n",
      "\n",
      "# Open Directory.\n",
      "#\n",
      "# See the opendirectoryd(8) man page for additional information about\n",
      "# Open Directory.\n",
      "##\n",
      "\n",
      "nobody:*:-2:-2:Unprivileged User:/var/empty:/usr/bin/false\n",
      "root:*:0:0:System Administrator:/var/root:/bin/sh\n",
      "daemon:*:1:1:System Services:/var/root:/usr/bin/false\n",
      "_uucp:*:4:4:Unix to Unix Copy Protocol:/var/spool/uucp:/usr/sbin/uucico\n",
      "_taskgated:*:13:13:Task Gate Daemon:/var/empty:/usr/bin/false\n",
      "\n",
      "_networkd:*:24:24:Network Services:/var/networkd:/usr/bin/false\n",
      "_installassistant:*:25:25:Install Assistant:/var/empty:/usr/bin/false\n",
      "_lp:*:26:26:Printing Services:/var/spool/cups:/usr/bin/false\n",
      "_postfix:*:27:27:Postfix Mail Server:/var/spool/postfix:/usr/bin/false\n",
      "_scsd:*:31:31:Service Configuration Service:/var/empty:/usr/bin/false\n",
      "\n",
      "_ces:*:32:32:Certificate Enrollment Service:/var/empty:/usr/bin/false\n",
      "_appstore:*:33:33:Mac App Store Service:/var/db/appstore:/usr/bin/false\n",
      "_mcxalr:*:54:54:MCX AppLaunch:/var/empty:/usr/bin/false\n",
      "_appleevents:*:55:55:AppleEvents Daemon:/var/empty:/usr/bin/false\n",
      "_geod:*:56:56:Geo Services Daemon:/var/db/geod:/usr/bin/false\n",
      "\n",
      "_devdocs:*:59:59:Developer Documentation:/var/empty:/usr/bin/false\n",
      "_sandbox:*:60:60:Seatbelt:/var/empty:/usr/bin/false\n",
      "_mdnsresponder:*:65:65:mDNSResponder:/var/empty:/usr/bin/false\n",
      "_ard:*:67:67:Apple Remote Desktop:/var/empty:/usr/bin/false\n",
      "_www:*:70:70:World Wide Web Server:/Library/WebServer:/usr/bin/false\n",
      "\n",
      "_eppc:*:71:71:Apple Events User:/var/empty:/usr/bin/false\n",
      "_cvs:*:72:72:CVS Server:/var/empty:/usr/bin/false\n",
      "_svn:*:73:73:SVN Server:/var/empty:/usr/bin/false\n",
      "_mysql:*:74:74:MySQL Server:/var/empty:/usr/bin/false\n",
      "_sshd:*:75:75:sshd Privilege separation:/var/empty:/usr/bin/false\n",
      "\n",
      "_qtss:*:76:76:QuickTime Streaming Server:/var/empty:/usr/bin/false\n",
      "_cyrus:*:77:6:Cyrus Administrator:/var/imap:/usr/bin/false\n",
      "_mailman:*:78:78:Mailman List Server:/var/empty:/usr/bin/false\n",
      "_appserver:*:79:79:Application Server:/var/empty:/usr/bin/false\n",
      "_clamav:*:82:82:ClamAV Daemon:/var/virusmails:/usr/bin/false\n",
      "\n",
      "_amavisd:*:83:83:AMaViS Daemon:/var/virusmails:/usr/bin/false\n",
      "_jabber:*:84:84:Jabber XMPP Server:/var/empty:/usr/bin/false\n",
      "_appowner:*:87:87:Application Owner:/var/empty:/usr/bin/false\n",
      "_windowserver:*:88:88:WindowServer:/var/empty:/usr/bin/false\n",
      "_spotlight:*:89:89:Spotlight:/var/empty:/usr/bin/false\n",
      "\n",
      "_tokend:*:91:91:Token Daemon:/var/empty:/usr/bin/false\n",
      "_securityagent:*:92:92:SecurityAgent:/var/db/securityagent:/usr/bin/false\n",
      "_calendar:*:93:93:Calendar:/var/empty:/usr/bin/false\n",
      "_teamsserver:*:94:94:TeamsServer:/var/teamsserver:/usr/bin/false\n",
      "_update_sharing:*:95:-2:Update Sharing:/var/empty:/usr/bin/false\n",
      "\n",
      "_installer:*:96:-2:Installer:/var/empty:/usr/bin/false\n",
      "_atsserver:*:97:97:ATS Server:/var/empty:/usr/bin/false\n",
      "_ftp:*:98:-2:FTP Daemon:/var/empty:/usr/bin/false\n",
      "_unknown:*:99:99:Unknown User:/var/empty:/usr/bin/false\n",
      "_softwareupdate:*:200:200:Software Update Service:/var/db/softwareupdate:/usr/bin/false\n",
      "\n",
      "_coreaudiod:*:202:202:Core Audio Daemon:/var/empty:/usr/bin/false\n",
      "_screensaver:*:203:203:Screensaver:/var/empty:/usr/bin/false\n",
      "_locationd:*:205:205:Location Daemon:/var/db/locationd:/usr/bin/false\n",
      "_trustevaluationagent:*:208:208:Trust Evaluation Agent:/var/empty:/usr/bin/false\n",
      "_timezone:*:210:210:AutoTimeZoneDaemon:/var/empty:/usr/bin/false\n",
      "\n",
      "_lda:*:211:211:Local Delivery Agent:/var/empty:/usr/bin/false\n",
      "_cvmsroot:*:212:212:CVMS Root:/var/empty:/usr/bin/false\n",
      "_usbmuxd:*:213:213:iPhone OS Device Helper:/var/db/lockdown:/usr/bin/false\n",
      "_dovecot:*:214:6:Dovecot Administrator:/var/empty:/usr/bin/false\n",
      "_dpaudio:*:215:215:DP Audio:/var/empty:/usr/bin/false\n",
      "\n",
      "_postgres:*:216:216:PostgreSQL Server:/var/empty:/usr/bin/false\n",
      "_krbtgt:*:217:-2:Kerberos Ticket Granting Ticket:/var/empty:/usr/bin/false\n",
      "_kadmin_admin:*:218:-2:Kerberos Admin Service:/var/empty:/usr/bin/false\n",
      "_kadmin_changepw:*:219:-2:Kerberos Change Password Service:/var/empty:/usr/bin/false\n",
      "_devicemgr:*:220:220:Device Management Server:/var/empty:/usr/bin/false\n",
      "\n",
      "_webauthserver:*:221:221:Web Auth Server:/var/empty:/usr/bin/false\n",
      "_netbios:*:222:222:NetBIOS:/var/empty:/usr/bin/false\n",
      "_warmd:*:224:224:Warm Daemon:/var/empty:/usr/bin/false\n",
      "_dovenull:*:227:227:Dovecot Authentication:/var/empty:/usr/bin/false\n",
      "_netstatistics:*:228:228:Network Statistics Daemon:/var/empty:/usr/bin/false\n",
      "\n",
      "_avbdeviced:*:229:-2:Ethernet AVB Device Daemon:/var/empty:/usr/bin/false\n",
      "_krb_krbtgt:*:230:-2:Open Directory Kerberos Ticket Granting Ticket:/var/empty:/usr/bin/false\n",
      "_krb_kadmin:*:231:-2:Open Directory Kerberos Admin Service:/var/empty:/usr/bin/false\n",
      "_krb_changepw:*:232:-2:Open Directory Kerberos Change Password Service:/var/empty:/usr/bin/false\n",
      "_krb_kerberos:*:233:-2:Open Directory Kerberos:/var/empty:/usr/bin/false\n",
      "\n",
      "_krb_anonymous:*:234:-2:Open Directory Kerberos Anonymous:/var/empty:/usr/bin/false\n",
      "_assetcache:*:235:235:Asset Cache Service:/var/empty:/usr/bin/false\n",
      "_coremediaiod:*:236:236:Core Media IO Daemon:/var/empty:/usr/bin/false\n",
      "_launchservicesd:*:239:239:_launchservicesd:/var/empty:/usr/bin/false\n",
      "_iconservices:*:240:240:IconServices:/var/empty:/usr/bin/false\n",
      "\n",
      "_distnote:*:241:241:DistNote:/var/empty:/usr/bin/false\n",
      "_nsurlsessiond:*:242:242:NSURLSession Daemon:/var/db/nsurlsessiond:/usr/bin/false\n",
      "_displaypolicyd:*:244:244:Display Policy Daemon:/var/empty:/usr/bin/false\n",
      "_astris:*:245:245:Astris Services:/var/db/astris:/usr/bin/false\n",
      "_krbfast:*:246:-2:Kerberos FAST Account:/var/empty:/usr/bin/false\n",
      "\n",
      "_gamecontrollerd:*:247:247:Game Controller Daemon:/var/empty:/usr/bin/false\n",
      "_mbsetupuser:*:248:248:Setup User:/var/setup:/bin/bash\n",
      "_ondemand:*:249:249:On Demand Resource Daemon:/var/db/ondemand:/usr/bin/false\n",
      "_xserverdocs:*:251:251:macOS Server Documents Service:/var/empty:/usr/bin/false\n",
      "_wwwproxy:*:252:252:WWW Proxy:/var/empty:/usr/bin/false\n",
      "\n",
      "_mobileasset:*:253:253:MobileAsset User:/var/ma:/usr/bin/false\n",
      "_findmydevice:*:254:254:Find My Device Daemon:/var/db/findmydevice:/usr/bin/false\n",
      "_datadetectors:*:257:257:DataDetectors:/var/db/datadetectors:/usr/bin/false\n",
      "_captiveagent:*:258:258:captiveagent:/var/empty:/usr/bin/false\n",
      "_ctkd:*:259:259:ctkd Account:/var/empty:/usr/bin/false\n",
      "\n",
      "_applepay:*:260:260:applepay Account:/var/db/applepay:/usr/bin/false\n",
      "_hidd:*:261:261:HID Service User:/var/db/hidd:/usr/bin/false\n",
      "_cmiodalassistants:*:262:262:CoreMedia IO Assistants User:/var/db/cmiodalassistants:/usr/bin/false\n",
      "_analyticsd:*:263:263:Analytics Daemon:/var/db/analyticsd:/usr/bin/false\n",
      "_fpsd:*:265:265:FPS Daemon:/var/db/fpsd:/usr/bin/false\n",
      "\n",
      "_timed:*:266:266:Time Sync Daemon:/var/db/timed:/usr/bin/false\n",
      "_nearbyd:*:268:268:Proximity and Ranging Daemon:/var/db/nearbyd:/usr/bin/false\n",
      "_reportmemoryexception:*:269:269:ReportMemoryException:/var/db/reportmemoryexception:/usr/bin/false\n",
      "_driverkit:*:270:270:DriverKit:/var/empty:/usr/bin/false\n",
      "_diskimagesiod:*:271:271:DiskImages IO Daemon:/var/db/diskimagesiod:/usr/bin/false\n",
      "\n",
      "_logd:*:272:272:Log Daemon:/var/db/diagnostics:/usr/bin/false\n",
      "_appinstalld:*:273:273:App Install Daemon:/var/db/appinstalld:/usr/bin/false\n",
      "_installcoordinationd:*:274:274:Install Coordination Daemon:/var/db/installcoordinationd:/usr/bin/false\n",
      "_demod:*:275:275:Demo Daemon:/var/empty:/usr/bin/false\n",
      "_rmd:*:277:277:Remote Management Daemon:/var/db/rmd:/usr/bin/false\n",
      "\n",
      "_accessoryupdater:*:278:278:Accessory Update Daemon:/var/db/accessoryupdater:/usr/bin/false\n",
      "_knowledgegraphd:*:279:279:Knowledge Graph Daemon:/var/db/knowledgegraphd:/usr/bin/false\n",
      "_coreml:*:280:280:CoreML Services:/var/db/coreml:/usr/bin/false\n",
      "_sntpd:*:281:281:SNTP Server Daemon:/var/empty:/usr/bin/false\n",
      "_trustd:*:282:282:trustd:/var/empty:/usr/bin/false\n",
      "\n",
      "_mmaintenanced:*:283:283:mmaintenanced:/var/db/mmaintenanced:/usr/bin/false\n",
      "_darwindaemon:*:284:284:Darwin Daemon:/var/db/darwindaemon:/usr/bin/false\n",
      "_notification_proxy:*:285:285:Notification Proxy:/var/empty:/usr/bin/false\n",
      "_avphidbridge:*:288:288:Apple Virtual Platform HID Bridge:/var/empty:/usr/bin/false\n",
      "_biome:*:289:289:Biome:/var/db/biome:/usr/bin/false\n",
      "\n",
      "_backgroundassets:*:291:291:Background Assets Service:/var/empty:/usr/bin/false\n",
      "_mobilegestalthelper:*:293:293:MobileGestaltHelper:/var/empty:/usr/bin/false\n",
      "_audiomxd:*:294:294:Audio and MediaExperience Daemon:/var/db/audiomxd:/usr/bin/false\n",
      "_terminusd:*:295:295:Terminus:/var/empty:/usr/bin/false\n",
      "_neuralengine:*:296:296:AppleNeuralEngine:/var/db/neuralengine:/usr/bin/false\n",
      "\n",
      "_eligibilityd:*:297:297:OS Eligibility Daemon:/var/db/eligibilityd:/usr/bin/false\n",
      "_oahd:*:441:441:OAH Daemon:/var/empty:/usr/bin/false\n",
      "\n"
     ]
    }
   ],
   "source": [
    "def read_n(filename, n):\n",
    "    f = open(filename)\n",
    "\n",
    "    while True:\n",
    "        output = ''.join([f.readline()\n",
    "                          for i in range(n)])\n",
    "        \n",
    "        if output:\n",
    "            yield output\n",
    "        else:\n",
    "            break\n",
    "\n",
    "for one_chunk in read_n('/etc/passwd', 5):\n",
    "    print(one_chunk)"
   ]
  },
  {
   "cell_type": "code",
   "execution_count": 98,
   "id": "90288e61-a276-4f4b-a228-ed2089a115e8",
   "metadata": {},
   "outputs": [],
   "source": [
    "f = open('linux-etc-passwd.txt')"
   ]
  },
  {
   "cell_type": "code",
   "execution_count": 99,
   "id": "fda01f72-39e2-4b21-8ff3-465caf365c95",
   "metadata": {},
   "outputs": [
    {
     "data": {
      "text/plain": [
       "'# This is a comment\\n'"
      ]
     },
     "execution_count": 99,
     "metadata": {},
     "output_type": "execute_result"
    }
   ],
   "source": [
    "f.readline()"
   ]
  },
  {
   "cell_type": "code",
   "execution_count": 100,
   "id": "7bafd12a-c5e6-4f16-979c-40e1f3dd8b29",
   "metadata": {},
   "outputs": [
    {
     "data": {
      "text/plain": [
       "'# You should ignore me\\n'"
      ]
     },
     "execution_count": 100,
     "metadata": {},
     "output_type": "execute_result"
    }
   ],
   "source": [
    "f.readline()"
   ]
  },
  {
   "cell_type": "code",
   "execution_count": 101,
   "id": "c378e7dc-e186-484b-83d2-c9263856495c",
   "metadata": {},
   "outputs": [
    {
     "data": {
      "text/plain": [
       "'root:x:0:0:root:/root:/bin/bash\\n'"
      ]
     },
     "execution_count": 101,
     "metadata": {},
     "output_type": "execute_result"
    }
   ],
   "source": [
    "f.readline()"
   ]
  },
  {
   "cell_type": "code",
   "execution_count": 102,
   "id": "8fb59547-7d11-4a0c-bf1b-3f17cc4ae50a",
   "metadata": {},
   "outputs": [
    {
     "data": {
      "text/plain": [
       "'daemon:x:1:1:daemon:/usr/sbin:/usr/sbin/nologin\\n'"
      ]
     },
     "execution_count": 102,
     "metadata": {},
     "output_type": "execute_result"
    }
   ],
   "source": [
    "f.readline()"
   ]
  },
  {
   "cell_type": "code",
   "execution_count": 103,
   "id": "8f3cbdca-cff4-44d4-8383-90d05aee9782",
   "metadata": {},
   "outputs": [
    {
     "data": {
      "text/plain": [
       "'bin:x:2:2:bin:/bin:/usr/sbin/nologin\\n'"
      ]
     },
     "execution_count": 103,
     "metadata": {},
     "output_type": "execute_result"
    }
   ],
   "source": [
    "f.readline()"
   ]
  },
  {
   "cell_type": "code",
   "execution_count": 104,
   "id": "25c0d650-d1cc-49c2-b397-9b5e15196fc7",
   "metadata": {},
   "outputs": [],
   "source": [
    "g = read_n('/etc/passwd', 5)"
   ]
  },
  {
   "cell_type": "code",
   "execution_count": 105,
   "id": "f0284d37-d0d8-4e93-9d00-bf617a3d7883",
   "metadata": {},
   "outputs": [
    {
     "data": {
      "text/plain": [
       "['__class__',\n",
       " '__del__',\n",
       " '__delattr__',\n",
       " '__dir__',\n",
       " '__doc__',\n",
       " '__eq__',\n",
       " '__format__',\n",
       " '__ge__',\n",
       " '__getattribute__',\n",
       " '__getstate__',\n",
       " '__gt__',\n",
       " '__hash__',\n",
       " '__init__',\n",
       " '__init_subclass__',\n",
       " '__iter__',\n",
       " '__le__',\n",
       " '__lt__',\n",
       " '__name__',\n",
       " '__ne__',\n",
       " '__new__',\n",
       " '__next__',\n",
       " '__qualname__',\n",
       " '__reduce__',\n",
       " '__reduce_ex__',\n",
       " '__repr__',\n",
       " '__setattr__',\n",
       " '__sizeof__',\n",
       " '__str__',\n",
       " '__subclasshook__',\n",
       " 'close',\n",
       " 'gi_code',\n",
       " 'gi_frame',\n",
       " 'gi_running',\n",
       " 'gi_suspended',\n",
       " 'gi_yieldfrom',\n",
       " 'send',\n",
       " 'throw']"
      ]
     },
     "execution_count": 105,
     "metadata": {},
     "output_type": "execute_result"
    }
   ],
   "source": [
    "dir(g)"
   ]
  },
  {
   "cell_type": "code",
   "execution_count": 107,
   "id": "726593da-5a3f-4b3a-9fab-a2c4fa6c9ac8",
   "metadata": {},
   "outputs": [
    {
     "data": {
      "text/plain": [
       "('filename', 'n', 'f', 'i', 'output')"
      ]
     },
     "execution_count": 107,
     "metadata": {},
     "output_type": "execute_result"
    }
   ],
   "source": [
    "g.gi_code.co_varnames"
   ]
  },
  {
   "cell_type": "code",
   "execution_count": 111,
   "id": "22b461dd-a6bf-4ccd-b103-44a038d67b0c",
   "metadata": {},
   "outputs": [
    {
     "data": {
      "text/plain": [
       "9"
      ]
     },
     "execution_count": 111,
     "metadata": {},
     "output_type": "execute_result"
    }
   ],
   "source": [
    "g.gi_frame.f_lineno"
   ]
  },
  {
   "cell_type": "code",
   "execution_count": 110,
   "id": "8598b0a0-9ae2-43d2-a5f2-ac5552a25dff",
   "metadata": {},
   "outputs": [
    {
     "data": {
      "text/plain": [
       "'##\\n# User Database\\n# \\n# Note that this file is consulted directly only when the system is running\\n# in single-user mode.  At other times this information is provided by\\n'"
      ]
     },
     "execution_count": 110,
     "metadata": {},
     "output_type": "execute_result"
    }
   ],
   "source": [
    "next(g)"
   ]
  },
  {
   "cell_type": "code",
   "execution_count": 115,
   "id": "7e95321f-1f85-48b5-b3d7-56d47c6ebbb1",
   "metadata": {},
   "outputs": [
    {
     "name": "stdout",
     "output_type": "stream",
     "text": [
      "15\n",
      "25\n"
     ]
    }
   ],
   "source": [
    "# we can rewrite our Select class such that its __iter__ is a generator method\n",
    "# no longer will we need a second class\n",
    "\n",
    "class Select:\n",
    "    def __init__(self, data, func):\n",
    "        self.data = data\n",
    "        self.func = func\n",
    "\n",
    "    def __iter__(self):\n",
    "        index = 0\n",
    "        while index < len(self.data):\n",
    "    \n",
    "            value = self.data[index]\n",
    "            index += 1\n",
    "\n",
    "            if self.func(value):\n",
    "                yield value\n",
    "                \n",
    "\n",
    "s = Select([10, 15, 20, 25],\n",
    "           lambda x: x % 2 == 1)\n",
    "\n",
    "for one_item in s:\n",
    "    print(one_item)   # 10 20\n"
   ]
  },
  {
   "cell_type": "markdown",
   "id": "077c9e74-356c-43cb-90e4-171c61f9abff",
   "metadata": {},
   "source": [
    "When `iter` calls `__iter__` on an object, it expects to get back an iterator object. In other words, it expects to get an object back that impements `__next__`, so that it can get the next value.\n",
    "\n",
    "If we use a generator method for `__iter__`, then the method is invoked, and it (because it's an iterator) implements `__next__`."
   ]
  },
  {
   "cell_type": "code",
   "execution_count": 116,
   "id": "b90084fb-2a53-487e-87af-f6a708d38393",
   "metadata": {},
   "outputs": [],
   "source": [
    "s = Select([10, 15, 20, 25],\n",
    "           lambda x: x % 2 == 1)"
   ]
  },
  {
   "cell_type": "code",
   "execution_count": 117,
   "id": "135f6e0e-0526-45e6-990d-9866df427dd2",
   "metadata": {},
   "outputs": [
    {
     "data": {
      "text/plain": [
       "<generator object Select.__iter__ at 0x107806260>"
      ]
     },
     "execution_count": 117,
     "metadata": {},
     "output_type": "execute_result"
    }
   ],
   "source": [
    "iter(s)   # this runs __iter__, which returns the generator"
   ]
  },
  {
   "cell_type": "code",
   "execution_count": 118,
   "id": "ebd59de2-a7f3-4179-8358-d29e59924de2",
   "metadata": {},
   "outputs": [
    {
     "data": {
      "text/plain": [
       "15"
      ]
     },
     "execution_count": 118,
     "metadata": {},
     "output_type": "execute_result"
    }
   ],
   "source": [
    "g = iter(s)\n",
    "\n",
    "next(g)  # generator objects have __next__ implemented on them"
   ]
  },
  {
   "cell_type": "markdown",
   "id": "aa645afb-b108-4f00-8314-f785f19d6273",
   "metadata": {},
   "source": [
    "We can implement iteration in a few ways:\n",
    "\n",
    "- Add `__iter__` and `__next__` to a class\n",
    "- Define a generator function with `yield` that, when invoked, returns a generator object\n",
    "\n",
    "There's a third way to do it, namely generator expressions."
   ]
  },
  {
   "cell_type": "code",
   "execution_count": 119,
   "id": "a839f7ea-bd43-419c-92cf-0ad16283b8c0",
   "metadata": {},
   "outputs": [
    {
     "data": {
      "text/plain": [
       "[25, 16, 9, 4, 1, 0, 1, 4, 9, 16]"
      ]
     },
     "execution_count": 119,
     "metadata": {},
     "output_type": "execute_result"
    }
   ],
   "source": [
    "# list comprehension, returning a new list\n",
    "\n",
    "[x**2\n",
    " for x in range(-5, 5)]"
   ]
  },
  {
   "cell_type": "code",
   "execution_count": 120,
   "id": "591f2a07-b605-47a2-934e-660f502e496c",
   "metadata": {},
   "outputs": [
    {
     "data": {
      "text/plain": [
       "{0, 1, 4, 9, 16, 25}"
      ]
     },
     "execution_count": 120,
     "metadata": {},
     "output_type": "execute_result"
    }
   ],
   "source": [
    "# set comprehension, returning a new set\n",
    "\n",
    "{x**2\n",
    " for x in range(-5, 5)}"
   ]
  },
  {
   "cell_type": "code",
   "execution_count": 121,
   "id": "45bc6821-fc20-48e6-b79b-4c364824ac7a",
   "metadata": {},
   "outputs": [
    {
     "data": {
      "text/plain": [
       "{-5: 25, -4: 16, -3: 9, -2: 4, -1: 1, 0: 0, 1: 1, 2: 4, 3: 9, 4: 16}"
      ]
     },
     "execution_count": 121,
     "metadata": {},
     "output_type": "execute_result"
    }
   ],
   "source": [
    "# dict comprehension, returning a new dict\n",
    "\n",
    "{x: x**2\n",
    " for x in range(-5, 5)}"
   ]
  },
  {
   "cell_type": "code",
   "execution_count": 122,
   "id": "3cc097e5-7f6c-4e05-b234-e99f1105af97",
   "metadata": {},
   "outputs": [
    {
     "data": {
      "text/plain": [
       "<generator object <genexpr> at 0x107c4df20>"
      ]
     },
     "execution_count": 122,
     "metadata": {},
     "output_type": "execute_result"
    }
   ],
   "source": [
    "# what will I get from round parentheses? A tuple?\n",
    "# we get a generator back, and what we have here is a generator expression\n",
    "\n",
    "(x**2\n",
    " for x in range(-5, 5))"
   ]
  },
  {
   "cell_type": "code",
   "execution_count": 123,
   "id": "f512d6e1-593e-4a1c-b731-794b43d877b8",
   "metadata": {},
   "outputs": [
    {
     "data": {
      "text/plain": [
       "25"
      ]
     },
     "execution_count": 123,
     "metadata": {},
     "output_type": "execute_result"
    }
   ],
   "source": [
    "g = (x**2\n",
    " for x in range(-5, 5))\n",
    "\n",
    "next(g)"
   ]
  },
  {
   "cell_type": "code",
   "execution_count": 124,
   "id": "f61a8950-6ce8-4d25-b495-e4987d18f732",
   "metadata": {},
   "outputs": [
    {
     "data": {
      "text/plain": [
       "16"
      ]
     },
     "execution_count": 124,
     "metadata": {},
     "output_type": "execute_result"
    }
   ],
   "source": [
    "next(g)"
   ]
  },
  {
   "cell_type": "markdown",
   "id": "6e5e8ec4-c2ac-4c98-9f98-4a2725d0b2f6",
   "metadata": {},
   "source": [
    "If a list comprehension will return a very large list, then it's probably better to use a generator.\n",
    "\n",
    "If a list comprehension will return a very short list, then who cares? We can use a generator there, too."
   ]
  },
  {
   "cell_type": "code",
   "execution_count": 125,
   "id": "e481e128-516c-42be-9c5b-6453496f33e5",
   "metadata": {},
   "outputs": [
    {
     "ename": "TypeError",
     "evalue": "sequence item 0: expected str instance, int found",
     "output_type": "error",
     "traceback": [
      "\u001b[0;31m---------------------------------------------------------------------------\u001b[0m",
      "\u001b[0;31mTypeError\u001b[0m                                 Traceback (most recent call last)",
      "Cell \u001b[0;32mIn[125], line 3\u001b[0m\n\u001b[1;32m      1\u001b[0m mylist \u001b[38;5;241m=\u001b[39m [\u001b[38;5;241m10\u001b[39m, \u001b[38;5;241m20\u001b[39m, \u001b[38;5;241m30\u001b[39m]\n\u001b[0;32m----> 3\u001b[0m \u001b[38;5;124;43m'\u001b[39;49m\u001b[38;5;124;43m*\u001b[39;49m\u001b[38;5;124;43m'\u001b[39;49m\u001b[38;5;241;43m.\u001b[39;49m\u001b[43mjoin\u001b[49m\u001b[43m(\u001b[49m\u001b[43mmylist\u001b[49m\u001b[43m)\u001b[49m   \u001b[38;5;66;03m# join needs a sequence of strings\u001b[39;00m\n",
      "\u001b[0;31mTypeError\u001b[0m: sequence item 0: expected str instance, int found"
     ]
    }
   ],
   "source": [
    "mylist = [10, 20, 30]\n",
    "\n",
    "'*'.join(mylist)   # join needs a sequence of strings"
   ]
  },
  {
   "cell_type": "code",
   "execution_count": 126,
   "id": "84a85c93-83d8-45c4-b6f8-26106dcee54d",
   "metadata": {},
   "outputs": [
    {
     "data": {
      "text/plain": [
       "'10*20*30'"
      ]
     },
     "execution_count": 126,
     "metadata": {},
     "output_type": "execute_result"
    }
   ],
   "source": [
    "# here, the argument to join is a list (which consumes n elements of memory)\n",
    "# and join runs a \"for\" loop over each element\n",
    "\n",
    "'*'.join([str(one_item)\n",
    "          for one_item in mylist])"
   ]
  },
  {
   "cell_type": "code",
   "execution_count": 127,
   "id": "bf03f1de-64d4-4316-9eba-68da62d8eb0a",
   "metadata": {},
   "outputs": [
    {
     "data": {
      "text/plain": [
       "'10*20*30'"
      ]
     },
     "execution_count": 127,
     "metadata": {},
     "output_type": "execute_result"
    }
   ],
   "source": [
    "# instead, I can use a generator expression\n",
    "\n",
    "# here, the argument to join is a generator (which consumes very little memory)\n",
    "# and join runs a \"for\" loop over each element\n",
    "\n",
    "'*'.join((str(one_item)\n",
    "          for one_item in mylist))"
   ]
  },
  {
   "cell_type": "code",
   "execution_count": 129,
   "id": "136b3dc2-fb8d-4f98-90b3-eae5dbff7ad1",
   "metadata": {},
   "outputs": [
    {
     "data": {
      "text/plain": [
       "'10*20*30'"
      ]
     },
     "execution_count": 129,
     "metadata": {},
     "output_type": "execute_result"
    }
   ],
   "source": [
    "# notice the double parentheses? \n",
    "# get rid of one pair when you have a generator expression in a function/method call\n",
    "\n",
    "'*'.join(str(one_item)\n",
    "          for one_item in mylist)"
   ]
  },
  {
   "cell_type": "markdown",
   "id": "7eedea5a-89ca-4744-9d42-94a60e93d67c",
   "metadata": {},
   "source": [
    "If you have a regular function that returns a generator expression, you have basically created a generator function.\n",
    "\n",
    "True, the function itself isn't invoking `yield`. But you have returned a generator object from invoking the function, so it's basically the same thing."
   ]
  },
  {
   "cell_type": "code",
   "execution_count": 133,
   "id": "71f5f198-d6d4-430c-ab89-421098d74a64",
   "metadata": {},
   "outputs": [],
   "source": [
    "source_1 = [one_number ** 2\n",
    " for one_number in range(100_000)]"
   ]
  },
  {
   "cell_type": "code",
   "execution_count": 134,
   "id": "62438675-fce1-4d3f-86a9-019bbdaf44e6",
   "metadata": {
    "jp-MarkdownHeadingCollapsed": true
   },
   "outputs": [
    {
     "data": {
      "text/plain": [
       "800984"
      ]
     },
     "execution_count": 134,
     "metadata": {},
     "output_type": "execute_result"
    }
   ],
   "source": [
    "import sys\n",
    "sys.getsizeof(source_1)"
   ]
  },
  {
   "cell_type": "code",
   "execution_count": 135,
   "id": "28f6392f-69c4-4510-8611-3f0877a02765",
   "metadata": {},
   "outputs": [],
   "source": [
    "source_2 = (one_number ** 2\n",
    " for one_number in range(100_000))"
   ]
  },
  {
   "cell_type": "code",
   "execution_count": 136,
   "id": "fe09b66d-e76b-4dd3-841e-87d5eff05cff",
   "metadata": {},
   "outputs": [
    {
     "data": {
      "text/plain": [
       "200"
      ]
     },
     "execution_count": 136,
     "metadata": {},
     "output_type": "execute_result"
    }
   ],
   "source": [
    "sys.getsizeof(source_2)"
   ]
  },
  {
   "cell_type": "markdown",
   "id": "76baacb3-f184-44c0-a04f-0347d5ca6958",
   "metadata": {},
   "source": [
    "# Exercise: Comprehensions and generator expressions\n",
    "\n",
    "1. Write a function that takes two numbers -- `maxnum` and `factor`. This function, when invoked, should return the list of numbers from 0 to `maxnum` that are evenly divisible by `factor`.\n",
    "2. If you invoke this with `maxnum` of 100,000 and `factor` of 7, how many elements are there? How much memory does it take up? How long does it take to invoke the function and get its result?\n",
    "3. Write an almost identical function that, instead of returning a list, returns a generator expression that produces such a list. Again, invoke it with a `maxnum` of 100,000 and `factor` of 7, and check the number of elements, how much memory it takes, and how long it takes t invoke the function and get its result."
   ]
  },
  {
   "cell_type": "code",
   "execution_count": null,
   "id": "1ba616e7-3d9d-444b-b346-20dc76bcf3ab",
   "metadata": {},
   "outputs": [],
   "source": [
    "def multiples(maxnum, factor):\n",
    "    return [one_number\n",
    "            for one_number in range(maxnum)\n",
    "            if one_number % factor == 0]"
   ]
  },
  {
   "cell_type": "code",
   "execution_count": 144,
   "id": "5d3ec466-a7ac-49b8-b08b-4ddb0948defd",
   "metadata": {},
   "outputs": [
    {
     "name": "stdout",
     "output_type": "stream",
     "text": [
      "5.99 ms ± 139 µs per loop (mean ± std. dev. of 7 runs, 100 loops each)\n"
     ]
    }
   ],
   "source": [
    "%timeit output = multiples(100_000, 7)"
   ]
  },
  {
   "cell_type": "code",
   "execution_count": 150,
   "id": "e4ccc0c5-6e34-40a5-9e8b-de952b8e7f42",
   "metadata": {},
   "outputs": [
    {
     "data": {
      "text/plain": [
       "121432"
      ]
     },
     "execution_count": 150,
     "metadata": {},
     "output_type": "execute_result"
    }
   ],
   "source": [
    "output = multiples(100_000, 7)\n",
    "sys.getsizeof(output)   # 121,432 bytes"
   ]
  },
  {
   "cell_type": "code",
   "execution_count": 161,
   "id": "6f4c5931-f51b-4f0b-bf51-028c359bbf0e",
   "metadata": {},
   "outputs": [
    {
     "name": "stdout",
     "output_type": "stream",
     "text": [
      "158 ns ± 5.94 ns per loop (mean ± std. dev. of 7 runs, 10,000,000 loops each)\n"
     ]
    }
   ],
   "source": [
    "%%timeit\n",
    "\n",
    "sum([sys.getsizeof(one_item)\n",
    "     for one_item in output])  # 400,008 bytes"
   ]
  },
  {
   "cell_type": "code",
   "execution_count": 157,
   "id": "18f220c5-df4e-40f1-903c-cb31f2c51d0c",
   "metadata": {},
   "outputs": [],
   "source": [
    "def multiples_g(maxnum, factor):\n",
    "    return (one_number\n",
    "            for one_number in range(maxnum)\n",
    "            if one_number % factor == 0)"
   ]
  },
  {
   "cell_type": "code",
   "execution_count": 158,
   "id": "234271b4-278a-4fdc-9eb3-a3fd6d90caa2",
   "metadata": {},
   "outputs": [
    {
     "name": "stdout",
     "output_type": "stream",
     "text": [
      "522 ns ± 17.3 ns per loop (mean ± std. dev. of 7 runs, 1,000,000 loops each)\n"
     ]
    }
   ],
   "source": [
    "%timeit output = multiples_g(100_000, 7)"
   ]
  },
  {
   "cell_type": "code",
   "execution_count": 159,
   "id": "5b5527bd-bd6c-49e2-8d92-d9f04dba4bf5",
   "metadata": {},
   "outputs": [
    {
     "data": {
      "text/plain": [
       "208"
      ]
     },
     "execution_count": 159,
     "metadata": {},
     "output_type": "execute_result"
    }
   ],
   "source": [
    "output = multiples_g(100_000, 7)\n",
    "sys.getsizeof(output)"
   ]
  },
  {
   "cell_type": "code",
   "execution_count": 162,
   "id": "55d7feb7-9982-4cd5-a3b0-c132866590b2",
   "metadata": {},
   "outputs": [],
   "source": [
    "output = multiples_g(100_000, 7)"
   ]
  },
  {
   "cell_type": "code",
   "execution_count": 163,
   "id": "9229070f-d90a-4d6f-aaf3-e9f809a20d08",
   "metadata": {},
   "outputs": [
    {
     "name": "stdout",
     "output_type": "stream",
     "text": [
      "345 ns ± 19 ns per loop (mean ± std. dev. of 7 runs, 1,000,000 loops each)\n"
     ]
    }
   ],
   "source": [
    "%%timeit\n",
    "sum(sys.getsizeof(one_item)\n",
    "     for one_item in output)"
   ]
  },
  {
   "cell_type": "code",
   "execution_count": 165,
   "id": "9d0f0d60-e522-495c-8dca-a6110db02741",
   "metadata": {},
   "outputs": [
    {
     "data": {
      "text/plain": [
       "[('a', 10), ('b', 20), ('c', 30)]"
      ]
     },
     "execution_count": 165,
     "metadata": {},
     "output_type": "execute_result"
    }
   ],
   "source": [
    "list(zip('abc', [10, 20, 30]))"
   ]
  },
  {
   "cell_type": "markdown",
   "id": "9960958a-c050-429f-bdc9-13046d50bdea",
   "metadata": {},
   "source": [
    "# Decorators\n",
    "\n",
    "Decorators in Python are the DRY (don't repeat yourself) solution for code that repeats itself inside of functions. In that sense, they're similar to \"aspect-oriented programming.\" It has nothing to do with \"decorators\" in the world of design patterns."
   ]
  },
  {
   "cell_type": "code",
   "execution_count": 166,
   "id": "ea023e60-daa0-4ae7-9ea3-a4b80865b6f2",
   "metadata": {},
   "outputs": [
    {
     "name": "stdout",
     "output_type": "stream",
     "text": [
      "A\n",
      "\n",
      "B\n",
      "\n"
     ]
    }
   ],
   "source": [
    "# let's say we have two simple functions\n",
    "\n",
    "def a():\n",
    "    return f'A\\n'\n",
    "\n",
    "def b():\n",
    "    return f'B\\n'\n",
    "\n",
    "print(a())\n",
    "print(b())"
   ]
  },
  {
   "cell_type": "code",
   "execution_count": 167,
   "id": "00550714-70e5-448f-8c71-524b4196016f",
   "metadata": {},
   "outputs": [
    {
     "name": "stdout",
     "output_type": "stream",
     "text": [
      "------------------------------------------------------------\n",
      "A\n",
      "------------------------------------------------------------\n",
      "\n",
      "------------------------------------------------------------\n",
      "B\n",
      "------------------------------------------------------------\n",
      "\n"
     ]
    }
   ],
   "source": [
    "# the company requires that anything we print have dashed lines before and after the text\n",
    "# we'll need to update our functions a and b\n",
    "\n",
    "lines = '-' * 60 + '\\n'\n",
    "\n",
    "def a():\n",
    "    return f'{lines}A\\n{lines}'\n",
    "\n",
    "def b():\n",
    "    return f'{lines}B\\n{lines}'\n",
    "\n",
    "print(a())\n",
    "print(b())"
   ]
  },
  {
   "cell_type": "code",
   "execution_count": 169,
   "id": "bec4aabe-3da8-4d7f-8a1c-cd132fef101a",
   "metadata": {},
   "outputs": [
    {
     "name": "stdout",
     "output_type": "stream",
     "text": [
      "------------------------------------------------------------\n",
      "A\n",
      "------------------------------------------------------------\n",
      "\n",
      "------------------------------------------------------------\n",
      "B\n",
      "------------------------------------------------------------\n",
      "\n"
     ]
    }
   ],
   "source": [
    "# does this really mean that I need to go into *every* function that displays\n",
    "# something on the screen and add a reference to lines?\n",
    "\n",
    "# I'm going to write a new function, with_lines, that takes a function\n",
    "# as an argument. with_lines will execute that function, and then\n",
    "# surround its output with lines.\n",
    "\n",
    "lines = '-' * 60 + '\\n'\n",
    "\n",
    "def with_lines(func):\n",
    "    return f'{lines}{func()}{lines}'\n",
    "\n",
    "def a():\n",
    "    return f'A\\n'\n",
    "\n",
    "def b():\n",
    "    return f'B\\n'\n",
    "\n",
    "print(with_lines(a))\n",
    "print(with_lines(b))"
   ]
  },
  {
   "cell_type": "code",
   "execution_count": 170,
   "id": "4bb433da-5863-4a3b-838b-b3a7ed92ddb9",
   "metadata": {},
   "outputs": [
    {
     "name": "stdout",
     "output_type": "stream",
     "text": [
      "------------------------------------------------------------\n",
      "A\n",
      "------------------------------------------------------------\n",
      "\n",
      "------------------------------------------------------------\n",
      "B\n",
      "------------------------------------------------------------\n",
      "\n"
     ]
    }
   ],
   "source": [
    "# can we somehow get with_lines to work and also keep the existing API?\n",
    "# I'm going to try an inner function. This won't solve the problem\n",
    "# but it'll get us closer.\n",
    "\n",
    "lines = '-' * 60 + '\\n'\n",
    "\n",
    "def with_lines(func):\n",
    "    def wrapper():\n",
    "        return f'{lines}{func()}{lines}'\n",
    "    return wrapper\n",
    "\n",
    "def a():\n",
    "    return f'A\\n'\n",
    "with_lines_a = with_lines(a)    \n",
    "\n",
    "def b():\n",
    "    return f'B\\n'\n",
    "with_lines_b = with_lines(b)\n",
    "\n",
    "print(with_lines_a())\n",
    "print(with_lines_b())"
   ]
  },
  {
   "cell_type": "code",
   "execution_count": 171,
   "id": "8209afbd-1309-4a73-95fd-fed66ad94fca",
   "metadata": {},
   "outputs": [
    {
     "name": "stdout",
     "output_type": "stream",
     "text": [
      "------------------------------------------------------------\n",
      "A\n",
      "------------------------------------------------------------\n",
      "\n",
      "------------------------------------------------------------\n",
      "B\n",
      "------------------------------------------------------------\n",
      "\n"
     ]
    }
   ],
   "source": [
    "# let's keep our inner function\n",
    "# but instead of assigning with_lines(a) to with_lines_a, let's assign it to a\n",
    "# and instead of assigning with_lines(b) to with_lines_b, let's assign it to b\n",
    "\n",
    "\n",
    "lines = '-' * 60 + '\\n'\n",
    "\n",
    "def with_lines(func):\n",
    "    def wrapper():\n",
    "        return f'{lines}{func()}{lines}'\n",
    "    return wrapper\n",
    "\n",
    "def a():\n",
    "    return f'A\\n'\n",
    "a = with_lines(a)    \n",
    "\n",
    "def b():\n",
    "    return f'B\\n'\n",
    "b = with_lines(b)\n",
    "\n",
    "print(a())\n",
    "print(b())"
   ]
  },
  {
   "cell_type": "code",
   "execution_count": 172,
   "id": "d8ef6abe-6bcc-4b49-9118-4f0e4a7d156c",
   "metadata": {},
   "outputs": [
    {
     "name": "stdout",
     "output_type": "stream",
     "text": [
      "------------------------------------------------------------\n",
      "A\n",
      "------------------------------------------------------------\n",
      "\n",
      "------------------------------------------------------------\n",
      "B\n",
      "------------------------------------------------------------\n",
      "\n"
     ]
    }
   ],
   "source": [
    "# now let's use decorator syntax\n",
    "# instead of defining a and then assigning to a, we can put @with_lines above the definition of a\n",
    "# these are identical in their meaning.\n",
    "\n",
    "lines = '-' * 60 + '\\n'\n",
    "\n",
    "def with_lines(func):\n",
    "    def wrapper():\n",
    "        return f'{lines}{func()}{lines}'\n",
    "    return wrapper\n",
    "\n",
    "@with_lines\n",
    "def a():\n",
    "    return f'A\\n'\n",
    "# a = with_lines(a)    \n",
    "\n",
    "@with_lines\n",
    "def b():\n",
    "    return f'B\\n'\n",
    "# b = with_lines(b)\n",
    "\n",
    "print(a())\n",
    "print(b())"
   ]
  },
  {
   "cell_type": "markdown",
   "id": "a87cbd45-4d38-45de-aab2-31cc50d74fc5",
   "metadata": {},
   "source": [
    "# What is a decorator?\n",
    "\n",
    "Technically, it's a callable (function or class) that takes a callable as an argument, and returns a callable. We invoke it via `@` and the decorator name above the function definition.\n",
    "\n",
    "In reality:\n",
    "- A decorator is almost always implemented as two nested classes\n",
    "- The outer function is invoked once, just after the decorated function is defined\n",
    "- The outer function always takes the function as input\n",
    "- The inner function is invoked in place of the decorated function.\n",
    "- The inner function traditionally takes `*args` and/or `**kwargs` so we can pass arguments along to the original function\n",
    "- The `@` syntax goes above every single function we want to decorate\n",
    "\n",
    "# Why and when would we want decorators?\n",
    "\n",
    "Decorators allow us to \"hijack\" a function when it is defined and again each time it is run. So:\n",
    "- Replace one function with another\n",
    "- Change where input comes from or output goes\n",
    "- Filter, modify, or replace input arguments\n",
    "- Filter, modify, or replace outputs from the function\n",
    "- Add security\n",
    "- Add logging\n",
    "- Add performance checks"
   ]
  },
  {
   "cell_type": "code",
   "execution_count": 176,
   "id": "ca51dadd-ad9c-43f9-bd00-599298b3d4a5",
   "metadata": {},
   "outputs": [
    {
     "name": "stdout",
     "output_type": "stream",
     "text": [
      "------------------------------------------------------------\n",
      "2 + 3 = 5\n",
      "------------------------------------------------------------\n",
      "\n"
     ]
    }
   ],
   "source": [
    "lines = '-' * 60 + '\\n'\n",
    "\n",
    "def with_lines(func):   # outer function is run once, just after the decorated function is run; takes func as an argument\n",
    "    def wrapper(*args): # inner function is run inplace of the original one, and typically takes *args which it passes along\n",
    "        return f'{lines}{func(*args)}{lines}'\n",
    "    return wrapper\n",
    "\n",
    "@with_lines\n",
    "def a():\n",
    "    return f'A\\n'\n",
    "\n",
    "@with_lines\n",
    "def b():\n",
    "    return f'B\\n'\n",
    "\n",
    "@with_lines\n",
    "def add(first, second):\n",
    "    return f'{first} + {second} = {first+second}\\n'\n",
    "\n",
    "print(add(2, 3))"
   ]
  },
  {
   "cell_type": "markdown",
   "id": "92b85a9b-15c3-430d-b696-5ee8c87293ed",
   "metadata": {},
   "source": [
    "# Exercise: `timefunc`\n",
    "\n",
    "Define a decorator, `timefunc`, which doesn't change the inputs or outputs from a decorated function. Rather, it checks to see how long the original (decorated) function takes to run, and then writes the output to a file, `timing.txt`. Each line in `timing.txt` will have the function name (which you can get from `__name__` on the function object), the start time, and the total time the function took to run.\n",
    "\n",
    "I should be able to say:\n",
    "\n",
    "```python\n",
    "@timefunc\n",
    "def slow_add(a, b):\n",
    "    time.sleep(random.randint(0, 3))\n",
    "    return a + b\n",
    "```"
   ]
  },
  {
   "cell_type": "code",
   "execution_count": null,
   "id": "24173ad6-96a7-4d5a-bd65-674e1f327140",
   "metadata": {},
   "outputs": [],
   "source": []
  }
 ],
 "metadata": {
  "kernelspec": {
   "display_name": "Python 3 (ipykernel)",
   "language": "python",
   "name": "python3"
  },
  "language_info": {
   "codemirror_mode": {
    "name": "ipython",
    "version": 3
   },
   "file_extension": ".py",
   "mimetype": "text/x-python",
   "name": "python",
   "nbconvert_exporter": "python",
   "pygments_lexer": "ipython3",
   "version": "3.12.1"
  }
 },
 "nbformat": 4,
 "nbformat_minor": 5
}
