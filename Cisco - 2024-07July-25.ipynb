{
 "cells": [
  {
   "cell_type": "markdown",
   "id": "3e04fc1e-8769-461e-921e-a452bb682b67",
   "metadata": {},
   "source": [
    "# Agenda\n",
    "\n",
    "1. Iterators and the iterator protocol\n",
    "    - The protocol itself\n",
    "    - Making our classes iterable\n",
    "    - Generators and generator functions\n",
    "    - Generator expressions / generator comprehensions\n",
    "    - `itertools`\n",
    "2. Decorators\n",
    "3. Concurrency\n",
    "    - Threads\n",
    "    - Multiprocessing\n",
    "    - `asyncio`\n"
   ]
  },
  {
   "cell_type": "markdown",
   "id": "c6718aad-ebfd-445f-9043-527adb1c3211",
   "metadata": {},
   "source": [
    "# Iterators\n",
    "\n",
    "We know that we can put many different data types into a `for` loop:\n",
    "\n",
    "- Strings, and we get one character per iteration\n",
    "- Lists or tuples, one element per iteration\n",
    "- Dicts, one key per iteration\n",
    "- Files, one line per iteration\n",
    "\n"
   ]
  },
  {
   "cell_type": "code",
   "execution_count": 1,
   "id": "578594f3-7a50-4649-87b1-82db4503c967",
   "metadata": {},
   "outputs": [
    {
     "name": "stdout",
     "output_type": "stream",
     "text": [
      "a\n",
      "b\n",
      "c\n",
      "d\n"
     ]
    }
   ],
   "source": [
    "for one_character in 'abcd':\n",
    "    print(one_character)"
   ]
  },
  {
   "cell_type": "markdown",
   "id": "c3c1a704-2a7b-4cf0-be10-b578d41e89f1",
   "metadata": {},
   "source": [
    "# Iterator protocol\n",
    "\n",
    "1. `for` turns to the object at the end of the line, and asks: Are you iterable?\n",
    "    - If not, then we exit with a `TypeError` exception\n",
    "2. If so, then `for` says: Give me your next value\n",
    "    - If there are no more values, then the loop exits\n",
    "3. The next value is assigned to the loop variable (`one_character`)\n",
    "4. The loop body executes with that assignment\n",
    "5. We return"
   ]
  }
 ],
 "metadata": {
  "kernelspec": {
   "display_name": "Python 3 (ipykernel)",
   "language": "python",
   "name": "python3"
  },
  "language_info": {
   "codemirror_mode": {
    "name": "ipython",
    "version": 3
   },
   "file_extension": ".py",
   "mimetype": "text/x-python",
   "name": "python",
   "nbconvert_exporter": "python",
   "pygments_lexer": "ipython3",
   "version": "3.12.1"
  }
 },
 "nbformat": 4,
 "nbformat_minor": 5
}
