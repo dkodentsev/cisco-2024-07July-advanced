{
 "cells": [
  {
   "cell_type": "markdown",
   "id": "3e04fc1e-8769-461e-921e-a452bb682b67",
   "metadata": {},
   "source": [
    "# Agenda\n",
    "\n",
    "1. Iterators and the iterator protocol\n",
    "    - The protocol itself\n",
    "    - Making our classes iterable\n",
    "    - Generators and generator functions\n",
    "    - Generator expressions / generator comprehensions\n",
    "    - `itertools`\n",
    "2. Decorators\n",
    "3. Concurrency\n",
    "    - Threads\n",
    "    - Multiprocessing\n",
    "    - `asyncio`\n"
   ]
  },
  {
   "cell_type": "markdown",
   "id": "c6718aad-ebfd-445f-9043-527adb1c3211",
   "metadata": {},
   "source": [
    "# Iterators\n",
    "\n",
    "We know that we can put many different data types into a `for` loop:\n",
    "\n",
    "- Strings, and we get one character per iteration\n",
    "- Lists or tuples, one element per iteration\n",
    "- Dicts, one key per iteration\n",
    "- Files, one line per iteration\n",
    "\n"
   ]
  },
  {
   "cell_type": "code",
   "execution_count": 1,
   "id": "578594f3-7a50-4649-87b1-82db4503c967",
   "metadata": {},
   "outputs": [
    {
     "name": "stdout",
     "output_type": "stream",
     "text": [
      "a\n",
      "b\n",
      "c\n",
      "d\n"
     ]
    }
   ],
   "source": [
    "for one_character in 'abcd':\n",
    "    print(one_character)"
   ]
  },
  {
   "cell_type": "markdown",
   "id": "c3c1a704-2a7b-4cf0-be10-b578d41e89f1",
   "metadata": {},
   "source": [
    "# Iterator protocol\n",
    "\n",
    "1. `for` turns to the object at the end of the line, and asks: Are you iterable? (`iter`)\n",
    "    - If not, then we exit with a `TypeError` exception\n",
    "2. If so, then we get an iteator object back, to which `for` says: Give me your next value (`next`)\n",
    "    - If there are no more values, then the loop exits (becuse `next` raised the `StopIteration` exception)\n",
    "3. The next value is assigned to the loop variable (`one_character`)\n",
    "4. The loop body executes with that assignment\n",
    "5. We return to step 2"
   ]
  },
  {
   "cell_type": "code",
   "execution_count": 2,
   "id": "8e923c03-552a-4236-a710-6969590ccee9",
   "metadata": {},
   "outputs": [
    {
     "data": {
      "text/plain": [
       "str_ascii_iterator"
      ]
     },
     "execution_count": 2,
     "metadata": {},
     "output_type": "execute_result"
    }
   ],
   "source": [
    "s = 'abcd'\n",
    "\n",
    "i = iter(s)\n",
    "type(i)"
   ]
  },
  {
   "cell_type": "code",
   "execution_count": 3,
   "id": "74657b6a-d10e-4caa-a69a-9cb8ebb376df",
   "metadata": {},
   "outputs": [
    {
     "data": {
      "text/plain": [
       "'a'"
      ]
     },
     "execution_count": 3,
     "metadata": {},
     "output_type": "execute_result"
    }
   ],
   "source": [
    "next(i)"
   ]
  },
  {
   "cell_type": "code",
   "execution_count": 4,
   "id": "bf296862-d60e-44b4-b98c-b2a597d29865",
   "metadata": {},
   "outputs": [
    {
     "data": {
      "text/plain": [
       "'b'"
      ]
     },
     "execution_count": 4,
     "metadata": {},
     "output_type": "execute_result"
    }
   ],
   "source": [
    "next(i)"
   ]
  },
  {
   "cell_type": "code",
   "execution_count": 5,
   "id": "7de0107f-75be-4072-9759-c67da67636ab",
   "metadata": {},
   "outputs": [
    {
     "data": {
      "text/plain": [
       "'c'"
      ]
     },
     "execution_count": 5,
     "metadata": {},
     "output_type": "execute_result"
    }
   ],
   "source": [
    "next(i)"
   ]
  },
  {
   "cell_type": "code",
   "execution_count": 6,
   "id": "dbfff3f0-d281-4a68-b311-f14bfd5b4701",
   "metadata": {},
   "outputs": [
    {
     "data": {
      "text/plain": [
       "'d'"
      ]
     },
     "execution_count": 6,
     "metadata": {},
     "output_type": "execute_result"
    }
   ],
   "source": [
    "next(i)"
   ]
  },
  {
   "cell_type": "code",
   "execution_count": 7,
   "id": "5a48ec0a-2ee8-42c1-af26-30f0d2305195",
   "metadata": {},
   "outputs": [
    {
     "ename": "StopIteration",
     "evalue": "",
     "output_type": "error",
     "traceback": [
      "\u001b[0;31m---------------------------------------------------------------------------\u001b[0m",
      "\u001b[0;31mStopIteration\u001b[0m                             Traceback (most recent call last)",
      "Cell \u001b[0;32mIn[7], line 1\u001b[0m\n\u001b[0;32m----> 1\u001b[0m \u001b[38;5;28;43mnext\u001b[39;49m\u001b[43m(\u001b[49m\u001b[43mi\u001b[49m\u001b[43m)\u001b[49m\n",
      "\u001b[0;31mStopIteration\u001b[0m: "
     ]
    }
   ],
   "source": [
    "next(i)"
   ]
  },
  {
   "cell_type": "code",
   "execution_count": 8,
   "id": "4c8ba54b-6602-46ef-9ae9-426d65997c8f",
   "metadata": {},
   "outputs": [],
   "source": [
    "f = open('/etc/passwd')\n",
    "i = iter(f)"
   ]
  },
  {
   "cell_type": "code",
   "execution_count": 9,
   "id": "6cb82841-7ef8-4a79-bc32-1688cc4bc7cc",
   "metadata": {},
   "outputs": [
    {
     "data": {
      "text/plain": [
       "<_io.TextIOWrapper name='/etc/passwd' mode='r' encoding='UTF-8'>"
      ]
     },
     "execution_count": 9,
     "metadata": {},
     "output_type": "execute_result"
    }
   ],
   "source": [
    "i"
   ]
  },
  {
   "cell_type": "code",
   "execution_count": 10,
   "id": "1561f695-cf00-457f-bab7-0d2725c1ed48",
   "metadata": {},
   "outputs": [
    {
     "data": {
      "text/plain": [
       "True"
      ]
     },
     "execution_count": 10,
     "metadata": {},
     "output_type": "execute_result"
    }
   ],
   "source": [
    "f is i   # is f its own iterator?"
   ]
  },
  {
   "cell_type": "code",
   "execution_count": 11,
   "id": "2cdb2418-d6a1-4bf7-8302-471df209154a",
   "metadata": {},
   "outputs": [
    {
     "ename": "TypeError",
     "evalue": "'int' object is not iterable",
     "output_type": "error",
     "traceback": [
      "\u001b[0;31m---------------------------------------------------------------------------\u001b[0m",
      "\u001b[0;31mTypeError\u001b[0m                                 Traceback (most recent call last)",
      "Cell \u001b[0;32mIn[11], line 1\u001b[0m\n\u001b[0;32m----> 1\u001b[0m \u001b[38;5;28;43miter\u001b[39;49m\u001b[43m(\u001b[49m\u001b[38;5;241;43m10\u001b[39;49m\u001b[43m)\u001b[49m\n",
      "\u001b[0;31mTypeError\u001b[0m: 'int' object is not iterable"
     ]
    }
   ],
   "source": [
    "iter(10)"
   ]
  },
  {
   "cell_type": "code",
   "execution_count": 12,
   "id": "071ad142-e4b6-4896-8110-135febb4f1e1",
   "metadata": {},
   "outputs": [
    {
     "ename": "TypeError",
     "evalue": "'int' object is not iterable",
     "output_type": "error",
     "traceback": [
      "\u001b[0;31m---------------------------------------------------------------------------\u001b[0m",
      "\u001b[0;31mTypeError\u001b[0m                                 Traceback (most recent call last)",
      "Cell \u001b[0;32mIn[12], line 1\u001b[0m\n\u001b[0;32m----> 1\u001b[0m \u001b[38;5;28;43;01mfor\u001b[39;49;00m\u001b[43m \u001b[49m\u001b[43mi\u001b[49m\u001b[43m \u001b[49m\u001b[38;5;129;43;01min\u001b[39;49;00m\u001b[43m \u001b[49m\u001b[38;5;241;43m10\u001b[39;49m\u001b[43m:\u001b[49m\n\u001b[1;32m      2\u001b[0m \u001b[43m    \u001b[49m\u001b[38;5;28;43mprint\u001b[39;49m\u001b[43m(\u001b[49m\u001b[43mi\u001b[49m\u001b[43m)\u001b[49m\n",
      "\u001b[0;31mTypeError\u001b[0m: 'int' object is not iterable"
     ]
    }
   ],
   "source": [
    "for i in 10:\n",
    "    print(i)"
   ]
  },
  {
   "cell_type": "code",
   "execution_count": 16,
   "id": "fd29ad66-8d29-4879-80e4-97ba1388a4d5",
   "metadata": {},
   "outputs": [
    {
     "name": "stdout",
     "output_type": "stream",
     "text": [
      "\tIn MyIter.__init__, self.data='abcd', self.index=0\n",
      "*** First run\n",
      "\tIn MyIter.__iter__, self.data='abcd', self.index=0\n",
      "\tIn MyIter.__next__, self.data='abcd', self.index=0\n",
      "\tIn MyIter.__next__, returning a\n",
      "a\n",
      "\tIn MyIter.__next__, self.data='abcd', self.index=1\n",
      "\tIn MyIter.__next__, returning b\n",
      "b\n",
      "\tIn MyIter.__next__, self.data='abcd', self.index=2\n",
      "\tIn MyIter.__next__, returning c\n",
      "c\n",
      "\tIn MyIter.__next__, self.data='abcd', self.index=3\n",
      "\tIn MyIter.__next__, returning d\n",
      "d\n",
      "\tIn MyIter.__next__, self.data='abcd', self.index=4\n",
      "\tIn MyIter.__next__, raising StopIteration\n",
      "*** Second run\n",
      "\tIn MyIter.__iter__, self.data='abcd', self.index=4\n",
      "\tIn MyIter.__next__, self.data='abcd', self.index=4\n",
      "\tIn MyIter.__next__, raising StopIteration\n"
     ]
    }
   ],
   "source": [
    "class MyIter:\n",
    "    def __init__(self, data):\n",
    "        self.data = data\n",
    "        self.index = 0\n",
    "        print(f'\\tIn MyIter.__init__, {self.data=}, {self.index=}')\n",
    "\n",
    "    def __iter__(self):  # the job of __iter__ is to return the object's iterator, where __next__ is implemented\n",
    "        print(f'\\tIn MyIter.__iter__, {self.data=}, {self.index=}')\n",
    "        return self      # I am my own iterator!\n",
    "\n",
    "    def __next__(self):\n",
    "        print(f'\\tIn MyIter.__next__, {self.data=}, {self.index=}')\n",
    "        if self.index >= len(self.data):\n",
    "            print(f'\\tIn MyIter.__next__, raising StopIteration')\n",
    "            raise StopIteration     # stop the loop if we've gone past the end\n",
    "\n",
    "        value = self.data[self.index]\n",
    "        self.index += 1\n",
    "        print(f'\\tIn MyIter.__next__, returning {value}')\n",
    "        return value\n",
    "\n",
    "m = MyIter('abcd')\n",
    "\n",
    "print('*** First run')\n",
    "for one_item in m:\n",
    "    print(one_item)\n",
    "\n",
    "print('*** Second run')\n",
    "for one_item in m:\n",
    "    print(one_item)"
   ]
  },
  {
   "cell_type": "markdown",
   "id": "a9666019-7060-48d7-961b-d199560ad5b6",
   "metadata": {},
   "source": [
    "# Exercise: Circle\n",
    "\n",
    "1. Write a `Circle` class that takes two arguments, an iterable (`data`) and an integer (`maxtimes`).\n",
    "2. When someone iterates over an instance of `Circle`, they should get `maxtimes` results.\n",
    "3. If `maxtimes` is bigger than the length of `Circle`, then you should go back to the beginning for more values.\n",
    "\n",
    "Example:\n",
    "\n",
    "```python\n",
    "c = Circle('abcd', 7)\n",
    "\n",
    "for one_item in c:\n",
    "    print(one_item)  # a b c d a b c \n",
    "```    "
   ]
  },
  {
   "cell_type": "code",
   "execution_count": 22,
   "id": "71c43287-b680-4fe2-80bc-09c8f80b64de",
   "metadata": {},
   "outputs": [
    {
     "name": "stdout",
     "output_type": "stream",
     "text": [
      "**** first run\n",
      "a\n",
      "b\n",
      "c\n",
      "d\n",
      "a\n",
      "b\n",
      "c\n",
      "**** second run\n"
     ]
    }
   ],
   "source": [
    "class Circle:\n",
    "    def __init__(self, data, maxtimes):\n",
    "        self.data = data\n",
    "        self.maxtimes = maxtimes\n",
    "        self.index = 0\n",
    "\n",
    "    def __iter__(self):\n",
    "        return self\n",
    "\n",
    "    def __next__(self):\n",
    "        if self.index >= self.maxtimes:\n",
    "            raise StopIteration\n",
    "\n",
    "        value = self.data[self.index % len(self.data)]\n",
    "        self.index += 1\n",
    "        return value\n",
    "\n",
    "c = Circle('abcd', 7)\n",
    "\n",
    "print('**** first run')\n",
    "for one_item in c:\n",
    "    print(one_item)  \n",
    "\n",
    "print('**** second run')\n",
    "for one_item in c:\n",
    "    print(one_item)  "
   ]
  },
  {
   "cell_type": "code",
   "execution_count": 23,
   "id": "f6e6c55f-2f76-4c83-9a34-c7ca6335d9e2",
   "metadata": {},
   "outputs": [],
   "source": [
    "s = 'abcd'\n",
    "\n",
    "i1 = iter(s)\n",
    "i2 = iter(s)"
   ]
  },
  {
   "cell_type": "code",
   "execution_count": 24,
   "id": "79fd3219-e766-47c8-bcee-9c1d6d4ed77f",
   "metadata": {},
   "outputs": [
    {
     "data": {
      "text/plain": [
       "4412964096"
      ]
     },
     "execution_count": 24,
     "metadata": {},
     "output_type": "execute_result"
    }
   ],
   "source": [
    "id(i1)"
   ]
  },
  {
   "cell_type": "code",
   "execution_count": 25,
   "id": "edc49014-82c0-402e-8de7-26bf4c804e3a",
   "metadata": {},
   "outputs": [
    {
     "data": {
      "text/plain": [
       "4412956512"
      ]
     },
     "execution_count": 25,
     "metadata": {},
     "output_type": "execute_result"
    }
   ],
   "source": [
    "id(i2)"
   ]
  },
  {
   "cell_type": "code",
   "execution_count": 26,
   "id": "24d8dfee-6ae9-4b9c-a5a1-06c8ce349435",
   "metadata": {},
   "outputs": [
    {
     "data": {
      "text/plain": [
       "'a'"
      ]
     },
     "execution_count": 26,
     "metadata": {},
     "output_type": "execute_result"
    }
   ],
   "source": [
    "next(i1)"
   ]
  },
  {
   "cell_type": "code",
   "execution_count": 27,
   "id": "eb255cde-a378-4261-80a9-aeea34db08b6",
   "metadata": {},
   "outputs": [
    {
     "data": {
      "text/plain": [
       "'b'"
      ]
     },
     "execution_count": 27,
     "metadata": {},
     "output_type": "execute_result"
    }
   ],
   "source": [
    "next(i1)"
   ]
  },
  {
   "cell_type": "code",
   "execution_count": 28,
   "id": "e57bb1e2-5ddc-4885-b8af-987bf0ff686b",
   "metadata": {},
   "outputs": [
    {
     "data": {
      "text/plain": [
       "'c'"
      ]
     },
     "execution_count": 28,
     "metadata": {},
     "output_type": "execute_result"
    }
   ],
   "source": [
    "next(i1)"
   ]
  },
  {
   "cell_type": "code",
   "execution_count": 29,
   "id": "8627fd86-4953-4309-94d1-d75b078f24a9",
   "metadata": {},
   "outputs": [
    {
     "data": {
      "text/plain": [
       "'a'"
      ]
     },
     "execution_count": 29,
     "metadata": {},
     "output_type": "execute_result"
    }
   ],
   "source": [
    "next(i2)"
   ]
  },
  {
   "cell_type": "code",
   "execution_count": 30,
   "id": "d36669fb-59e4-4472-9509-40d6928af75e",
   "metadata": {},
   "outputs": [
    {
     "name": "stdout",
     "output_type": "stream",
     "text": [
      "**** first run\n",
      "a\n",
      "b\n",
      "c\n",
      "d\n",
      "a\n",
      "b\n",
      "c\n",
      "**** second run\n",
      "a\n",
      "b\n",
      "c\n",
      "d\n",
      "a\n",
      "b\n",
      "c\n"
     ]
    }
   ],
   "source": [
    "class CircleIterator:\n",
    "    def __init__(self, data, maxtimes):\n",
    "        self.data = data\n",
    "        self.maxtimes = maxtimes\n",
    "        self.index = 0\n",
    "\n",
    "    def __next__(self):\n",
    "        if self.index >= self.maxtimes:\n",
    "            raise StopIteration\n",
    "\n",
    "        value = self.data[self.index % len(self.data)]\n",
    "        self.index += 1\n",
    "        return value\n",
    "\n",
    "class Circle:\n",
    "    def __init__(self, data, maxtimes):\n",
    "        self.data = data\n",
    "        self.maxtimes = maxtimes\n",
    "\n",
    "    def __iter__(self):\n",
    "        return CircleIterator(self.data, self.maxtimes)\n",
    "\n",
    "c = Circle('abcd', 7)\n",
    "\n",
    "print('**** first run')\n",
    "for one_item in c:\n",
    "    print(one_item)  \n",
    "\n",
    "print('**** second run')\n",
    "for one_item in c:\n",
    "    print(one_item)  "
   ]
  },
  {
   "cell_type": "code",
   "execution_count": 31,
   "id": "ebd65702-5b7a-40aa-9a72-4679547fda57",
   "metadata": {},
   "outputs": [
    {
     "name": "stdout",
     "output_type": "stream",
     "text": [
      "**** first run\n",
      "a\n",
      "b\n",
      "c\n",
      "d\n",
      "a\n",
      "b\n",
      "c\n",
      "**** second run\n",
      "a\n",
      "b\n",
      "c\n",
      "d\n",
      "a\n",
      "b\n",
      "c\n"
     ]
    }
   ],
   "source": [
    "# another way -- keeping the reference to Circle\n",
    "\n",
    "class CircleIterator:\n",
    "    def __init__(self, the_circle):\n",
    "        self.the_circle = the_circle\n",
    "        self.index = 0\n",
    "\n",
    "    def __next__(self):\n",
    "        if self.index >= self.the_circle.maxtimes:\n",
    "            raise StopIteration\n",
    "\n",
    "        value = self.the_circle.data[self.index % len(self.the_circle.data)]\n",
    "        self.index += 1\n",
    "        return value\n",
    "\n",
    "class Circle:\n",
    "    def __init__(self, data, maxtimes):\n",
    "        self.data = data\n",
    "        self.maxtimes = maxtimes\n",
    "\n",
    "    def __iter__(self):\n",
    "        return CircleIterator(self)\n",
    "\n",
    "c = Circle('abcd', 7)\n",
    "\n",
    "print('**** first run')\n",
    "for one_item in c:\n",
    "    print(one_item)  \n",
    "\n",
    "print('**** second run')\n",
    "for one_item in c:\n",
    "    print(one_item)  "
   ]
  },
  {
   "cell_type": "markdown",
   "id": "2e4774b8-248e-456d-ae11-a7a153b1822f",
   "metadata": {},
   "source": [
    "# Exercise: Selective iteration\n",
    "\n",
    "1. Create an iterator, `Select`, that takes two arguments:\n",
    "    - `data`, which can be any sequence\n",
    "    - `func`, a function that returns `True` or `False`\n",
    "2. When I iterate over an instance of `Select`, I'll only get those elements of `data` for which `func` returns `True`\n",
    "3. Use a two-class iterator construct for this to work\n",
    "\n",
    "Example:\n",
    "\n",
    "```python\n",
    "s = Select([10, 15, 20, 25],\n",
    "           lambda x: x % 2 == 0)\n",
    "\n",
    "for one_item in s:\n",
    "    print(one_item)   # 10 20"
   ]
  },
  {
   "cell_type": "code",
   "execution_count": 44,
   "id": "9ca9b96a-fd3b-4673-9f30-dce4a425db68",
   "metadata": {},
   "outputs": [],
   "source": [
    "class SelectIterator:\n",
    "    def __init__(self, selector):\n",
    "        self.selector = selector\n",
    "        self.index = 0\n",
    "    \n",
    "    def __next__(self):\n",
    "        while self.index < len(self.selector.data):\n",
    "    \n",
    "            value = self.selector.data[self.index]\n",
    "            self.index += 1\n",
    "\n",
    "            if self.selector.func(value):\n",
    "                return value\n",
    "\n",
    "        raise StopIteration\n",
    "        \n",
    "class Select:\n",
    "    def __init__(self, data, func):\n",
    "        self.data = data\n",
    "        self.func = func\n",
    "\n",
    "    def __iter__(self):\n",
    "        return SelectIterator(self)\n",
    "\n"
   ]
  },
  {
   "cell_type": "code",
   "execution_count": 45,
   "id": "cc8d5e08-0e88-49a9-a8b2-21b1b164ee32",
   "metadata": {},
   "outputs": [
    {
     "name": "stdout",
     "output_type": "stream",
     "text": [
      "15\n",
      "25\n"
     ]
    }
   ],
   "source": [
    "s = Select([10, 15, 20, 25],\n",
    "           lambda x: x % 2 == 1)\n",
    "\n",
    "for one_item in s:\n",
    "    print(one_item)   # 10 20"
   ]
  },
  {
   "cell_type": "code",
   "execution_count": 47,
   "id": "78a5f927-6fec-4f9a-8777-73f577859e7b",
   "metadata": {},
   "outputs": [],
   "source": [
    "import itertools\n",
    "import string"
   ]
  },
  {
   "cell_type": "code",
   "execution_count": 48,
   "id": "c7f97276-eabb-44de-a514-17168ae9ad3b",
   "metadata": {},
   "outputs": [
    {
     "data": {
      "text/plain": [
       "'abcdefghijklmnopqrstuvwxyz'"
      ]
     },
     "execution_count": 48,
     "metadata": {},
     "output_type": "execute_result"
    }
   ],
   "source": [
    "string.ascii_lowercase"
   ]
  },
  {
   "cell_type": "code",
   "execution_count": 52,
   "id": "da187d69-b036-4065-a5e6-4b25e1533ca3",
   "metadata": {},
   "outputs": [
    {
     "name": "stdout",
     "output_type": "stream",
     "text": [
      "abcd\n",
      "abce\n",
      "abcf\n",
      "abcg\n",
      "abch\n",
      "abci\n",
      "abcj\n",
      "abck\n",
      "abcl\n",
      "abcm\n",
      "abcn\n",
      "abco\n",
      "abcp\n",
      "abcq\n",
      "abcr\n",
      "abcs\n",
      "abct\n",
      "abcu\n",
      "abcv\n",
      "abcw\n",
      "abcx\n",
      "abcy\n"
     ]
    }
   ],
   "source": [
    "c = itertools.combinations(string.ascii_lowercase, 4)\n",
    "\n",
    "for index, one_combination in enumerate(c):\n",
    "    print(''.join(one_combination))\n",
    "\n",
    "    if index > 20:\n",
    "        break"
   ]
  },
  {
   "cell_type": "code",
   "execution_count": 53,
   "id": "3d1b97b9-64e3-4220-8841-facb2b487c03",
   "metadata": {},
   "outputs": [],
   "source": [
    "# generators\n",
    "\n",
    "# the world's dumbest function\n",
    "\n",
    "def myfunc():\n",
    "    return 1\n",
    "    return 2\n",
    "    return 3"
   ]
  },
  {
   "cell_type": "code",
   "execution_count": 54,
   "id": "fd855a9d-6574-49cc-a05c-df0b97d2858b",
   "metadata": {},
   "outputs": [
    {
     "data": {
      "text/plain": [
       "1"
      ]
     },
     "execution_count": 54,
     "metadata": {},
     "output_type": "execute_result"
    }
   ],
   "source": [
    "myfunc()"
   ]
  },
  {
   "cell_type": "code",
   "execution_count": 55,
   "id": "ff0e8abb-386d-4b95-9a2b-8c819e097767",
   "metadata": {},
   "outputs": [],
   "source": [
    "import dis"
   ]
  },
  {
   "cell_type": "code",
   "execution_count": 56,
   "id": "22ce6576-7b9c-4d2e-9db7-e7c46f8dec2b",
   "metadata": {},
   "outputs": [
    {
     "name": "stdout",
     "output_type": "stream",
     "text": [
      "  5           0 RESUME                   0\n",
      "\n",
      "  6           2 RETURN_CONST             1 (1)\n"
     ]
    }
   ],
   "source": [
    "dis.dis(myfunc)"
   ]
  },
  {
   "cell_type": "code",
   "execution_count": 57,
   "id": "f947755f-3906-4a29-b2e8-82e352b19e8d",
   "metadata": {},
   "outputs": [],
   "source": [
    "# let's do another function that seems very similar\n",
    "\n",
    "def myfunc():\n",
    "    yield 1\n",
    "    yield 2\n",
    "    yield 3"
   ]
  },
  {
   "cell_type": "code",
   "execution_count": 58,
   "id": "812c8665-a3c0-4c95-b95b-a521494e117d",
   "metadata": {},
   "outputs": [
    {
     "data": {
      "text/plain": [
       "<generator object myfunc at 0x1076203b0>"
      ]
     },
     "execution_count": 58,
     "metadata": {},
     "output_type": "execute_result"
    }
   ],
   "source": [
    "myfunc()   # what will we get back? answer... a generator object"
   ]
  },
  {
   "cell_type": "markdown",
   "id": "e89782f1-73b7-4c71-aee4-4db9bb8bbe68",
   "metadata": {},
   "source": [
    "# Generators\n",
    "\n",
    "A generator is an object that supports the iterator protocol. In other words, we can put it in a `for` loop, and/or we can use `iter` and `next` on it to get the next values.\n",
    "\n",
    "We typically create a generator using a \"generator function,\" a function that instead of using `return` uses the `yield` keyword. `yield` basically means: (a) return the current value to the caller and (b) go to sleep at this point in the program.\n",
    "\n",
    "When `next` is next invoked on the generator, it \"wake up\" at the point it went to sleep, and continues as if nothing had happened. All of the local variables are stil intact, and it can keep running.\n",
    "\n",
    "Generators allow us to express ideas as functions, rather than as classes. There are many instances where that turns out to be easier and clearer."
   ]
  },
  {
   "cell_type": "code",
   "execution_count": 59,
   "id": "f308aee8-1749-4f58-8efa-a151b5730aa2",
   "metadata": {},
   "outputs": [],
   "source": [
    "g = myfunc()"
   ]
  },
  {
   "cell_type": "code",
   "execution_count": 60,
   "id": "ad4f9f78-d950-45f2-bdac-06f35c6a35d4",
   "metadata": {},
   "outputs": [
    {
     "data": {
      "text/plain": [
       "1"
      ]
     },
     "execution_count": 60,
     "metadata": {},
     "output_type": "execute_result"
    }
   ],
   "source": [
    "next(g)"
   ]
  },
  {
   "cell_type": "code",
   "execution_count": 61,
   "id": "cecf0d69-4d26-4fa1-abb3-08a009d3c7b2",
   "metadata": {},
   "outputs": [
    {
     "data": {
      "text/plain": [
       "2"
      ]
     },
     "execution_count": 61,
     "metadata": {},
     "output_type": "execute_result"
    }
   ],
   "source": [
    "next(g)"
   ]
  },
  {
   "cell_type": "code",
   "execution_count": 62,
   "id": "5a4bebdb-1c8c-4794-ba0f-2e6d1703661b",
   "metadata": {},
   "outputs": [
    {
     "data": {
      "text/plain": [
       "3"
      ]
     },
     "execution_count": 62,
     "metadata": {},
     "output_type": "execute_result"
    }
   ],
   "source": [
    "next(g)"
   ]
  },
  {
   "cell_type": "code",
   "execution_count": 63,
   "id": "7220cf2a-7afc-41d2-a849-b532e89d8ea0",
   "metadata": {},
   "outputs": [
    {
     "ename": "StopIteration",
     "evalue": "",
     "output_type": "error",
     "traceback": [
      "\u001b[0;31m---------------------------------------------------------------------------\u001b[0m",
      "\u001b[0;31mStopIteration\u001b[0m                             Traceback (most recent call last)",
      "Cell \u001b[0;32mIn[63], line 1\u001b[0m\n\u001b[0;32m----> 1\u001b[0m \u001b[38;5;28;43mnext\u001b[39;49m\u001b[43m(\u001b[49m\u001b[43mg\u001b[49m\u001b[43m)\u001b[49m\n",
      "\u001b[0;31mStopIteration\u001b[0m: "
     ]
    }
   ],
   "source": [
    "next(g)"
   ]
  },
  {
   "cell_type": "code",
   "execution_count": 65,
   "id": "96837e44-b2de-40b1-b6d9-2e012e4f31cf",
   "metadata": {},
   "outputs": [
    {
     "name": "stdout",
     "output_type": "stream",
     "text": [
      "0 1 1 2 3 5 8 13 21 34 55 89 144 233 377 610 987 1597 2584 4181 6765 10946 17711 28657 46368 75025 121393 196418 317811 514229 832040 1346269 2178309 3524578 5702887 9227465 14930352 24157817 39088169 63245986 102334155 165580141 267914296 433494437 701408733 1134903170 1836311903 2971215073 4807526976 7778742049 12586269025 20365011074 32951280099 53316291173 86267571272 139583862445 "
     ]
    }
   ],
   "source": [
    "# Fibonacci sequence\n",
    "\n",
    "def fib():\n",
    "    first = 0\n",
    "    second = 1\n",
    "\n",
    "    while True:\n",
    "        yield first\n",
    "        first, second = second, first+second\n",
    "\n",
    "for one_number in fib():\n",
    "    print(one_number, end=' ')\n",
    "\n",
    "    if one_number > 100_000_000_000:\n",
    "        break"
   ]
  },
  {
   "cell_type": "code",
   "execution_count": 66,
   "id": "982806af-e038-4ff9-a100-f33394bc9153",
   "metadata": {},
   "outputs": [],
   "source": [
    "# this would be a very bad idea:\n",
    "\n",
    "# list(fib())"
   ]
  },
  {
   "cell_type": "code",
   "execution_count": 67,
   "id": "fffa942f-b811-4a7e-9c19-4f4e480a3676",
   "metadata": {},
   "outputs": [
    {
     "name": "stdout",
     "output_type": "stream",
     "text": [
      "a\n",
      "b\n",
      "c\n",
      "d\n",
      "10\n",
      "20\n",
      "30\n",
      "e\n",
      "f\n",
      "g\n",
      "h\n"
     ]
    }
   ],
   "source": [
    "# one of the functions in itertools is called \"chain\"\n",
    "\n",
    "for one_item in itertools.chain('abcd', [10, 20, 30], 'efgh'):\n",
    "    print(one_item)"
   ]
  },
  {
   "cell_type": "code",
   "execution_count": 68,
   "id": "4a001d4f-afc0-4aa3-aac6-5e1f18cd8a64",
   "metadata": {},
   "outputs": [
    {
     "name": "stdout",
     "output_type": "stream",
     "text": [
      "a\n",
      "b\n",
      "c\n",
      "d\n",
      "10\n",
      "20\n",
      "30\n",
      "e\n",
      "f\n",
      "g\n",
      "h\n"
     ]
    }
   ],
   "source": [
    "# how could we implement chain ourselves?\n",
    "\n",
    "def mychain(*args):\n",
    "    for one_arg in args:            # go through each argument\n",
    "        for one_item in one_arg:    # go through each element in this argument\n",
    "            yield one_item          # return the current value, and go to sleep until next is called \n",
    "\n",
    "for one_item in mychain('abcd', [10, 20, 30], 'efgh'):\n",
    "    print(one_item)"
   ]
  },
  {
   "cell_type": "code",
   "execution_count": 69,
   "id": "a1964346-8490-4515-a181-c3272f88cc9f",
   "metadata": {},
   "outputs": [],
   "source": [
    "def file_words(filename):\n",
    "    for one_line in open(filename):\n",
    "        for one_word in one_line.split():\n",
    "            yield one_word"
   ]
  },
  {
   "cell_type": "code",
   "execution_count": 71,
   "id": "82960669-6c27-4914-a260-7637e3e9f026",
   "metadata": {},
   "outputs": [],
   "source": [
    "g = file_words('myfile.txt')"
   ]
  },
  {
   "cell_type": "code",
   "execution_count": 72,
   "id": "7103f4a6-368a-4660-967a-e91a522ff4c7",
   "metadata": {},
   "outputs": [
    {
     "data": {
      "text/plain": [
       "'this'"
      ]
     },
     "execution_count": 72,
     "metadata": {},
     "output_type": "execute_result"
    }
   ],
   "source": [
    "next(g)"
   ]
  },
  {
   "cell_type": "code",
   "execution_count": 81,
   "id": "d9cad5ab-771b-40f0-b523-32cd325313de",
   "metadata": {},
   "outputs": [
    {
     "ename": "StopIteration",
     "evalue": "",
     "output_type": "error",
     "traceback": [
      "\u001b[0;31m---------------------------------------------------------------------------\u001b[0m",
      "\u001b[0;31mStopIteration\u001b[0m                             Traceback (most recent call last)",
      "Cell \u001b[0;32mIn[81], line 1\u001b[0m\n\u001b[0;32m----> 1\u001b[0m \u001b[38;5;28;43mnext\u001b[39;49m\u001b[43m(\u001b[49m\u001b[43mg\u001b[49m\u001b[43m)\u001b[49m\n",
      "\u001b[0;31mStopIteration\u001b[0m: "
     ]
    }
   ],
   "source": [
    "next(g)"
   ]
  },
  {
   "cell_type": "code",
   "execution_count": null,
   "id": "3199d5ca-2836-4f16-8920-b4d46dc5adf2",
   "metadata": {},
   "outputs": [],
   "source": []
  },
  {
   "cell_type": "code",
   "execution_count": null,
   "id": "73cf55b1-091b-4784-9604-17d331b02a79",
   "metadata": {},
   "outputs": [],
   "source": []
  }
 ],
 "metadata": {
  "kernelspec": {
   "display_name": "Python 3 (ipykernel)",
   "language": "python",
   "name": "python3"
  },
  "language_info": {
   "codemirror_mode": {
    "name": "ipython",
    "version": 3
   },
   "file_extension": ".py",
   "mimetype": "text/x-python",
   "name": "python",
   "nbconvert_exporter": "python",
   "pygments_lexer": "ipython3",
   "version": "3.12.1"
  }
 },
 "nbformat": 4,
 "nbformat_minor": 5
}
