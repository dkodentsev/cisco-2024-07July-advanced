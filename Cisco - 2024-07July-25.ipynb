{
 "cells": [
  {
   "cell_type": "markdown",
   "id": "3e04fc1e-8769-461e-921e-a452bb682b67",
   "metadata": {},
   "source": [
    "# Agenda\n",
    "\n",
    "1. Iterators and the iterator protocol\n",
    "    - The protocol itself\n",
    "    - Making our classes iterable\n",
    "    - Generators and generator functions\n",
    "    - Generator expressions / generator comprehensions\n",
    "    - `itertools`\n",
    "2. Decorators\n",
    "3. Concurrency\n",
    "    - Threads\n",
    "    - Multiprocessing\n",
    "    - `asyncio`\n"
   ]
  },
  {
   "cell_type": "markdown",
   "id": "c6718aad-ebfd-445f-9043-527adb1c3211",
   "metadata": {},
   "source": [
    "# Iterators\n",
    "\n",
    "We know that we can put many different data types into a `for` loop:\n",
    "\n",
    "- Strings, and we get one character per iteration\n",
    "- Lists or tuples, one element per iteration\n",
    "- Dicts, one key per iteration\n",
    "- Files, one line per iteration\n",
    "\n"
   ]
  },
  {
   "cell_type": "code",
   "execution_count": 1,
   "id": "578594f3-7a50-4649-87b1-82db4503c967",
   "metadata": {},
   "outputs": [
    {
     "name": "stdout",
     "output_type": "stream",
     "text": [
      "a\n",
      "b\n",
      "c\n",
      "d\n"
     ]
    }
   ],
   "source": [
    "for one_character in 'abcd':\n",
    "    print(one_character)"
   ]
  },
  {
   "cell_type": "markdown",
   "id": "c3c1a704-2a7b-4cf0-be10-b578d41e89f1",
   "metadata": {},
   "source": [
    "# Iterator protocol\n",
    "\n",
    "1. `for` turns to the object at the end of the line, and asks: Are you iterable? (`iter`)\n",
    "    - If not, then we exit with a `TypeError` exception\n",
    "2. If so, then we get an iteator object back, to which `for` says: Give me your next value (`next`)\n",
    "    - If there are no more values, then the loop exits (becuse `next` raised the `StopIteration` exception)\n",
    "3. The next value is assigned to the loop variable (`one_character`)\n",
    "4. The loop body executes with that assignment\n",
    "5. We return to step 2"
   ]
  },
  {
   "cell_type": "code",
   "execution_count": 2,
   "id": "8e923c03-552a-4236-a710-6969590ccee9",
   "metadata": {},
   "outputs": [
    {
     "data": {
      "text/plain": [
       "str_ascii_iterator"
      ]
     },
     "execution_count": 2,
     "metadata": {},
     "output_type": "execute_result"
    }
   ],
   "source": [
    "s = 'abcd'\n",
    "\n",
    "i = iter(s)\n",
    "type(i)"
   ]
  },
  {
   "cell_type": "code",
   "execution_count": 3,
   "id": "74657b6a-d10e-4caa-a69a-9cb8ebb376df",
   "metadata": {},
   "outputs": [
    {
     "data": {
      "text/plain": [
       "'a'"
      ]
     },
     "execution_count": 3,
     "metadata": {},
     "output_type": "execute_result"
    }
   ],
   "source": [
    "next(i)"
   ]
  },
  {
   "cell_type": "code",
   "execution_count": 4,
   "id": "bf296862-d60e-44b4-b98c-b2a597d29865",
   "metadata": {},
   "outputs": [
    {
     "data": {
      "text/plain": [
       "'b'"
      ]
     },
     "execution_count": 4,
     "metadata": {},
     "output_type": "execute_result"
    }
   ],
   "source": [
    "next(i)"
   ]
  },
  {
   "cell_type": "code",
   "execution_count": 5,
   "id": "7de0107f-75be-4072-9759-c67da67636ab",
   "metadata": {},
   "outputs": [
    {
     "data": {
      "text/plain": [
       "'c'"
      ]
     },
     "execution_count": 5,
     "metadata": {},
     "output_type": "execute_result"
    }
   ],
   "source": [
    "next(i)"
   ]
  },
  {
   "cell_type": "code",
   "execution_count": 6,
   "id": "dbfff3f0-d281-4a68-b311-f14bfd5b4701",
   "metadata": {},
   "outputs": [
    {
     "data": {
      "text/plain": [
       "'d'"
      ]
     },
     "execution_count": 6,
     "metadata": {},
     "output_type": "execute_result"
    }
   ],
   "source": [
    "next(i)"
   ]
  },
  {
   "cell_type": "code",
   "execution_count": 7,
   "id": "5a48ec0a-2ee8-42c1-af26-30f0d2305195",
   "metadata": {},
   "outputs": [
    {
     "ename": "StopIteration",
     "evalue": "",
     "output_type": "error",
     "traceback": [
      "\u001b[0;31m---------------------------------------------------------------------------\u001b[0m",
      "\u001b[0;31mStopIteration\u001b[0m                             Traceback (most recent call last)",
      "Cell \u001b[0;32mIn[7], line 1\u001b[0m\n\u001b[0;32m----> 1\u001b[0m \u001b[38;5;28;43mnext\u001b[39;49m\u001b[43m(\u001b[49m\u001b[43mi\u001b[49m\u001b[43m)\u001b[49m\n",
      "\u001b[0;31mStopIteration\u001b[0m: "
     ]
    }
   ],
   "source": [
    "next(i)"
   ]
  },
  {
   "cell_type": "code",
   "execution_count": null,
   "id": "4c8ba54b-6602-46ef-9ae9-426d65997c8f",
   "metadata": {},
   "outputs": [],
   "source": []
  }
 ],
 "metadata": {
  "kernelspec": {
   "display_name": "Python 3 (ipykernel)",
   "language": "python",
   "name": "python3"
  },
  "language_info": {
   "codemirror_mode": {
    "name": "ipython",
    "version": 3
   },
   "file_extension": ".py",
   "mimetype": "text/x-python",
   "name": "python",
   "nbconvert_exporter": "python",
   "pygments_lexer": "ipython3",
   "version": "3.12.1"
  }
 },
 "nbformat": 4,
 "nbformat_minor": 5
}
