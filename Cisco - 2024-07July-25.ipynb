{
 "cells": [
  {
   "cell_type": "markdown",
   "id": "3e04fc1e-8769-461e-921e-a452bb682b67",
   "metadata": {},
   "source": [
    "# Agenda\n",
    "\n",
    "1. Iterators and the iterator protocol\n",
    "    - The protocol itself\n",
    "    - Making our classes iterable\n",
    "    - Generators and generator functions\n",
    "    - Generator expressions / generator comprehensions\n",
    "    - `itertools`\n",
    "2. Decorators\n",
    "3. Concurrency\n",
    "    - Threads\n",
    "    - Multiprocessing\n",
    "    - `asyncio`\n"
   ]
  },
  {
   "cell_type": "markdown",
   "id": "c6718aad-ebfd-445f-9043-527adb1c3211",
   "metadata": {},
   "source": [
    "# Iterators\n",
    "\n",
    "We know that we can put many different data types into a `for` loop:\n",
    "\n",
    "- Strings, and we get one character per iteration\n",
    "- Lists or tuples, one element per iteration\n",
    "- Dicts, one key per iteration\n",
    "- Files, one line per iteration\n",
    "\n"
   ]
  },
  {
   "cell_type": "code",
   "execution_count": 1,
   "id": "578594f3-7a50-4649-87b1-82db4503c967",
   "metadata": {},
   "outputs": [
    {
     "name": "stdout",
     "output_type": "stream",
     "text": [
      "a\n",
      "b\n",
      "c\n",
      "d\n"
     ]
    }
   ],
   "source": [
    "for one_character in 'abcd':\n",
    "    print(one_character)"
   ]
  },
  {
   "cell_type": "markdown",
   "id": "c3c1a704-2a7b-4cf0-be10-b578d41e89f1",
   "metadata": {},
   "source": [
    "# Iterator protocol\n",
    "\n",
    "1. `for` turns to the object at the end of the line, and asks: Are you iterable? (`iter`)\n",
    "    - If not, then we exit with a `TypeError` exception\n",
    "2. If so, then we get an iteator object back, to which `for` says: Give me your next value (`next`)\n",
    "    - If there are no more values, then the loop exits (becuse `next` raised the `StopIteration` exception)\n",
    "3. The next value is assigned to the loop variable (`one_character`)\n",
    "4. The loop body executes with that assignment\n",
    "5. We return to step 2"
   ]
  },
  {
   "cell_type": "code",
   "execution_count": 2,
   "id": "8e923c03-552a-4236-a710-6969590ccee9",
   "metadata": {},
   "outputs": [
    {
     "data": {
      "text/plain": [
       "str_ascii_iterator"
      ]
     },
     "execution_count": 2,
     "metadata": {},
     "output_type": "execute_result"
    }
   ],
   "source": [
    "s = 'abcd'\n",
    "\n",
    "i = iter(s)\n",
    "type(i)"
   ]
  },
  {
   "cell_type": "code",
   "execution_count": 3,
   "id": "74657b6a-d10e-4caa-a69a-9cb8ebb376df",
   "metadata": {},
   "outputs": [
    {
     "data": {
      "text/plain": [
       "'a'"
      ]
     },
     "execution_count": 3,
     "metadata": {},
     "output_type": "execute_result"
    }
   ],
   "source": [
    "next(i)"
   ]
  },
  {
   "cell_type": "code",
   "execution_count": 4,
   "id": "bf296862-d60e-44b4-b98c-b2a597d29865",
   "metadata": {},
   "outputs": [
    {
     "data": {
      "text/plain": [
       "'b'"
      ]
     },
     "execution_count": 4,
     "metadata": {},
     "output_type": "execute_result"
    }
   ],
   "source": [
    "next(i)"
   ]
  },
  {
   "cell_type": "code",
   "execution_count": 5,
   "id": "7de0107f-75be-4072-9759-c67da67636ab",
   "metadata": {},
   "outputs": [
    {
     "data": {
      "text/plain": [
       "'c'"
      ]
     },
     "execution_count": 5,
     "metadata": {},
     "output_type": "execute_result"
    }
   ],
   "source": [
    "next(i)"
   ]
  },
  {
   "cell_type": "code",
   "execution_count": 6,
   "id": "dbfff3f0-d281-4a68-b311-f14bfd5b4701",
   "metadata": {},
   "outputs": [
    {
     "data": {
      "text/plain": [
       "'d'"
      ]
     },
     "execution_count": 6,
     "metadata": {},
     "output_type": "execute_result"
    }
   ],
   "source": [
    "next(i)"
   ]
  },
  {
   "cell_type": "code",
   "execution_count": 7,
   "id": "5a48ec0a-2ee8-42c1-af26-30f0d2305195",
   "metadata": {},
   "outputs": [
    {
     "ename": "StopIteration",
     "evalue": "",
     "output_type": "error",
     "traceback": [
      "\u001b[0;31m---------------------------------------------------------------------------\u001b[0m",
      "\u001b[0;31mStopIteration\u001b[0m                             Traceback (most recent call last)",
      "Cell \u001b[0;32mIn[7], line 1\u001b[0m\n\u001b[0;32m----> 1\u001b[0m \u001b[38;5;28;43mnext\u001b[39;49m\u001b[43m(\u001b[49m\u001b[43mi\u001b[49m\u001b[43m)\u001b[49m\n",
      "\u001b[0;31mStopIteration\u001b[0m: "
     ]
    }
   ],
   "source": [
    "next(i)"
   ]
  },
  {
   "cell_type": "code",
   "execution_count": 8,
   "id": "4c8ba54b-6602-46ef-9ae9-426d65997c8f",
   "metadata": {},
   "outputs": [],
   "source": [
    "f = open('/etc/passwd')\n",
    "i = iter(f)"
   ]
  },
  {
   "cell_type": "code",
   "execution_count": 9,
   "id": "6cb82841-7ef8-4a79-bc32-1688cc4bc7cc",
   "metadata": {},
   "outputs": [
    {
     "data": {
      "text/plain": [
       "<_io.TextIOWrapper name='/etc/passwd' mode='r' encoding='UTF-8'>"
      ]
     },
     "execution_count": 9,
     "metadata": {},
     "output_type": "execute_result"
    }
   ],
   "source": [
    "i"
   ]
  },
  {
   "cell_type": "code",
   "execution_count": 10,
   "id": "1561f695-cf00-457f-bab7-0d2725c1ed48",
   "metadata": {},
   "outputs": [
    {
     "data": {
      "text/plain": [
       "True"
      ]
     },
     "execution_count": 10,
     "metadata": {},
     "output_type": "execute_result"
    }
   ],
   "source": [
    "f is i   # is f its own iterator?"
   ]
  },
  {
   "cell_type": "code",
   "execution_count": 11,
   "id": "2cdb2418-d6a1-4bf7-8302-471df209154a",
   "metadata": {},
   "outputs": [
    {
     "ename": "TypeError",
     "evalue": "'int' object is not iterable",
     "output_type": "error",
     "traceback": [
      "\u001b[0;31m---------------------------------------------------------------------------\u001b[0m",
      "\u001b[0;31mTypeError\u001b[0m                                 Traceback (most recent call last)",
      "Cell \u001b[0;32mIn[11], line 1\u001b[0m\n\u001b[0;32m----> 1\u001b[0m \u001b[38;5;28;43miter\u001b[39;49m\u001b[43m(\u001b[49m\u001b[38;5;241;43m10\u001b[39;49m\u001b[43m)\u001b[49m\n",
      "\u001b[0;31mTypeError\u001b[0m: 'int' object is not iterable"
     ]
    }
   ],
   "source": [
    "iter(10)"
   ]
  },
  {
   "cell_type": "code",
   "execution_count": 12,
   "id": "071ad142-e4b6-4896-8110-135febb4f1e1",
   "metadata": {},
   "outputs": [
    {
     "ename": "TypeError",
     "evalue": "'int' object is not iterable",
     "output_type": "error",
     "traceback": [
      "\u001b[0;31m---------------------------------------------------------------------------\u001b[0m",
      "\u001b[0;31mTypeError\u001b[0m                                 Traceback (most recent call last)",
      "Cell \u001b[0;32mIn[12], line 1\u001b[0m\n\u001b[0;32m----> 1\u001b[0m \u001b[38;5;28;43;01mfor\u001b[39;49;00m\u001b[43m \u001b[49m\u001b[43mi\u001b[49m\u001b[43m \u001b[49m\u001b[38;5;129;43;01min\u001b[39;49;00m\u001b[43m \u001b[49m\u001b[38;5;241;43m10\u001b[39;49m\u001b[43m:\u001b[49m\n\u001b[1;32m      2\u001b[0m \u001b[43m    \u001b[49m\u001b[38;5;28;43mprint\u001b[39;49m\u001b[43m(\u001b[49m\u001b[43mi\u001b[49m\u001b[43m)\u001b[49m\n",
      "\u001b[0;31mTypeError\u001b[0m: 'int' object is not iterable"
     ]
    }
   ],
   "source": [
    "for i in 10:\n",
    "    print(i)"
   ]
  },
  {
   "cell_type": "code",
   "execution_count": 16,
   "id": "fd29ad66-8d29-4879-80e4-97ba1388a4d5",
   "metadata": {},
   "outputs": [
    {
     "name": "stdout",
     "output_type": "stream",
     "text": [
      "\tIn MyIter.__init__, self.data='abcd', self.index=0\n",
      "*** First run\n",
      "\tIn MyIter.__iter__, self.data='abcd', self.index=0\n",
      "\tIn MyIter.__next__, self.data='abcd', self.index=0\n",
      "\tIn MyIter.__next__, returning a\n",
      "a\n",
      "\tIn MyIter.__next__, self.data='abcd', self.index=1\n",
      "\tIn MyIter.__next__, returning b\n",
      "b\n",
      "\tIn MyIter.__next__, self.data='abcd', self.index=2\n",
      "\tIn MyIter.__next__, returning c\n",
      "c\n",
      "\tIn MyIter.__next__, self.data='abcd', self.index=3\n",
      "\tIn MyIter.__next__, returning d\n",
      "d\n",
      "\tIn MyIter.__next__, self.data='abcd', self.index=4\n",
      "\tIn MyIter.__next__, raising StopIteration\n",
      "*** Second run\n",
      "\tIn MyIter.__iter__, self.data='abcd', self.index=4\n",
      "\tIn MyIter.__next__, self.data='abcd', self.index=4\n",
      "\tIn MyIter.__next__, raising StopIteration\n"
     ]
    }
   ],
   "source": [
    "class MyIter:\n",
    "    def __init__(self, data):\n",
    "        self.data = data\n",
    "        self.index = 0\n",
    "        print(f'\\tIn MyIter.__init__, {self.data=}, {self.index=}')\n",
    "\n",
    "    def __iter__(self):  # the job of __iter__ is to return the object's iterator, where __next__ is implemented\n",
    "        print(f'\\tIn MyIter.__iter__, {self.data=}, {self.index=}')\n",
    "        return self      # I am my own iterator!\n",
    "\n",
    "    def __next__(self):\n",
    "        print(f'\\tIn MyIter.__next__, {self.data=}, {self.index=}')\n",
    "        if self.index >= len(self.data):\n",
    "            print(f'\\tIn MyIter.__next__, raising StopIteration')\n",
    "            raise StopIteration     # stop the loop if we've gone past the end\n",
    "\n",
    "        value = self.data[self.index]\n",
    "        self.index += 1\n",
    "        print(f'\\tIn MyIter.__next__, returning {value}')\n",
    "        return value\n",
    "\n",
    "m = MyIter('abcd')\n",
    "\n",
    "print('*** First run')\n",
    "for one_item in m:\n",
    "    print(one_item)\n",
    "\n",
    "print('*** Second run')\n",
    "for one_item in m:\n",
    "    print(one_item)"
   ]
  },
  {
   "cell_type": "markdown",
   "id": "a9666019-7060-48d7-961b-d199560ad5b6",
   "metadata": {},
   "source": [
    "# Exercise: Circle\n",
    "\n",
    "1. Write a `Circle` class that takes two arguments, an iterable (`data`) and an integer (`maxtimes`).\n",
    "2. When someone iterates over an instance of `Circle`, they should get `maxtimes` results.\n",
    "3. If `maxtimes` is bigger than the length of `Circle`, then you should go back to the beginning for more values.\n",
    "\n",
    "Example:\n",
    "\n",
    "```python\n",
    "c = Circle('abcd', 7)\n",
    "\n",
    "for one_item in c:\n",
    "    print(one_item)  # a b c d a b c \n",
    "```    "
   ]
  },
  {
   "cell_type": "code",
   "execution_count": null,
   "id": "71c43287-b680-4fe2-80bc-09c8f80b64de",
   "metadata": {},
   "outputs": [],
   "source": [
    "class Circle:\n",
    "    def __init__(self, data, maxtimes):\n",
    "        self.data = data\n",
    "        self.maxtimes = maxtimes\n",
    "        self.index = 0\n",
    "\n",
    "    def __iter__(self):\n",
    "        return self\n",
    "\n",
    "    def __next__(self):\n",
    "        if self.index >= len(self.data):\n",
    "            raise StopIteration\n",
    "\n",
    "        value = self.data[self.index]\n",
    "        self.index += 1\n",
    "        return "
   ]
  }
 ],
 "metadata": {
  "kernelspec": {
   "display_name": "Python 3 (ipykernel)",
   "language": "python",
   "name": "python3"
  },
  "language_info": {
   "codemirror_mode": {
    "name": "ipython",
    "version": 3
   },
   "file_extension": ".py",
   "mimetype": "text/x-python",
   "name": "python",
   "nbconvert_exporter": "python",
   "pygments_lexer": "ipython3",
   "version": "3.12.1"
  }
 },
 "nbformat": 4,
 "nbformat_minor": 5
}
