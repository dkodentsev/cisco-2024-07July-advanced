{
 "cells": [
  {
   "cell_type": "markdown",
   "id": "3e04fc1e-8769-461e-921e-a452bb682b67",
   "metadata": {},
   "source": [
    "# Agenda\n",
    "\n",
    "1. Iterators and the iterator protocol\n",
    "    - The protocol itself\n",
    "    - Making our classes iterable\n",
    "    - Generators and generator functions\n",
    "    - Generator expressions / generator comprehensions\n",
    "    - `itertools`\n",
    "2. Decorators\n",
    "3. Concurrency\n",
    "    - Threads\n",
    "    - Multiprocessing\n",
    "    - `asyncio`\n"
   ]
  },
  {
   "cell_type": "markdown",
   "id": "c6718aad-ebfd-445f-9043-527adb1c3211",
   "metadata": {},
   "source": [
    "# Iterators\n",
    "\n",
    "We know that we can put many different data types into a `for` loop:\n",
    "\n",
    "- Strings, and we get one character per iteration\n",
    "- Lists or tuples, one element per iteration\n",
    "- Dicts, one key per iteration\n",
    "- Files, one line per iteration\n",
    "\n"
   ]
  },
  {
   "cell_type": "code",
   "execution_count": null,
   "id": "578594f3-7a50-4649-87b1-82db4503c967",
   "metadata": {},
   "outputs": [],
   "source": [
    "for one_character in 'abcd':\n",
    "    print(one_character)"
   ]
  }
 ],
 "metadata": {
  "kernelspec": {
   "display_name": "Python 3 (ipykernel)",
   "language": "python",
   "name": "python3"
  },
  "language_info": {
   "codemirror_mode": {
    "name": "ipython",
    "version": 3
   },
   "file_extension": ".py",
   "mimetype": "text/x-python",
   "name": "python",
   "nbconvert_exporter": "python",
   "pygments_lexer": "ipython3",
   "version": "3.12.1"
  }
 },
 "nbformat": 4,
 "nbformat_minor": 5
}
