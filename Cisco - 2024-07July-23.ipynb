{
 "cells": [
  {
   "cell_type": "markdown",
   "metadata": {},
   "source": [
    "# Agenda\n",
    "\n",
    "0. Q&A\n",
    "1. `**kwargs` and other parameter types\n",
    "2. Scoping (LEGB)\n",
    "3. Enclosing functions\n",
    "4. Dispatch tables\n",
    "5. Comprehensions\n",
    "6. Sorting and `lambda` (and passing functions as arguments to other functions)"
   ]
  },
  {
   "cell_type": "code",
   "execution_count": 1,
   "metadata": {},
   "outputs": [
    {
     "data": {
      "text/plain": [
       "0"
      ]
     },
     "execution_count": 1,
     "metadata": {},
     "output_type": "execute_result"
    }
   ],
   "source": [
    "d = {}\n",
    "d['a'] = 10\n",
    "hash('a') % 8"
   ]
  },
  {
   "cell_type": "code",
   "execution_count": 2,
   "metadata": {},
   "outputs": [
    {
     "data": {
      "text/plain": [
       "2"
      ]
     },
     "execution_count": 2,
     "metadata": {},
     "output_type": "execute_result"
    }
   ],
   "source": [
    "hash('b') % 8"
   ]
  },
  {
   "cell_type": "code",
   "execution_count": 3,
   "metadata": {},
   "outputs": [
    {
     "data": {
      "text/plain": [
       "6"
      ]
     },
     "execution_count": 3,
     "metadata": {},
     "output_type": "execute_result"
    }
   ],
   "source": [
    "hash('c') % 8"
   ]
  },
  {
   "cell_type": "code",
   "execution_count": 4,
   "metadata": {},
   "outputs": [
    {
     "data": {
      "text/plain": [
       "3"
      ]
     },
     "execution_count": 4,
     "metadata": {},
     "output_type": "execute_result"
    }
   ],
   "source": [
    "hash('d') % 8"
   ]
  },
  {
   "cell_type": "code",
   "execution_count": 5,
   "metadata": {},
   "outputs": [
    {
     "name": "stdout",
     "output_type": "stream",
     "text": [
      "a: 0\n",
      "b: 2\n",
      "c: 6\n",
      "d: 3\n",
      "e: 0\n",
      "f: 5\n",
      "g: 6\n",
      "h: 0\n",
      "i: 6\n",
      "j: 4\n"
     ]
    }
   ],
   "source": [
    "for one_letter in 'abcdefghij':\n",
    "    print(f'{one_letter}: {hash(one_letter) % 8}')"
   ]
  },
  {
   "cell_type": "code",
   "execution_count": 6,
   "metadata": {},
   "outputs": [],
   "source": [
    "d['e'] = 500"
   ]
  },
  {
   "cell_type": "code",
   "execution_count": 7,
   "metadata": {},
   "outputs": [
    {
     "data": {
      "text/plain": [
       "{'a': 10, 'b': 400, 'c': 900, 'd': 1600}"
      ]
     },
     "execution_count": 7,
     "metadata": {},
     "output_type": "execute_result"
    }
   ],
   "source": [
    "d = {'a':10, 'b':20, 'c':30}\n",
    "\n",
    "new_stuff = {'b':400, 'c':900, 'd':1600}\n",
    "\n",
    "d.update(new_stuff)   # this modifies d, the \"receiving\" dict, to take all key-value pairs from new_stuff\n",
    "\n",
    "d"
   ]
  },
  {
   "cell_type": "code",
   "execution_count": 8,
   "metadata": {},
   "outputs": [
    {
     "data": {
      "text/plain": [
       "{'a': 10, 'b': 400, 'c': 900, 'd': 1600}"
      ]
     },
     "execution_count": 8,
     "metadata": {},
     "output_type": "execute_result"
    }
   ],
   "source": [
    "d = {'a':10, 'b':20, 'c':30}\n",
    "new_stuff = {'b':400, 'c':900, 'd':1600}\n",
    "\n",
    "# we can, as of 3.10 (?), use the | operator \n",
    "\n",
    "d | new_stuff   # this returns a new dict based merging d + new_stuff together, but doesn't modify d or new_stuff"
   ]
  },
  {
   "cell_type": "code",
   "execution_count": 9,
   "metadata": {},
   "outputs": [
    {
     "data": {
      "text/plain": [
       "{'a': 10, 'b': 20, 'c': 30}"
      ]
     },
     "execution_count": 9,
     "metadata": {},
     "output_type": "execute_result"
    }
   ],
   "source": [
    "d"
   ]
  },
  {
   "cell_type": "code",
   "execution_count": 10,
   "metadata": {},
   "outputs": [],
   "source": [
    "# if you do want to modify d, you can use |=\n",
    "\n",
    "d |= new_stuff    # this is (I think) identical in behavior to dict.update"
   ]
  },
  {
   "cell_type": "code",
   "execution_count": 11,
   "metadata": {},
   "outputs": [
    {
     "data": {
      "text/plain": [
       "{'a': 10, 'b': 400, 'c': 900, 'd': 1600}"
      ]
     },
     "execution_count": 11,
     "metadata": {},
     "output_type": "execute_result"
    }
   ],
   "source": [
    "d"
   ]
  },
  {
   "cell_type": "markdown",
   "metadata": {
    "jp-MarkdownHeadingCollapsed": true
   },
   "source": [
    "# Parameter types for functions\n",
    "\n",
    "1. Mandatory parameters (positional or keyword arguments)\n",
    "2. Optional parameters (positional or keyword arguments), with a default argument value stored in the function's `__defaults__` tuple\n",
    "3. `*args`, where `args` is a tuple containing all of the positional arguments that no other parameter got"
   ]
  },
  {
   "cell_type": "code",
   "execution_count": 12,
   "metadata": {},
   "outputs": [],
   "source": [
    "def add(first, second):\n",
    "    return first + second"
   ]
  },
  {
   "cell_type": "code",
   "execution_count": 13,
   "metadata": {},
   "outputs": [
    {
     "ename": "TypeError",
     "evalue": "add() missing 1 required positional argument: 'second'",
     "output_type": "error",
     "traceback": [
      "\u001b[0;31m---------------------------------------------------------------------------\u001b[0m",
      "\u001b[0;31mTypeError\u001b[0m                                 Traceback (most recent call last)",
      "Cell \u001b[0;32mIn[13], line 3\u001b[0m\n\u001b[1;32m      1\u001b[0m t \u001b[38;5;241m=\u001b[39m (\u001b[38;5;241m10\u001b[39m, \u001b[38;5;241m2\u001b[39m)\n\u001b[0;32m----> 3\u001b[0m \u001b[43madd\u001b[49m\u001b[43m(\u001b[49m\u001b[43mt\u001b[49m\u001b[43m)\u001b[49m  \u001b[38;5;66;03m# will this work?  No... we're passing 1 argument, but add requires 2\u001b[39;00m\n",
      "\u001b[0;31mTypeError\u001b[0m: add() missing 1 required positional argument: 'second'"
     ]
    }
   ],
   "source": [
    "t = (10, 2)\n",
    "\n",
    "add(t)  # will this work?  No... we're passing 1 argument, but add requires 2"
   ]
  },
  {
   "cell_type": "code",
   "execution_count": 14,
   "metadata": {},
   "outputs": [
    {
     "data": {
      "text/plain": [
       "12"
      ]
     },
     "execution_count": 14,
     "metadata": {},
     "output_type": "execute_result"
    }
   ],
   "source": [
    "# we saw that we can \"unroll\" the elements of t:\n",
    "\n",
    "add(*t)   # this turns the 2-element tuple into two separate arguments"
   ]
  },
  {
   "cell_type": "markdown",
   "metadata": {},
   "source": [
    "# Keyword arguments\n",
    "\n",
    "We saw that we can call a function with one or more sets of \"keyword arguments,\" where it looks like `NAME=VALUE`. All keyword arguments must come after all positional arguments.\n",
    "\n",
    "`**kwargs` is the keyword-argument analog to `*args`, which only works with positional arguments. `kwargs` is a dict in which the keys are strings, the names of the keyword arguments that were passed, and the values are whatever values were associated with them. It contains all of the keyword arguments that no other variable accepted."
   ]
  },
  {
   "cell_type": "code",
   "execution_count": 15,
   "metadata": {},
   "outputs": [],
   "source": [
    "def myfunc(a, b, **kwargs):\n",
    "    return f'{a=}, {b=}, {kwargs=}'"
   ]
  },
  {
   "cell_type": "code",
   "execution_count": 16,
   "metadata": {},
   "outputs": [
    {
     "data": {
      "text/plain": [
       "'a=10, b=20, kwargs={}'"
      ]
     },
     "execution_count": 16,
     "metadata": {},
     "output_type": "execute_result"
    }
   ],
   "source": [
    "myfunc(10, 20)  # just passing two positional arguments"
   ]
  },
  {
   "cell_type": "code",
   "execution_count": 18,
   "metadata": {},
   "outputs": [
    {
     "data": {
      "text/plain": [
       "'a=10, b=20, kwargs={}'"
      ]
     },
     "execution_count": 18,
     "metadata": {},
     "output_type": "execute_result"
    }
   ],
   "source": [
    "myfunc(a=10, b=20)  # known parameters get the values of the keyword arguments"
   ]
  },
  {
   "cell_type": "code",
   "execution_count": 19,
   "metadata": {},
   "outputs": [
    {
     "data": {
      "text/plain": [
       "\"a=10, b=20, kwargs={'c': 30}\""
      ]
     },
     "execution_count": 19,
     "metadata": {},
     "output_type": "execute_result"
    }
   ],
   "source": [
    "myfunc(a=10, b=20, c=30)"
   ]
  },
  {
   "cell_type": "code",
   "execution_count": 20,
   "metadata": {},
   "outputs": [
    {
     "data": {
      "text/plain": [
       "\"a=10, b=20, kwargs={'c': 30, 'd': 40, 'e': 'hello', 'f': {'x': 1, 'y': 2}}\""
      ]
     },
     "execution_count": 20,
     "metadata": {},
     "output_type": "execute_result"
    }
   ],
   "source": [
    "myfunc(a=10, b=20, c=30, d=40, e='hello', f={'x':1, 'y':2})"
   ]
  },
  {
   "cell_type": "markdown",
   "metadata": {},
   "source": [
    "# Why do we need `**kwargs`?\n",
    "\n",
    "I can think of two reasons:\n",
    "\n",
    "1. We have a function that takes *so* many arguments that the signature is unreadable. Instead, we can just accept `**kwargs`, and have the user pass whichever of the arguments they find interesting/necessary. We have to look in the dict to see what keys were passed, but the function signature is still more readable.\n",
    "2. You have a function that knows what to do, but doesn't know what parameter names or values it'll get. This is typically/often for formatting purposes.\n",
    "\n",
    "You can have `**kwargs` in your function after `*args` (if it exists). "
   ]
  },
  {
   "cell_type": "code",
   "execution_count": 21,
   "metadata": {},
   "outputs": [
    {
     "ename": "TypeError",
     "evalue": "myfunc() got multiple values for argument 'b'",
     "output_type": "error",
     "traceback": [
      "\u001b[0;31m---------------------------------------------------------------------------\u001b[0m",
      "\u001b[0;31mTypeError\u001b[0m                                 Traceback (most recent call last)",
      "Cell \u001b[0;32mIn[21], line 3\u001b[0m\n\u001b[1;32m      1\u001b[0m \u001b[38;5;66;03m# what if I do this:\u001b[39;00m\n\u001b[0;32m----> 3\u001b[0m \u001b[43mmyfunc\u001b[49m\u001b[43m(\u001b[49m\u001b[38;5;241;43m10\u001b[39;49m\u001b[43m,\u001b[49m\u001b[43m \u001b[49m\u001b[38;5;241;43m20\u001b[39;49m\u001b[43m,\u001b[49m\u001b[43m \u001b[49m\u001b[43mc\u001b[49m\u001b[38;5;241;43m=\u001b[39;49m\u001b[38;5;241;43m30\u001b[39;49m\u001b[43m,\u001b[49m\u001b[43m \u001b[49m\u001b[43mb\u001b[49m\u001b[38;5;241;43m=\u001b[39;49m\u001b[38;5;241;43m200\u001b[39;49m\u001b[43m)\u001b[49m\n",
      "\u001b[0;31mTypeError\u001b[0m: myfunc() got multiple values for argument 'b'"
     ]
    }
   ],
   "source": [
    "# what if I do this:\n",
    "\n",
    "# parameters:   a    b    kwargs\n",
    "# arguments     10   20    {'c':30}\n",
    "\n",
    "myfunc(10, 20, c=30, b=200)"
   ]
  },
  {
   "cell_type": "code",
   "execution_count": null,
   "metadata": {},
   "outputs": [],
   "source": []
  },
  {
   "cell_type": "markdown",
   "metadata": {},
   "source": [
    "# Parameter types for functions\n",
    "\n",
    "1. Mandatory parameters (positional or keyword arguments)\n",
    "2. Optional parameters (positional or keyword arguments), with a default argument value stored in the function's `__defaults__` tuple\n",
    "3. `*args`, where `args` is a tuple containing all of the positional arguments that no other parameter got\n",
    "4. `**kwargs`, where `kwargs` is a dict containing all of the keyword arguments that no other parameter got"
   ]
  },
  {
   "cell_type": "code",
   "execution_count": 22,
   "metadata": {},
   "outputs": [],
   "source": [
    "def myfunc(a, b=10, *args, **kwargs):\n",
    "    return f'{a=}, {b=}, {args=}, {kwargs=}'"
   ]
  },
  {
   "cell_type": "code",
   "execution_count": 23,
   "metadata": {},
   "outputs": [
    {
     "data": {
      "text/plain": [
       "'a=3, b=10, args=(), kwargs={}'"
      ]
     },
     "execution_count": 23,
     "metadata": {},
     "output_type": "execute_result"
    }
   ],
   "source": [
    "myfunc(3)"
   ]
  },
  {
   "cell_type": "code",
   "execution_count": 24,
   "metadata": {},
   "outputs": [
    {
     "data": {
      "text/plain": [
       "\"a=3, b=10, args=(), kwargs={'x': 100, 'y': 200, 'z': 300}\""
      ]
     },
     "execution_count": 24,
     "metadata": {},
     "output_type": "execute_result"
    }
   ],
   "source": [
    "myfunc(3, x=100, y=200, z=300)"
   ]
  },
  {
   "cell_type": "code",
   "execution_count": 25,
   "metadata": {},
   "outputs": [
    {
     "data": {
      "text/plain": [
       "\"a=3, b=4, args=(5, 6, 7), kwargs={'x': 100, 'y': 200}\""
      ]
     },
     "execution_count": 25,
     "metadata": {},
     "output_type": "execute_result"
    }
   ],
   "source": [
    "# how can I pass values to args?\n",
    "# Just pass more positional arguments...\n",
    "\n",
    "myfunc(3,4,5,6,7, x=100, y=200)"
   ]
  },
  {
   "cell_type": "code",
   "execution_count": 26,
   "metadata": {},
   "outputs": [],
   "source": [
    "# how can I pass values to args\n",
    "# and *not* overwrite the default value in b?\n",
    "\n",
    "# you can't.\n",
    "\n",
    "# but... we'll see an alternative solution soon"
   ]
  },
  {
   "cell_type": "markdown",
   "metadata": {},
   "source": [
    "# Exercise: XML generator\n",
    "\n",
    "Just to remind you, XML works based on \"tags.\" Each tag has a name, optional attributes in the open tag, and optional content:\n",
    "\n",
    "    <tagname></tagname>     # empty\n",
    "    <name>Reuven</name>     # regular tag with content\n",
    "    <a><b><c>d</c></b></a>  # nested tags\n",
    "    <a x=\"1\" y=\"2\">b</a>    # attributes in the opening tag\n",
    "\n",
    "I want you to write a function, `xml`, that takes 1, 2, or more arguments:\n",
    "\n",
    "- If we pass a single argument, then that's the name of the tag, and we should return a string with its opening and closing tags, but no content.\n",
    "- If we pass two arguments, then that's the name of the tag and its content. We should return a string with the tag (opening and closing), and the second argument between them.\n",
    "- If we pass two arguments plus any keyword arguments, the keyword args are all turned into attributes inside of the opening tag. Note that officially, attributes should have a name, the `=` sign, and then a value inside of double quotes.\n",
    "\n",
    "Example:\n",
    "\n",
    "    xml('a')            # '<a></a>'\n",
    "    xml('a', 'b')       # '<a>b</a>'\n",
    "    xml('a', 'b', x=1)  # <a x=\"1\">b</a>\n",
    "    "
   ]
  },
  {
   "cell_type": "code",
   "execution_count": 34,
   "metadata": {},
   "outputs": [
    {
     "name": "stdout",
     "output_type": "stream",
     "text": [
      "\tNo attributes passed; expect none in the output\n",
      "<a></a>\n",
      "\tNo attributes passed; expect none in the output\n",
      "<a>b</a>\n",
      "\tGot 2 attributes\n",
      "<a x=\"1\" y=\"2\">b</a>\n"
     ]
    }
   ],
   "source": [
    "def xml(tagname, content='', **kwargs):\n",
    "    if not kwargs:\n",
    "        print(f'\\tNo attributes passed; expect none in the output')\n",
    "    else:\n",
    "        print(f'\\tGot {len(kwargs)} attributes')\n",
    "    \n",
    "    attributes = ''\n",
    "    for key, value in kwargs.items():\n",
    "        attributes += f' {key}=\"{value}\"'\n",
    "    \n",
    "    output = f'<{tagname}{attributes}>{content}</{tagname}>'\n",
    "    return output\n",
    "\n",
    "\n",
    "print(xml('a'))\n",
    "print(xml('a', 'b'))\n",
    "print(xml('a', 'b', x=1, y=2))"
   ]
  },
  {
   "cell_type": "code",
   "execution_count": null,
   "metadata": {},
   "outputs": [],
   "source": []
  },
  {
   "cell_type": "markdown",
   "metadata": {},
   "source": [
    "# Parameter types for functions\n",
    "\n",
    "1. Mandatory parameters (positional or keyword arguments)\n",
    "2. Optional parameters (positional or keyword arguments), with a default argument value stored in the function's `__defaults__` tuple\n",
    "3. `*args`, where `args` is a tuple containing all of the positional arguments that no other parameter got\n",
    "4. `**kwargs`, where `kwargs` is a dict containing all of the keyword arguments that no other parameter got"
   ]
  },
  {
   "cell_type": "code",
   "execution_count": 35,
   "metadata": {},
   "outputs": [],
   "source": [
    "def myfunc(a, b=10, *args, **kwargs):\n",
    "    return f'{a=}, {b=}, {args=}, {kwargs=}'"
   ]
  },
  {
   "cell_type": "code",
   "execution_count": 36,
   "metadata": {},
   "outputs": [
    {
     "data": {
      "text/plain": [
       "'a=2, b=4, args=(6, 8), kwargs={}'"
      ]
     },
     "execution_count": 36,
     "metadata": {},
     "output_type": "execute_result"
    }
   ],
   "source": [
    "myfunc(2,4,6,8)"
   ]
  },
  {
   "cell_type": "code",
   "execution_count": 37,
   "metadata": {},
   "outputs": [],
   "source": [
    "# if we want to leave be with its default, but allow us at the same time to\n",
    "# give positional argument values to args, we can move b=10 to *after* the mention of\n",
    "# *args. Then it becomes a keyword-only parameter, one that can only get values with\n",
    "# keyword arguments.\n",
    "\n",
    "def myfunc(a, *args, b=10, **kwargs):\n",
    "    return f'{a=}, {b=}, {args=}, {kwargs=}'"
   ]
  },
  {
   "cell_type": "code",
   "execution_count": 38,
   "metadata": {},
   "outputs": [
    {
     "data": {
      "text/plain": [
       "'a=2, b=10, args=(4, 6, 8), kwargs={}'"
      ]
     },
     "execution_count": 38,
     "metadata": {},
     "output_type": "execute_result"
    }
   ],
   "source": [
    "myfunc(2,4,6,8)"
   ]
  },
  {
   "cell_type": "code",
   "execution_count": 39,
   "metadata": {},
   "outputs": [
    {
     "data": {
      "text/plain": [
       "'a=2, b=999, args=(4, 6, 8), kwargs={}'"
      ]
     },
     "execution_count": 39,
     "metadata": {},
     "output_type": "execute_result"
    }
   ],
   "source": [
    "# in order set b's value we need to explicitly mention it as a keyword argument.\n",
    "\n",
    "myfunc(2,4,6,8, b=999)"
   ]
  },
  {
   "cell_type": "code",
   "execution_count": 40,
   "metadata": {},
   "outputs": [],
   "source": [
    "# what if we put b after *args, but we *don't* give it a default?\n",
    "# then it becomes a mandatory keyword-only parameter; we must pass a value to it\n",
    "# as a keyword argument when we invoke the function.\n",
    "\n",
    "def myfunc(a, *args, b, **kwargs):   # notice that b no longer has a default\n",
    "    return f'{a=}, {b=}, {args=}, {kwargs=}'"
   ]
  },
  {
   "cell_type": "code",
   "execution_count": 41,
   "metadata": {},
   "outputs": [
    {
     "ename": "TypeError",
     "evalue": "myfunc() missing 1 required keyword-only argument: 'b'",
     "output_type": "error",
     "traceback": [
      "\u001b[0;31m---------------------------------------------------------------------------\u001b[0m",
      "\u001b[0;31mTypeError\u001b[0m                                 Traceback (most recent call last)",
      "Cell \u001b[0;32mIn[41], line 1\u001b[0m\n\u001b[0;32m----> 1\u001b[0m \u001b[43mmyfunc\u001b[49m\u001b[43m(\u001b[49m\u001b[38;5;241;43m2\u001b[39;49m\u001b[43m,\u001b[49m\u001b[38;5;241;43m4\u001b[39;49m\u001b[43m,\u001b[49m\u001b[38;5;241;43m6\u001b[39;49m\u001b[43m,\u001b[49m\u001b[38;5;241;43m8\u001b[39;49m\u001b[43m)\u001b[49m\n",
      "\u001b[0;31mTypeError\u001b[0m: myfunc() missing 1 required keyword-only argument: 'b'"
     ]
    }
   ],
   "source": [
    "myfunc(2,4,6,8)"
   ]
  },
  {
   "cell_type": "code",
   "execution_count": 42,
   "metadata": {},
   "outputs": [
    {
     "data": {
      "text/plain": [
       "'a=2, b=999, args=(4, 6, 8), kwargs={}'"
      ]
     },
     "execution_count": 42,
     "metadata": {},
     "output_type": "execute_result"
    }
   ],
   "source": [
    "myfunc(2,4,6,8, b=999)"
   ]
  },
  {
   "cell_type": "markdown",
   "metadata": {},
   "source": [
    "# Parameter types for functions\n",
    "\n",
    "1. Mandatory parameters (positional or keyword arguments)\n",
    "2. Optional parameters (positional or keyword arguments), with a default argument value stored in the function's `__defaults__` tuple\n",
    "3. `*args`, where `args` is a tuple containing all of the positional arguments that no other parameter got\n",
    "4. `**kwargs`, where `kwargs` is a dict containing all of the keyword arguments that no other parameter got"
   ]
  }
 ],
 "metadata": {
  "kernelspec": {
   "display_name": "Python 3 (ipykernel)",
   "language": "python",
   "name": "python3"
  },
  "language_info": {
   "codemirror_mode": {
    "name": "ipython",
    "version": 3
   },
   "file_extension": ".py",
   "mimetype": "text/x-python",
   "name": "python",
   "nbconvert_exporter": "python",
   "pygments_lexer": "ipython3",
   "version": "3.12.1"
  }
 },
 "nbformat": 4,
 "nbformat_minor": 4
}
