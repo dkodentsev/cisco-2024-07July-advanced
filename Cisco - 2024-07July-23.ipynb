{
 "cells": [
  {
   "cell_type": "markdown",
   "metadata": {},
   "source": [
    "# Agenda\n",
    "\n",
    "0. Q&A\n",
    "1. `**kwargs` and other parameter types\n",
    "2. Scoping (LEGB)\n",
    "3. Enclosing functions\n",
    "4. Dispatch tables\n",
    "5. Comprehensions\n",
    "6. Sorting and `lambda` (and passing functions as arguments to other functions)\n",
    "7. Type hints/annotations"
   ]
  },
  {
   "cell_type": "code",
   "execution_count": 1,
   "metadata": {},
   "outputs": [
    {
     "data": {
      "text/plain": [
       "0"
      ]
     },
     "execution_count": 1,
     "metadata": {},
     "output_type": "execute_result"
    }
   ],
   "source": [
    "d = {}\n",
    "d['a'] = 10\n",
    "hash('a') % 8"
   ]
  },
  {
   "cell_type": "code",
   "execution_count": 2,
   "metadata": {},
   "outputs": [
    {
     "data": {
      "text/plain": [
       "2"
      ]
     },
     "execution_count": 2,
     "metadata": {},
     "output_type": "execute_result"
    }
   ],
   "source": [
    "hash('b') % 8"
   ]
  },
  {
   "cell_type": "code",
   "execution_count": 3,
   "metadata": {},
   "outputs": [
    {
     "data": {
      "text/plain": [
       "6"
      ]
     },
     "execution_count": 3,
     "metadata": {},
     "output_type": "execute_result"
    }
   ],
   "source": [
    "hash('c') % 8"
   ]
  },
  {
   "cell_type": "code",
   "execution_count": 4,
   "metadata": {},
   "outputs": [
    {
     "data": {
      "text/plain": [
       "3"
      ]
     },
     "execution_count": 4,
     "metadata": {},
     "output_type": "execute_result"
    }
   ],
   "source": [
    "hash('d') % 8"
   ]
  },
  {
   "cell_type": "code",
   "execution_count": 5,
   "metadata": {},
   "outputs": [
    {
     "name": "stdout",
     "output_type": "stream",
     "text": [
      "a: 0\n",
      "b: 2\n",
      "c: 6\n",
      "d: 3\n",
      "e: 0\n",
      "f: 5\n",
      "g: 6\n",
      "h: 0\n",
      "i: 6\n",
      "j: 4\n"
     ]
    }
   ],
   "source": [
    "for one_letter in 'abcdefghij':\n",
    "    print(f'{one_letter}: {hash(one_letter) % 8}')"
   ]
  },
  {
   "cell_type": "code",
   "execution_count": 6,
   "metadata": {},
   "outputs": [],
   "source": [
    "d['e'] = 500"
   ]
  },
  {
   "cell_type": "code",
   "execution_count": 7,
   "metadata": {},
   "outputs": [
    {
     "data": {
      "text/plain": [
       "{'a': 10, 'b': 400, 'c': 900, 'd': 1600}"
      ]
     },
     "execution_count": 7,
     "metadata": {},
     "output_type": "execute_result"
    }
   ],
   "source": [
    "d = {'a':10, 'b':20, 'c':30}\n",
    "\n",
    "new_stuff = {'b':400, 'c':900, 'd':1600}\n",
    "\n",
    "d.update(new_stuff)   # this modifies d, the \"receiving\" dict, to take all key-value pairs from new_stuff\n",
    "\n",
    "d"
   ]
  },
  {
   "cell_type": "code",
   "execution_count": 8,
   "metadata": {},
   "outputs": [
    {
     "data": {
      "text/plain": [
       "{'a': 10, 'b': 400, 'c': 900, 'd': 1600}"
      ]
     },
     "execution_count": 8,
     "metadata": {},
     "output_type": "execute_result"
    }
   ],
   "source": [
    "d = {'a':10, 'b':20, 'c':30}\n",
    "new_stuff = {'b':400, 'c':900, 'd':1600}\n",
    "\n",
    "# we can, as of 3.10 (?), use the | operator \n",
    "\n",
    "d | new_stuff   # this returns a new dict based merging d + new_stuff together, but doesn't modify d or new_stuff"
   ]
  },
  {
   "cell_type": "code",
   "execution_count": 9,
   "metadata": {},
   "outputs": [
    {
     "data": {
      "text/plain": [
       "{'a': 10, 'b': 20, 'c': 30}"
      ]
     },
     "execution_count": 9,
     "metadata": {},
     "output_type": "execute_result"
    }
   ],
   "source": [
    "d"
   ]
  },
  {
   "cell_type": "code",
   "execution_count": 10,
   "metadata": {},
   "outputs": [],
   "source": [
    "# if you do want to modify d, you can use |=\n",
    "\n",
    "d |= new_stuff    # this is (I think) identical in behavior to dict.update"
   ]
  },
  {
   "cell_type": "code",
   "execution_count": 11,
   "metadata": {},
   "outputs": [
    {
     "data": {
      "text/plain": [
       "{'a': 10, 'b': 400, 'c': 900, 'd': 1600}"
      ]
     },
     "execution_count": 11,
     "metadata": {},
     "output_type": "execute_result"
    }
   ],
   "source": [
    "d"
   ]
  },
  {
   "cell_type": "markdown",
   "metadata": {
    "jp-MarkdownHeadingCollapsed": true
   },
   "source": [
    "# Parameter types for functions\n",
    "\n",
    "1. Mandatory parameters (positional or keyword arguments)\n",
    "2. Optional parameters (positional or keyword arguments), with a default argument value stored in the function's `__defaults__` tuple\n",
    "3. `*args`, where `args` is a tuple containing all of the positional arguments that no other parameter got"
   ]
  },
  {
   "cell_type": "code",
   "execution_count": 12,
   "metadata": {},
   "outputs": [],
   "source": [
    "def add(first, second):\n",
    "    return first + second"
   ]
  },
  {
   "cell_type": "code",
   "execution_count": 13,
   "metadata": {},
   "outputs": [
    {
     "ename": "TypeError",
     "evalue": "add() missing 1 required positional argument: 'second'",
     "output_type": "error",
     "traceback": [
      "\u001b[0;31m---------------------------------------------------------------------------\u001b[0m",
      "\u001b[0;31mTypeError\u001b[0m                                 Traceback (most recent call last)",
      "Cell \u001b[0;32mIn[13], line 3\u001b[0m\n\u001b[1;32m      1\u001b[0m t \u001b[38;5;241m=\u001b[39m (\u001b[38;5;241m10\u001b[39m, \u001b[38;5;241m2\u001b[39m)\n\u001b[0;32m----> 3\u001b[0m \u001b[43madd\u001b[49m\u001b[43m(\u001b[49m\u001b[43mt\u001b[49m\u001b[43m)\u001b[49m  \u001b[38;5;66;03m# will this work?  No... we're passing 1 argument, but add requires 2\u001b[39;00m\n",
      "\u001b[0;31mTypeError\u001b[0m: add() missing 1 required positional argument: 'second'"
     ]
    }
   ],
   "source": [
    "t = (10, 2)\n",
    "\n",
    "add(t)  # will this work?  No... we're passing 1 argument, but add requires 2"
   ]
  },
  {
   "cell_type": "code",
   "execution_count": 14,
   "metadata": {},
   "outputs": [
    {
     "data": {
      "text/plain": [
       "12"
      ]
     },
     "execution_count": 14,
     "metadata": {},
     "output_type": "execute_result"
    }
   ],
   "source": [
    "# we saw that we can \"unroll\" the elements of t:\n",
    "\n",
    "add(*t)   # this turns the 2-element tuple into two separate arguments"
   ]
  },
  {
   "cell_type": "markdown",
   "metadata": {},
   "source": [
    "# Keyword arguments\n",
    "\n",
    "We saw that we can call a function with one or more sets of \"keyword arguments,\" where it looks like `NAME=VALUE`. All keyword arguments must come after all positional arguments.\n",
    "\n",
    "`**kwargs` is the keyword-argument analog to `*args`, which only works with positional arguments. `kwargs` is a dict in which the keys are strings, the names of the keyword arguments that were passed, and the values are whatever values were associated with them. It contains all of the keyword arguments that no other variable accepted."
   ]
  },
  {
   "cell_type": "code",
   "execution_count": 15,
   "metadata": {},
   "outputs": [],
   "source": [
    "def myfunc(a, b, **kwargs):\n",
    "    return f'{a=}, {b=}, {kwargs=}'"
   ]
  },
  {
   "cell_type": "code",
   "execution_count": 16,
   "metadata": {},
   "outputs": [
    {
     "data": {
      "text/plain": [
       "'a=10, b=20, kwargs={}'"
      ]
     },
     "execution_count": 16,
     "metadata": {},
     "output_type": "execute_result"
    }
   ],
   "source": [
    "myfunc(10, 20)  # just passing two positional arguments"
   ]
  },
  {
   "cell_type": "code",
   "execution_count": 18,
   "metadata": {},
   "outputs": [
    {
     "data": {
      "text/plain": [
       "'a=10, b=20, kwargs={}'"
      ]
     },
     "execution_count": 18,
     "metadata": {},
     "output_type": "execute_result"
    }
   ],
   "source": [
    "myfunc(a=10, b=20)  # known parameters get the values of the keyword arguments"
   ]
  },
  {
   "cell_type": "code",
   "execution_count": 19,
   "metadata": {},
   "outputs": [
    {
     "data": {
      "text/plain": [
       "\"a=10, b=20, kwargs={'c': 30}\""
      ]
     },
     "execution_count": 19,
     "metadata": {},
     "output_type": "execute_result"
    }
   ],
   "source": [
    "myfunc(a=10, b=20, c=30)"
   ]
  },
  {
   "cell_type": "code",
   "execution_count": 20,
   "metadata": {},
   "outputs": [
    {
     "data": {
      "text/plain": [
       "\"a=10, b=20, kwargs={'c': 30, 'd': 40, 'e': 'hello', 'f': {'x': 1, 'y': 2}}\""
      ]
     },
     "execution_count": 20,
     "metadata": {},
     "output_type": "execute_result"
    }
   ],
   "source": [
    "myfunc(a=10, b=20, c=30, d=40, e='hello', f={'x':1, 'y':2})"
   ]
  },
  {
   "cell_type": "markdown",
   "metadata": {},
   "source": [
    "# Why do we need `**kwargs`?\n",
    "\n",
    "I can think of two reasons:\n",
    "\n",
    "1. We have a function that takes *so* many arguments that the signature is unreadable. Instead, we can just accept `**kwargs`, and have the user pass whichever of the arguments they find interesting/necessary. We have to look in the dict to see what keys were passed, but the function signature is still more readable.\n",
    "2. You have a function that knows what to do, but doesn't know what parameter names or values it'll get. This is typically/often for formatting purposes.\n",
    "\n",
    "You can have `**kwargs` in your function after `*args` (if it exists). "
   ]
  },
  {
   "cell_type": "code",
   "execution_count": 21,
   "metadata": {},
   "outputs": [
    {
     "ename": "TypeError",
     "evalue": "myfunc() got multiple values for argument 'b'",
     "output_type": "error",
     "traceback": [
      "\u001b[0;31m---------------------------------------------------------------------------\u001b[0m",
      "\u001b[0;31mTypeError\u001b[0m                                 Traceback (most recent call last)",
      "Cell \u001b[0;32mIn[21], line 3\u001b[0m\n\u001b[1;32m      1\u001b[0m \u001b[38;5;66;03m# what if I do this:\u001b[39;00m\n\u001b[0;32m----> 3\u001b[0m \u001b[43mmyfunc\u001b[49m\u001b[43m(\u001b[49m\u001b[38;5;241;43m10\u001b[39;49m\u001b[43m,\u001b[49m\u001b[43m \u001b[49m\u001b[38;5;241;43m20\u001b[39;49m\u001b[43m,\u001b[49m\u001b[43m \u001b[49m\u001b[43mc\u001b[49m\u001b[38;5;241;43m=\u001b[39;49m\u001b[38;5;241;43m30\u001b[39;49m\u001b[43m,\u001b[49m\u001b[43m \u001b[49m\u001b[43mb\u001b[49m\u001b[38;5;241;43m=\u001b[39;49m\u001b[38;5;241;43m200\u001b[39;49m\u001b[43m)\u001b[49m\n",
      "\u001b[0;31mTypeError\u001b[0m: myfunc() got multiple values for argument 'b'"
     ]
    }
   ],
   "source": [
    "# what if I do this:\n",
    "\n",
    "# parameters:   a    b    kwargs\n",
    "# arguments     10   20    {'c':30}\n",
    "\n",
    "myfunc(10, 20, c=30, b=200)"
   ]
  },
  {
   "cell_type": "code",
   "execution_count": null,
   "metadata": {},
   "outputs": [],
   "source": []
  },
  {
   "cell_type": "markdown",
   "metadata": {},
   "source": [
    "# Parameter types for functions\n",
    "\n",
    "1. Mandatory parameters (positional or keyword arguments)\n",
    "2. Optional parameters (positional or keyword arguments), with a default argument value stored in the function's `__defaults__` tuple\n",
    "3. `*args`, where `args` is a tuple containing all of the positional arguments that no other parameter got\n",
    "4. `**kwargs`, where `kwargs` is a dict containing all of the keyword arguments that no other parameter got"
   ]
  },
  {
   "cell_type": "code",
   "execution_count": 22,
   "metadata": {},
   "outputs": [],
   "source": [
    "def myfunc(a, b=10, *args, **kwargs):\n",
    "    return f'{a=}, {b=}, {args=}, {kwargs=}'"
   ]
  },
  {
   "cell_type": "code",
   "execution_count": 23,
   "metadata": {},
   "outputs": [
    {
     "data": {
      "text/plain": [
       "'a=3, b=10, args=(), kwargs={}'"
      ]
     },
     "execution_count": 23,
     "metadata": {},
     "output_type": "execute_result"
    }
   ],
   "source": [
    "myfunc(3)"
   ]
  },
  {
   "cell_type": "code",
   "execution_count": 24,
   "metadata": {},
   "outputs": [
    {
     "data": {
      "text/plain": [
       "\"a=3, b=10, args=(), kwargs={'x': 100, 'y': 200, 'z': 300}\""
      ]
     },
     "execution_count": 24,
     "metadata": {},
     "output_type": "execute_result"
    }
   ],
   "source": [
    "myfunc(3, x=100, y=200, z=300)"
   ]
  },
  {
   "cell_type": "code",
   "execution_count": 25,
   "metadata": {},
   "outputs": [
    {
     "data": {
      "text/plain": [
       "\"a=3, b=4, args=(5, 6, 7), kwargs={'x': 100, 'y': 200}\""
      ]
     },
     "execution_count": 25,
     "metadata": {},
     "output_type": "execute_result"
    }
   ],
   "source": [
    "# how can I pass values to args?\n",
    "# Just pass more positional arguments...\n",
    "\n",
    "myfunc(3,4,5,6,7, x=100, y=200)"
   ]
  },
  {
   "cell_type": "code",
   "execution_count": 26,
   "metadata": {},
   "outputs": [],
   "source": [
    "# how can I pass values to args\n",
    "# and *not* overwrite the default value in b?\n",
    "\n",
    "# you can't.\n",
    "\n",
    "# but... we'll see an alternative solution soon"
   ]
  },
  {
   "cell_type": "markdown",
   "metadata": {},
   "source": [
    "# Exercise: XML generator\n",
    "\n",
    "Just to remind you, XML works based on \"tags.\" Each tag has a name, optional attributes in the open tag, and optional content:\n",
    "\n",
    "    <tagname></tagname>     # empty\n",
    "    <name>Reuven</name>     # regular tag with content\n",
    "    <a><b><c>d</c></b></a>  # nested tags\n",
    "    <a x=\"1\" y=\"2\">b</a>    # attributes in the opening tag\n",
    "\n",
    "I want you to write a function, `xml`, that takes 1, 2, or more arguments:\n",
    "\n",
    "- If we pass a single argument, then that's the name of the tag, and we should return a string with its opening and closing tags, but no content.\n",
    "- If we pass two arguments, then that's the name of the tag and its content. We should return a string with the tag (opening and closing), and the second argument between them.\n",
    "- If we pass two arguments plus any keyword arguments, the keyword args are all turned into attributes inside of the opening tag. Note that officially, attributes should have a name, the `=` sign, and then a value inside of double quotes.\n",
    "\n",
    "Example:\n",
    "\n",
    "    xml('a')            # '<a></a>'\n",
    "    xml('a', 'b')       # '<a>b</a>'\n",
    "    xml('a', 'b', x=1)  # <a x=\"1\">b</a>\n",
    "    "
   ]
  },
  {
   "cell_type": "code",
   "execution_count": 34,
   "metadata": {},
   "outputs": [
    {
     "name": "stdout",
     "output_type": "stream",
     "text": [
      "\tNo attributes passed; expect none in the output\n",
      "<a></a>\n",
      "\tNo attributes passed; expect none in the output\n",
      "<a>b</a>\n",
      "\tGot 2 attributes\n",
      "<a x=\"1\" y=\"2\">b</a>\n"
     ]
    }
   ],
   "source": [
    "def xml(tagname, content='', **kwargs):\n",
    "    if not kwargs:\n",
    "        print(f'\\tNo attributes passed; expect none in the output')\n",
    "    else:\n",
    "        print(f'\\tGot {len(kwargs)} attributes')\n",
    "    \n",
    "    attributes = ''\n",
    "    for key, value in kwargs.items():\n",
    "        attributes += f' {key}=\"{value}\"'\n",
    "    \n",
    "    output = f'<{tagname}{attributes}>{content}</{tagname}>'\n",
    "    return output\n",
    "\n",
    "\n",
    "print(xml('a'))\n",
    "print(xml('a', 'b'))\n",
    "print(xml('a', 'b', x=1, y=2))"
   ]
  },
  {
   "cell_type": "code",
   "execution_count": null,
   "metadata": {},
   "outputs": [],
   "source": []
  },
  {
   "cell_type": "markdown",
   "metadata": {},
   "source": [
    "# Parameter types for functions\n",
    "\n",
    "1. Mandatory parameters (positional or keyword arguments)\n",
    "2. Optional parameters (positional or keyword arguments), with a default argument value stored in the function's `__defaults__` tuple\n",
    "3. `*args`, where `args` is a tuple containing all of the positional arguments that no other parameter got\n",
    "4. `**kwargs`, where `kwargs` is a dict containing all of the keyword arguments that no other parameter got"
   ]
  },
  {
   "cell_type": "code",
   "execution_count": 35,
   "metadata": {},
   "outputs": [],
   "source": [
    "def myfunc(a, b=10, *args, **kwargs):\n",
    "    return f'{a=}, {b=}, {args=}, {kwargs=}'"
   ]
  },
  {
   "cell_type": "code",
   "execution_count": 36,
   "metadata": {},
   "outputs": [
    {
     "data": {
      "text/plain": [
       "'a=2, b=4, args=(6, 8), kwargs={}'"
      ]
     },
     "execution_count": 36,
     "metadata": {},
     "output_type": "execute_result"
    }
   ],
   "source": [
    "myfunc(2,4,6,8)"
   ]
  },
  {
   "cell_type": "code",
   "execution_count": 37,
   "metadata": {},
   "outputs": [],
   "source": [
    "# if we want to leave be with its default, but allow us at the same time to\n",
    "# give positional argument values to args, we can move b=10 to *after* the mention of\n",
    "# *args. Then it becomes a keyword-only parameter, one that can only get values with\n",
    "# keyword arguments.\n",
    "\n",
    "def myfunc(a, *args, b=10, **kwargs):\n",
    "    return f'{a=}, {b=}, {args=}, {kwargs=}'"
   ]
  },
  {
   "cell_type": "code",
   "execution_count": 38,
   "metadata": {},
   "outputs": [
    {
     "data": {
      "text/plain": [
       "'a=2, b=10, args=(4, 6, 8), kwargs={}'"
      ]
     },
     "execution_count": 38,
     "metadata": {},
     "output_type": "execute_result"
    }
   ],
   "source": [
    "myfunc(2,4,6,8)"
   ]
  },
  {
   "cell_type": "code",
   "execution_count": 39,
   "metadata": {},
   "outputs": [
    {
     "data": {
      "text/plain": [
       "'a=2, b=999, args=(4, 6, 8), kwargs={}'"
      ]
     },
     "execution_count": 39,
     "metadata": {},
     "output_type": "execute_result"
    }
   ],
   "source": [
    "# in order set b's value we need to explicitly mention it as a keyword argument.\n",
    "\n",
    "myfunc(2,4,6,8, b=999)"
   ]
  },
  {
   "cell_type": "code",
   "execution_count": 40,
   "metadata": {},
   "outputs": [],
   "source": [
    "# what if we put b after *args, but we *don't* give it a default?\n",
    "# then it becomes a mandatory keyword-only parameter; we must pass a value to it\n",
    "# as a keyword argument when we invoke the function.\n",
    "\n",
    "#          pos/kw    pos only      kw only\n",
    "def myfunc(a,        *args,        b,         **kwargs):   # notice that b no longer has a default\n",
    "    return f'{a=}, {b=}, {args=}, {kwargs=}'"
   ]
  },
  {
   "cell_type": "code",
   "execution_count": 41,
   "metadata": {},
   "outputs": [
    {
     "ename": "TypeError",
     "evalue": "myfunc() missing 1 required keyword-only argument: 'b'",
     "output_type": "error",
     "traceback": [
      "\u001b[0;31m---------------------------------------------------------------------------\u001b[0m",
      "\u001b[0;31mTypeError\u001b[0m                                 Traceback (most recent call last)",
      "Cell \u001b[0;32mIn[41], line 1\u001b[0m\n\u001b[0;32m----> 1\u001b[0m \u001b[43mmyfunc\u001b[49m\u001b[43m(\u001b[49m\u001b[38;5;241;43m2\u001b[39;49m\u001b[43m,\u001b[49m\u001b[38;5;241;43m4\u001b[39;49m\u001b[43m,\u001b[49m\u001b[38;5;241;43m6\u001b[39;49m\u001b[43m,\u001b[49m\u001b[38;5;241;43m8\u001b[39;49m\u001b[43m)\u001b[49m\n",
      "\u001b[0;31mTypeError\u001b[0m: myfunc() missing 1 required keyword-only argument: 'b'"
     ]
    }
   ],
   "source": [
    "myfunc(2,4,6,8)"
   ]
  },
  {
   "cell_type": "code",
   "execution_count": 42,
   "metadata": {},
   "outputs": [
    {
     "data": {
      "text/plain": [
       "'a=2, b=999, args=(4, 6, 8), kwargs={}'"
      ]
     },
     "execution_count": 42,
     "metadata": {},
     "output_type": "execute_result"
    }
   ],
   "source": [
    "myfunc(2,4,6,8, b=999)"
   ]
  },
  {
   "cell_type": "markdown",
   "metadata": {
    "jp-MarkdownHeadingCollapsed": true
   },
   "source": [
    "# Parameter types for functions\n",
    "\n",
    "1. Mandatory parameters (positional or keyword arguments)\n",
    "2. Optional parameters (positional or keyword arguments), with a default argument value stored in the function's `__defaults__` tuple\n",
    "3. `*args`, where `args` is a tuple containing all of the positional arguments that no other parameter got, or `*` to indicate the end of the positional parameters\n",
    "4. Mandatory keyword-only parameters\n",
    "5. Optional keyword-only parameters (with defaults)\n",
    "6. `**kwargs`, where `kwargs` is a dict containing all of the keyword arguments that no other parameter got"
   ]
  },
  {
   "cell_type": "code",
   "execution_count": 45,
   "metadata": {},
   "outputs": [],
   "source": [
    "# what if I want to write a function whose parameters are *all*\n",
    "# keyword only?\n",
    "\n",
    "def myfunc(*, a, b):   # if we put * in the list of parameters, that means: after here, only kw args, but no *args\n",
    "    return a + b"
   ]
  },
  {
   "cell_type": "code",
   "execution_count": 46,
   "metadata": {},
   "outputs": [
    {
     "data": {
      "text/plain": [
       "30"
      ]
     },
     "execution_count": 46,
     "metadata": {},
     "output_type": "execute_result"
    }
   ],
   "source": [
    "myfunc(a=10, b=20)"
   ]
  },
  {
   "cell_type": "code",
   "execution_count": 47,
   "metadata": {},
   "outputs": [
    {
     "ename": "TypeError",
     "evalue": "myfunc() takes 0 positional arguments but 2 were given",
     "output_type": "error",
     "traceback": [
      "\u001b[0;31m---------------------------------------------------------------------------\u001b[0m",
      "\u001b[0;31mTypeError\u001b[0m                                 Traceback (most recent call last)",
      "Cell \u001b[0;32mIn[47], line 1\u001b[0m\n\u001b[0;32m----> 1\u001b[0m \u001b[43mmyfunc\u001b[49m\u001b[43m(\u001b[49m\u001b[38;5;241;43m10\u001b[39;49m\u001b[43m,\u001b[49m\u001b[43m \u001b[49m\u001b[38;5;241;43m20\u001b[39;49m\u001b[43m)\u001b[49m\n",
      "\u001b[0;31mTypeError\u001b[0m: myfunc() takes 0 positional arguments but 2 were given"
     ]
    }
   ],
   "source": [
    "myfunc(10, 20)"
   ]
  },
  {
   "cell_type": "code",
   "execution_count": 48,
   "metadata": {},
   "outputs": [
    {
     "data": {
      "text/plain": [
       "4"
      ]
     },
     "execution_count": 48,
     "metadata": {},
     "output_type": "execute_result"
    }
   ],
   "source": [
    "len('abcd')"
   ]
  },
  {
   "cell_type": "code",
   "execution_count": 49,
   "metadata": {},
   "outputs": [
    {
     "name": "stdout",
     "output_type": "stream",
     "text": [
      "Help on built-in function len in module builtins:\n",
      "\n",
      "len(obj, /)\n",
      "    Return the number of items in a container.\n",
      "\n"
     ]
    }
   ],
   "source": [
    "help(len)  # what does this function do, and what is its signature?"
   ]
  },
  {
   "cell_type": "markdown",
   "metadata": {},
   "source": [
    "# / in a function signature\n",
    "\n",
    "`/` indicates that up to that point, all of the parameters are positional only. You cannot pass them as keyword arguments.\n",
    "\n"
   ]
  },
  {
   "cell_type": "code",
   "execution_count": 50,
   "metadata": {},
   "outputs": [],
   "source": [
    "def myfunc(a, b, /):\n",
    "    return a + b"
   ]
  },
  {
   "cell_type": "code",
   "execution_count": 51,
   "metadata": {},
   "outputs": [
    {
     "ename": "TypeError",
     "evalue": "myfunc() got some positional-only arguments passed as keyword arguments: 'a, b'",
     "output_type": "error",
     "traceback": [
      "\u001b[0;31m---------------------------------------------------------------------------\u001b[0m",
      "\u001b[0;31mTypeError\u001b[0m                                 Traceback (most recent call last)",
      "Cell \u001b[0;32mIn[51], line 1\u001b[0m\n\u001b[0;32m----> 1\u001b[0m \u001b[43mmyfunc\u001b[49m\u001b[43m(\u001b[49m\u001b[43ma\u001b[49m\u001b[38;5;241;43m=\u001b[39;49m\u001b[38;5;241;43m10\u001b[39;49m\u001b[43m,\u001b[49m\u001b[43m \u001b[49m\u001b[43mb\u001b[49m\u001b[38;5;241;43m=\u001b[39;49m\u001b[38;5;241;43m20\u001b[39;49m\u001b[43m)\u001b[49m\n",
      "\u001b[0;31mTypeError\u001b[0m: myfunc() got some positional-only arguments passed as keyword arguments: 'a, b'"
     ]
    }
   ],
   "source": [
    "myfunc(a=10, b=20)"
   ]
  },
  {
   "cell_type": "code",
   "execution_count": 52,
   "metadata": {},
   "outputs": [
    {
     "data": {
      "text/plain": [
       "30"
      ]
     },
     "execution_count": 52,
     "metadata": {},
     "output_type": "execute_result"
    }
   ],
   "source": [
    "myfunc(10, 20)"
   ]
  },
  {
   "cell_type": "markdown",
   "metadata": {},
   "source": [
    "# Who needs this?\n",
    "\n",
    "If your function takes both positional arguments *and* `**kwargs`, it's possible that someone will pass a keyword argument that'll get misinterpreted as a positional argument, or at least meant for a names parameter. Using `/` allows us to have a parameter, and assign to it, but also to get keyword arguments with that name."
   ]
  },
  {
   "cell_type": "code",
   "execution_count": 53,
   "metadata": {},
   "outputs": [],
   "source": [
    "def write_config(filename, **kwargs):    # let's write the key-value pairs of kwargs into filename, one line at a time\n",
    "    with open(filename, 'w') as f:\n",
    "        for key, value in kwargs.items():\n",
    "            f.write(f'{key}={value}\\n')"
   ]
  },
  {
   "cell_type": "code",
   "execution_count": 54,
   "metadata": {},
   "outputs": [],
   "source": [
    "write_config('config.txt', a=10, b=20, c=30)"
   ]
  },
  {
   "cell_type": "code",
   "execution_count": 55,
   "metadata": {},
   "outputs": [
    {
     "name": "stdout",
     "output_type": "stream",
     "text": [
      "a=10\n",
      "b=20\n",
      "c=30\n"
     ]
    }
   ],
   "source": [
    "!cat config.txt"
   ]
  },
  {
   "cell_type": "code",
   "execution_count": 56,
   "metadata": {},
   "outputs": [
    {
     "ename": "TypeError",
     "evalue": "write_config() got multiple values for argument 'filename'",
     "output_type": "error",
     "traceback": [
      "\u001b[0;31m---------------------------------------------------------------------------\u001b[0m",
      "\u001b[0;31mTypeError\u001b[0m                                 Traceback (most recent call last)",
      "Cell \u001b[0;32mIn[56], line 3\u001b[0m\n\u001b[1;32m      1\u001b[0m \u001b[38;5;66;03m# but what happens if I do this:\u001b[39;00m\n\u001b[0;32m----> 3\u001b[0m \u001b[43mwrite_config\u001b[49m\u001b[43m(\u001b[49m\u001b[38;5;124;43m'\u001b[39;49m\u001b[38;5;124;43mconfig.txt\u001b[39;49m\u001b[38;5;124;43m'\u001b[39;49m\u001b[43m,\u001b[49m\u001b[43m \u001b[49m\u001b[43mname\u001b[49m\u001b[38;5;241;43m=\u001b[39;49m\u001b[38;5;124;43m'\u001b[39;49m\u001b[38;5;124;43mReuven\u001b[39;49m\u001b[38;5;124;43m'\u001b[39;49m\u001b[43m,\u001b[49m\u001b[43m \u001b[49m\u001b[43mfilename\u001b[49m\u001b[38;5;241;43m=\u001b[39;49m\u001b[38;5;124;43m'\u001b[39;49m\u001b[38;5;124;43mmyfile.txt\u001b[39;49m\u001b[38;5;124;43m'\u001b[39;49m\u001b[43m)\u001b[49m\n",
      "\u001b[0;31mTypeError\u001b[0m: write_config() got multiple values for argument 'filename'"
     ]
    }
   ],
   "source": [
    "# but what happens if I do this:\n",
    "\n",
    "write_config('config.txt', name='Reuven', filename='myfile.txt')"
   ]
  },
  {
   "cell_type": "code",
   "execution_count": 57,
   "metadata": {},
   "outputs": [],
   "source": [
    "# let's rewrite the function such that filename is positional only\n",
    "# then we won't have that clash!\n",
    "\n",
    "def write_config(filename, /, **kwargs): \n",
    "    with open(filename, 'w') as f:\n",
    "        for key, value in kwargs.items():\n",
    "            f.write(f'{key}={value}\\n')"
   ]
  },
  {
   "cell_type": "code",
   "execution_count": 58,
   "metadata": {},
   "outputs": [],
   "source": [
    "write_config('config.txt', \n",
    "             name='Reuven', filename='myfile.txt')"
   ]
  },
  {
   "cell_type": "code",
   "execution_count": 59,
   "metadata": {},
   "outputs": [
    {
     "name": "stdout",
     "output_type": "stream",
     "text": [
      "name=Reuven\n",
      "filename=myfile.txt\n"
     ]
    }
   ],
   "source": [
    "!cat config.txt"
   ]
  },
  {
   "cell_type": "code",
   "execution_count": null,
   "metadata": {},
   "outputs": [],
   "source": []
  },
  {
   "cell_type": "markdown",
   "metadata": {},
   "source": [
    "# Parameter types for functions\n",
    "\n",
    "1. Positional only, followed by `/`\n",
    "2. Mandatory parameters (positional or keyword arguments)\n",
    "2. Optional parameters (positional or keyword arguments), with a default argument value stored in the function's `__defaults__` tuple\n",
    "3. `*args`, where `args` is a tuple containing all of the positional arguments that no other parameter got, or `*` to indicate the end of the positional parameters\n",
    "4. Mandatory keyword-only parameters\n",
    "5. Optional keyword-only parameters (with defaults)\n",
    "6. `**kwargs`, where `kwargs` is a dict containing all of the keyword arguments that no other parameter got"
   ]
  },
  {
   "cell_type": "markdown",
   "metadata": {},
   "source": [
    "# Return values\n",
    "\n",
    "- If a function fails to use `return`, then it automatically returns `None` when the function exits.\n",
    "- If a function uses just `return` with no value after it, then it returns `None`\n",
    "- A function can otherwise return any value it wants, with no limits or exceptions. This means that we can return a tuple of values, effectively returning more than one value from our function.\n"
   ]
  },
  {
   "cell_type": "code",
   "execution_count": 60,
   "metadata": {},
   "outputs": [],
   "source": [
    "# example : a function that takes any number of integers and returns the min and max of them\n",
    "\n",
    "def min_and_max(*numbers):\n",
    "    return min(numbers), max(numbers)"
   ]
  },
  {
   "cell_type": "code",
   "execution_count": 61,
   "metadata": {},
   "outputs": [
    {
     "data": {
      "text/plain": [
       "(-7, 23)"
      ]
     },
     "execution_count": 61,
     "metadata": {},
     "output_type": "execute_result"
    }
   ],
   "source": [
    "min_and_max(10, 20, -5, -7, 23, 1)"
   ]
  },
  {
   "cell_type": "code",
   "execution_count": 62,
   "metadata": {},
   "outputs": [],
   "source": [
    "# I can use unpacking to retrieve them into separate variables\n",
    "smallest, largest = min_and_max(10, 20, -5, -7, 23, 1)"
   ]
  },
  {
   "cell_type": "code",
   "execution_count": 63,
   "metadata": {},
   "outputs": [
    {
     "data": {
      "text/plain": [
       "-7"
      ]
     },
     "execution_count": 63,
     "metadata": {},
     "output_type": "execute_result"
    }
   ],
   "source": [
    "smallest"
   ]
  },
  {
   "cell_type": "code",
   "execution_count": 64,
   "metadata": {},
   "outputs": [
    {
     "data": {
      "text/plain": [
       "23"
      ]
     },
     "execution_count": 64,
     "metadata": {},
     "output_type": "execute_result"
    }
   ],
   "source": [
    "largest"
   ]
  },
  {
   "cell_type": "code",
   "execution_count": 67,
   "metadata": {},
   "outputs": [],
   "source": [
    "def myfunc():\n",
    "    print(2+3)  # this function might print something, but it returns None"
   ]
  },
  {
   "cell_type": "code",
   "execution_count": 68,
   "metadata": {},
   "outputs": [
    {
     "name": "stdout",
     "output_type": "stream",
     "text": [
      "5\n"
     ]
    }
   ],
   "source": [
    "myfunc()"
   ]
  },
  {
   "cell_type": "code",
   "execution_count": 69,
   "metadata": {},
   "outputs": [
    {
     "name": "stdout",
     "output_type": "stream",
     "text": [
      "5\n"
     ]
    }
   ],
   "source": [
    "x = myfunc()"
   ]
  },
  {
   "cell_type": "code",
   "execution_count": 70,
   "metadata": {},
   "outputs": [
    {
     "data": {
      "text/plain": [
       "NoneType"
      ]
     },
     "execution_count": 70,
     "metadata": {},
     "output_type": "execute_result"
    }
   ],
   "source": [
    "type(x)"
   ]
  },
  {
   "cell_type": "code",
   "execution_count": 71,
   "metadata": {},
   "outputs": [],
   "source": [
    "# I can use a type annotation here \n",
    "# name is a string, and the function returns a string\n",
    "def hello(name:str) -> str:\n",
    "    return f'Hello, {name}!'"
   ]
  },
  {
   "cell_type": "code",
   "execution_count": 72,
   "metadata": {},
   "outputs": [
    {
     "data": {
      "text/plain": [
       "'Hello, 5!'"
      ]
     },
     "execution_count": 72,
     "metadata": {},
     "output_type": "execute_result"
    }
   ],
   "source": [
    "hello(5)"
   ]
  },
  {
   "cell_type": "markdown",
   "metadata": {},
   "source": [
    "# Scoping\n",
    "\n",
    "The whole idea of scoping is: When do variables exist, and when do they cease to exist?\n",
    "\n",
    "This is useful if we reuse the same variable name in multiple programs/functions. Also, if we want access to a variable, is it still around?\n",
    "\n",
    "At a very basic level, Python only really has two scopes:\n",
    "- Global (everything outside of a function)\n",
    "- Local (everything inside of a function)"
   ]
  },
  {
   "cell_type": "code",
   "execution_count": 74,
   "metadata": {},
   "outputs": [
    {
     "data": {
      "text/plain": [
       "729"
      ]
     },
     "execution_count": 74,
     "metadata": {},
     "output_type": "execute_result"
    }
   ],
   "source": [
    "x = 100\n",
    "\n",
    "for i in range(10):   # no function body, thus no new scope -- thus, x and i are global variables\n",
    "    x = i ** 3\n",
    "\n",
    "x"
   ]
  },
  {
   "cell_type": "code",
   "execution_count": 77,
   "metadata": {},
   "outputs": [
    {
     "name": "stdout",
     "output_type": "stream",
     "text": [
      "x = 100\n"
     ]
    }
   ],
   "source": [
    "# this prints 100 -- but why?\n",
    "# we're in the global scope, and Python looks for a global variable x\n",
    "# where does it look? It says 'x' in globals(), finds it, and retrieves globals()['x']\n",
    "\n",
    "x = 100\n",
    "\n",
    "print(f'x = {x}')"
   ]
  },
  {
   "cell_type": "code",
   "execution_count": 76,
   "metadata": {},
   "outputs": [
    {
     "data": {
      "text/plain": [
       "True"
      ]
     },
     "execution_count": 76,
     "metadata": {},
     "output_type": "execute_result"
    }
   ],
   "source": [
    "'x' in globals()"
   ]
  },
  {
   "cell_type": "code",
   "execution_count": 78,
   "metadata": {},
   "outputs": [
    {
     "name": "stdout",
     "output_type": "stream",
     "text": [
      "before, x = 100\n",
      "In myfunc, x = 100\n",
      "after, x = 100\n"
     ]
    }
   ],
   "source": [
    "# let's add a function to the mix\n",
    "\n",
    "x = 100\n",
    "\n",
    "def myfunc():\n",
    "    print(f'In myfunc, x = {x}')   # is x local? No. is x global? yes!\n",
    "    \n",
    "print(f'before, x = {x}')\n",
    "myfunc()\n",
    "print(f'after, x = {x}')"
   ]
  },
  {
   "cell_type": "markdown",
   "metadata": {},
   "source": [
    "# Scoping search path in Python: LEGB\n",
    "\n",
    "Python has a total of *four* scopes. It searches through each of them when it needs to find a variable. Actually, it searches through all four when we're in a function, and only in the final two when we're outside of a function:\n",
    "\n",
    "- `L` -- local, for local variables (this is where we start if we're in a function)\n",
    "- `E` -- enclosing, if our function was defined inside of another function\n",
    "- `G` -- global, for global variables (this is where we start if we're outside of a function)\n",
    "- `B` -- builtin, names that are defined by Python and stick around a while"
   ]
  },
  {
   "cell_type": "code",
   "execution_count": 79,
   "metadata": {},
   "outputs": [
    {
     "name": "stdout",
     "output_type": "stream",
     "text": [
      "before, x = 100\n",
      "In myfunc, x = 200\n",
      "after, x = 100\n"
     ]
    }
   ],
   "source": [
    "# what if we assign to x inside of our function?\n",
    "\n",
    "x = 100\n",
    "\n",
    "def myfunc():\n",
    "    x = 200\n",
    "    print(f'In myfunc, x = {x}') # is x local (i.e., 'x' in __code__.co_varnames)? yes, and its value is 200\n",
    "    \n",
    "print(f'before, x = {x}')  # is x global? yes, and its value is 100\n",
    "myfunc()\n",
    "print(f'after, x = {x}')   # is x global (still)? yes, 100"
   ]
  },
  {
   "cell_type": "code",
   "execution_count": 80,
   "metadata": {},
   "outputs": [
    {
     "data": {
      "text/plain": [
       "('x',)"
      ]
     },
     "execution_count": 80,
     "metadata": {},
     "output_type": "execute_result"
    }
   ],
   "source": [
    "# when did Python notice that x was local inside of myfunc? Not when we ran it, but \n",
    "# when we defined it.\n",
    "\n",
    "myfunc.__code__.co_varnames   # local variable names in myfunc, as recorded at definition/compile time"
   ]
  },
  {
   "cell_type": "code",
   "execution_count": 81,
   "metadata": {},
   "outputs": [
    {
     "name": "stdout",
     "output_type": "stream",
     "text": [
      "before, x = 100\n"
     ]
    },
    {
     "ename": "UnboundLocalError",
     "evalue": "cannot access local variable 'x' where it is not associated with a value",
     "output_type": "error",
     "traceback": [
      "\u001b[0;31m---------------------------------------------------------------------------\u001b[0m",
      "\u001b[0;31mUnboundLocalError\u001b[0m                         Traceback (most recent call last)",
      "Cell \u001b[0;32mIn[81], line 10\u001b[0m\n\u001b[1;32m      7\u001b[0m     x \u001b[38;5;241m=\u001b[39m \u001b[38;5;241m200\u001b[39m\n\u001b[1;32m      9\u001b[0m \u001b[38;5;28mprint\u001b[39m(\u001b[38;5;124mf\u001b[39m\u001b[38;5;124m'\u001b[39m\u001b[38;5;124mbefore, x = \u001b[39m\u001b[38;5;132;01m{\u001b[39;00mx\u001b[38;5;132;01m}\u001b[39;00m\u001b[38;5;124m'\u001b[39m) \n\u001b[0;32m---> 10\u001b[0m \u001b[43mmyfunc\u001b[49m\u001b[43m(\u001b[49m\u001b[43m)\u001b[49m\n\u001b[1;32m     11\u001b[0m \u001b[38;5;28mprint\u001b[39m(\u001b[38;5;124mf\u001b[39m\u001b[38;5;124m'\u001b[39m\u001b[38;5;124mafter, x = \u001b[39m\u001b[38;5;132;01m{\u001b[39;00mx\u001b[38;5;132;01m}\u001b[39;00m\u001b[38;5;124m'\u001b[39m)  \n",
      "Cell \u001b[0;32mIn[81], line 6\u001b[0m, in \u001b[0;36mmyfunc\u001b[0;34m()\u001b[0m\n\u001b[1;32m      5\u001b[0m \u001b[38;5;28;01mdef\u001b[39;00m \u001b[38;5;21mmyfunc\u001b[39m():\n\u001b[0;32m----> 6\u001b[0m     \u001b[38;5;28mprint\u001b[39m(\u001b[38;5;124mf\u001b[39m\u001b[38;5;124m'\u001b[39m\u001b[38;5;124mIn myfunc, x = \u001b[39m\u001b[38;5;132;01m{\u001b[39;00m\u001b[43mx\u001b[49m\u001b[38;5;132;01m}\u001b[39;00m\u001b[38;5;124m'\u001b[39m) \n\u001b[1;32m      7\u001b[0m     x \u001b[38;5;241m=\u001b[39m \u001b[38;5;241m200\u001b[39m\n",
      "\u001b[0;31mUnboundLocalError\u001b[0m: cannot access local variable 'x' where it is not associated with a value"
     ]
    }
   ],
   "source": [
    "# let's change things a little bit\n",
    "\n",
    "x = 100\n",
    "\n",
    "def myfunc():\n",
    "    print(f'In myfunc, x = {x}') # is x local? yes ... but it has no value\n",
    "    x = 200   # this, anywhere in the function, forces x to be local\n",
    "    \n",
    "print(f'before, x = {x}')  # is x global? yes, 100\n",
    "myfunc()\n",
    "print(f'after, x = {x}')  "
   ]
  },
  {
   "cell_type": "code",
   "execution_count": 84,
   "metadata": {},
   "outputs": [
    {
     "ename": "UnboundLocalError",
     "evalue": "cannot access local variable 'y' where it is not associated with a value",
     "output_type": "error",
     "traceback": [
      "\u001b[0;31m---------------------------------------------------------------------------\u001b[0m",
      "\u001b[0;31mUnboundLocalError\u001b[0m                         Traceback (most recent call last)",
      "Cell \u001b[0;32mIn[84], line 4\u001b[0m\n\u001b[1;32m      1\u001b[0m \u001b[38;5;28;01mdef\u001b[39;00m \u001b[38;5;21mmyfunc\u001b[39m():\n\u001b[1;32m      2\u001b[0m     y \u001b[38;5;241m+\u001b[39m\u001b[38;5;241m=\u001b[39m \u001b[38;5;241m1\u001b[39m    \u001b[38;5;66;03m# y was marked as local at compiled time; at runtime, we're saying y = y + 1\u001b[39;00m\n\u001b[0;32m----> 4\u001b[0m \u001b[43mmyfunc\u001b[49m\u001b[43m(\u001b[49m\u001b[43m)\u001b[49m\n",
      "Cell \u001b[0;32mIn[84], line 2\u001b[0m, in \u001b[0;36mmyfunc\u001b[0;34m()\u001b[0m\n\u001b[1;32m      1\u001b[0m \u001b[38;5;28;01mdef\u001b[39;00m \u001b[38;5;21mmyfunc\u001b[39m():\n\u001b[0;32m----> 2\u001b[0m     \u001b[43my\u001b[49m \u001b[38;5;241m+\u001b[39m\u001b[38;5;241m=\u001b[39m \u001b[38;5;241m1\u001b[39m\n",
      "\u001b[0;31mUnboundLocalError\u001b[0m: cannot access local variable 'y' where it is not associated with a value"
     ]
    }
   ],
   "source": [
    "def myfunc():\n",
    "    y += 1    # y was marked as local at compiled time; at runtime, we're saying y = y + 1\n",
    "\n",
    "myfunc()"
   ]
  },
  {
   "cell_type": "code",
   "execution_count": 85,
   "metadata": {},
   "outputs": [
    {
     "data": {
      "text/plain": [
       "('y',)"
      ]
     },
     "execution_count": 85,
     "metadata": {},
     "output_type": "execute_result"
    }
   ],
   "source": [
    "myfunc.__code__.co_varnames"
   ]
  },
  {
   "cell_type": "code",
   "execution_count": 86,
   "metadata": {},
   "outputs": [
    {
     "name": "stdout",
     "output_type": "stream",
     "text": [
      "before, x = 100\n",
      "In myfunc, x = 200\n",
      "after, x = 200\n"
     ]
    }
   ],
   "source": [
    "# what if we want, from inside of our program, to modify the global x?\n",
    "\n",
    "x = 100\n",
    "\n",
    "def myfunc():\n",
    "    global x   # this tells Python's compiler: Don't mark x as local, even if/when we assign to it\n",
    "    x = 200    # here, we are assigning to the global x\n",
    "    print(f'In myfunc, x = {x}')\n",
    "    \n",
    "print(f'before, x = {x}') \n",
    "myfunc()\n",
    "print(f'after, x = {x}')  "
   ]
  },
  {
   "cell_type": "code",
   "execution_count": 87,
   "metadata": {},
   "outputs": [
    {
     "data": {
      "text/plain": [
       "()"
      ]
     },
     "execution_count": 87,
     "metadata": {},
     "output_type": "execute_result"
    }
   ],
   "source": [
    "myfunc.__code__.co_varnames"
   ]
  },
  {
   "cell_type": "code",
   "execution_count": 88,
   "metadata": {},
   "outputs": [
    {
     "name": "stdout",
     "output_type": "stream",
     "text": [
      "before, x = 100\n",
      "In myfunc, x = 200\n",
      "after, x = 200\n"
     ]
    }
   ],
   "source": [
    "# one variant: Don't assign to the variable, and don't use global\n",
    "# rather, use import __main__\n",
    "\n",
    "import __main__    # this module puts all global variables into the __main__ namespace as attributes\n",
    "x = 100\n",
    "\n",
    "def myfunc():\n",
    "    __main__.x = 200    # now I'm not assigning to a global; I'm assigning to an attribute on a module\n",
    "    print(f'In myfunc, x = {x}')\n",
    "    \n",
    "print(f'before, x = {x}') \n",
    "myfunc()\n",
    "print(f'after, x = {x}')  "
   ]
  },
  {
   "cell_type": "code",
   "execution_count": 89,
   "metadata": {},
   "outputs": [
    {
     "name": "stdout",
     "output_type": "stream",
     "text": [
      "before, x = [10, 20, 30]\n",
      "In myfunc, x = ['!', 20, 30]\n",
      "after, x = ['!', 20, 30]\n"
     ]
    }
   ],
   "source": [
    "# another variant: Remember that assigning to a variable triggers Python's local scoping at compile\n",
    "# time. But mutating/modifying an existing value via a global variable works just fine without 'global'\n",
    "\n",
    "y = [10, 20, 30]\n",
    "\n",
    "def myfunc():\n",
    "    y[0] = '!'  # modify/mutate y -- really, we're invoking y.__setitem__(0, '!')\n",
    "    print(f'In myfunc, x = {y}')\n",
    "    \n",
    "print(f'before, x = {y}') \n",
    "myfunc()\n",
    "print(f'after, x = {y}')  "
   ]
  },
  {
   "cell_type": "markdown",
   "metadata": {},
   "source": [
    "# Next up\n",
    "\n",
    "1. Global and builtin scopes\n",
    "2. Enclosing/inner functions, closures, and the \"enclosing\" scope\n",
    "\n",
    "Resume at :35"
   ]
  },
  {
   "cell_type": "markdown",
   "metadata": {},
   "source": [
    "Scopes: LEGB -- local, enclosing, global, builtin\n",
    "\n"
   ]
  },
  {
   "cell_type": "code",
   "execution_count": 90,
   "metadata": {},
   "outputs": [
    {
     "name": "stdout",
     "output_type": "stream",
     "text": [
      "before, x = 100\n",
      "In myfunc, x = 100\n",
      "after, x = 100\n"
     ]
    }
   ],
   "source": [
    "# we can access a global variable from within our functions\n",
    "\n",
    "x = 100\n",
    "\n",
    "def myfunc():\n",
    "    print(f'In myfunc, x = {x}')   # is x local? no. is x global? yes! Get its value, and print it\n",
    "    \n",
    "print(f'before, x = {x}') \n",
    "myfunc()\n",
    "print(f'after, x = {x}')  "
   ]
  },
  {
   "cell_type": "code",
   "execution_count": 91,
   "metadata": {},
   "outputs": [
    {
     "name": "stdout",
     "output_type": "stream",
     "text": [
      "before, x = 100\n",
      "Hello from the \"hello\" function!\n",
      "after, x = 100\n"
     ]
    }
   ],
   "source": [
    "# consider if we define *two* functions, and then call one from within the other\n",
    "\n",
    "x = 100\n",
    "\n",
    "def hello():\n",
    "    print('Hello from the \"hello\" function!')\n",
    "\n",
    "def myfunc():\n",
    "    hello()   # is hello local? No. Is hello global? Yes, get its value and then () mean execute it\n",
    "    \n",
    "print(f'before, x = {x}') \n",
    "myfunc()\n",
    "print(f'after, x = {x}')  "
   ]
  },
  {
   "cell_type": "markdown",
   "metadata": {},
   "source": [
    "# Globals and builtins\n",
    "\n",
    "Python has some keywords, meaning words that we cannot redefine, such as `def`, and `for` and `while` and `if`.\n",
    "\n",
    "But many other names that we would think are keywords are actually just names, which we can redefine. These are the \"builtin\" names, and they have their own namespace. That namespace is checked *after* the local and global namespaces.\n",
    "\n",
    "In the builtin namespace, we have such names as `int`, `str`, `list`, `dict`, `sum`, `len`, etc.\n",
    "\n",
    "You can accidentally (or purposely!) redefine these names."
   ]
  },
  {
   "cell_type": "code",
   "execution_count": 93,
   "metadata": {},
   "outputs": [],
   "source": [
    "# I need a list, so I'll just name it \"list\"\n",
    "\n",
    "list = [100, 200, 300]  # this is a new global variable \"list\""
   ]
  },
  {
   "cell_type": "code",
   "execution_count": 94,
   "metadata": {},
   "outputs": [
    {
     "ename": "TypeError",
     "evalue": "'list' object is not callable",
     "output_type": "error",
     "traceback": [
      "\u001b[0;31m---------------------------------------------------------------------------\u001b[0m",
      "\u001b[0;31mTypeError\u001b[0m                                 Traceback (most recent call last)",
      "Cell \u001b[0;32mIn[94], line 3\u001b[0m\n\u001b[1;32m      1\u001b[0m \u001b[38;5;66;03m# what happens now if I want to invoke \"list\" on a string?\u001b[39;00m\n\u001b[0;32m----> 3\u001b[0m \u001b[38;5;28;43mlist\u001b[39;49m\u001b[43m(\u001b[49m\u001b[38;5;124;43m'\u001b[39;49m\u001b[38;5;124;43mabcd\u001b[39;49m\u001b[38;5;124;43m'\u001b[39;49m\u001b[43m)\u001b[49m \n",
      "\u001b[0;31mTypeError\u001b[0m: 'list' object is not callable"
     ]
    }
   ],
   "source": [
    "# what happens now if I want to invoke \"list\" on a string?\n",
    "\n",
    "list('abcd') "
   ]
  },
  {
   "cell_type": "code",
   "execution_count": 95,
   "metadata": {},
   "outputs": [],
   "source": [
    "list = 2"
   ]
  },
  {
   "cell_type": "code",
   "execution_count": 96,
   "metadata": {},
   "outputs": [
    {
     "ename": "TypeError",
     "evalue": "'int' object is not callable",
     "output_type": "error",
     "traceback": [
      "\u001b[0;31m---------------------------------------------------------------------------\u001b[0m",
      "\u001b[0;31mTypeError\u001b[0m                                 Traceback (most recent call last)",
      "Cell \u001b[0;32mIn[96], line 1\u001b[0m\n\u001b[0;32m----> 1\u001b[0m \u001b[38;5;28;43mlist\u001b[39;49m\u001b[43m(\u001b[49m\u001b[38;5;124;43m'\u001b[39;49m\u001b[38;5;124;43mabcd\u001b[39;49m\u001b[38;5;124;43m'\u001b[39;49m\u001b[43m)\u001b[49m\n",
      "\u001b[0;31mTypeError\u001b[0m: 'int' object is not callable"
     ]
    }
   ],
   "source": [
    "list('abcd')"
   ]
  },
  {
   "cell_type": "code",
   "execution_count": 97,
   "metadata": {},
   "outputs": [],
   "source": [
    "# how can we get out of this mess?\n",
    "# answer: delete the global name that is \"shadowing\" the builtin name\n",
    "\n",
    "del(list)  # this looks scary, but it's actually just deleting the global (not the builtin)"
   ]
  },
  {
   "cell_type": "code",
   "execution_count": 98,
   "metadata": {},
   "outputs": [
    {
     "data": {
      "text/plain": [
       "['a', 'b', 'c', 'd']"
      ]
     },
     "execution_count": 98,
     "metadata": {},
     "output_type": "execute_result"
    }
   ],
   "source": [
    "list('abcd')"
   ]
  },
  {
   "cell_type": "code",
   "execution_count": 99,
   "metadata": {},
   "outputs": [
    {
     "ename": "NameError",
     "evalue": "name 'list' is not defined",
     "output_type": "error",
     "traceback": [
      "\u001b[0;31m---------------------------------------------------------------------------\u001b[0m",
      "\u001b[0;31mNameError\u001b[0m                                 Traceback (most recent call last)",
      "Cell \u001b[0;32mIn[99], line 1\u001b[0m\n\u001b[0;32m----> 1\u001b[0m \u001b[38;5;28;01mdel\u001b[39;00m(\u001b[38;5;28;43mlist\u001b[39;49m)\n",
      "\u001b[0;31mNameError\u001b[0m: name 'list' is not defined"
     ]
    }
   ],
   "source": [
    "del(list)"
   ]
  },
  {
   "cell_type": "code",
   "execution_count": 100,
   "metadata": {},
   "outputs": [
    {
     "data": {
      "text/plain": [
       "['ArithmeticError',\n",
       " 'AssertionError',\n",
       " 'AttributeError',\n",
       " 'BaseException',\n",
       " 'BaseExceptionGroup',\n",
       " 'BlockingIOError',\n",
       " 'BrokenPipeError',\n",
       " 'BufferError',\n",
       " 'BytesWarning',\n",
       " 'ChildProcessError',\n",
       " 'ConnectionAbortedError',\n",
       " 'ConnectionError',\n",
       " 'ConnectionRefusedError',\n",
       " 'ConnectionResetError',\n",
       " 'DeprecationWarning',\n",
       " 'EOFError',\n",
       " 'Ellipsis',\n",
       " 'EncodingWarning',\n",
       " 'EnvironmentError',\n",
       " 'Exception',\n",
       " 'ExceptionGroup',\n",
       " 'False',\n",
       " 'FileExistsError',\n",
       " 'FileNotFoundError',\n",
       " 'FloatingPointError',\n",
       " 'FutureWarning',\n",
       " 'GeneratorExit',\n",
       " 'IOError',\n",
       " 'ImportError',\n",
       " 'ImportWarning',\n",
       " 'IndentationError',\n",
       " 'IndexError',\n",
       " 'InterruptedError',\n",
       " 'IsADirectoryError',\n",
       " 'KeyError',\n",
       " 'KeyboardInterrupt',\n",
       " 'LookupError',\n",
       " 'MemoryError',\n",
       " 'ModuleNotFoundError',\n",
       " 'NameError',\n",
       " 'None',\n",
       " 'NotADirectoryError',\n",
       " 'NotImplemented',\n",
       " 'NotImplementedError',\n",
       " 'OSError',\n",
       " 'OverflowError',\n",
       " 'PendingDeprecationWarning',\n",
       " 'PermissionError',\n",
       " 'ProcessLookupError',\n",
       " 'RecursionError',\n",
       " 'ReferenceError',\n",
       " 'ResourceWarning',\n",
       " 'RuntimeError',\n",
       " 'RuntimeWarning',\n",
       " 'StopAsyncIteration',\n",
       " 'StopIteration',\n",
       " 'SyntaxError',\n",
       " 'SyntaxWarning',\n",
       " 'SystemError',\n",
       " 'SystemExit',\n",
       " 'TabError',\n",
       " 'TimeoutError',\n",
       " 'True',\n",
       " 'TypeError',\n",
       " 'UnboundLocalError',\n",
       " 'UnicodeDecodeError',\n",
       " 'UnicodeEncodeError',\n",
       " 'UnicodeError',\n",
       " 'UnicodeTranslateError',\n",
       " 'UnicodeWarning',\n",
       " 'UserWarning',\n",
       " 'ValueError',\n",
       " 'Warning',\n",
       " 'ZeroDivisionError',\n",
       " '__IPYTHON__',\n",
       " '__build_class__',\n",
       " '__debug__',\n",
       " '__doc__',\n",
       " '__import__',\n",
       " '__loader__',\n",
       " '__name__',\n",
       " '__package__',\n",
       " '__spec__',\n",
       " 'abs',\n",
       " 'aiter',\n",
       " 'all',\n",
       " 'anext',\n",
       " 'any',\n",
       " 'ascii',\n",
       " 'bin',\n",
       " 'bool',\n",
       " 'breakpoint',\n",
       " 'bytearray',\n",
       " 'bytes',\n",
       " 'callable',\n",
       " 'chr',\n",
       " 'classmethod',\n",
       " 'compile',\n",
       " 'complex',\n",
       " 'copyright',\n",
       " 'credits',\n",
       " 'delattr',\n",
       " 'dict',\n",
       " 'dir',\n",
       " 'display',\n",
       " 'divmod',\n",
       " 'enumerate',\n",
       " 'eval',\n",
       " 'exec',\n",
       " 'execfile',\n",
       " 'filter',\n",
       " 'float',\n",
       " 'format',\n",
       " 'frozenset',\n",
       " 'get_ipython',\n",
       " 'getattr',\n",
       " 'globals',\n",
       " 'hasattr',\n",
       " 'hash',\n",
       " 'help',\n",
       " 'hex',\n",
       " 'id',\n",
       " 'input',\n",
       " 'int',\n",
       " 'isinstance',\n",
       " 'issubclass',\n",
       " 'iter',\n",
       " 'len',\n",
       " 'license',\n",
       " 'list',\n",
       " 'locals',\n",
       " 'map',\n",
       " 'max',\n",
       " 'memoryview',\n",
       " 'min',\n",
       " 'next',\n",
       " 'object',\n",
       " 'oct',\n",
       " 'open',\n",
       " 'ord',\n",
       " 'pow',\n",
       " 'print',\n",
       " 'property',\n",
       " 'range',\n",
       " 'repr',\n",
       " 'reversed',\n",
       " 'round',\n",
       " 'runfile',\n",
       " 'set',\n",
       " 'setattr',\n",
       " 'slice',\n",
       " 'sorted',\n",
       " 'staticmethod',\n",
       " 'str',\n",
       " 'sum',\n",
       " 'super',\n",
       " 'tuple',\n",
       " 'type',\n",
       " 'vars',\n",
       " 'zip']"
      ]
     },
     "execution_count": 100,
     "metadata": {},
     "output_type": "execute_result"
    }
   ],
   "source": [
    "dir(__builtins__)"
   ]
  },
  {
   "cell_type": "code",
   "execution_count": 102,
   "metadata": {},
   "outputs": [
    {
     "data": {
      "text/plain": [
       "160"
      ]
     },
     "execution_count": 102,
     "metadata": {},
     "output_type": "execute_result"
    }
   ],
   "source": [
    "len(dir(__builtins__))"
   ]
  },
  {
   "cell_type": "markdown",
   "metadata": {},
   "source": [
    "# A few things to remember\n",
    "\n",
    "1. We can, in our function body, execute just about any Python code we want.\n",
    "2. When we use `def`, we (a) create a new function object and (b) assign it to a variable.\n",
    "3. When you assign to a variable in a function, that variable is local.\n",
    "4. You can return any type of value from a function."
   ]
  },
  {
   "cell_type": "code",
   "execution_count": 103,
   "metadata": {},
   "outputs": [],
   "source": [
    "# consider this:\n",
    "\n",
    "def myfunc():\n",
    "    def inner():\n",
    "        print('Hello from inner!')\n",
    "    return inner"
   ]
  },
  {
   "cell_type": "code",
   "execution_count": 104,
   "metadata": {},
   "outputs": [],
   "source": [
    "f = myfunc()"
   ]
  },
  {
   "cell_type": "code",
   "execution_count": 105,
   "metadata": {},
   "outputs": [
    {
     "data": {
      "text/plain": [
       "function"
      ]
     },
     "execution_count": 105,
     "metadata": {},
     "output_type": "execute_result"
    }
   ],
   "source": [
    "type(f)"
   ]
  },
  {
   "cell_type": "code",
   "execution_count": 106,
   "metadata": {},
   "outputs": [
    {
     "name": "stdout",
     "output_type": "stream",
     "text": [
      "Hello from inner!\n"
     ]
    }
   ],
   "source": [
    "f()"
   ]
  },
  {
   "cell_type": "code",
   "execution_count": 107,
   "metadata": {},
   "outputs": [
    {
     "data": {
      "text/plain": [
       "('inner',)"
      ]
     },
     "execution_count": 107,
     "metadata": {},
     "output_type": "execute_result"
    }
   ],
   "source": [
    "myfunc.__code__.co_varnames"
   ]
  },
  {
   "cell_type": "code",
   "execution_count": 108,
   "metadata": {},
   "outputs": [],
   "source": [
    "# let's give myfunc and inner parameters\n",
    "\n",
    "def myfunc(x):\n",
    "    def inner(y):\n",
    "        print(f'Hello from inner, {x=} and {y=}!')\n",
    "    return inner"
   ]
  },
  {
   "cell_type": "code",
   "execution_count": 109,
   "metadata": {},
   "outputs": [],
   "source": [
    "f = myfunc(10)"
   ]
  },
  {
   "cell_type": "code",
   "execution_count": 111,
   "metadata": {},
   "outputs": [
    {
     "name": "stdout",
     "output_type": "stream",
     "text": [
      "Hello from inner, x=10 and y=20!\n"
     ]
    }
   ],
   "source": [
    "f(20)  # yes, we have access to y, our local variable -- but we also have access to x, the local variable from myfunc!"
   ]
  },
  {
   "cell_type": "code",
   "execution_count": 112,
   "metadata": {},
   "outputs": [],
   "source": [
    "# closure -- a function returned from another function, which has access to the outer function's local variables\n",
    "# this is E, the enclosing scope. An inner function can read from the outer function's locals"
   ]
  },
  {
   "cell_type": "code",
   "execution_count": 114,
   "metadata": {},
   "outputs": [
    {
     "data": {
      "text/plain": [
       "('x',)"
      ]
     },
     "execution_count": 114,
     "metadata": {},
     "output_type": "execute_result"
    }
   ],
   "source": [
    "f.__code__.co_freevars  # tuple of variables from the enclosing scope that I need access to"
   ]
  },
  {
   "cell_type": "code",
   "execution_count": 115,
   "metadata": {},
   "outputs": [
    {
     "data": {
      "text/plain": [
       "('x',)"
      ]
     },
     "execution_count": 115,
     "metadata": {},
     "output_type": "execute_result"
    }
   ],
   "source": [
    "myfunc.__code__.co_cellvars  # tuple of variables in the outer function, indicating which need to be available to inner fun"
   ]
  },
  {
   "cell_type": "markdown",
   "metadata": {},
   "source": [
    "# Exercise: Password maker maker\n",
    "\n",
    "We're going to write a function to which we pass a string containing characters from which we want to create passwords. It'll return a function to which we can pass an integer, and get back a randomly generating string of the length specified, from that set of characters.\n",
    "\n",
    "The idea is that we can (only once) define the set of characters we want in our password, and then invoke the function many times with different lengths.\n",
    "\n",
    "Example:\n",
    "\n",
    "    make_digits_password = make_password_maker('123456')\n",
    "    make_digits_password(5)  # returns 52159\n",
    "\n",
    "    make_symbol_password = make_password_maker('!@#$%')\n",
    "    make_symbol_password(5)  # returns %$#@@\n",
    "\n",
    "    "
   ]
  },
  {
   "cell_type": "code",
   "execution_count": 117,
   "metadata": {},
   "outputs": [
    {
     "data": {
      "text/plain": [
       "'56244'"
      ]
     },
     "execution_count": 117,
     "metadata": {},
     "output_type": "execute_result"
    }
   ],
   "source": [
    "import random\n",
    "\n",
    "def make_password_maker(s):\n",
    "    def make_password(n):\n",
    "        output = []        \n",
    "        for i in range(n):\n",
    "            output.append(random.choice(s))\n",
    "        return ''.join(output)\n",
    "    return make_password\n",
    "\n",
    "make_digits_password = make_password_maker('123456')\n",
    "make_digits_password(5) "
   ]
  },
  {
   "cell_type": "code",
   "execution_count": 118,
   "metadata": {},
   "outputs": [
    {
     "data": {
      "text/plain": [
       "'@##$@'"
      ]
     },
     "execution_count": 118,
     "metadata": {},
     "output_type": "execute_result"
    }
   ],
   "source": [
    "make_symbol_password = make_password_maker('!@#$%')\n",
    "make_symbol_password(5)  # returns %$#@@"
   ]
  },
  {
   "cell_type": "code",
   "execution_count": 121,
   "metadata": {},
   "outputs": [
    {
     "name": "stdout",
     "output_type": "stream",
     "text": [
      "Hello from inner, where y=20!\n"
     ]
    }
   ],
   "source": [
    "# what if we want to go a bit further?\n",
    "\n",
    "def myfunc():\n",
    "    def inner(y):\n",
    "        return f'Hello from inner, where {y=}!'\n",
    "    return inner\n",
    "\n",
    "f = myfunc()\n",
    "print(f(20))"
   ]
  },
  {
   "cell_type": "code",
   "execution_count": 122,
   "metadata": {},
   "outputs": [
    {
     "name": "stdout",
     "output_type": "stream",
     "text": [
      "0 Hello from inner, where y=20!\n",
      "0 Hello from inner, where y=30!\n",
      "0 Hello from inner, where y=40!\n"
     ]
    }
   ],
   "source": [
    "# I want to have the inner function not only return the string, but also\n",
    "# the number of times that we have called the function.\n",
    "\n",
    "def myfunc():\n",
    "    def inner(y):\n",
    "        count = 0\n",
    "        output = f'{count} Hello from inner, where {y=}!'\n",
    "        count += 1\n",
    "        return output\n",
    "    return inner\n",
    "\n",
    "f = myfunc()\n",
    "print(f(20))\n",
    "print(f(30))\n",
    "print(f(40))"
   ]
  },
  {
   "cell_type": "code",
   "execution_count": 123,
   "metadata": {},
   "outputs": [
    {
     "ename": "UnboundLocalError",
     "evalue": "cannot access local variable 'count' where it is not associated with a value",
     "output_type": "error",
     "traceback": [
      "\u001b[0;31m---------------------------------------------------------------------------\u001b[0m",
      "\u001b[0;31mUnboundLocalError\u001b[0m                         Traceback (most recent call last)",
      "Cell \u001b[0;32mIn[123], line 13\u001b[0m\n\u001b[1;32m     10\u001b[0m     \u001b[38;5;28;01mreturn\u001b[39;00m inner\n\u001b[1;32m     12\u001b[0m f \u001b[38;5;241m=\u001b[39m myfunc()\n\u001b[0;32m---> 13\u001b[0m \u001b[38;5;28mprint\u001b[39m(\u001b[43mf\u001b[49m\u001b[43m(\u001b[49m\u001b[38;5;241;43m20\u001b[39;49m\u001b[43m)\u001b[49m)\n\u001b[1;32m     14\u001b[0m \u001b[38;5;28mprint\u001b[39m(f(\u001b[38;5;241m30\u001b[39m))\n\u001b[1;32m     15\u001b[0m \u001b[38;5;28mprint\u001b[39m(f(\u001b[38;5;241m40\u001b[39m))\n",
      "Cell \u001b[0;32mIn[123], line 7\u001b[0m, in \u001b[0;36mmyfunc.<locals>.inner\u001b[0;34m(y)\u001b[0m\n\u001b[1;32m      6\u001b[0m \u001b[38;5;28;01mdef\u001b[39;00m \u001b[38;5;21minner\u001b[39m(y):\n\u001b[0;32m----> 7\u001b[0m     output \u001b[38;5;241m=\u001b[39m \u001b[38;5;124mf\u001b[39m\u001b[38;5;124m'\u001b[39m\u001b[38;5;132;01m{\u001b[39;00m\u001b[43mcount\u001b[49m\u001b[38;5;132;01m}\u001b[39;00m\u001b[38;5;124m Hello from inner, where \u001b[39m\u001b[38;5;132;01m{\u001b[39;00my\u001b[38;5;132;01m=}\u001b[39;00m\u001b[38;5;124m!\u001b[39m\u001b[38;5;124m'\u001b[39m\n\u001b[1;32m      8\u001b[0m     count \u001b[38;5;241m+\u001b[39m\u001b[38;5;241m=\u001b[39m \u001b[38;5;241m1\u001b[39m\n\u001b[1;32m      9\u001b[0m     \u001b[38;5;28;01mreturn\u001b[39;00m output\n",
      "\u001b[0;31mUnboundLocalError\u001b[0m: cannot access local variable 'count' where it is not associated with a value"
     ]
    }
   ],
   "source": [
    "# let's try again, but define count in the *outer* function\n",
    "\n",
    "def myfunc():\n",
    "    count = 0\n",
    "    def inner(y):\n",
    "        output = f'{count} Hello from inner, where {y=}!'\n",
    "        count += 1\n",
    "        return output\n",
    "    return inner\n",
    "\n",
    "f = myfunc()\n",
    "print(f(20))\n",
    "print(f(30))\n",
    "print(f(40))"
   ]
  },
  {
   "cell_type": "code",
   "execution_count": 125,
   "metadata": {},
   "outputs": [
    {
     "name": "stdout",
     "output_type": "stream",
     "text": [
      "0 Hello from inner, where y=20!\n",
      "1 Hello from inner, where y=30!\n",
      "2 Hello from inner, where y=40!\n",
      "0 Hello from inner, where y=20!\n",
      "1 Hello from inner, where y=30!\n",
      "2 Hello from inner, where y=40!\n"
     ]
    }
   ],
   "source": [
    "# we can tell Python's compiler to see \"count\" not as a local\n",
    "# variable, but as a local variable in the enclosing scope.\n",
    "\n",
    "# the way to do this is with the \"nonlocal\" keyword\n",
    "\n",
    "def myfunc():\n",
    "    count = 0\n",
    "    \n",
    "    def inner(y):\n",
    "        nonlocal count  # when we assign to a local variable in the outer scope, it'll work\n",
    "        output = f'{count} Hello from inner, where {y=}!'\n",
    "        count += 1\n",
    "        return output\n",
    "    return inner\n",
    "\n",
    "f = myfunc()\n",
    "print(f(20))\n",
    "print(f(30))\n",
    "print(f(40))\n",
    "\n",
    "g = myfunc()\n",
    "print(g(20))\n",
    "print(g(30))\n",
    "print(g(40))\n"
   ]
  },
  {
   "cell_type": "code",
   "execution_count": 127,
   "metadata": {},
   "outputs": [
    {
     "name": "stdout",
     "output_type": "stream",
     "text": [
      "0 Hello from inner, where y=20!\n",
      "1 Hello from inner, where y=30!\n",
      "2 Hello from inner, where y=40!\n",
      "3 Hello from inner, where y=20!\n",
      "4 Hello from inner, where y=30!\n",
      "5 Hello from inner, where y=40!\n"
     ]
    }
   ],
   "source": [
    "# let's replace \"nonlocal\" with \"global\"\n",
    "\n",
    "\n",
    "count = 0\n",
    "\n",
    "def myfunc():\n",
    "    count = 0  # this is being ignored\n",
    "    \n",
    "    def inner(y):\n",
    "        global count \n",
    "        output = f'{count} Hello from inner, where {y=}!'\n",
    "        count += 1\n",
    "        return output\n",
    "    return inner\n",
    "\n",
    "f = myfunc()\n",
    "print(f(20))\n",
    "print(f(30))\n",
    "print(f(40))\n",
    "\n",
    "g = myfunc()\n",
    "print(g(20))\n",
    "print(g(30))\n",
    "print(g(40))"
   ]
  },
  {
   "cell_type": "code",
   "execution_count": 130,
   "metadata": {},
   "outputs": [
    {
     "name": "stdout",
     "output_type": "stream",
     "text": [
      "count=1\n",
      "count=2\n",
      "count=3\n"
     ]
    }
   ],
   "source": [
    "def outer():\n",
    "    count = 0\n",
    "\n",
    "    def middle():\n",
    "\n",
    "        def inner():\n",
    "            nonlocal count\n",
    "            count += 1\n",
    "            print(f'{count=}')\n",
    "        return inner\n",
    "    return middle\n",
    "\n",
    "m = outer()\n",
    "i = m()\n",
    "i()\n",
    "i()\n",
    "i()"
   ]
  },
  {
   "cell_type": "code",
   "execution_count": 131,
   "metadata": {},
   "outputs": [
    {
     "name": "stdin",
     "output_type": "stream",
     "text": [
      "Enter function name:  a\n"
     ]
    },
    {
     "name": "stdout",
     "output_type": "stream",
     "text": [
      "a\n"
     ]
    },
    {
     "name": "stdin",
     "output_type": "stream",
     "text": [
      "Enter function name:  b\n"
     ]
    },
    {
     "name": "stdout",
     "output_type": "stream",
     "text": [
      "b\n"
     ]
    },
    {
     "name": "stdin",
     "output_type": "stream",
     "text": [
      "Enter function name:  c\n"
     ]
    },
    {
     "name": "stdout",
     "output_type": "stream",
     "text": [
      "Unknown request\n"
     ]
    },
    {
     "name": "stdin",
     "output_type": "stream",
     "text": [
      "Enter function name:  \n"
     ]
    }
   ],
   "source": [
    "def a():\n",
    "    return 'a'\n",
    "\n",
    "def b():\n",
    "    return 'b'\n",
    "\n",
    "# I want to let the user choose which function to run\n",
    "\n",
    "while True:\n",
    "    s = input('Enter function name: ').strip()\n",
    "\n",
    "    if not s:\n",
    "        break\n",
    "\n",
    "    elif s == 'a':\n",
    "        print(a())\n",
    "    elif s == 'b':\n",
    "        print(b())\n",
    "    else:\n",
    "        print('Unknown request')"
   ]
  },
  {
   "cell_type": "code",
   "execution_count": 134,
   "metadata": {},
   "outputs": [
    {
     "name": "stdin",
     "output_type": "stream",
     "text": [
      "Enter function name:  a\n"
     ]
    },
    {
     "name": "stdout",
     "output_type": "stream",
     "text": [
      "<function a at 0x1091ab9c0>\n"
     ]
    },
    {
     "name": "stdin",
     "output_type": "stream",
     "text": [
      "Enter function name:  b\n"
     ]
    },
    {
     "name": "stdout",
     "output_type": "stream",
     "text": [
      "<function b at 0x1091ab920>\n"
     ]
    },
    {
     "name": "stdin",
     "output_type": "stream",
     "text": [
      "Enter function name:  \n"
     ]
    }
   ],
   "source": [
    "# Dispatch tables\n",
    "\n",
    "def a():\n",
    "    return 'a'\n",
    "\n",
    "def b():\n",
    "    return 'b'\n",
    "\n",
    "funcs = {'a': a,    # the keys are strings\n",
    "         'b': b}    # the values are functions (function objects)\n",
    "\n",
    "while True:\n",
    "    s = input('Enter function name: ').strip()\n",
    "\n",
    "    if not s:\n",
    "        break\n",
    "\n",
    "    elif s in funcs:    # do we see the user's choice in the dict?\n",
    "        print(funcs[s]())\n",
    "    else:\n",
    "        print('Unknown request')"
   ]
  },
  {
   "cell_type": "markdown",
   "metadata": {},
   "source": [
    "# Exercise: Calculators\n",
    "\n",
    "Our goal is to let the user enter a math expression (with `+` or `-`) and then invoke the appropriate function for adding or subtracting. The user will type something like `2 + 3`. You'll break that apart and then call the right function.\n",
    "\n",
    "I want you to use a dispatch table for storing, and then choosing, the function that we invoke.\n",
    "\n",
    "Example:\n",
    "\n",
    "    Enter math expression: 2 + 3\n",
    "    2 + 3 = 5\n",
    "    Enter math expression: 12 - 5\n",
    "    12 - 5 = 7\n",
    "    Enter math expression: [ENTER]\n",
    "    Bye!"
   ]
  },
  {
   "cell_type": "code",
   "execution_count": 135,
   "metadata": {},
   "outputs": [],
   "source": [
    "pattern = r'(\\d+)\\s+([-+])\\s+(\\d+)'"
   ]
  },
  {
   "cell_type": "code",
   "execution_count": 138,
   "metadata": {},
   "outputs": [
    {
     "name": "stdin",
     "output_type": "stream",
     "text": [
      "Enter math expression:  2 * 10\n"
     ]
    },
    {
     "name": "stdout",
     "output_type": "stream",
     "text": [
      "2 * 10 = 20\n"
     ]
    },
    {
     "name": "stdin",
     "output_type": "stream",
     "text": [
      "Enter math expression:  \n"
     ]
    }
   ],
   "source": [
    "def add(x, y):\n",
    "    return x + y\n",
    "\n",
    "def sub(x, y):\n",
    "    return x - y\n",
    "\n",
    "def mul(x, y):\n",
    "    return x * y\n",
    "\n",
    "ops = {'+':add,\n",
    "       '-':sub,\n",
    "       '*':mul}\n",
    "\n",
    "while s := input('Enter math expression: ').strip():\n",
    "    first, op, second = s.split()\n",
    "\n",
    "    try:\n",
    "        first_n = int(first)\n",
    "        second_n = int(second)\n",
    "    \n",
    "        if op in ops:\n",
    "            result = ops[op](first_n, second_n)\n",
    "        else:\n",
    "            result = f'Bad operator {op}'\n",
    "    \n",
    "        print(f'{first} {op} {second} = {result}')\n",
    "\n",
    "    except ValueError as e:\n",
    "        print(f'Try again: {e}')"
   ]
  },
  {
   "cell_type": "code",
   "execution_count": 141,
   "metadata": {},
   "outputs": [
    {
     "name": "stdin",
     "output_type": "stream",
     "text": [
      "Enter math expression:  2 + 3 + 4\n"
     ]
    },
    {
     "name": "stdout",
     "output_type": "stream",
     "text": [
      "2 + 3 = 5\n"
     ]
    },
    {
     "name": "stdin",
     "output_type": "stream",
     "text": [
      "Enter math expression:  2 + 1\n"
     ]
    },
    {
     "name": "stdout",
     "output_type": "stream",
     "text": [
      "2 + 1 = 3\n"
     ]
    },
    {
     "name": "stdin",
     "output_type": "stream",
     "text": [
      "Enter math expression:  \n"
     ]
    }
   ],
   "source": [
    "# let's take advantage of the \"operator\" module\n",
    "\n",
    "import operator\n",
    "\n",
    "ops = {'+':operator.add,\n",
    "       '-':operator.sub,\n",
    "       '*':operator.mul}\n",
    "\n",
    "while s := input('Enter math expression: ').strip():\n",
    "    first, op, second, *ignored_stuff = s.split()\n",
    "\n",
    "    try:\n",
    "        first_n = int(first)\n",
    "        second_n = int(second)\n",
    "    \n",
    "        if op in ops:\n",
    "            result = ops[op](first_n, second_n)\n",
    "        else:\n",
    "            result = f'Bad operator {op}'\n",
    "    \n",
    "        print(f'{first} {op} {second} = {result}')\n",
    "\n",
    "    except ValueError as e:\n",
    "        print(f'Try again: {e}')"
   ]
  },
  {
   "cell_type": "markdown",
   "metadata": {},
   "source": [
    "# Type hints"
   ]
  },
  {
   "cell_type": "code",
   "execution_count": 142,
   "metadata": {},
   "outputs": [],
   "source": [
    "def hello(name:str) -> str:\n",
    "    return f'Hello, {name}!'"
   ]
  },
  {
   "cell_type": "code",
   "execution_count": 143,
   "metadata": {},
   "outputs": [
    {
     "data": {
      "text/plain": [
       "'Hello, 5!'"
      ]
     },
     "execution_count": 143,
     "metadata": {},
     "output_type": "execute_result"
    }
   ],
   "source": [
    "hello(5)"
   ]
  },
  {
   "cell_type": "code",
   "execution_count": 144,
   "metadata": {},
   "outputs": [
    {
     "data": {
      "text/plain": [
       "{'name': str, 'return': str}"
      ]
     },
     "execution_count": 144,
     "metadata": {},
     "output_type": "execute_result"
    }
   ],
   "source": [
    "# where are these type hints stored in Python?\n",
    "\n",
    "hello.__annotations__"
   ]
  },
  {
   "cell_type": "markdown",
   "metadata": {},
   "source": [
    "# Exercise: Calculator with typing\n",
    "\n",
    "Rewrite the calculator exercise such that `mypy --strict` doesn't complain.\n"
   ]
  },
  {
   "cell_type": "markdown",
   "metadata": {},
   "source": [
    "# Next up\n",
    "\n",
    "1. Comprehensions (list, set, dict, nested)\n",
    "2. Passing functions as arguments\n",
    "\n",
    "Resume at 13:30 Paris Time"
   ]
  },
  {
   "cell_type": "markdown",
   "metadata": {},
   "source": [
    "# Comprehensions\n",
    "\n",
    "The point is to create a new data structure based on an existing iterable.\n",
    "\n"
   ]
  },
  {
   "cell_type": "code",
   "execution_count": 145,
   "metadata": {},
   "outputs": [
    {
     "data": {
      "text/plain": [
       "[0, 1, 4, 9, 16, 25, 36, 49, 64, 81]"
      ]
     },
     "execution_count": 145,
     "metadata": {},
     "output_type": "execute_result"
    }
   ],
   "source": [
    "numbers = list(range(10))\n",
    "\n",
    "# if I want all of these numbers squared, and in a list\n",
    "\n",
    "# method 1: a for loop\n",
    "output = []\n",
    "\n",
    "for one_number in numbers:\n",
    "    output.append(one_number ** 2)\n",
    "\n",
    "output"
   ]
  },
  {
   "cell_type": "code",
   "execution_count": 146,
   "metadata": {},
   "outputs": [
    {
     "data": {
      "text/plain": [
       "[0, 1, 4, 9, 16, 25, 36, 49, 64, 81]"
      ]
     },
     "execution_count": 146,
     "metadata": {},
     "output_type": "execute_result"
    }
   ],
   "source": [
    "# method 2: use a comprehension\n",
    "\n",
    "output = [one_number ** 2             # SELECT  / expression\n",
    "          for one_number in numbers]  # FROM    / iteration\n",
    "\n",
    "output"
   ]
  },
  {
   "cell_type": "markdown",
   "metadata": {},
   "source": [
    "When should we use a comprehension, vs. a regular `for` loop?\n",
    "\n",
    "A comprehension is definitely appropriate when:\n",
    "- You have an existing iterable data structure\n",
    "- You want a new list (or dict or set) based on that iterable\n",
    "- For each element, you can describe a Python expression that maps from one to the other"
   ]
  },
  {
   "cell_type": "code",
   "execution_count": 149,
   "metadata": {},
   "outputs": [
    {
     "data": {
      "text/plain": [
       "30"
      ]
     },
     "execution_count": 149,
     "metadata": {},
     "output_type": "execute_result"
    }
   ],
   "source": [
    "s = 'This is a bunch of words for my course'\n",
    "\n",
    "# I want to find out the total number of letters in this sentence\n",
    "\n",
    "sum([len(one_word)\n",
    " for one_word in s.split()])"
   ]
  },
  {
   "cell_type": "code",
   "execution_count": 150,
   "metadata": {},
   "outputs": [],
   "source": [
    "def get_squares():  \n",
    "    return [one_number ** 2     \n",
    "          for one_number in numbers] \n",
    "\n",
    "import dis\n",
    "\n",
    "    "
   ]
  },
  {
   "cell_type": "code",
   "execution_count": 151,
   "metadata": {},
   "outputs": [
    {
     "name": "stdout",
     "output_type": "stream",
     "text": [
      "  1           0 RESUME                   0\n",
      "\n",
      "  3           2 LOAD_GLOBAL              0 (numbers)\n",
      "\n",
      "  2          12 GET_ITER\n",
      "             14 LOAD_FAST_AND_CLEAR      0 (one_number)\n",
      "             16 SWAP                     2\n",
      "             18 BUILD_LIST               0\n",
      "             20 SWAP                     2\n",
      "        >>   22 FOR_ITER                 7 (to 40)\n",
      "\n",
      "  3          26 STORE_FAST               0 (one_number)\n",
      "\n",
      "  2          28 LOAD_FAST                0 (one_number)\n",
      "             30 LOAD_CONST               1 (2)\n",
      "             32 BINARY_OP                8 (**)\n",
      "             36 LIST_APPEND              2\n",
      "             38 JUMP_BACKWARD            9 (to 22)\n",
      "        >>   40 END_FOR\n",
      "             42 SWAP                     2\n",
      "             44 STORE_FAST               0 (one_number)\n",
      "             46 RETURN_VALUE\n",
      "        >>   48 SWAP                     2\n",
      "             50 POP_TOP\n",
      "             52 SWAP                     2\n",
      "             54 STORE_FAST               0 (one_number)\n",
      "             56 RERAISE                  0\n",
      "ExceptionTable:\n",
      "  18 to 40 -> 48 [2]\n"
     ]
    }
   ],
   "source": [
    "dis.dis(get_squares)"
   ]
  },
  {
   "cell_type": "code",
   "execution_count": 156,
   "metadata": {},
   "outputs": [
    {
     "data": {
      "text/plain": [
       "['nobody',\n",
       " 'root',\n",
       " 'daemon',\n",
       " '_uucp',\n",
       " '_taskgated',\n",
       " '_networkd',\n",
       " '_installassistant',\n",
       " '_lp',\n",
       " '_postfix',\n",
       " '_scsd',\n",
       " '_ces',\n",
       " '_appstore',\n",
       " '_mcxalr',\n",
       " '_appleevents',\n",
       " '_geod',\n",
       " '_devdocs',\n",
       " '_sandbox',\n",
       " '_mdnsresponder',\n",
       " '_ard',\n",
       " '_www',\n",
       " '_eppc',\n",
       " '_cvs',\n",
       " '_svn',\n",
       " '_mysql',\n",
       " '_sshd',\n",
       " '_qtss',\n",
       " '_cyrus',\n",
       " '_mailman',\n",
       " '_appserver',\n",
       " '_clamav',\n",
       " '_amavisd',\n",
       " '_jabber',\n",
       " '_appowner',\n",
       " '_windowserver',\n",
       " '_spotlight',\n",
       " '_tokend',\n",
       " '_securityagent',\n",
       " '_calendar',\n",
       " '_teamsserver',\n",
       " '_update_sharing',\n",
       " '_installer',\n",
       " '_atsserver',\n",
       " '_ftp',\n",
       " '_unknown',\n",
       " '_softwareupdate',\n",
       " '_coreaudiod',\n",
       " '_screensaver',\n",
       " '_locationd',\n",
       " '_trustevaluationagent',\n",
       " '_timezone',\n",
       " '_lda',\n",
       " '_cvmsroot',\n",
       " '_usbmuxd',\n",
       " '_dovecot',\n",
       " '_dpaudio',\n",
       " '_postgres',\n",
       " '_krbtgt',\n",
       " '_kadmin_admin',\n",
       " '_kadmin_changepw',\n",
       " '_devicemgr',\n",
       " '_webauthserver',\n",
       " '_netbios',\n",
       " '_warmd',\n",
       " '_dovenull',\n",
       " '_netstatistics',\n",
       " '_avbdeviced',\n",
       " '_krb_krbtgt',\n",
       " '_krb_kadmin',\n",
       " '_krb_changepw',\n",
       " '_krb_kerberos',\n",
       " '_krb_anonymous',\n",
       " '_assetcache',\n",
       " '_coremediaiod',\n",
       " '_launchservicesd',\n",
       " '_iconservices',\n",
       " '_distnote',\n",
       " '_nsurlsessiond',\n",
       " '_displaypolicyd',\n",
       " '_astris',\n",
       " '_krbfast',\n",
       " '_gamecontrollerd',\n",
       " '_mbsetupuser',\n",
       " '_ondemand',\n",
       " '_xserverdocs',\n",
       " '_wwwproxy',\n",
       " '_mobileasset',\n",
       " '_findmydevice',\n",
       " '_datadetectors',\n",
       " '_captiveagent',\n",
       " '_ctkd',\n",
       " '_applepay',\n",
       " '_hidd',\n",
       " '_cmiodalassistants',\n",
       " '_analyticsd',\n",
       " '_fpsd',\n",
       " '_timed',\n",
       " '_nearbyd',\n",
       " '_reportmemoryexception',\n",
       " '_driverkit',\n",
       " '_diskimagesiod',\n",
       " '_logd',\n",
       " '_appinstalld',\n",
       " '_installcoordinationd',\n",
       " '_demod',\n",
       " '_rmd',\n",
       " '_accessoryupdater',\n",
       " '_knowledgegraphd',\n",
       " '_coreml',\n",
       " '_sntpd',\n",
       " '_trustd',\n",
       " '_mmaintenanced',\n",
       " '_darwindaemon',\n",
       " '_notification_proxy',\n",
       " '_avphidbridge',\n",
       " '_biome',\n",
       " '_backgroundassets',\n",
       " '_mobilegestalthelper',\n",
       " '_audiomxd',\n",
       " '_terminusd',\n",
       " '_neuralengine',\n",
       " '_eligibilityd',\n",
       " '_oahd']"
      ]
     },
     "execution_count": 156,
     "metadata": {},
     "output_type": "execute_result"
    }
   ],
   "source": [
    "# we can work with a file, too\n",
    "\n",
    "[one_line.split(':')[0]                # expression is only evaluated + output if the condition is True\n",
    " for one_line in open('/etc/passwd')   # iteration\n",
    " if not one_line.startswith('#') ]     # any condition at all -- with any methods/operators/etc."
   ]
  },
  {
   "cell_type": "code",
   "execution_count": 157,
   "metadata": {},
   "outputs": [
    {
     "name": "stdout",
     "output_type": "stream",
     "text": [
      "Adidas\torange\t43\n",
      "Nike\tblack\t41\n",
      "Adidas\tblack\t39\n",
      "New Balance\tpink\t41\n",
      "Nike\twhite\t44\n",
      "New Balance\torange\t38\n",
      "Nike\tpink\t44\n",
      "Adidas\tpink\t44\n",
      "New Balance\torange\t39\n",
      "New Balance\tblack\t43\n"
     ]
    }
   ],
   "source": [
    "!head shoe-data.txt"
   ]
  },
  {
   "cell_type": "markdown",
   "metadata": {},
   "source": [
    "# Exercise: Shoe info\n",
    "\n",
    "The file `shoe-data.txt` contains 100 lines, each with three columns: Brand, color, and the size. The columns are separated with tab characters (`'\\t'`).\n",
    "\n",
    "Use a list comprehension to create a list of dicts where each dict contains three key-value pairs with `brand`, `color`, and `size`.\n",
    "\n",
    "Get the file from https://files.lerner.co.il/advanced-exercise-files.zip ."
   ]
  },
  {
   "cell_type": "code",
   "execution_count": 162,
   "metadata": {},
   "outputs": [
    {
     "data": {
      "text/plain": [
       "[{'brand': 'Adidas', 'color': 'orange', 'size': '43'},\n",
       " {'brand': 'Nike', 'color': 'black', 'size': '41'},\n",
       " {'brand': 'Adidas', 'color': 'black', 'size': '39'},\n",
       " {'brand': 'New Balance', 'color': 'pink', 'size': '41'},\n",
       " {'brand': 'Nike', 'color': 'white', 'size': '44'},\n",
       " {'brand': 'New Balance', 'color': 'orange', 'size': '38'},\n",
       " {'brand': 'Nike', 'color': 'pink', 'size': '44'},\n",
       " {'brand': 'Adidas', 'color': 'pink', 'size': '44'},\n",
       " {'brand': 'New Balance', 'color': 'orange', 'size': '39'},\n",
       " {'brand': 'New Balance', 'color': 'black', 'size': '43'},\n",
       " {'brand': 'New Balance', 'color': 'orange', 'size': '44'},\n",
       " {'brand': 'Nike', 'color': 'black', 'size': '41'},\n",
       " {'brand': 'Adidas', 'color': 'orange', 'size': '37'},\n",
       " {'brand': 'Adidas', 'color': 'black', 'size': '38'},\n",
       " {'brand': 'Adidas', 'color': 'pink', 'size': '41'},\n",
       " {'brand': 'Adidas', 'color': 'white', 'size': '36'},\n",
       " {'brand': 'Adidas', 'color': 'orange', 'size': '36'},\n",
       " {'brand': 'Nike', 'color': 'pink', 'size': '41'},\n",
       " {'brand': 'Adidas', 'color': 'pink', 'size': '35'},\n",
       " {'brand': 'New Balance', 'color': 'orange', 'size': '37'},\n",
       " {'brand': 'Nike', 'color': 'pink', 'size': '43'},\n",
       " {'brand': 'Nike', 'color': 'black', 'size': '43'},\n",
       " {'brand': 'Nike', 'color': 'black', 'size': '42'},\n",
       " {'brand': 'Nike', 'color': 'black', 'size': '35'},\n",
       " {'brand': 'Adidas', 'color': 'black', 'size': '41'},\n",
       " {'brand': 'New Balance', 'color': 'pink', 'size': '40'},\n",
       " {'brand': 'Adidas', 'color': 'white', 'size': '35'},\n",
       " {'brand': 'New Balance', 'color': 'pink', 'size': '41'},\n",
       " {'brand': 'New Balance', 'color': 'orange', 'size': '41'},\n",
       " {'brand': 'Adidas', 'color': 'orange', 'size': '40'},\n",
       " {'brand': 'New Balance', 'color': 'orange', 'size': '40'},\n",
       " {'brand': 'New Balance', 'color': 'white', 'size': '44'},\n",
       " {'brand': 'New Balance', 'color': 'pink', 'size': '40'},\n",
       " {'brand': 'Nike', 'color': 'black', 'size': '43'},\n",
       " {'brand': 'Nike', 'color': 'pink', 'size': '36'},\n",
       " {'brand': 'New Balance', 'color': 'white', 'size': '39'},\n",
       " {'brand': 'Nike', 'color': 'black', 'size': '42'},\n",
       " {'brand': 'Adidas', 'color': 'black', 'size': '41'},\n",
       " {'brand': 'New Balance', 'color': 'orange', 'size': '40'},\n",
       " {'brand': 'New Balance', 'color': 'black', 'size': '40'},\n",
       " {'brand': 'Nike', 'color': 'white', 'size': '37'},\n",
       " {'brand': 'Adidas', 'color': 'black', 'size': '39'},\n",
       " {'brand': 'Adidas', 'color': 'black', 'size': '40'},\n",
       " {'brand': 'Adidas', 'color': 'orange', 'size': '38'},\n",
       " {'brand': 'New Balance', 'color': 'orange', 'size': '39'},\n",
       " {'brand': 'Nike', 'color': 'black', 'size': '35'},\n",
       " {'brand': 'Adidas', 'color': 'white', 'size': '39'},\n",
       " {'brand': 'Nike', 'color': 'white', 'size': '37'},\n",
       " {'brand': 'Adidas', 'color': 'orange', 'size': '37'},\n",
       " {'brand': 'Adidas', 'color': 'pink', 'size': '35'},\n",
       " {'brand': 'New Balance', 'color': 'orange', 'size': '41'},\n",
       " {'brand': 'Nike', 'color': 'pink', 'size': '44'},\n",
       " {'brand': 'Nike', 'color': 'pink', 'size': '38'},\n",
       " {'brand': 'Adidas', 'color': 'black', 'size': '39'},\n",
       " {'brand': 'New Balance', 'color': 'white', 'size': '35'},\n",
       " {'brand': 'Nike', 'color': 'pink', 'size': '40'},\n",
       " {'brand': 'Nike', 'color': 'white', 'size': '44'},\n",
       " {'brand': 'Nike', 'color': 'orange', 'size': '38'},\n",
       " {'brand': 'Adidas', 'color': 'orange', 'size': '42'},\n",
       " {'brand': 'New Balance', 'color': 'orange', 'size': '43'},\n",
       " {'brand': 'Adidas', 'color': 'pink', 'size': '39'},\n",
       " {'brand': 'Adidas', 'color': 'pink', 'size': '41'},\n",
       " {'brand': 'Adidas', 'color': 'pink', 'size': '39'},\n",
       " {'brand': 'Nike', 'color': 'white', 'size': '37'},\n",
       " {'brand': 'Nike', 'color': 'orange', 'size': '38'},\n",
       " {'brand': 'Adidas', 'color': 'orange', 'size': '39'},\n",
       " {'brand': 'Nike', 'color': 'pink', 'size': '40'},\n",
       " {'brand': 'Adidas', 'color': 'white', 'size': '36'},\n",
       " {'brand': 'Nike', 'color': 'orange', 'size': '40'},\n",
       " {'brand': 'New Balance', 'color': 'pink', 'size': '40'},\n",
       " {'brand': 'New Balance', 'color': 'black', 'size': '40'},\n",
       " {'brand': 'New Balance', 'color': 'pink', 'size': '40'},\n",
       " {'brand': 'Adidas', 'color': 'pink', 'size': '41'},\n",
       " {'brand': 'Nike', 'color': 'pink', 'size': '40'},\n",
       " {'brand': 'Nike', 'color': 'black', 'size': '41'},\n",
       " {'brand': 'Nike', 'color': 'black', 'size': '39'},\n",
       " {'brand': 'New Balance', 'color': 'white', 'size': '38'},\n",
       " {'brand': 'Adidas', 'color': 'black', 'size': '41'},\n",
       " {'brand': 'Nike', 'color': 'orange', 'size': '36'},\n",
       " {'brand': 'Nike', 'color': 'black', 'size': '38'},\n",
       " {'brand': 'New Balance', 'color': 'black', 'size': '40'},\n",
       " {'brand': 'New Balance', 'color': 'pink', 'size': '40'},\n",
       " {'brand': 'Adidas', 'color': 'black', 'size': '42'},\n",
       " {'brand': 'Adidas', 'color': 'white', 'size': '40'},\n",
       " {'brand': 'New Balance', 'color': 'orange', 'size': '38'},\n",
       " {'brand': 'Nike', 'color': 'pink', 'size': '41'},\n",
       " {'brand': 'Adidas', 'color': 'orange', 'size': '37'},\n",
       " {'brand': 'Nike', 'color': 'black', 'size': '44'},\n",
       " {'brand': 'Adidas', 'color': 'pink', 'size': '36'},\n",
       " {'brand': 'Adidas', 'color': 'white', 'size': '35'},\n",
       " {'brand': 'Nike', 'color': 'black', 'size': '38'},\n",
       " {'brand': 'Nike', 'color': 'pink', 'size': '42'},\n",
       " {'brand': 'New Balance', 'color': 'black', 'size': '43'},\n",
       " {'brand': 'Nike', 'color': 'white', 'size': '38'},\n",
       " {'brand': 'New Balance', 'color': 'pink', 'size': '39'},\n",
       " {'brand': 'Nike', 'color': 'orange', 'size': '39'},\n",
       " {'brand': 'New Balance', 'color': 'orange', 'size': '40'},\n",
       " {'brand': 'New Balance', 'color': 'white', 'size': '44'},\n",
       " {'brand': 'Adidas', 'color': 'black', 'size': '42'},\n",
       " {'brand': 'Nike', 'color': 'black', 'size': '35'}]"
      ]
     },
     "execution_count": 162,
     "metadata": {},
     "output_type": "execute_result"
    }
   ],
   "source": [
    "filename = 'shoe-data.txt'\n",
    "\n",
    "def line_to_dict(s):\n",
    "    brand, color, size = s.strip().split('\\t')    \n",
    "    return {'brand': brand,\n",
    "            'color': color,\n",
    "            'size': size}\n",
    "\n",
    "[line_to_dict(one_line)\n",
    " for one_line in open(filename)]"
   ]
  },
  {
   "cell_type": "code",
   "execution_count": 165,
   "metadata": {},
   "outputs": [
    {
     "data": {
      "text/plain": [
       "[{'brand': 'Adidas', 'color': 'orange', 'size': '43'},\n",
       " {'brand': 'Nike', 'color': 'black', 'size': '41'},\n",
       " {'brand': 'Adidas', 'color': 'black', 'size': '39'},\n",
       " {'brand': 'New Balance', 'color': 'pink', 'size': '41'},\n",
       " {'brand': 'Nike', 'color': 'white', 'size': '44'},\n",
       " {'brand': 'New Balance', 'color': 'orange', 'size': '38'},\n",
       " {'brand': 'Nike', 'color': 'pink', 'size': '44'},\n",
       " {'brand': 'Adidas', 'color': 'pink', 'size': '44'},\n",
       " {'brand': 'New Balance', 'color': 'orange', 'size': '39'},\n",
       " {'brand': 'New Balance', 'color': 'black', 'size': '43'},\n",
       " {'brand': 'New Balance', 'color': 'orange', 'size': '44'},\n",
       " {'brand': 'Nike', 'color': 'black', 'size': '41'},\n",
       " {'brand': 'Adidas', 'color': 'orange', 'size': '37'},\n",
       " {'brand': 'Adidas', 'color': 'black', 'size': '38'},\n",
       " {'brand': 'Adidas', 'color': 'pink', 'size': '41'},\n",
       " {'brand': 'Adidas', 'color': 'white', 'size': '36'},\n",
       " {'brand': 'Adidas', 'color': 'orange', 'size': '36'},\n",
       " {'brand': 'Nike', 'color': 'pink', 'size': '41'},\n",
       " {'brand': 'Adidas', 'color': 'pink', 'size': '35'},\n",
       " {'brand': 'New Balance', 'color': 'orange', 'size': '37'},\n",
       " {'brand': 'Nike', 'color': 'pink', 'size': '43'},\n",
       " {'brand': 'Nike', 'color': 'black', 'size': '43'},\n",
       " {'brand': 'Nike', 'color': 'black', 'size': '42'},\n",
       " {'brand': 'Nike', 'color': 'black', 'size': '35'},\n",
       " {'brand': 'Adidas', 'color': 'black', 'size': '41'},\n",
       " {'brand': 'New Balance', 'color': 'pink', 'size': '40'},\n",
       " {'brand': 'Adidas', 'color': 'white', 'size': '35'},\n",
       " {'brand': 'New Balance', 'color': 'pink', 'size': '41'},\n",
       " {'brand': 'New Balance', 'color': 'orange', 'size': '41'},\n",
       " {'brand': 'Adidas', 'color': 'orange', 'size': '40'},\n",
       " {'brand': 'New Balance', 'color': 'orange', 'size': '40'},\n",
       " {'brand': 'New Balance', 'color': 'white', 'size': '44'},\n",
       " {'brand': 'New Balance', 'color': 'pink', 'size': '40'},\n",
       " {'brand': 'Nike', 'color': 'black', 'size': '43'},\n",
       " {'brand': 'Nike', 'color': 'pink', 'size': '36'},\n",
       " {'brand': 'New Balance', 'color': 'white', 'size': '39'},\n",
       " {'brand': 'Nike', 'color': 'black', 'size': '42'},\n",
       " {'brand': 'Adidas', 'color': 'black', 'size': '41'},\n",
       " {'brand': 'New Balance', 'color': 'orange', 'size': '40'},\n",
       " {'brand': 'New Balance', 'color': 'black', 'size': '40'},\n",
       " {'brand': 'Nike', 'color': 'white', 'size': '37'},\n",
       " {'brand': 'Adidas', 'color': 'black', 'size': '39'},\n",
       " {'brand': 'Adidas', 'color': 'black', 'size': '40'},\n",
       " {'brand': 'Adidas', 'color': 'orange', 'size': '38'},\n",
       " {'brand': 'New Balance', 'color': 'orange', 'size': '39'},\n",
       " {'brand': 'Nike', 'color': 'black', 'size': '35'},\n",
       " {'brand': 'Adidas', 'color': 'white', 'size': '39'},\n",
       " {'brand': 'Nike', 'color': 'white', 'size': '37'},\n",
       " {'brand': 'Adidas', 'color': 'orange', 'size': '37'},\n",
       " {'brand': 'Adidas', 'color': 'pink', 'size': '35'},\n",
       " {'brand': 'New Balance', 'color': 'orange', 'size': '41'},\n",
       " {'brand': 'Nike', 'color': 'pink', 'size': '44'},\n",
       " {'brand': 'Nike', 'color': 'pink', 'size': '38'},\n",
       " {'brand': 'Adidas', 'color': 'black', 'size': '39'},\n",
       " {'brand': 'New Balance', 'color': 'white', 'size': '35'},\n",
       " {'brand': 'Nike', 'color': 'pink', 'size': '40'},\n",
       " {'brand': 'Nike', 'color': 'white', 'size': '44'},\n",
       " {'brand': 'Nike', 'color': 'orange', 'size': '38'},\n",
       " {'brand': 'Adidas', 'color': 'orange', 'size': '42'},\n",
       " {'brand': 'New Balance', 'color': 'orange', 'size': '43'},\n",
       " {'brand': 'Adidas', 'color': 'pink', 'size': '39'},\n",
       " {'brand': 'Adidas', 'color': 'pink', 'size': '41'},\n",
       " {'brand': 'Adidas', 'color': 'pink', 'size': '39'},\n",
       " {'brand': 'Nike', 'color': 'white', 'size': '37'},\n",
       " {'brand': 'Nike', 'color': 'orange', 'size': '38'},\n",
       " {'brand': 'Adidas', 'color': 'orange', 'size': '39'},\n",
       " {'brand': 'Nike', 'color': 'pink', 'size': '40'},\n",
       " {'brand': 'Adidas', 'color': 'white', 'size': '36'},\n",
       " {'brand': 'Nike', 'color': 'orange', 'size': '40'},\n",
       " {'brand': 'New Balance', 'color': 'pink', 'size': '40'},\n",
       " {'brand': 'New Balance', 'color': 'black', 'size': '40'},\n",
       " {'brand': 'New Balance', 'color': 'pink', 'size': '40'},\n",
       " {'brand': 'Adidas', 'color': 'pink', 'size': '41'},\n",
       " {'brand': 'Nike', 'color': 'pink', 'size': '40'},\n",
       " {'brand': 'Nike', 'color': 'black', 'size': '41'},\n",
       " {'brand': 'Nike', 'color': 'black', 'size': '39'},\n",
       " {'brand': 'New Balance', 'color': 'white', 'size': '38'},\n",
       " {'brand': 'Adidas', 'color': 'black', 'size': '41'},\n",
       " {'brand': 'Nike', 'color': 'orange', 'size': '36'},\n",
       " {'brand': 'Nike', 'color': 'black', 'size': '38'},\n",
       " {'brand': 'New Balance', 'color': 'black', 'size': '40'},\n",
       " {'brand': 'New Balance', 'color': 'pink', 'size': '40'},\n",
       " {'brand': 'Adidas', 'color': 'black', 'size': '42'},\n",
       " {'brand': 'Adidas', 'color': 'white', 'size': '40'},\n",
       " {'brand': 'New Balance', 'color': 'orange', 'size': '38'},\n",
       " {'brand': 'Nike', 'color': 'pink', 'size': '41'},\n",
       " {'brand': 'Adidas', 'color': 'orange', 'size': '37'},\n",
       " {'brand': 'Nike', 'color': 'black', 'size': '44'},\n",
       " {'brand': 'Adidas', 'color': 'pink', 'size': '36'},\n",
       " {'brand': 'Adidas', 'color': 'white', 'size': '35'},\n",
       " {'brand': 'Nike', 'color': 'black', 'size': '38'},\n",
       " {'brand': 'Nike', 'color': 'pink', 'size': '42'},\n",
       " {'brand': 'New Balance', 'color': 'black', 'size': '43'},\n",
       " {'brand': 'Nike', 'color': 'white', 'size': '38'},\n",
       " {'brand': 'New Balance', 'color': 'pink', 'size': '39'},\n",
       " {'brand': 'Nike', 'color': 'orange', 'size': '39'},\n",
       " {'brand': 'New Balance', 'color': 'orange', 'size': '40'},\n",
       " {'brand': 'New Balance', 'color': 'white', 'size': '44'},\n",
       " {'brand': 'Adidas', 'color': 'black', 'size': '42'},\n",
       " {'brand': 'Nike', 'color': 'black', 'size': '35'}]"
      ]
     },
     "execution_count": 165,
     "metadata": {},
     "output_type": "execute_result"
    }
   ],
   "source": [
    "# let's do it using zip!\n",
    "\n",
    "filename = 'shoe-data.txt'\n",
    "\n",
    "def line_to_dict(s):\n",
    "    return dict(zip(['brand', 'color', 'size'],\n",
    "                     s.strip().split('\\t')))\n",
    "    \n",
    "[line_to_dict(one_line)\n",
    " for one_line in open(filename)]"
   ]
  },
  {
   "cell_type": "code",
   "execution_count": 164,
   "metadata": {},
   "outputs": [
    {
     "data": {
      "text/plain": [
       "{'a': 10, 'b': 20, 'c': 30, 'd': 40}"
      ]
     },
     "execution_count": 164,
     "metadata": {},
     "output_type": "execute_result"
    }
   ],
   "source": [
    "dict(zip('abcd', \n",
    "         [10, 20, 30, 40]))"
   ]
  },
  {
   "cell_type": "code",
   "execution_count": 167,
   "metadata": {},
   "outputs": [
    {
     "name": "stdin",
     "output_type": "stream",
     "text": [
      "Enter numbers:  10 20 30\n"
     ]
    },
    {
     "data": {
      "text/plain": [
       "[100, 400, 900]"
      ]
     },
     "execution_count": 167,
     "metadata": {},
     "output_type": "execute_result"
    }
   ],
   "source": [
    "# I want to let the user enter numbers, separated by spaces\n",
    "# and then produce a list of those numbers squared\n",
    "\n",
    "s = input('Enter numbers: ').strip()\n",
    "\n",
    "[int(one_item) ** 2\n",
    " for one_item in s.split()]"
   ]
  },
  {
   "cell_type": "code",
   "execution_count": 168,
   "metadata": {},
   "outputs": [
    {
     "name": "stdin",
     "output_type": "stream",
     "text": [
      "Enter numbers:  10 20 30 10 20 30\n"
     ]
    },
    {
     "data": {
      "text/plain": [
       "{100, 400, 900}"
      ]
     },
     "execution_count": 168,
     "metadata": {},
     "output_type": "execute_result"
    }
   ],
   "source": [
    "# Let's change things: Make sure that every number appears only once in the result\n",
    "# if the user enters a number more than once, only the first should remain\n",
    "\n",
    "# we can use a set!\n",
    "\n",
    "s = input('Enter numbers: ').strip()\n",
    "\n",
    "set([int(one_item) ** 2\n",
    " for one_item in s.split()])"
   ]
  },
  {
   "cell_type": "code",
   "execution_count": 169,
   "metadata": {},
   "outputs": [
    {
     "name": "stdin",
     "output_type": "stream",
     "text": [
      "Enter numbers:  10 20 30 10 20 30 -10 -20 -30\n"
     ]
    },
    {
     "data": {
      "text/plain": [
       "{100, 400, 900}"
      ]
     },
     "execution_count": 169,
     "metadata": {},
     "output_type": "execute_result"
    }
   ],
   "source": [
    "# instead of producing a list with a list comprehension, and then\n",
    "# running set on it, we can just use a \"set comprehension\", which\n",
    "# looks identical to a list comprehension but uses {} instead\n",
    "\n",
    "s = input('Enter numbers: ').strip()\n",
    "\n",
    "{int(one_item) ** 2\n",
    " for one_item in s.split()}"
   ]
  },
  {
   "cell_type": "code",
   "execution_count": 176,
   "metadata": {},
   "outputs": [
    {
     "data": {
      "text/plain": [
       "{('_accessoryupdater',\n",
       "  '*',\n",
       "  '278',\n",
       "  '278',\n",
       "  'Accessory Update Daemon',\n",
       "  '/var/db/accessoryupdater',\n",
       "  '/usr/bin/false\\n'),\n",
       " ('_amavisd',\n",
       "  '*',\n",
       "  '83',\n",
       "  '83',\n",
       "  'AMaViS Daemon',\n",
       "  '/var/virusmails',\n",
       "  '/usr/bin/false\\n'),\n",
       " ('_analyticsd',\n",
       "  '*',\n",
       "  '263',\n",
       "  '263',\n",
       "  'Analytics Daemon',\n",
       "  '/var/db/analyticsd',\n",
       "  '/usr/bin/false\\n'),\n",
       " ('_appinstalld',\n",
       "  '*',\n",
       "  '273',\n",
       "  '273',\n",
       "  'App Install Daemon',\n",
       "  '/var/db/appinstalld',\n",
       "  '/usr/bin/false\\n'),\n",
       " ('_appleevents',\n",
       "  '*',\n",
       "  '55',\n",
       "  '55',\n",
       "  'AppleEvents Daemon',\n",
       "  '/var/empty',\n",
       "  '/usr/bin/false\\n'),\n",
       " ('_applepay',\n",
       "  '*',\n",
       "  '260',\n",
       "  '260',\n",
       "  'applepay Account',\n",
       "  '/var/db/applepay',\n",
       "  '/usr/bin/false\\n'),\n",
       " ('_appowner',\n",
       "  '*',\n",
       "  '87',\n",
       "  '87',\n",
       "  'Application Owner',\n",
       "  '/var/empty',\n",
       "  '/usr/bin/false\\n'),\n",
       " ('_appserver',\n",
       "  '*',\n",
       "  '79',\n",
       "  '79',\n",
       "  'Application Server',\n",
       "  '/var/empty',\n",
       "  '/usr/bin/false\\n'),\n",
       " ('_appstore',\n",
       "  '*',\n",
       "  '33',\n",
       "  '33',\n",
       "  'Mac App Store Service',\n",
       "  '/var/db/appstore',\n",
       "  '/usr/bin/false\\n'),\n",
       " ('_ard',\n",
       "  '*',\n",
       "  '67',\n",
       "  '67',\n",
       "  'Apple Remote Desktop',\n",
       "  '/var/empty',\n",
       "  '/usr/bin/false\\n'),\n",
       " ('_assetcache',\n",
       "  '*',\n",
       "  '235',\n",
       "  '235',\n",
       "  'Asset Cache Service',\n",
       "  '/var/empty',\n",
       "  '/usr/bin/false\\n'),\n",
       " ('_astris',\n",
       "  '*',\n",
       "  '245',\n",
       "  '245',\n",
       "  'Astris Services',\n",
       "  '/var/db/astris',\n",
       "  '/usr/bin/false\\n'),\n",
       " ('_atsserver',\n",
       "  '*',\n",
       "  '97',\n",
       "  '97',\n",
       "  'ATS Server',\n",
       "  '/var/empty',\n",
       "  '/usr/bin/false\\n'),\n",
       " ('_audiomxd',\n",
       "  '*',\n",
       "  '294',\n",
       "  '294',\n",
       "  'Audio and MediaExperience Daemon',\n",
       "  '/var/db/audiomxd',\n",
       "  '/usr/bin/false\\n'),\n",
       " ('_avbdeviced',\n",
       "  '*',\n",
       "  '229',\n",
       "  '-2',\n",
       "  'Ethernet AVB Device Daemon',\n",
       "  '/var/empty',\n",
       "  '/usr/bin/false\\n'),\n",
       " ('_avphidbridge',\n",
       "  '*',\n",
       "  '288',\n",
       "  '288',\n",
       "  'Apple Virtual Platform HID Bridge',\n",
       "  '/var/empty',\n",
       "  '/usr/bin/false\\n'),\n",
       " ('_backgroundassets',\n",
       "  '*',\n",
       "  '291',\n",
       "  '291',\n",
       "  'Background Assets Service',\n",
       "  '/var/empty',\n",
       "  '/usr/bin/false\\n'),\n",
       " ('_biome', '*', '289', '289', 'Biome', '/var/db/biome', '/usr/bin/false\\n'),\n",
       " ('_calendar', '*', '93', '93', 'Calendar', '/var/empty', '/usr/bin/false\\n'),\n",
       " ('_captiveagent',\n",
       "  '*',\n",
       "  '258',\n",
       "  '258',\n",
       "  'captiveagent',\n",
       "  '/var/empty',\n",
       "  '/usr/bin/false\\n'),\n",
       " ('_ces',\n",
       "  '*',\n",
       "  '32',\n",
       "  '32',\n",
       "  'Certificate Enrollment Service',\n",
       "  '/var/empty',\n",
       "  '/usr/bin/false\\n'),\n",
       " ('_clamav',\n",
       "  '*',\n",
       "  '82',\n",
       "  '82',\n",
       "  'ClamAV Daemon',\n",
       "  '/var/virusmails',\n",
       "  '/usr/bin/false\\n'),\n",
       " ('_cmiodalassistants',\n",
       "  '*',\n",
       "  '262',\n",
       "  '262',\n",
       "  'CoreMedia IO Assistants User',\n",
       "  '/var/db/cmiodalassistants',\n",
       "  '/usr/bin/false\\n'),\n",
       " ('_coreaudiod',\n",
       "  '*',\n",
       "  '202',\n",
       "  '202',\n",
       "  'Core Audio Daemon',\n",
       "  '/var/empty',\n",
       "  '/usr/bin/false\\n'),\n",
       " ('_coremediaiod',\n",
       "  '*',\n",
       "  '236',\n",
       "  '236',\n",
       "  'Core Media IO Daemon',\n",
       "  '/var/empty',\n",
       "  '/usr/bin/false\\n'),\n",
       " ('_coreml',\n",
       "  '*',\n",
       "  '280',\n",
       "  '280',\n",
       "  'CoreML Services',\n",
       "  '/var/db/coreml',\n",
       "  '/usr/bin/false\\n'),\n",
       " ('_ctkd',\n",
       "  '*',\n",
       "  '259',\n",
       "  '259',\n",
       "  'ctkd Account',\n",
       "  '/var/empty',\n",
       "  '/usr/bin/false\\n'),\n",
       " ('_cvmsroot',\n",
       "  '*',\n",
       "  '212',\n",
       "  '212',\n",
       "  'CVMS Root',\n",
       "  '/var/empty',\n",
       "  '/usr/bin/false\\n'),\n",
       " ('_cvs', '*', '72', '72', 'CVS Server', '/var/empty', '/usr/bin/false\\n'),\n",
       " ('_cyrus',\n",
       "  '*',\n",
       "  '77',\n",
       "  '6',\n",
       "  'Cyrus Administrator',\n",
       "  '/var/imap',\n",
       "  '/usr/bin/false\\n'),\n",
       " ('_darwindaemon',\n",
       "  '*',\n",
       "  '284',\n",
       "  '284',\n",
       "  'Darwin Daemon',\n",
       "  '/var/db/darwindaemon',\n",
       "  '/usr/bin/false\\n'),\n",
       " ('_datadetectors',\n",
       "  '*',\n",
       "  '257',\n",
       "  '257',\n",
       "  'DataDetectors',\n",
       "  '/var/db/datadetectors',\n",
       "  '/usr/bin/false\\n'),\n",
       " ('_demod',\n",
       "  '*',\n",
       "  '275',\n",
       "  '275',\n",
       "  'Demo Daemon',\n",
       "  '/var/empty',\n",
       "  '/usr/bin/false\\n'),\n",
       " ('_devdocs',\n",
       "  '*',\n",
       "  '59',\n",
       "  '59',\n",
       "  'Developer Documentation',\n",
       "  '/var/empty',\n",
       "  '/usr/bin/false\\n'),\n",
       " ('_devicemgr',\n",
       "  '*',\n",
       "  '220',\n",
       "  '220',\n",
       "  'Device Management Server',\n",
       "  '/var/empty',\n",
       "  '/usr/bin/false\\n'),\n",
       " ('_diskimagesiod',\n",
       "  '*',\n",
       "  '271',\n",
       "  '271',\n",
       "  'DiskImages IO Daemon',\n",
       "  '/var/db/diskimagesiod',\n",
       "  '/usr/bin/false\\n'),\n",
       " ('_displaypolicyd',\n",
       "  '*',\n",
       "  '244',\n",
       "  '244',\n",
       "  'Display Policy Daemon',\n",
       "  '/var/empty',\n",
       "  '/usr/bin/false\\n'),\n",
       " ('_distnote',\n",
       "  '*',\n",
       "  '241',\n",
       "  '241',\n",
       "  'DistNote',\n",
       "  '/var/empty',\n",
       "  '/usr/bin/false\\n'),\n",
       " ('_dovecot',\n",
       "  '*',\n",
       "  '214',\n",
       "  '6',\n",
       "  'Dovecot Administrator',\n",
       "  '/var/empty',\n",
       "  '/usr/bin/false\\n'),\n",
       " ('_dovenull',\n",
       "  '*',\n",
       "  '227',\n",
       "  '227',\n",
       "  'Dovecot Authentication',\n",
       "  '/var/empty',\n",
       "  '/usr/bin/false\\n'),\n",
       " ('_dpaudio', '*', '215', '215', 'DP Audio', '/var/empty', '/usr/bin/false\\n'),\n",
       " ('_driverkit',\n",
       "  '*',\n",
       "  '270',\n",
       "  '270',\n",
       "  'DriverKit',\n",
       "  '/var/empty',\n",
       "  '/usr/bin/false\\n'),\n",
       " ('_eligibilityd',\n",
       "  '*',\n",
       "  '297',\n",
       "  '297',\n",
       "  'OS Eligibility Daemon',\n",
       "  '/var/db/eligibilityd',\n",
       "  '/usr/bin/false\\n'),\n",
       " ('_eppc',\n",
       "  '*',\n",
       "  '71',\n",
       "  '71',\n",
       "  'Apple Events User',\n",
       "  '/var/empty',\n",
       "  '/usr/bin/false\\n'),\n",
       " ('_findmydevice',\n",
       "  '*',\n",
       "  '254',\n",
       "  '254',\n",
       "  'Find My Device Daemon',\n",
       "  '/var/db/findmydevice',\n",
       "  '/usr/bin/false\\n'),\n",
       " ('_fpsd',\n",
       "  '*',\n",
       "  '265',\n",
       "  '265',\n",
       "  'FPS Daemon',\n",
       "  '/var/db/fpsd',\n",
       "  '/usr/bin/false\\n'),\n",
       " ('_ftp', '*', '98', '-2', 'FTP Daemon', '/var/empty', '/usr/bin/false\\n'),\n",
       " ('_gamecontrollerd',\n",
       "  '*',\n",
       "  '247',\n",
       "  '247',\n",
       "  'Game Controller Daemon',\n",
       "  '/var/empty',\n",
       "  '/usr/bin/false\\n'),\n",
       " ('_geod',\n",
       "  '*',\n",
       "  '56',\n",
       "  '56',\n",
       "  'Geo Services Daemon',\n",
       "  '/var/db/geod',\n",
       "  '/usr/bin/false\\n'),\n",
       " ('_hidd',\n",
       "  '*',\n",
       "  '261',\n",
       "  '261',\n",
       "  'HID Service User',\n",
       "  '/var/db/hidd',\n",
       "  '/usr/bin/false\\n'),\n",
       " ('_iconservices',\n",
       "  '*',\n",
       "  '240',\n",
       "  '240',\n",
       "  'IconServices',\n",
       "  '/var/empty',\n",
       "  '/usr/bin/false\\n'),\n",
       " ('_installassistant',\n",
       "  '*',\n",
       "  '25',\n",
       "  '25',\n",
       "  'Install Assistant',\n",
       "  '/var/empty',\n",
       "  '/usr/bin/false\\n'),\n",
       " ('_installcoordinationd',\n",
       "  '*',\n",
       "  '274',\n",
       "  '274',\n",
       "  'Install Coordination Daemon',\n",
       "  '/var/db/installcoordinationd',\n",
       "  '/usr/bin/false\\n'),\n",
       " ('_installer',\n",
       "  '*',\n",
       "  '96',\n",
       "  '-2',\n",
       "  'Installer',\n",
       "  '/var/empty',\n",
       "  '/usr/bin/false\\n'),\n",
       " ('_jabber',\n",
       "  '*',\n",
       "  '84',\n",
       "  '84',\n",
       "  'Jabber XMPP Server',\n",
       "  '/var/empty',\n",
       "  '/usr/bin/false\\n'),\n",
       " ('_kadmin_admin',\n",
       "  '*',\n",
       "  '218',\n",
       "  '-2',\n",
       "  'Kerberos Admin Service',\n",
       "  '/var/empty',\n",
       "  '/usr/bin/false\\n'),\n",
       " ('_kadmin_changepw',\n",
       "  '*',\n",
       "  '219',\n",
       "  '-2',\n",
       "  'Kerberos Change Password Service',\n",
       "  '/var/empty',\n",
       "  '/usr/bin/false\\n'),\n",
       " ('_knowledgegraphd',\n",
       "  '*',\n",
       "  '279',\n",
       "  '279',\n",
       "  'Knowledge Graph Daemon',\n",
       "  '/var/db/knowledgegraphd',\n",
       "  '/usr/bin/false\\n'),\n",
       " ('_krb_anonymous',\n",
       "  '*',\n",
       "  '234',\n",
       "  '-2',\n",
       "  'Open Directory Kerberos Anonymous',\n",
       "  '/var/empty',\n",
       "  '/usr/bin/false\\n'),\n",
       " ('_krb_changepw',\n",
       "  '*',\n",
       "  '232',\n",
       "  '-2',\n",
       "  'Open Directory Kerberos Change Password Service',\n",
       "  '/var/empty',\n",
       "  '/usr/bin/false\\n'),\n",
       " ('_krb_kadmin',\n",
       "  '*',\n",
       "  '231',\n",
       "  '-2',\n",
       "  'Open Directory Kerberos Admin Service',\n",
       "  '/var/empty',\n",
       "  '/usr/bin/false\\n'),\n",
       " ('_krb_kerberos',\n",
       "  '*',\n",
       "  '233',\n",
       "  '-2',\n",
       "  'Open Directory Kerberos',\n",
       "  '/var/empty',\n",
       "  '/usr/bin/false\\n'),\n",
       " ('_krb_krbtgt',\n",
       "  '*',\n",
       "  '230',\n",
       "  '-2',\n",
       "  'Open Directory Kerberos Ticket Granting Ticket',\n",
       "  '/var/empty',\n",
       "  '/usr/bin/false\\n'),\n",
       " ('_krbfast',\n",
       "  '*',\n",
       "  '246',\n",
       "  '-2',\n",
       "  'Kerberos FAST Account',\n",
       "  '/var/empty',\n",
       "  '/usr/bin/false\\n'),\n",
       " ('_krbtgt',\n",
       "  '*',\n",
       "  '217',\n",
       "  '-2',\n",
       "  'Kerberos Ticket Granting Ticket',\n",
       "  '/var/empty',\n",
       "  '/usr/bin/false\\n'),\n",
       " ('_launchservicesd',\n",
       "  '*',\n",
       "  '239',\n",
       "  '239',\n",
       "  '_launchservicesd',\n",
       "  '/var/empty',\n",
       "  '/usr/bin/false\\n'),\n",
       " ('_lda',\n",
       "  '*',\n",
       "  '211',\n",
       "  '211',\n",
       "  'Local Delivery Agent',\n",
       "  '/var/empty',\n",
       "  '/usr/bin/false\\n'),\n",
       " ('_locationd',\n",
       "  '*',\n",
       "  '205',\n",
       "  '205',\n",
       "  'Location Daemon',\n",
       "  '/var/db/locationd',\n",
       "  '/usr/bin/false\\n'),\n",
       " ('_logd',\n",
       "  '*',\n",
       "  '272',\n",
       "  '272',\n",
       "  'Log Daemon',\n",
       "  '/var/db/diagnostics',\n",
       "  '/usr/bin/false\\n'),\n",
       " ('_lp',\n",
       "  '*',\n",
       "  '26',\n",
       "  '26',\n",
       "  'Printing Services',\n",
       "  '/var/spool/cups',\n",
       "  '/usr/bin/false\\n'),\n",
       " ('_mailman',\n",
       "  '*',\n",
       "  '78',\n",
       "  '78',\n",
       "  'Mailman List Server',\n",
       "  '/var/empty',\n",
       "  '/usr/bin/false\\n'),\n",
       " ('_mbsetupuser',\n",
       "  '*',\n",
       "  '248',\n",
       "  '248',\n",
       "  'Setup User',\n",
       "  '/var/setup',\n",
       "  '/bin/bash\\n'),\n",
       " ('_mcxalr',\n",
       "  '*',\n",
       "  '54',\n",
       "  '54',\n",
       "  'MCX AppLaunch',\n",
       "  '/var/empty',\n",
       "  '/usr/bin/false\\n'),\n",
       " ('_mdnsresponder',\n",
       "  '*',\n",
       "  '65',\n",
       "  '65',\n",
       "  'mDNSResponder',\n",
       "  '/var/empty',\n",
       "  '/usr/bin/false\\n'),\n",
       " ('_mmaintenanced',\n",
       "  '*',\n",
       "  '283',\n",
       "  '283',\n",
       "  'mmaintenanced',\n",
       "  '/var/db/mmaintenanced',\n",
       "  '/usr/bin/false\\n'),\n",
       " ('_mobileasset',\n",
       "  '*',\n",
       "  '253',\n",
       "  '253',\n",
       "  'MobileAsset User',\n",
       "  '/var/ma',\n",
       "  '/usr/bin/false\\n'),\n",
       " ('_mobilegestalthelper',\n",
       "  '*',\n",
       "  '293',\n",
       "  '293',\n",
       "  'MobileGestaltHelper',\n",
       "  '/var/empty',\n",
       "  '/usr/bin/false\\n'),\n",
       " ('_mysql', '*', '74', '74', 'MySQL Server', '/var/empty', '/usr/bin/false\\n'),\n",
       " ('_nearbyd',\n",
       "  '*',\n",
       "  '268',\n",
       "  '268',\n",
       "  'Proximity and Ranging Daemon',\n",
       "  '/var/db/nearbyd',\n",
       "  '/usr/bin/false\\n'),\n",
       " ('_netbios', '*', '222', '222', 'NetBIOS', '/var/empty', '/usr/bin/false\\n'),\n",
       " ('_netstatistics',\n",
       "  '*',\n",
       "  '228',\n",
       "  '228',\n",
       "  'Network Statistics Daemon',\n",
       "  '/var/empty',\n",
       "  '/usr/bin/false\\n'),\n",
       " ('_networkd',\n",
       "  '*',\n",
       "  '24',\n",
       "  '24',\n",
       "  'Network Services',\n",
       "  '/var/networkd',\n",
       "  '/usr/bin/false\\n'),\n",
       " ('_neuralengine',\n",
       "  '*',\n",
       "  '296',\n",
       "  '296',\n",
       "  'AppleNeuralEngine',\n",
       "  '/var/db/neuralengine',\n",
       "  '/usr/bin/false\\n'),\n",
       " ('_notification_proxy',\n",
       "  '*',\n",
       "  '285',\n",
       "  '285',\n",
       "  'Notification Proxy',\n",
       "  '/var/empty',\n",
       "  '/usr/bin/false\\n'),\n",
       " ('_nsurlsessiond',\n",
       "  '*',\n",
       "  '242',\n",
       "  '242',\n",
       "  'NSURLSession Daemon',\n",
       "  '/var/db/nsurlsessiond',\n",
       "  '/usr/bin/false\\n'),\n",
       " ('_oahd', '*', '441', '441', 'OAH Daemon', '/var/empty', '/usr/bin/false\\n'),\n",
       " ('_ondemand',\n",
       "  '*',\n",
       "  '249',\n",
       "  '249',\n",
       "  'On Demand Resource Daemon',\n",
       "  '/var/db/ondemand',\n",
       "  '/usr/bin/false\\n'),\n",
       " ('_postfix',\n",
       "  '*',\n",
       "  '27',\n",
       "  '27',\n",
       "  'Postfix Mail Server',\n",
       "  '/var/spool/postfix',\n",
       "  '/usr/bin/false\\n'),\n",
       " ('_postgres',\n",
       "  '*',\n",
       "  '216',\n",
       "  '216',\n",
       "  'PostgreSQL Server',\n",
       "  '/var/empty',\n",
       "  '/usr/bin/false\\n'),\n",
       " ('_qtss',\n",
       "  '*',\n",
       "  '76',\n",
       "  '76',\n",
       "  'QuickTime Streaming Server',\n",
       "  '/var/empty',\n",
       "  '/usr/bin/false\\n'),\n",
       " ('_reportmemoryexception',\n",
       "  '*',\n",
       "  '269',\n",
       "  '269',\n",
       "  'ReportMemoryException',\n",
       "  '/var/db/reportmemoryexception',\n",
       "  '/usr/bin/false\\n'),\n",
       " ('_rmd',\n",
       "  '*',\n",
       "  '277',\n",
       "  '277',\n",
       "  'Remote Management Daemon',\n",
       "  '/var/db/rmd',\n",
       "  '/usr/bin/false\\n'),\n",
       " ('_sandbox', '*', '60', '60', 'Seatbelt', '/var/empty', '/usr/bin/false\\n'),\n",
       " ('_screensaver',\n",
       "  '*',\n",
       "  '203',\n",
       "  '203',\n",
       "  'Screensaver',\n",
       "  '/var/empty',\n",
       "  '/usr/bin/false\\n'),\n",
       " ('_scsd',\n",
       "  '*',\n",
       "  '31',\n",
       "  '31',\n",
       "  'Service Configuration Service',\n",
       "  '/var/empty',\n",
       "  '/usr/bin/false\\n'),\n",
       " ('_securityagent',\n",
       "  '*',\n",
       "  '92',\n",
       "  '92',\n",
       "  'SecurityAgent',\n",
       "  '/var/db/securityagent',\n",
       "  '/usr/bin/false\\n'),\n",
       " ('_sntpd',\n",
       "  '*',\n",
       "  '281',\n",
       "  '281',\n",
       "  'SNTP Server Daemon',\n",
       "  '/var/empty',\n",
       "  '/usr/bin/false\\n'),\n",
       " ('_softwareupdate',\n",
       "  '*',\n",
       "  '200',\n",
       "  '200',\n",
       "  'Software Update Service',\n",
       "  '/var/db/softwareupdate',\n",
       "  '/usr/bin/false\\n'),\n",
       " ('_spotlight',\n",
       "  '*',\n",
       "  '89',\n",
       "  '89',\n",
       "  'Spotlight',\n",
       "  '/var/empty',\n",
       "  '/usr/bin/false\\n'),\n",
       " ('_sshd',\n",
       "  '*',\n",
       "  '75',\n",
       "  '75',\n",
       "  'sshd Privilege separation',\n",
       "  '/var/empty',\n",
       "  '/usr/bin/false\\n'),\n",
       " ('_svn', '*', '73', '73', 'SVN Server', '/var/empty', '/usr/bin/false\\n'),\n",
       " ('_taskgated',\n",
       "  '*',\n",
       "  '13',\n",
       "  '13',\n",
       "  'Task Gate Daemon',\n",
       "  '/var/empty',\n",
       "  '/usr/bin/false\\n'),\n",
       " ('_teamsserver',\n",
       "  '*',\n",
       "  '94',\n",
       "  '94',\n",
       "  'TeamsServer',\n",
       "  '/var/teamsserver',\n",
       "  '/usr/bin/false\\n'),\n",
       " ('_terminusd',\n",
       "  '*',\n",
       "  '295',\n",
       "  '295',\n",
       "  'Terminus',\n",
       "  '/var/empty',\n",
       "  '/usr/bin/false\\n'),\n",
       " ('_timed',\n",
       "  '*',\n",
       "  '266',\n",
       "  '266',\n",
       "  'Time Sync Daemon',\n",
       "  '/var/db/timed',\n",
       "  '/usr/bin/false\\n'),\n",
       " ('_timezone',\n",
       "  '*',\n",
       "  '210',\n",
       "  '210',\n",
       "  'AutoTimeZoneDaemon',\n",
       "  '/var/empty',\n",
       "  '/usr/bin/false\\n'),\n",
       " ('_tokend',\n",
       "  '*',\n",
       "  '91',\n",
       "  '91',\n",
       "  'Token Daemon',\n",
       "  '/var/empty',\n",
       "  '/usr/bin/false\\n'),\n",
       " ('_trustd', '*', '282', '282', 'trustd', '/var/empty', '/usr/bin/false\\n'),\n",
       " ('_trustevaluationagent',\n",
       "  '*',\n",
       "  '208',\n",
       "  '208',\n",
       "  'Trust Evaluation Agent',\n",
       "  '/var/empty',\n",
       "  '/usr/bin/false\\n'),\n",
       " ('_unknown',\n",
       "  '*',\n",
       "  '99',\n",
       "  '99',\n",
       "  'Unknown User',\n",
       "  '/var/empty',\n",
       "  '/usr/bin/false\\n'),\n",
       " ('_update_sharing',\n",
       "  '*',\n",
       "  '95',\n",
       "  '-2',\n",
       "  'Update Sharing',\n",
       "  '/var/empty',\n",
       "  '/usr/bin/false\\n'),\n",
       " ('_usbmuxd',\n",
       "  '*',\n",
       "  '213',\n",
       "  '213',\n",
       "  'iPhone OS Device Helper',\n",
       "  '/var/db/lockdown',\n",
       "  '/usr/bin/false\\n'),\n",
       " ('_uucp',\n",
       "  '*',\n",
       "  '4',\n",
       "  '4',\n",
       "  'Unix to Unix Copy Protocol',\n",
       "  '/var/spool/uucp',\n",
       "  '/usr/sbin/uucico\\n'),\n",
       " ('_warmd',\n",
       "  '*',\n",
       "  '224',\n",
       "  '224',\n",
       "  'Warm Daemon',\n",
       "  '/var/empty',\n",
       "  '/usr/bin/false\\n'),\n",
       " ('_webauthserver',\n",
       "  '*',\n",
       "  '221',\n",
       "  '221',\n",
       "  'Web Auth Server',\n",
       "  '/var/empty',\n",
       "  '/usr/bin/false\\n'),\n",
       " ('_windowserver',\n",
       "  '*',\n",
       "  '88',\n",
       "  '88',\n",
       "  'WindowServer',\n",
       "  '/var/empty',\n",
       "  '/usr/bin/false\\n'),\n",
       " ('_www',\n",
       "  '*',\n",
       "  '70',\n",
       "  '70',\n",
       "  'World Wide Web Server',\n",
       "  '/Library/WebServer',\n",
       "  '/usr/bin/false\\n'),\n",
       " ('_wwwproxy',\n",
       "  '*',\n",
       "  '252',\n",
       "  '252',\n",
       "  'WWW Proxy',\n",
       "  '/var/empty',\n",
       "  '/usr/bin/false\\n'),\n",
       " ('_xserverdocs',\n",
       "  '*',\n",
       "  '251',\n",
       "  '251',\n",
       "  'macOS Server Documents Service',\n",
       "  '/var/empty',\n",
       "  '/usr/bin/false\\n'),\n",
       " ('daemon', '*', '1', '1', 'System Services', '/var/root', '/usr/bin/false\\n'),\n",
       " ('nobody',\n",
       "  '*',\n",
       "  '-2',\n",
       "  '-2',\n",
       "  'Unprivileged User',\n",
       "  '/var/empty',\n",
       "  '/usr/bin/false\\n'),\n",
       " ('root', '*', '0', '0', 'System Administrator', '/var/root', '/bin/sh\\n')}"
      ]
     },
     "execution_count": 176,
     "metadata": {},
     "output_type": "execute_result"
    }
   ],
   "source": [
    "# let's once again get the usernames in /etc/passwd\n",
    "\n",
    "{one_line.split(':')[0]\n",
    " for one_line in open('/etc/passwd')\n",
    " if not one_line.startswith('#')}"
   ]
  },
  {
   "cell_type": "markdown",
   "metadata": {},
   "source": [
    "# Exercise: Shells\n",
    "\n",
    "1. The file `linux-etc-passwd.txt` is a `passwd` file that contains blank lines and comments, both of which you should ignore.\n",
    "2. Produce a set of the different shells used by people on that computer. The shell, aka the command interpreter, is always in the final field of each record."
   ]
  },
  {
   "cell_type": "code",
   "execution_count": 177,
   "metadata": {},
   "outputs": [
    {
     "name": "stdout",
     "output_type": "stream",
     "text": [
      "# This is a comment\n",
      "# You should ignore me\n",
      "root:x:0:0:root:/root:/bin/bash\n",
      "daemon:x:1:1:daemon:/usr/sbin:/usr/sbin/nologin\n",
      "bin:x:2:2:bin:/bin:/usr/sbin/nologin\n",
      "sys:x:3:3:sys:/dev:/usr/sbin/nologin\n",
      "sync:x:4:65534:sync:/bin:/bin/sync\n",
      "games:x:5:60:games:/usr/games:/usr/sbin/nologin\n",
      "man:x:6:12:man:/var/cache/man:/usr/sbin/nologin\n",
      "lp:x:7:7:lp:/var/spool/lpd:/usr/sbin/nologin\n"
     ]
    }
   ],
   "source": [
    "!head linux-etc-passwd.txt"
   ]
  },
  {
   "cell_type": "code",
   "execution_count": 181,
   "metadata": {},
   "outputs": [
    {
     "data": {
      "text/plain": [
       "{'/bin/bash',\n",
       " '/bin/false',\n",
       " '/bin/nologin',\n",
       " '/bin/sh',\n",
       " '/bin/sync',\n",
       " '/usr/sbin/nologin'}"
      ]
     },
     "execution_count": 181,
     "metadata": {},
     "output_type": "execute_result"
    }
   ],
   "source": [
    "{one_line.strip().split(':')[-1]\n",
    " for one_line in open('linux-etc-passwd.txt')\n",
    " if one_line.strip() and not one_line.startswith('#')}"
   ]
  },
  {
   "cell_type": "code",
   "execution_count": 182,
   "metadata": {},
   "outputs": [
    {
     "data": {
      "text/plain": [
       "{'this': 4, 'is': 2, 'a': 1, 'bunch': 5, 'of': 2, 'words': 5}"
      ]
     },
     "execution_count": 182,
     "metadata": {},
     "output_type": "execute_result"
    }
   ],
   "source": [
    "# if you liked set comprehensions, you'll love dict comprehensions!\n",
    "\n",
    "# let's create a dict with words and their lengths\n",
    "\n",
    "words = 'this is a bunch of words'\n",
    "\n",
    "{\n",
    "    # key             # value     -- for each dict pair\n",
    "    one_word     :    len(one_word)\n",
    "    for one_word in words.split()\n",
    "}"
   ]
  },
  {
   "cell_type": "code",
   "execution_count": 188,
   "metadata": {},
   "outputs": [
    {
     "name": "stdout",
     "output_type": "stream",
     "text": [
      "756 µs ± 101 µs per loop (mean ± std. dev. of 7 runs, 1,000 loops each)\n"
     ]
    }
   ],
   "source": [
    "%%timeit\n",
    "\n",
    "# let's create a dict based on linux-etc-passwd.txt, where the keys\n",
    "# are usernames and the values are their command shells\n",
    "\n",
    "{\n",
    "    # username                        # shell\n",
    "    one_line.split(':')[0]      :     one_line.strip().split(':')[-1]\n",
    "    for one_line in open('linux-etc-passwd.txt')\n",
    "    if one_line.strip() and not one_line.startswith('#')\n",
    "}"
   ]
  },
  {
   "cell_type": "code",
   "execution_count": 187,
   "metadata": {},
   "outputs": [
    {
     "name": "stdout",
     "output_type": "stream",
     "text": [
      "549 µs ± 49.9 µs per loop (mean ± std. dev. of 7 runs, 1,000 loops each)\n"
     ]
    }
   ],
   "source": [
    "%%timeit\n",
    "\n",
    "# we can use the walrus operator to save us! (for some value of \"saving\")\n",
    "\n",
    "{\n",
    "    # username           # shell\n",
    "    fields[0]      :     fields[-1]\n",
    "    for one_line in open('linux-etc-passwd.txt')\n",
    "    if one_line.strip() and not one_line.startswith('#') and (fields := one_line.strip().split(':'))\n",
    "}"
   ]
  },
  {
   "cell_type": "code",
   "execution_count": 189,
   "metadata": {},
   "outputs": [
    {
     "data": {
      "text/plain": [
       "[[10, 20, 25, 30], [35, 40, 45], [50, 60, 70, 80, 85], [90, 100, 110, 120]]"
      ]
     },
     "execution_count": 189,
     "metadata": {},
     "output_type": "execute_result"
    }
   ],
   "source": [
    "# Nested comprehensions\n",
    "\n",
    "# let's say we have a list of lists, and we want to flatten that list\n",
    "# can we use a list comprehension to do it?\n",
    "\n",
    "mylist = [[10, 20, 25, 30], [35, 40, 45], [50, 60, 70, 80, 85], [90, 100, 110, 120]]\n",
    "\n",
    "[one_list\n",
    " for one_list in mylist]"
   ]
  },
  {
   "cell_type": "code",
   "execution_count": 191,
   "metadata": {},
   "outputs": [
    {
     "ename": "SyntaxError",
     "evalue": "iterable unpacking cannot be used in comprehension (213498364.py, line 4)",
     "output_type": "error",
     "traceback": [
      "\u001b[0;36m  Cell \u001b[0;32mIn[191], line 4\u001b[0;36m\u001b[0m\n\u001b[0;31m    [*one_element\u001b[0m\n\u001b[0m     ^\u001b[0m\n\u001b[0;31mSyntaxError\u001b[0m\u001b[0;31m:\u001b[0m iterable unpacking cannot be used in comprehension\n"
     ]
    }
   ],
   "source": [
    "# for us to have a resulting list that's longer than the input\n",
    "# we will need a new tool -- that's the nested comprehension\n",
    "\n",
    "[one_element\n",
    " for one_sublist in mylist\n",
    " for one_element in one_sublist]\n"
   ]
  },
  {
   "cell_type": "code",
   "execution_count": 193,
   "metadata": {},
   "outputs": [
    {
     "data": {
      "text/plain": [
       "[25, 85]"
      ]
     },
     "execution_count": 193,
     "metadata": {},
     "output_type": "execute_result"
    }
   ],
   "source": [
    "# thanks to nested comprehensions, you can have as many \"if\" lines as you want\n",
    "# in your comprehension... they are \"anded\" together \n",
    "\n",
    "[one_element\n",
    " for one_sublist in mylist\n",
    " if len(one_sublist) > 3\n",
    " for one_element in one_sublist\n",
    " if one_element % 2]\n"
   ]
  },
  {
   "cell_type": "code",
   "execution_count": 194,
   "metadata": {},
   "outputs": [
    {
     "data": {
      "text/plain": [
       "{'root': '/bin/bash',\n",
       " 'daemon': '/usr/sbin/nologin',\n",
       " 'bin': '/usr/sbin/nologin',\n",
       " 'sys': '/usr/sbin/nologin',\n",
       " 'sync': '/bin/sync',\n",
       " 'games': '/usr/sbin/nologin',\n",
       " 'man': '/usr/sbin/nologin',\n",
       " 'lp': '/usr/sbin/nologin',\n",
       " 'mail': '/usr/sbin/nologin',\n",
       " 'news': '/usr/sbin/nologin',\n",
       " 'uucp': '/usr/sbin/nologin',\n",
       " 'proxy': '/usr/sbin/nologin',\n",
       " 'www-data': '/usr/sbin/nologin',\n",
       " 'backup': '/usr/sbin/nologin',\n",
       " 'list': '/usr/sbin/nologin',\n",
       " 'irc': '/usr/sbin/nologin',\n",
       " 'gnats': '/usr/sbin/nologin',\n",
       " 'nobody': '/usr/sbin/nologin',\n",
       " 'syslog': '/bin/false',\n",
       " 'messagebus': '/bin/false',\n",
       " 'landscape': '/bin/false',\n",
       " 'jci': '/bin/bash',\n",
       " 'sshd': '/usr/sbin/nologin',\n",
       " 'user': '/bin/bash',\n",
       " 'reuven': '/bin/bash',\n",
       " 'postfix': '/bin/false',\n",
       " 'colord': '/bin/false',\n",
       " 'postgres': '/bin/bash',\n",
       " 'dovecot': '/bin/false',\n",
       " 'dovenull': '/bin/false',\n",
       " 'postgrey': '/bin/false',\n",
       " 'debian-spamd': '/bin/sh',\n",
       " 'memcache': '/bin/false',\n",
       " 'genadi': '/bin/bash',\n",
       " 'shira': '/bin/bash',\n",
       " 'atara': '/bin/bash',\n",
       " 'shikma': '/bin/bash',\n",
       " 'amotz': '/bin/bash',\n",
       " 'mysql': '/bin/false',\n",
       " 'clamav': '/bin/false',\n",
       " 'amavis': '/bin/sh',\n",
       " 'opendkim': '/bin/false',\n",
       " 'gitlab-redis': '/bin/nologin',\n",
       " 'gitlab-psql': '/bin/sh',\n",
       " 'git': '/bin/bash',\n",
       " 'opendmarc': '/bin/false',\n",
       " 'dkim-milter-python': '/bin/false',\n",
       " 'deploy': '/bin/bash',\n",
       " 'redis': '/bin/false'}"
      ]
     },
     "execution_count": 194,
     "metadata": {},
     "output_type": "execute_result"
    }
   ],
   "source": [
    "# breaking up our dict comprehension so that it has three \"if\" lines rather than one\n",
    "# the multiple \"if\" lines have \"and\" between them\n",
    "\n",
    "{\n",
    "    # username           # shell\n",
    "    fields[0]      :     fields[-1]\n",
    "    for one_line in open('linux-etc-passwd.txt')\n",
    "    if one_line.strip() \n",
    "    if not one_line.startswith('#') \n",
    "    if (fields := one_line.strip().split(':'))\n",
    "}"
   ]
  },
  {
   "cell_type": "code",
   "execution_count": 195,
   "metadata": {},
   "outputs": [],
   "source": [
    "# how many times does each brand appear in our shoe data?\n",
    "\n",
    "filename = 'shoe-data.txt'\n",
    "\n",
    "def line_to_dict(s):\n",
    "    return dict(zip(['brand', 'color', 'size'],\n",
    "                     s.strip().split('\\t')))\n",
    "    \n",
    "shoe_data = [line_to_dict(one_line)\n",
    " for one_line in open(filename)]"
   ]
  },
  {
   "cell_type": "code",
   "execution_count": null,
   "metadata": {},
   "outputs": [],
   "source": [
    "["
   ]
  }
 ],
 "metadata": {
  "kernelspec": {
   "display_name": "Python 3 (ipykernel)",
   "language": "python",
   "name": "python3"
  },
  "language_info": {
   "codemirror_mode": {
    "name": "ipython",
    "version": 3
   },
   "file_extension": ".py",
   "mimetype": "text/x-python",
   "name": "python",
   "nbconvert_exporter": "python",
   "pygments_lexer": "ipython3",
   "version": "3.12.1"
  }
 },
 "nbformat": 4,
 "nbformat_minor": 4
}
